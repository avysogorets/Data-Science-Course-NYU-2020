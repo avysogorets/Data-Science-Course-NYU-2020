{
 "cells": [
  {
   "cell_type": "markdown",
   "metadata": {},
   "source": [
    "# Introduction to Data Science, Lab 8 (11/4)\n",
    "- Combining binary classifiers into mutliclass models;\n",
    "- Multinomial Logistic Regression;\n",
    "- Multiclass evaluation metrics, multiclass ROC space."
   ]
  },
  {
   "cell_type": "markdown",
   "metadata": {},
   "source": [
    "### *Multiclass Classification*\n",
    "Not all models we introduced so far are readily applicable to non-binary classification tasks (e.g., Logistic Regression, SVM). For example, in Homework 2, you will predict the outcomes of soccer matches, which in general end in either of three different possibilities. How to approach such problems while recycling binary classification algorithms?\n",
    "\n",
    "Given a $K$-classification problem, one potential approach is to train $K$ individual binary classifiers that distinguish each particular class from the rest $K-1$ classes; this method is called ***one-vs-all*** or ***one-vs-rest***. Alternatively, we could fit $K(K-1)$ binary classifiers for each pair of classes and make predictions by majority voting; this technique is called ***one-vs-one***. \n",
    "\n",
    "There are major problems with inference associated with these two approaches; in particular, both *one-vs-all* and *one-vs-one* algorithms have ambiguous \"grey\" zones in the input space that do not have a clear-cut prediction given the predictions of individual classifiers only. Indeed, consider a $3$-class task and observe subsets of $\\mathbb{R}^2$ highlighted in grey:\n",
    "\n",
    "<br>\n",
    "\n",
    "<div>\n",
    "<img src=\"imgs/ovaovo.png\" width=\"700\"/>\n",
    "</div>\n",
    "\n",
    "<br>\n",
    "\n",
    "The left picture corresponds to the *one-vs-all* scenario, in which hyperplanes correspond to decision boundaries of individual binary classifiers each distiguishing one particular class from the rest. Then, the highlighed grey zones can't be naturally attributed to either class; for example, points in the central triangle are classified as $K_1$, $K_2$, and $K_3$ by three binary models, respectively. The same is true in the *one-vs-one* case on the right.\n",
    "\n",
    "Recall that models have a way of measuring the \"confidence\" of a prediction, which is the (signed) Euclidean distance of the input sample to the decision boundary (margin). This information will allow us to break ties and settle all ambiguous predictions both in *one-vs-all* and *one-vs-one* procedures. For the former case, given an input vector $x$, the prediction $\\hat{y}(x)$ will be the class corresponding to the classifier giving the largest margin on $x$, i.e. $\\hat{y}(x)=\\text{argmax}_kD(x,H_k)$, where $D(x,H_k)$ is the signed distance from $x$ to the decision boundary $H_k$ of the classifier separating class $k$ from all other classes. While in *one-vs-all* it was potentially possible for some sample to be classified as \"rest\" by all individual models (before the above fix), it is not true for the *one-vs-one* procedure; indeed, any individual binary classifier will have to claim each input as some class. Therefore, under *one-vs-one*, we only need to deal with ties, which again exploits signed margin as a proxy for confidence. Thus, when majority voting can determine a winner class, it is assigned to the input sample; otherwise consider a subset classes $T\\subseteq[K]$ of all classes that achieved the maximum number of votes. Moreover, for each such class $t\\in T$, let $M_t$ be the set of all $K-1$ binary models distinguishing $t$ from some other class. Then, $\\hat{y}(x)=\\text{argmax}_{t\\in T}\\sum_{i\\in M_t}D(x,H_i)$, which is the class (from $T$) corresponding to the largest sum of signed distances from $x$ to decision boundaries associated with binary classifiers that separate $t$ from other classes.\n",
    "\n",
    "How will the final multiclass decision boundaries look for *one-vs-all* and *one-vs-one* in the above example?\n",
    "\n",
    "<br>\n",
    "\n",
    "<div>\n",
    "<img src=\"imgs/final_boundaries.png\" width=\"900\"/>\n",
    "</div>\n",
    "\n",
    "What are those points of class-intersection (inside the triangles)?<br/>\n",
    "What advantages and disadvantages do these two approaches have? Consider class balance and complexity. \n",
    "### *Multiclass Logistic Regression*\n",
    "We will illustrate the *one-vs-all* approach by building a multiclass logistic regression algorithm. We simply need to instantiate $K$ binary Logistic models each having one class as positive and the rest as negative, fit and combine them according to *one-vs-all* at inference."
   ]
  },
  {
   "cell_type": "code",
   "execution_count": 3,
   "metadata": {},
   "outputs": [],
   "source": [
    "import numpy as np\n",
    "import matplotlib.pyplot as plt\n",
    "import pandas as pd"
   ]
  },
  {
   "cell_type": "code",
   "execution_count": 4,
   "metadata": {},
   "outputs": [],
   "source": [
    "# Importing the Losgisitc Regression class from Homework2 solutions:\n",
    "import os,sys\n",
    "out_path=os.path.abspath(os.path.join('..'))\n",
    "sys.path.append(out_path)\n",
    "from Homework2.Lab8utils import *"
   ]
  },
  {
   "cell_type": "code",
   "execution_count": 5,
   "metadata": {},
   "outputs": [],
   "source": [
    "class OVALogisticRegression():\n",
    "    def __init__(self,alpha,max_iter,K,C=1e10,tolerance=1e-5):\n",
    "        self.models=[LogisticRegression(alpha,max_iter,C,tolerance) for _ in range(K)]\n",
    "    def fit(self,X,y):\n",
    "        self.classes=sorted(np.unique(y))\n",
    "        self.targets=[np.array([1 if x==k else 0 for x in y]) for k in self.classes]\n",
    "        for i,model in enumerate(self.models):\n",
    "            model.fit(X,self.targets[i])\n",
    "    def predict(self,X):\n",
    "        margins=[model.margin(X) for model in self.models]\n",
    "        margins=np.transpose(np.array(margins))\n",
    "        return [self.classes[np.argmax(margin)] for margin in margins]"
   ]
  },
  {
   "cell_type": "markdown",
   "metadata": {},
   "source": [
    "This was simple! However, so far we lack a probabilistic perspective on this algorithm (recall that binary Logistic Regression was a maximum likelihood estimator for the conditional model $Y|X=x\\sim\\text{Bernoulli}(\\sigma(\\theta^Tx))$ where $\\sigma(z)=(1+e^{-z})^{-1}$ is a sigmoid function). It can be shown that *one-vs-all* Logistic Regression we built above can be interpreted as the maximum likelihood estimator for the multinoulli conditional model \n",
    "\n",
    "$$Y|X=x\\sim\\text{Multinoulli}\\left(\\frac{e^{\\theta_j^Tx}}{\\sum_{j=1}^{K}e^{\\theta_j^Tx}}\\text{ for }j\\in[K]\\right)=\\text{Multinoulli}\\left(\\text{softmax}\\left(\\theta_j^Tx\\text{ for }j\\in[K]\\right)\\right).$$\n",
    "\n",
    "Note that in case of $K=2$ the above model reduces to our same old Bernoulli conditional distribution $Y|X=x\\sim\\text{Bernoulli}(\\sigma(\\theta^Tx))$."
   ]
  },
  {
   "cell_type": "markdown",
   "metadata": {},
   "source": [
    "### *Metrics for Multiclass Classification*\n",
    "Precision, recall, F1-score, AUC, etc. have all been defined in the presence of a single positive and a single negative class (binary classification). What happens in the multiclass scenario? One validation technique easily extendable to multiclass models is the *confusion matrix*."
   ]
  },
  {
   "cell_type": "code",
   "execution_count": 6,
   "metadata": {},
   "outputs": [],
   "source": [
    "# Load soccer data from Homework2:\n",
    "train_X=np.load(\"data/train_X.npy\")\n",
    "train_y=np.load(\"data/train_y.npy\")\n",
    "test_X=np.load(\"data/test_X.npy\")\n",
    "test_y=np.load(\"data/test_y.npy\")\n",
    "model=OVALogisticRegression(alpha=0.0001,max_iter=1e5,K=3,C=1)\n",
    "model.fit(train_X,train_y)"
   ]
  },
  {
   "cell_type": "code",
   "execution_count": 7,
   "metadata": {},
   "outputs": [
    {
     "data": {
      "text/html": [
       "<div>\n",
       "<style scoped>\n",
       "    .dataframe tbody tr th:only-of-type {\n",
       "        vertical-align: middle;\n",
       "    }\n",
       "\n",
       "    .dataframe tbody tr th {\n",
       "        vertical-align: top;\n",
       "    }\n",
       "\n",
       "    .dataframe thead th {\n",
       "        text-align: right;\n",
       "    }\n",
       "</style>\n",
       "<table border=\"1\" class=\"dataframe\">\n",
       "  <thead>\n",
       "    <tr style=\"text-align: right;\">\n",
       "      <th></th>\n",
       "      <th>lose(a)</th>\n",
       "      <th>draw(a)</th>\n",
       "      <th>win(a)</th>\n",
       "    </tr>\n",
       "  </thead>\n",
       "  <tbody>\n",
       "    <tr>\n",
       "      <th>lose(p)</th>\n",
       "      <td>20</td>\n",
       "      <td>6</td>\n",
       "      <td>10</td>\n",
       "    </tr>\n",
       "    <tr>\n",
       "      <th>draw(p)</th>\n",
       "      <td>2</td>\n",
       "      <td>1</td>\n",
       "      <td>1</td>\n",
       "    </tr>\n",
       "    <tr>\n",
       "      <th>win(p)</th>\n",
       "      <td>12</td>\n",
       "      <td>20</td>\n",
       "      <td>23</td>\n",
       "    </tr>\n",
       "  </tbody>\n",
       "</table>\n",
       "</div>"
      ],
      "text/plain": [
       "         lose(a)  draw(a)  win(a)\n",
       "lose(p)       20        6      10\n",
       "draw(p)        2        1       1\n",
       "win(p)        12       20      23"
      ]
     },
     "execution_count": 7,
     "metadata": {},
     "output_type": "execute_result"
    }
   ],
   "source": [
    "# Show confusion matrix for test data:\n",
    "cm=confusion_matrix([int(pred)+1 for pred in model.predict(test_X)],[y+1 for y in test_y])\n",
    "cm_pandas=pd.DataFrame(cm,index=['lose(p)','draw(p)','win(p)'],columns=['lose(a)','draw(a)','win(a)'])\n",
    "cm_pandas"
   ]
  },
  {
   "cell_type": "markdown",
   "metadata": {},
   "source": [
    "We can define other metrics based on the confusion matrix. Denote the set of indices with true (actual) and predicted label $k$ by $A_k$ and $P_k$, respectively. First, note that we immediately obtain recall and precision for each individual class: $\\text{recall}_k$ and $\\text{precision}_k$ as\n",
    "\n",
    "\\begin{align}\n",
    "\\text{precision}_k&=\\frac{1}{|P_k|}\\sum_{i\\in P_k}(y_i=k)\\:-\\: \\text{binary precision when class $k$ is positive and all other are negative};\\\\\n",
    "\\text{recall}_k&=\\frac{1}{|A_k|}\\sum_{i\\in A_k}(\\hat{y}_i=k)\\:-\\: \\text{binary recall when class $k$ is positive and all other are negative}.\n",
    "\\end{align}\n",
    "\n",
    "In our case, recalls and precisions are"
   ]
  },
  {
   "cell_type": "code",
   "execution_count": 8,
   "metadata": {},
   "outputs": [
    {
     "name": "stdout",
     "output_type": "stream",
     "text": [
      "Class \"lose\": precision 0.56; recall 0.59\n",
      "Class \"draw\": precision 0.25; recall 0.04\n",
      "Class \"win\": precision 0.42; recall 0.68\n"
     ]
    }
   ],
   "source": [
    "for i in range(cm.shape[0]):\n",
    "    print(f'Class \"{cm_pandas.index[i][:-3]}\": precision {cm[i][i]/sum(cm[i]):.2f}; recall {cm[i][i]/sum(cm[:,i]):.2f}')"
   ]
  },
  {
   "cell_type": "markdown",
   "metadata": {},
   "source": [
    "Futher, we naturally define accuracy and balanced accuracy as\n",
    "\n",
    "\\begin{align}\n",
    "\\text{Accuracy}&=\\frac{1}{N}\\sum_{i=1}^{N}(\\hat{y}_i=y_i)\\:-\\:\\text{the sum of diagonal entries over the total number of examples } N;\\\\\n",
    "\\text{Balanced Accuracy}&=\\frac{1}{K}\\sum_{k=1}^{K}\\text{recall}_k\\:-\\:\\text{the avearge of recalls across classes}.\n",
    "\\end{align}\n",
    "\n",
    "For the above confusion matrix, accuracy and balanced accuracy are as follows."
   ]
  },
  {
   "cell_type": "code",
   "execution_count": 9,
   "metadata": {},
   "outputs": [
    {
     "name": "stdout",
     "output_type": "stream",
     "text": [
      "Accuracy is 0.46\n",
      "Balanced Accuracy is 0.43\n"
     ]
    }
   ],
   "source": [
    "print(f'Accuracy is {np.trace(cm)/np.sum(cm):.2f}')\n",
    "print(f'Balanced Accuracy is {np.mean([col[i]/sum(col) for i,col in enumerate(np.transpose(cm))]):.2f}')"
   ]
  },
  {
   "cell_type": "markdown",
   "metadata": {},
   "source": [
    "How should we combine the per-class recall and precision into a single metric? There are two common approaches: *macro-* and *micro-* averages. The *macro-average* averages the per-class metrics, while *micro-average* is concerned with counts of true positives regardless of classes.\n",
    "\n",
    "\\begin{align}\n",
    "\\text{Macro-Average-Precision}&=\\frac{1}{K}\\sum_{k=1}^{K}\\text{precision}_k\\:-\\:\\text{the average of precisions across classes};\\\\\n",
    "\\text{Macro-Average-Recall}&=\\frac{1}{K}\\sum_{k=1}^{K}\\text{recall}_k\\:-\\:\\text{the average of recalls across classes (Balanced Accuracy)}\\\\\n",
    "\\end{align}\n",
    "\n",
    "Then, $\\text{Macro-Average-F1-score}$ is defined simply as a harmonic mean of \\text{Macro-Average-Precision} and text{Macro-Average-Recall} analoguosly to a binary $\\text{F1-score}$. The *micro-average* metrics happen to coincide with each other (and more so, with accuracy)! \n",
    "\n",
    "\\begin{align}\n",
    "\\text{Micro-Average-Precision}=\\text{Micro-Average-Recall}=\\text{Accuracy}=\\text{Micro-Average-F1-score}\n",
    "\\end{align}\n",
    "\n",
    "Thus, *micro-average* metrics are not as interesting. We report *macro-average* metrics for our example"
   ]
  },
  {
   "cell_type": "code",
   "execution_count": 10,
   "metadata": {},
   "outputs": [
    {
     "name": "stdout",
     "output_type": "stream",
     "text": [
      "Macro-Average-Precision 0.41\n",
      "Macro-Average-Recall 0.43\n"
     ]
    }
   ],
   "source": [
    "print(f'Macro-Average-Precision {np.mean([cm[i][i]/sum(cm[i]) for i in range(cm.shape[0])]):.2f}')\n",
    "print(f'Macro-Average-Recall {np.mean([cm[i][i]/sum(cm[:,i]) for i in range(cm.shape[0])]):.2f}')"
   ]
  },
  {
   "cell_type": "markdown",
   "metadata": {},
   "source": [
    "### *Multiclass ROC space*\n",
    "What is ROC space for multiclass problem? The answer depends on what you want the ROC curve to represent. ROC was defined as a 2-dimensional space spanned by $\\text{FPR}=1-\\text{specificity}$ and $\\text{TPR}=\\text{sensitivity}=\\text{recall}$ in binary scenario. First, a couple of questions:\n",
    "\n",
    " - Will altering thresholds in individual classifiers in a *one-vs-all* multiclass model change the multiclass confusion matrix?\n",
    " - In binary scenario, we varied the cut-off threshold that separates scores (probabilities/margins) corresponding to class prediction rules. What is varied in this multiclass setting and over what space?\n",
    "\n",
    "There are several ways to extend ROC to multiclass models; one natural choice is to consider space spanned by all possible types of errors, of which there are $K^2-K$ (why?). Note that a standard binary ROC space is equaivalent to a space spanned by false negatives and false positives, showing a trade-off between these types of errors).\n",
    "\n",
    "Another extension is concerned with identifying the trade-off between true positives for each class. Transforming the $x-$axis of the binary ROC space by $x\\mapsto 1-x$, we arrive at a space spanned by $\\text{sensitivity}$ and $\\text{specificity}$, which are exactly the true positive and true negative rates. Here is an illustration:"
   ]
  },
  {
   "cell_type": "code",
   "execution_count": 11,
   "metadata": {},
   "outputs": [
    {
     "data": {
      "image/png": "[encoded data removed]",
      "text/plain": [
       "<Figure size 1080x360 with 2 Axes>"
      ]
     },
     "metadata": {
      "needs_background": "light"
     },
     "output_type": "display_data"
    }
   ],
   "source": [
    "fig,axes=plt.subplots(nrows=1,ncols=2,figsize=(15,5))\n",
    "model_binary=LogisticRegression(alpha=0.0001,max_iter=1e7,C=100)\n",
    "model_binary.fit(train_X,train_y>0)\n",
    "roc(model_binary,train_X,train_y>0,axes[0])\n",
    "roc(model_binary,train_X,train_y>0,axes[1],inverted=True)"
   ]
  },
  {
   "cell_type": "markdown",
   "metadata": {},
   "source": [
    "Now, defining ROC curve to be the one on the right side, it is easily extendable to multiple classes. How many dimensional manifold in home many dimensional space will it be for a $K$-way classification problem? Here is an illustration for $K=3$ (adopted from [[Mossman, 1999]](https://journals.sagepub.com/doi/pdf/10.1177/0272989X9901900110)):\n",
    "\n",
    "<br>\n",
    "\n",
    "<div>\n",
    "<img src=\"imgs/ROC3.png\" width=\"500\"/>\n",
    "</div>\n",
    "\n",
    "<br>\n",
    "\n",
    "What surface will represent the ROC manifold for a completely random classifier in case of $K=3$? What is an appropriate extension of AUC?"
   ]
  }
 ],
 "metadata": {
  "hide_input": false,
  "kernelspec": {
   "display_name": "Python 3",
   "language": "python",
   "name": "python3"
  },
  "language_info": {
   "codemirror_mode": {
    "name": "ipython",
    "version": 3
   },
   "file_extension": ".py",
   "mimetype": "text/x-python",
   "name": "python",
   "nbconvert_exporter": "python",
   "pygments_lexer": "ipython3",
   "version": "3.8.2"
  }
 },
 "nbformat": 4,
 "nbformat_minor": 4
}
