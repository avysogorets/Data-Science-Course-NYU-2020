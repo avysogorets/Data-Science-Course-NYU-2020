{
 "cells": [
  {
   "cell_type": "markdown",
   "metadata": {},
   "source": [
    "## Question 6"
   ]
  },
  {
   "cell_type": "code",
   "execution_count": 1,
   "metadata": {},
   "outputs": [],
   "source": [
    "# Auxiliary code:\n",
    "import numpy as np\n",
    "import pandas as pd\n",
    "import time\n",
    "from sklearn.preprocessing import MinMaxScaler\n",
    "train=pd.read_csv('train_elections.csv',index_col=0)\n",
    "test=pd.read_csv('test_elections.csv',index_col=0)\n",
    "features=train.columns[:-2]\n",
    "target=\"trumpWinner\"\n",
    "scaler=MinMaxScaler()\n",
    "train_X=train.loc[:,features]\n",
    "train_y=train.loc[:,target].values.astype(int)\n",
    "test_X=test.loc[:,features]\n",
    "test_y=test.loc[:,target].values.astype(int)\n",
    "train_X=scaler.fit_transform(train_X)\n",
    "test_X=scaler.transform(test_X)"
   ]
  },
  {
   "cell_type": "code",
   "execution_count": 2,
   "metadata": {},
   "outputs": [],
   "source": [
    "# Auxiliary functions:\n",
    "def sigmoid(t):\n",
    "    return 1./(1+np.exp(-t))\n",
    "def compute_loss(X,y,theta):\n",
    "    return -sum([y_i*np.log(sigmoid(np.dot(theta,X_i)))+(1-y_i)*np.log(1-sigmoid(np.dot(theta,X_i))) for X_i,y_i in zip(X,y)])"
   ]
  },
  {
   "cell_type": "code",
   "execution_count": 3,
   "metadata": {},
   "outputs": [],
   "source": [
    "# The Logistic Regression class from Lab3:\n",
    "class LogisticRegression():\n",
    "    def __init__(self,alpha,max_iter,tolerance=1e-5):\n",
    "        self.alpha=alpha\n",
    "        self.tolerance=tolerance\n",
    "        self.max_iter=max_iter\n",
    "    def gradient(self,X,y,theta):\n",
    "        return [-sum([X_i[j]*y_i-X_i[j]*sigmoid(np.dot(X_i,theta)) for X_i,y_i in zip(X,y)]) for j in range(X.shape[1])]\n",
    "    def fit(self,X,y):\n",
    "        progress=[]\n",
    "        X=np.hstack([X,np.ones((X.shape[0],1))])\n",
    "        self.theta=np.random.normal(loc=0,scale=1,size=X.shape[1])\n",
    "        loss=compute_loss(X,y,self.theta)\n",
    "        while self.max_iter>0:\n",
    "            if self.max_iter%500==0 and loss>self.tolerance:\n",
    "                loss=compute_loss(X,y,self.theta)\n",
    "                progress.append(loss)\n",
    "            self.theta-=self.alpha*np.array(self.gradient(X,y,self.theta))\n",
    "            self.max_iter-=1\n",
    "        return progress, self.theta\n",
    "    def predict(self,X):\n",
    "        X=np.hstack([X,np.ones((X.shape[0],1))])\n",
    "        return [1 if sigmoid(np.dot(self.theta,X_i))>0.5 else 0 for X_i in X]\n",
    "    def proba(self,X):\n",
    "        X=np.hstack([X,np.ones((X.shape[0],1))])\n",
    "        return [sigmoid(np.dot(self.theta,X_i)) for X_i in X]"
   ]
  },
  {
   "cell_type": "code",
   "execution_count": 4,
   "metadata": {},
   "outputs": [],
   "source": [
    "# Part (b):\n",
    "'''\n",
    "Complete the 'gradient(self,X,y,theta)' method with computations performed\n",
    "in the matrix form. \n",
    "- arguments: (n,d) matrix X, (1,n)-vector y, and a parameter (1,d+1)-vector theta. \n",
    "- returns: (1,d+1)-vector with gradients of the loss l(theta|X,y) with respect to theta.\n",
    "Note that the 'fit' method of FasterLogisticRegression converts given X and y to the \n",
    "required format. The rest of the code is slightly modified from the LogisticRegression\n",
    "class to account for 2-dimensional shapes of theta and y. Otherwise, the two classes are identical.\n",
    "'''\n",
    "\n",
    "class FasterLogisticRegression():\n",
    "    def __init__(self,alpha,max_iter,tolerance=1e-5):\n",
    "        self.alpha=alpha\n",
    "        self.tolerance=tolerance\n",
    "        self.max_iter=max_iter\n",
    "    def gradient(self,X,y,theta):\n",
    "        theta_temp = theta.reshape(X.shape[1])\n",
    "        t1 = -y@X\n",
    "        t2 = np.reshape(X@theta_temp,(X.shape[0],1))\n",
    "        t22 = X.T @ sigmoid(t2)\n",
    "        grad = t1 + t22.T\n",
    "        return grad\n",
    " \n",
    "    def fit(self,X,y):\n",
    "        progress=[]\n",
    "        y=y.reshape((1,X.shape[0]))\n",
    "        X=np.hstack([X,np.ones((X.shape[0],1))])\n",
    "        self.theta=np.random.normal(loc=0,scale=1,size=X.shape[1]).reshape((1,X.shape[1]))\n",
    "        loss=compute_loss(X,y[0],self.theta[0])\n",
    "        while self.max_iter>=0 and loss>self.tolerance:\n",
    "            if self.max_iter%500==0:\n",
    "                loss=compute_loss(X,y[0],self.theta[0])\n",
    "                progress.append(loss)\n",
    "            self.theta-=self.alpha*self.gradient(X,y,self.theta)\n",
    "            self.max_iter-=1\n",
    "        return progress, self.theta\n",
    "    def predict(self,X):\n",
    "        X=np.hstack([X,np.ones((X.shape[0],1))])\n",
    "        return [1 if sigmoid(np.dot(self.theta,X_i))>0.5 else 0 for X_i in X]\n",
    "    def proba(self,X):\n",
    "        X=np.hstack([X,np.ones((X.shape[0],1))])\n",
    "        return [sigmoid(np.dot(self.theta,X_i)) for X_i in X]"
   ]
  },
  {
   "cell_type": "code",
   "execution_count": 5,
   "metadata": {},
   "outputs": [
    {
     "name": "stdout",
     "output_type": "stream",
     "text": [
      "Time for FasterLogisticRegression 0.26799964904785156\n"
     ]
    }
   ],
   "source": [
    "lreg_fast = FasterLogisticRegression(alpha=0.01,max_iter=10000)\n",
    "\n",
    "tfast_start = time.time()\n",
    "prog_fast,theta_fast = lreg_fast.fit(train_X,train_y)\n",
    "tfast = time.time() - tfast_start\n",
    "print('Time for FasterLogisticRegression', tfast)\n",
    "# TO DO"
   ]
  },
  {
   "cell_type": "code",
   "execution_count": 6,
   "metadata": {},
   "outputs": [
    {
     "data": {
      "text/plain": [
       "[29.394003718613387,\n",
       " 9.963055004203778,\n",
       " 7.786290255375387,\n",
       " 6.735594767620521,\n",
       " 6.0826602758351624,\n",
       " 5.622543110840026,\n",
       " 5.272868994231511,\n",
       " 4.993525698356898,\n",
       " 4.762361306607941,\n",
       " 4.566002945860288,\n",
       " 4.3958255204654835,\n",
       " 4.2459752959048735,\n",
       " 4.112315519414996,\n",
       " 3.9918251683703403,\n",
       " 3.882237125069245,\n",
       " 3.781810554328177,\n",
       " 3.68918227930661,\n",
       " 3.6032666182952306,\n",
       " 3.52318601588908,\n",
       " 3.4482218474946915,\n",
       " 3.377778795464711]"
      ]
     },
     "execution_count": 6,
     "metadata": {},
     "output_type": "execute_result"
    }
   ],
   "source": [
    "prog_fast"
   ]
  },
  {
   "cell_type": "code",
   "execution_count": 7,
   "metadata": {},
   "outputs": [
    {
     "name": "stdout",
     "output_type": "stream",
     "text": [
      "Time for slower logistic regression 18.845540046691895\n"
     ]
    }
   ],
   "source": [
    "'''\n",
    "Fit both LogisticRegression and FasterLogisticRegression with the learning\n",
    "rate of 0.01 and max_iter of 10,000. Time both models and report their\n",
    "training times. Comment on your findings.\n",
    "'''\n",
    "import time\n",
    "\n",
    "lreg_slow = LogisticRegression(alpha=0.01, max_iter=10000)\n",
    "\n",
    "tslow_start = time.time()\n",
    "prog_slow, theta_slow = lreg_slow.fit(train_X,train_y)\n",
    "tslow = time.time() - tslow_start\n",
    "print('Time for slower logistic regression', tslow)\n",
    "# TO DO"
   ]
  },
  {
   "cell_type": "code",
   "execution_count": 8,
   "metadata": {},
   "outputs": [
    {
     "data": {
      "text/plain": [
       "[34.15250066815413,\n",
       " 9.858505226095142,\n",
       " 7.77413318706885,\n",
       " 6.745899250673806,\n",
       " 6.097287099738278,\n",
       " 5.6368341912638815,\n",
       " 5.285719390523747,\n",
       " 5.004815995016676,\n",
       " 4.772236163034911,\n",
       " 4.574657858423007,\n",
       " 4.403444715967736,\n",
       " 4.252716651302008,\n",
       " 4.118310055189859,\n",
       " 3.9971805821128044,\n",
       " 3.8870419383686086,\n",
       " 3.786137835616796,\n",
       " 3.693092713880251,\n",
       " 3.6068109575580585,\n",
       " 3.5264070071872724,\n",
       " 3.451155750376851]"
      ]
     },
     "execution_count": 8,
     "metadata": {},
     "output_type": "execute_result"
    }
   ],
   "source": [
    "prog_slow"
   ]
  },
  {
   "cell_type": "markdown",
   "metadata": {},
   "source": [
    "We remark not only that the \"FasterLogisticRegression\" is 90 times faster than the Naive for-loop approach (completely unsurprising), but that it reaches a slighly lower loss value"
   ]
  },
  {
   "cell_type": "code",
   "execution_count": 13,
   "metadata": {},
   "outputs": [
    {
     "name": "stdout",
     "output_type": "stream",
     "text": [
      "theta_fast [[16.54586684 11.28592113  1.2955832   9.0700633   1.30167224  5.39580686\n",
      "  14.36570639  6.80788263  1.03441825  4.21920178]]\n",
      "Most influential feature: trump\n",
      "Second-most influential feature: gun\n"
     ]
    }
   ],
   "source": [
    "# Part (c):\n",
    "\n",
    "'''\n",
    "Identify features corresponding to the two largest magnitude coefficients\n",
    "in your model.\n",
    "'''\n",
    "print('theta_fast',abs(theta_fast))\n",
    "print('Most influential feature:', features[0])\n",
    "print('Second-most influential feature:', features[6])\n",
    "#Largest magnitude coefficients correspond to: 0 and 6 "
   ]
  },
  {
   "cell_type": "code",
   "execution_count": 16,
   "metadata": {},
   "outputs": [
    {
     "data": {
      "image/png": "[encoded data removed]",
      "text/plain": [
       "<Figure size 432x288 with 1 Axes>"
      ]
     },
     "metadata": {
      "needs_background": "light"
     },
     "output_type": "display_data"
    }
   ],
   "source": [
    "'''\n",
    "Project the training data onto these two features and produce a scatter\n",
    "plot. Further, draw a projection of the decision boundary onto this plane.\n",
    "Color points corresponding to positive target values in red and\n",
    "in blue otherwise. Do not acount for the intercept coefficient.\n",
    "'''\n",
    "data1 = train_X[:,0]\n",
    "data2 = train_X[:,6]\n",
    "\n",
    "w1 = theta_fast[0,0]\n",
    "w2 = theta_fast[0,6]\n",
    "\n",
    "def boundary(x):\n",
    "    return (abs(w1)*x)/abs(w2)\n",
    "\n",
    "xs = np.linspace(0,1,50)\n",
    "ybd = boundary(xs)\n",
    "\n",
    "predictions=lreg_fast.predict(train_X)\n",
    "colorseq = []\n",
    "for i in range(train_X[:,1].size):\n",
    "    if predictions[i] == 0:\n",
    "        colorseq.append('b')\n",
    "    else:\n",
    "        colorseq.append('r')\n",
    "import matplotlib.pyplot as plt\n",
    "fig = plt.figure()\n",
    "plt.scatter(data1,data2,c=colorseq)\n",
    "plt.plot(xs,ybd,c='green')\n",
    "plt.savefig('Question6c')\n",
    "plt.show()\n",
    "\n",
    "# TO DO"
   ]
  },
  {
   "cell_type": "code",
   "execution_count": 11,
   "metadata": {},
   "outputs": [
    {
     "data": {
      "text/html": [
       "<div>\n",
       "<style scoped>\n",
       "    .dataframe tbody tr th:only-of-type {\n",
       "        vertical-align: middle;\n",
       "    }\n",
       "\n",
       "    .dataframe tbody tr th {\n",
       "        vertical-align: top;\n",
       "    }\n",
       "\n",
       "    .dataframe thead th {\n",
       "        text-align: right;\n",
       "    }\n",
       "</style>\n",
       "<table border=\"1\" class=\"dataframe\">\n",
       "  <thead>\n",
       "    <tr style=\"text-align: right;\">\n",
       "      <th></th>\n",
       "      <th>CA</th>\n",
       "      <th>DE</th>\n",
       "      <th>ID</th>\n",
       "      <th>IN</th>\n",
       "      <th>MI</th>\n",
       "      <th>MS</th>\n",
       "      <th>NV</th>\n",
       "      <th>NY</th>\n",
       "      <th>PA</th>\n",
       "      <th>RI</th>\n",
       "      <th>TN</th>\n",
       "      <th>UT</th>\n",
       "      <th>VT</th>\n",
       "    </tr>\n",
       "  </thead>\n",
       "  <tbody>\n",
       "    <tr>\n",
       "      <td>truth</td>\n",
       "      <td>0</td>\n",
       "      <td>0</td>\n",
       "      <td>1</td>\n",
       "      <td>1</td>\n",
       "      <td>1</td>\n",
       "      <td>1</td>\n",
       "      <td>0</td>\n",
       "      <td>0</td>\n",
       "      <td>1</td>\n",
       "      <td>0</td>\n",
       "      <td>1</td>\n",
       "      <td>1</td>\n",
       "      <td>0</td>\n",
       "    </tr>\n",
       "    <tr>\n",
       "      <td>Predicted value</td>\n",
       "      <td>0</td>\n",
       "      <td>0</td>\n",
       "      <td>1</td>\n",
       "      <td>1</td>\n",
       "      <td>1</td>\n",
       "      <td>1</td>\n",
       "      <td>1</td>\n",
       "      <td>0</td>\n",
       "      <td>0</td>\n",
       "      <td>1</td>\n",
       "      <td>1</td>\n",
       "      <td>1</td>\n",
       "      <td>0</td>\n",
       "    </tr>\n",
       "    <tr>\n",
       "      <td>prediction correct?</td>\n",
       "      <td>1</td>\n",
       "      <td>1</td>\n",
       "      <td>1</td>\n",
       "      <td>1</td>\n",
       "      <td>1</td>\n",
       "      <td>1</td>\n",
       "      <td>0</td>\n",
       "      <td>1</td>\n",
       "      <td>0</td>\n",
       "      <td>0</td>\n",
       "      <td>1</td>\n",
       "      <td>1</td>\n",
       "      <td>1</td>\n",
       "    </tr>\n",
       "  </tbody>\n",
       "</table>\n",
       "</div>"
      ],
      "text/plain": [
       "                     CA  DE  ID  IN  MI  MS  NV  NY  PA  RI  TN  UT  VT\n",
       "truth                 0   0   1   1   1   1   0   0   1   0   1   1   0\n",
       "Predicted value       0   0   1   1   1   1   1   0   0   1   1   1   0\n",
       "prediction correct?   1   1   1   1   1   1   0   1   0   0   1   1   1"
      ]
     },
     "metadata": {},
     "output_type": "display_data"
    }
   ],
   "source": [
    "# Part (d):\n",
    "\n",
    "'''\n",
    "Fetch test predictions from your logistic model and construct a table\n",
    "with the following rows: (a) ground truth, (b) predicted value,\n",
    "(c) prediction correct? Compare this to your results with trees and\n",
    "random forest in Question 4. Do mistakes of the logistic regression\n",
    "model correlate with difficulty (uncertainty) identified by the random forest?\n",
    "'''\n",
    "\n",
    "\n",
    "results=[[int(a),int(b), int(not a^b)] \n",
    "         for a,b in zip(test_y,lreg_fast.predict(test_X))]\n",
    "results_df_c=pd.DataFrame(results,columns=['truth','Predicted value','prediction correct?'],\n",
    "                           index=test.index)\n",
    "display(results_df_c.T)"
   ]
  },
  {
   "cell_type": "markdown",
   "metadata": {},
   "source": [
    " We do not really notice a correspondance between the prediction capacity of logistic regression and the ``uncertainty\" generated by the random forest."
   ]
  },
  {
   "cell_type": "code",
   "execution_count": null,
   "metadata": {},
   "outputs": [],
   "source": []
  }
 ],
 "metadata": {
  "hide_input": false,
  "kernelspec": {
   "display_name": "Python 3",
   "language": "python",
   "name": "python3"
  },
  "language_info": {
   "codemirror_mode": {
    "name": "ipython",
    "version": 3
   },
   "file_extension": ".py",
   "mimetype": "text/x-python",
   "name": "python",
   "nbconvert_exporter": "python",
   "pygments_lexer": "ipython3",
   "version": "3.8.2"
  }
 },
 "nbformat": 4,
 "nbformat_minor": 4
}
