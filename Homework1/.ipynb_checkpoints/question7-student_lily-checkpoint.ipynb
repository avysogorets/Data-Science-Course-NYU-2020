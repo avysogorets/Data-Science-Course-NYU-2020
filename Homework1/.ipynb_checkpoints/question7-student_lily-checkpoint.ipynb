{
 "cells": [
  {
   "cell_type": "markdown",
   "metadata": {},
   "source": [
    "## Question 7"
   ]
  },
  {
   "cell_type": "code",
   "execution_count": 1,
   "metadata": {
    "ExecuteTime": {
     "end_time": "2020-10-19T15:34:49.094681Z",
     "start_time": "2020-10-19T15:34:48.488920Z"
    }
   },
   "outputs": [],
   "source": [
    "# Auxiliary code:\n",
    "import numpy as np\n",
    "import pandas as pd\n",
    "from sklearn.preprocessing import MinMaxScaler\n",
    "train=pd.read_csv('train_elections.csv',index_col=0)\n",
    "test=pd.read_csv('test_elections.csv',index_col=0)\n",
    "features=train.columns[:-2]\n",
    "target=\"trumpWinner\"\n",
    "scaler=MinMaxScaler()\n",
    "train_X=train.loc[:,features]\n",
    "train_y=train.loc[:,target].values.astype(int)\n",
    "test_X=test.loc[:,features]\n",
    "test_y=test.loc[:,target].values.astype(int)\n",
    "train_X=scaler.fit_transform(train_X)\n",
    "test_X=scaler.transform(test_X)"
   ]
  },
  {
   "cell_type": "code",
   "execution_count": 2,
   "metadata": {
    "ExecuteTime": {
     "end_time": "2020-10-19T15:34:49.100539Z",
     "start_time": "2020-10-19T15:34:49.096380Z"
    }
   },
   "outputs": [],
   "source": [
    "# Auxiliary functions:\n",
    "def sigmoid(t):\n",
    "    return 1./(1+np.exp(-t))\n",
    "def compute_loss(X,y,theta):\n",
    "    return -sum([y_i*np.log(sigmoid(np.dot(theta,X_i)))+(1-y_i)*np.log(1-sigmoid(np.dot(theta,X_i))) for X_i,y_i in zip(X,y)])"
   ]
  },
  {
   "cell_type": "code",
   "execution_count": 3,
   "metadata": {
    "ExecuteTime": {
     "end_time": "2020-10-19T15:34:49.116646Z",
     "start_time": "2020-10-19T15:34:49.103226Z"
    }
   },
   "outputs": [],
   "source": [
    "# The Logistic Regression class from Lab3:\n",
    "class LogisticRegression():\n",
    "    def __init__(self,alpha,max_iter,tolerance=1e-5):\n",
    "        np.random.seed(0)\n",
    "        self.alpha=alpha\n",
    "        self.tolerance=tolerance\n",
    "        self.max_iter=max_iter\n",
    "    def gradient(self,X,y,theta):\n",
    "        return [-sum([X_i[j]*y_i-X_i[j]*sigmoid(np.dot(X_i,theta)) for X_i,y_i in zip(X,y)]) for j in range(X.shape[1])]\n",
    "    def fit(self,X,y):\n",
    "        progress=[]\n",
    "        X=np.hstack([X,np.ones((X.shape[0],1))])\n",
    "        self.theta=np.random.normal(loc=0,scale=1,size=X.shape[1])\n",
    "        loss=compute_loss(X,y,self.theta)\n",
    "        while self.max_iter>0:\n",
    "            if self.max_iter%500==0 and loss>self.tolerance:\n",
    "                loss=compute_loss(X,y,self.theta)\n",
    "                progress.append(loss)\n",
    "            self.theta-=self.alpha*np.array(self.gradient(X,y,self.theta))\n",
    "            self.max_iter-=1\n",
    "        return progress\n",
    "    def predict(self,X):\n",
    "        X=np.hstack([X,np.ones((X.shape[0],1))])\n",
    "        return [1 if sigmoid(np.dot(self.theta,X_i))>0.5 else 0 for X_i in X]\n",
    "    def proba(self,X):\n",
    "        X=np.hstack([X,np.ones((X.shape[0],1))])\n",
    "        return [sigmoid(np.dot(self.theta,X_i)) for X_i in X]"
   ]
  },
  {
   "cell_type": "code",
   "execution_count": 4,
   "metadata": {
    "ExecuteTime": {
     "end_time": "2020-10-19T15:34:49.132015Z",
     "start_time": "2020-10-19T15:34:49.118284Z"
    }
   },
   "outputs": [],
   "source": [
    "# Part (b):\n",
    "'''\n",
    "Complete the 'gradient(self,X,y,theta)' method with computations performed\n",
    "in the matrix form. \n",
    "- arguments: (n,d) matrix X, (1,n)-vector y, and a parameter (1,d+1)-vector theta. \n",
    "- returns: (1,d+1)-vector with gradients of the loss l(theta|X,y) with respect to theta.\n",
    "Note that the 'fit' method of FasterLogisticRegression converts given X and y to the \n",
    "required format. The rest of the code is slightly modified from the LogisticRegression\n",
    "class to account for 2-dimensional shapes of theta and y. Otherwise, th two classes are identical.\n",
    "'''\n",
    "\n",
    "class FasterLogisticRegression():\n",
    "    def __init__(self,alpha,max_iter,tolerance=1e-5):\n",
    "        np.random.seed(0)\n",
    "        self.alpha=alpha\n",
    "        self.tolerance=tolerance\n",
    "        self.max_iter=max_iter\n",
    "    def gradient(self,X,y,theta):\n",
    "        return -np.matmul(X.T, (y.T - sigmoid(np.matmul(X,theta.T)))).sum(axis=1)\n",
    "\n",
    "    def fit(self,X,y):\n",
    "        progress=[]\n",
    "        y=y.reshape((1,X.shape[0]))\n",
    "        X=np.hstack([X,np.ones((X.shape[0],1))])\n",
    "        self.theta=np.random.normal(loc=0,scale=1,size=X.shape[1]).reshape((1,X.shape[1]))\n",
    "        loss=compute_loss(X,y[0],self.theta[0])\n",
    "        while self.max_iter>=0 and loss>self.tolerance:\n",
    "            if self.max_iter%500==0:\n",
    "                loss=compute_loss(X,y[0],self.theta[0])\n",
    "                progress.append(loss)\n",
    "            self.theta-=self.alpha*self.gradient(X,y,self.theta)\n",
    "            self.max_iter-=1\n",
    "        return progress\n",
    "    def predict(self,X):\n",
    "        X=np.hstack([X,np.ones((X.shape[0],1))])\n",
    "        return [1 if sigmoid(np.dot(self.theta,X_i))>0.5 else 0 for X_i in X]\n",
    "    def proba(self,X):\n",
    "        X=np.hstack([X,np.ones((X.shape[0],1))])\n",
    "        return [sigmoid(np.dot(self.theta,X_i)) for X_i in X]"
   ]
  },
  {
   "cell_type": "code",
   "execution_count": 5,
   "metadata": {
    "ExecuteTime": {
     "end_time": "2020-10-19T15:35:04.854095Z",
     "start_time": "2020-10-19T15:34:49.133585Z"
    }
   },
   "outputs": [
    {
     "name": "stdout",
     "output_type": "stream",
     "text": [
      "15.503769159317017\n",
      "0.21136212348937988\n"
     ]
    }
   ],
   "source": [
    "'''\n",
    "Fit both LogisticRegression and FasterLogisticRegression with the learning\n",
    "rate of 0.01 and max_iter of 10,000. Time both models and report their\n",
    "training times. Comment on your findings.\n",
    "'''\n",
    "import time\n",
    "iterations = 10000\n",
    "model=LogisticRegression(0.01,iterations)\n",
    "start = time.time()\n",
    "progress=model.fit(train_X,train_y)\n",
    "end = time.time()\n",
    "print(end - start)\n",
    "\n",
    "fast_model=FasterLogisticRegression(0.01,iterations)\n",
    "start = time.time()\n",
    "progress1=fast_model.fit(train_X,train_y)\n",
    "end = time.time()\n",
    "print(end - start)"
   ]
  },
  {
   "cell_type": "markdown",
   "metadata": {},
   "source": [
    "The matrix implementation is magnitudes faster, e.g. 0.2 vs. 16 for the scalar version"
   ]
  },
  {
   "cell_type": "code",
   "execution_count": 6,
   "metadata": {
    "ExecuteTime": {
     "end_time": "2020-10-19T15:35:04.867263Z",
     "start_time": "2020-10-19T15:35:04.855696Z"
    }
   },
   "outputs": [
    {
     "data": {
      "text/plain": [
       "Index(['gun', 'trump'], dtype='object')"
      ]
     },
     "execution_count": 6,
     "metadata": {},
     "output_type": "execute_result"
    }
   ],
   "source": [
    "# Part (c):\n",
    "\n",
    "'''\n",
    "Identify features corresponding to the two largest magnitude coefficients\n",
    "in your model.\n",
    "'''\n",
    "\n",
    "top_idx = np.argsort(abs(fast_model.theta))[0][-2:]\n",
    "features[top_idx]"
   ]
  },
  {
   "cell_type": "code",
   "execution_count": 7,
   "metadata": {
    "ExecuteTime": {
     "end_time": "2020-10-19T15:35:05.655571Z",
     "start_time": "2020-10-19T15:35:04.869127Z"
    }
   },
   "outputs": [
    {
     "data": {
      "text/plain": [
       "[<matplotlib.lines.Line2D at 0x11eb31e10>]"
      ]
     },
     "execution_count": 7,
     "metadata": {},
     "output_type": "execute_result"
    },
    {
     "data": {
      "image/png": "[encoded data removed]",
      "text/plain": [
       "<Figure size 432x288 with 1 Axes>"
      ]
     },
     "metadata": {
      "needs_background": "light"
     },
     "output_type": "display_data"
    }
   ],
   "source": [
    "'''\n",
    "Project the training data onto these two features and produce a scatter\n",
    "plot. Further, draw a projection of the decision boundary onto this plane.\n",
    "Color points corresponding to positive target values in red and\n",
    "in blue otherwise. Do not acount for the intercept coefficient.\n",
    "'''\n",
    "import matplotlib.pyplot as plt\n",
    "projected_data = train[:][features[top_idx]] * fast_model.theta[0][top_idx]\n",
    "trump_mask = train[target]\n",
    "# the dim with the larger theta is x-axis, i.e. trump\n",
    "plt.scatter(y=projected_data[trump_mask]['gun'], x=projected_data[trump_mask]['trump'], color='red')\n",
    "plt.scatter(y=projected_data[~trump_mask]['gun'], x=projected_data[~trump_mask]['trump'], color='blue')\n",
    "# note that the decision boundary is where theta_1 x + theta_2 y = 0\n",
    "# in other words, y = -theta_1/theta_2 x\n",
    "xrange = np.arange(-1700, -900, .1)\n",
    "# yrange = np.arange(700, 1500, .1)\n",
    "theta1 = fast_model.theta[0][top_idx][0]\n",
    "theta2 = fast_model.theta[0][top_idx][1]\n",
    "plt.plot(xrange, theta1/theta2 * xrange)"
   ]
  },
  {
   "cell_type": "code",
   "execution_count": 8,
   "metadata": {
    "ExecuteTime": {
     "end_time": "2020-10-19T15:35:05.674620Z",
     "start_time": "2020-10-19T15:35:05.657736Z"
    }
   },
   "outputs": [
    {
     "data": {
      "text/html": [
       "<div>\n",
       "<style scoped>\n",
       "    .dataframe tbody tr th:only-of-type {\n",
       "        vertical-align: middle;\n",
       "    }\n",
       "\n",
       "    .dataframe tbody tr th {\n",
       "        vertical-align: top;\n",
       "    }\n",
       "\n",
       "    .dataframe thead th {\n",
       "        text-align: right;\n",
       "    }\n",
       "</style>\n",
       "<table border=\"1\" class=\"dataframe\">\n",
       "  <thead>\n",
       "    <tr style=\"text-align: right;\">\n",
       "      <th></th>\n",
       "      <th>truth</th>\n",
       "      <th>predicted</th>\n",
       "      <th>correct?</th>\n",
       "    </tr>\n",
       "  </thead>\n",
       "  <tbody>\n",
       "    <tr>\n",
       "      <th>CA</th>\n",
       "      <td>False</td>\n",
       "      <td>1</td>\n",
       "      <td>False</td>\n",
       "    </tr>\n",
       "    <tr>\n",
       "      <th>DE</th>\n",
       "      <td>False</td>\n",
       "      <td>1</td>\n",
       "      <td>False</td>\n",
       "    </tr>\n",
       "    <tr>\n",
       "      <th>ID</th>\n",
       "      <td>True</td>\n",
       "      <td>1</td>\n",
       "      <td>True</td>\n",
       "    </tr>\n",
       "    <tr>\n",
       "      <th>IN</th>\n",
       "      <td>True</td>\n",
       "      <td>1</td>\n",
       "      <td>True</td>\n",
       "    </tr>\n",
       "    <tr>\n",
       "      <th>MI</th>\n",
       "      <td>True</td>\n",
       "      <td>1</td>\n",
       "      <td>True</td>\n",
       "    </tr>\n",
       "    <tr>\n",
       "      <th>MS</th>\n",
       "      <td>True</td>\n",
       "      <td>1</td>\n",
       "      <td>True</td>\n",
       "    </tr>\n",
       "    <tr>\n",
       "      <th>NV</th>\n",
       "      <td>False</td>\n",
       "      <td>1</td>\n",
       "      <td>False</td>\n",
       "    </tr>\n",
       "    <tr>\n",
       "      <th>NY</th>\n",
       "      <td>False</td>\n",
       "      <td>1</td>\n",
       "      <td>False</td>\n",
       "    </tr>\n",
       "    <tr>\n",
       "      <th>PA</th>\n",
       "      <td>True</td>\n",
       "      <td>1</td>\n",
       "      <td>True</td>\n",
       "    </tr>\n",
       "    <tr>\n",
       "      <th>RI</th>\n",
       "      <td>False</td>\n",
       "      <td>1</td>\n",
       "      <td>False</td>\n",
       "    </tr>\n",
       "    <tr>\n",
       "      <th>TN</th>\n",
       "      <td>True</td>\n",
       "      <td>1</td>\n",
       "      <td>True</td>\n",
       "    </tr>\n",
       "    <tr>\n",
       "      <th>UT</th>\n",
       "      <td>True</td>\n",
       "      <td>1</td>\n",
       "      <td>True</td>\n",
       "    </tr>\n",
       "    <tr>\n",
       "      <th>VT</th>\n",
       "      <td>False</td>\n",
       "      <td>1</td>\n",
       "      <td>False</td>\n",
       "    </tr>\n",
       "  </tbody>\n",
       "</table>\n",
       "</div>"
      ],
      "text/plain": [
       "    truth  predicted  correct?\n",
       "CA  False          1     False\n",
       "DE  False          1     False\n",
       "ID   True          1      True\n",
       "IN   True          1      True\n",
       "MI   True          1      True\n",
       "MS   True          1      True\n",
       "NV  False          1     False\n",
       "NY  False          1     False\n",
       "PA   True          1      True\n",
       "RI  False          1     False\n",
       "TN   True          1      True\n",
       "UT   True          1      True\n",
       "VT  False          1     False"
      ]
     },
     "execution_count": 8,
     "metadata": {},
     "output_type": "execute_result"
    }
   ],
   "source": [
    "# Part (d):\n",
    "\n",
    "'''\n",
    "Fetch test predictions from your logistic model and construct a table\n",
    "with the following rows: (a) ground truth, (b) predicted value,\n",
    "(c) prediction correct? Compare this to your results with trees and\n",
    "random forest in Question 4. Do mistakes of the logistic regression\n",
    "model correlate with difficulty (uncertainty) identified by the random forest?\n",
    "'''\n",
    "\n",
    "preds = fast_model.predict(test[features])\n",
    "results_df = pd.DataFrame({'truth': test[target], 'predicted': preds}, index=test.index)\n",
    "results_df['correct?'] = results_df['predicted']  == results_df['truth']\n",
    "results_df"
   ]
  },
  {
   "cell_type": "markdown",
   "metadata": {},
   "source": [
    "The mistakes are not really correlated with the uncertainties from the random forest. This is most likely due to the models considering a different set of hypotheses for the best model fit."
   ]
  },
  {
   "cell_type": "code",
   "execution_count": null,
   "metadata": {},
   "outputs": [],
   "source": []
  }
 ],
 "metadata": {
  "hide_input": false,
  "kernelspec": {
   "display_name": "Python 3",
   "language": "python",
   "name": "python3"
  },
  "language_info": {
   "codemirror_mode": {
    "name": "ipython",
    "version": 3
   },
   "file_extension": ".py",
   "mimetype": "text/x-python",
   "name": "python",
   "nbconvert_exporter": "python",
   "pygments_lexer": "ipython3",
   "version": "3.8.2"
  },
  "toc": {
   "base_numbering": 1,
   "nav_menu": {},
   "number_sections": true,
   "sideBar": true,
   "skip_h1_title": false,
   "title_cell": "Table of Contents",
   "title_sidebar": "Contents",
   "toc_cell": false,
   "toc_position": {},
   "toc_section_display": true,
   "toc_window_display": false
  }
 },
 "nbformat": 4,
 "nbformat_minor": 4
}
