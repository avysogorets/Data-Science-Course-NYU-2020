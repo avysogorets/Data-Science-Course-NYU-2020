{
 "cells": [
  {
   "cell_type": "markdown",
   "metadata": {},
   "source": [
    "## Question 7"
   ]
  },
  {
   "cell_type": "code",
   "execution_count": 1,
   "metadata": {},
   "outputs": [],
   "source": [
    "# Auxiliary code:\n",
    "import numpy as np\n",
    "import pandas as pd\n",
    "from sklearn.preprocessing import MinMaxScaler\n",
    "train=pd.read_csv('train_elections.csv',index_col=0)\n",
    "test=pd.read_csv('test_elections.csv',index_col=0)\n",
    "features=train.columns[:-2]\n",
    "target=\"trumpWinner\"\n",
    "scaler=MinMaxScaler()\n",
    "train_X=train.loc[:,features]\n",
    "train_y=train.loc[:,target].values.astype(int)\n",
    "test_X=test.loc[:,features]\n",
    "test_y=test.loc[:,target].values.astype(int)\n",
    "train_X=scaler.fit_transform(train_X)\n",
    "test_X=scaler.transform(test_X)"
   ]
  },
  {
   "cell_type": "code",
   "execution_count": 2,
   "metadata": {},
   "outputs": [],
   "source": [
    "# Auxiliary functions:\n",
    "def sigmoid(t):\n",
    "    return 1./(1+np.exp(-t))\n",
    "def compute_loss(X,y,theta):\n",
    "    return -sum([y_i*np.log(sigmoid(np.dot(theta,X_i)))+(1-y_i)*np.log(1-sigmoid(np.dot(theta,X_i))) for X_i,y_i in zip(X,y)])"
   ]
  },
  {
   "cell_type": "code",
   "execution_count": 3,
   "metadata": {},
   "outputs": [],
   "source": [
    "# The Logistic Regression class from Lab3:\n",
    "class LogisticRegression():\n",
    "    def __init__(self,alpha,max_iter,tolerance=1e-5):\n",
    "        self.alpha=alpha\n",
    "        self.tolerance=tolerance\n",
    "        self.max_iter=max_iter\n",
    "    def gradient(self,X,y,theta):\n",
    "        return [-sum([X_i[j]*y_i-X_i[j]*sigmoid(np.dot(X_i,theta)) for X_i,y_i in zip(X,y)]) for j in range(X.shape[1])]\n",
    "    def fit(self,X,y):\n",
    "        progress=[]\n",
    "        X=np.hstack([X,np.ones((X.shape[0],1))])\n",
    "        self.theta=np.random.normal(loc=0,scale=1,size=X.shape[1])\n",
    "        loss=compute_loss(X,y,self.theta)\n",
    "        while self.max_iter>0:\n",
    "            if self.max_iter%500==0 and loss>self.tolerance:\n",
    "                loss=compute_loss(X,y,self.theta)\n",
    "                progress.append(loss)\n",
    "            self.theta-=self.alpha*np.array(self.gradient(X,y,self.theta))\n",
    "            self.max_iter-=1\n",
    "        return progress\n",
    "    def predict(self,X):\n",
    "        X=np.hstack([X,np.ones((X.shape[0],1))])\n",
    "        return [1 if sigmoid(np.dot(self.theta,X_i))>0.5 else 0 for X_i in X]\n",
    "    def proba(self,X):\n",
    "        X=np.hstack([X,np.ones((X.shape[0],1))])\n",
    "        return [sigmoid(np.dot(self.theta,X_i)) for X_i in X]"
   ]
  },
  {
   "cell_type": "code",
   "execution_count": 4,
   "metadata": {},
   "outputs": [],
   "source": [
    "# Part (b):\n",
    "'''\n",
    "Complete the 'gradient(self,X,y,theta)' method with computations performed\n",
    "in the matrix form. \n",
    "- arguments: (n,d) matrix X, (1,n)-vector y, and a parameter (1,d+1)-vector theta. \n",
    "- returns: (1,d+1)-vector with gradients of the loss l(theta|X,y) with respect to theta.\n",
    "Note that the 'fit' method of FasterLogisticRegression converts given X and y to the \n",
    "required format. The rest of the code is slightly modified from the LogisticRegression\n",
    "class to account for 2-dimensional shapes of theta and y. Otherwise, th two classes are identical.\n",
    "'''\n",
    "\n",
    "class FasterLogisticRegression():\n",
    "    def __init__(self,alpha,max_iter,tolerance=1e-5):\n",
    "        self.alpha=alpha\n",
    "        self.tolerance=tolerance\n",
    "        self.max_iter=max_iter\n",
    "    def gradient(self,X,y,theta):\n",
    "        return -(y.T - sigmoid(X @ theta.T)).T @ X\n",
    "    def fit(self,X,y):\n",
    "        progress=[]\n",
    "        y=y.reshape((1,X.shape[0]))\n",
    "        X=np.hstack([X,np.ones((X.shape[0],1))])\n",
    "        self.theta=np.random.normal(loc=0,scale=1,size=X.shape[1]).reshape((1,X.shape[1]))\n",
    "        loss=compute_loss(X,y[0],self.theta[0])\n",
    "        while self.max_iter>=0 and loss>self.tolerance:\n",
    "            if self.max_iter%500==0:\n",
    "                loss=compute_loss(X,y[0],self.theta[0])\n",
    "                progress.append(loss)\n",
    "            self.theta-=self.alpha*self.gradient(X,y,self.theta)\n",
    "            self.max_iter-=1\n",
    "        return progress\n",
    "    def predict(self,X):\n",
    "        X=np.hstack([X,np.ones((X.shape[0],1))])\n",
    "        return [1 if sigmoid(np.dot(self.theta,X_i))>0.5 else 0 for X_i in X]\n",
    "    def proba(self,X):\n",
    "        X=np.hstack([X,np.ones((X.shape[0],1))])\n",
    "        return [sigmoid(np.dot(self.theta,X_i)) for X_i in X]"
   ]
  },
  {
   "cell_type": "code",
   "execution_count": 5,
   "metadata": {},
   "outputs": [],
   "source": [
    "'''\n",
    "Fit both LogisticRegression and FasterLogisticRegression with the learning\n",
    "rate of 0.01 and max_iter of 10,000. Time both models and report their\n",
    "training times. Comment on your findings.\n",
    "'''\n",
    "iterations=10000"
   ]
  },
  {
   "cell_type": "code",
   "execution_count": 6,
   "metadata": {},
   "outputs": [],
   "source": [
    "model=LogisticRegression(0.01,iterations)"
   ]
  },
  {
   "cell_type": "code",
   "execution_count": 7,
   "metadata": {},
   "outputs": [
    {
     "name": "stdout",
     "output_type": "stream",
     "text": [
      "The slowest run took 15376.13 times longer than the fastest. This could mean that an intermediate result is being cached.\n",
      "1.75 s ± 4.29 s per loop (mean ± std. dev. of 7 runs, 2 loops each)\n"
     ]
    }
   ],
   "source": [
    "%%timeit -n 2\n",
    "model.fit(train_X, train_y)"
   ]
  },
  {
   "cell_type": "code",
   "execution_count": 9,
   "metadata": {},
   "outputs": [],
   "source": [
    "fast_model=FasterLogisticRegression(0.01,iterations)"
   ]
  },
  {
   "cell_type": "code",
   "execution_count": 10,
   "metadata": {
    "scrolled": true
   },
   "outputs": [
    {
     "name": "stdout",
     "output_type": "stream",
     "text": [
      "The slowest run took 115.53 times longer than the fastest. This could mean that an intermediate result is being cached.\n",
      "13.7 ms ± 31.5 ms per loop (mean ± std. dev. of 7 runs, 2 loops each)\n"
     ]
    }
   ],
   "source": [
    "%%timeit -n 2\n",
    "fast_model.fit(train_X, train_y)"
   ]
  },
  {
   "cell_type": "markdown",
   "metadata": {},
   "source": [
    "The vector method takes 1.24s on average, whereas the matrix method takes 11.7 ms on average. As such, the vector method takes >100x longer than the matrix method!"
   ]
  },
  {
   "cell_type": "code",
   "execution_count": 29,
   "metadata": {},
   "outputs": [],
   "source": [
    "import matplotlib.pyplot as plt"
   ]
  },
  {
   "cell_type": "code",
   "execution_count": 30,
   "metadata": {},
   "outputs": [
    {
     "name": "stdout",
     "output_type": "stream",
     "text": [
      "Most important feature: trump\n",
      "Second most important feature: obamacare\n"
     ]
    }
   ],
   "source": [
    "# Part (c):\n",
    "\n",
    "'''\n",
    "Identify features corresponding to the two largest magnitude coefficients\n",
    "in your model.\n",
    "'''\n",
    "sort_idx = np.argsort(fast_model.theta)\n",
    "most_imp = features[sort_idx[0,-1]]\n",
    "sec_most_imp = features[sort_idx[0,-2]]\n",
    "print(f\"Most important feature: {most_imp}\")\n",
    "print(f\"Second most important feature: {sec_most_imp}\")"
   ]
  },
  {
   "cell_type": "code",
   "execution_count": 31,
   "metadata": {},
   "outputs": [
    {
     "data": {
      "text/plain": [
       "[<matplotlib.lines.Line2D at 0x11a1a1820>]"
      ]
     },
     "execution_count": 31,
     "metadata": {},
     "output_type": "execute_result"
    },
    {
     "data": {
      "image/png": "[encoded data removed]",
      "text/plain": [
       "<Figure size 1008x504 with 1 Axes>"
      ]
     },
     "metadata": {
      "needs_background": "light"
     },
     "output_type": "display_data"
    }
   ],
   "source": [
    "'''\n",
    "Project the training data onto these two features and produce a scatter\n",
    "plot. Further, draw a projection of the decision boundary onto this plane.\n",
    "Color points corresponding to positive target values in red and\n",
    "in blue otherwise. Do not acount for the intercept coefficient.\n",
    "'''\n",
    "plt.figure(figsize=(14, 7))\n",
    "proj_X = train_X[:, [sort_idx[0,-1], sort_idx[0,-2]]]\n",
    "colors = [ 'red' if y == 1 else 'blue' for y in train_y ]\n",
    "plt.scatter(proj_X[:,0], proj_X[:,1], color=colors)\n",
    "proj_theta = fast_model.theta[0, [sort_idx[0,-1], sort_idx[0,-2]]]\n",
    "x = np.arange(0, 1, 0.01)\n",
    "plt.plot(x, x * proj_theta[0] / proj_theta[1])"
   ]
  },
  {
   "cell_type": "code",
   "execution_count": 32,
   "metadata": {
    "scrolled": true
   },
   "outputs": [
    {
     "data": {
      "text/html": [
       "<div>\n",
       "<style scoped>\n",
       "    .dataframe tbody tr th:only-of-type {\n",
       "        vertical-align: middle;\n",
       "    }\n",
       "\n",
       "    .dataframe tbody tr th {\n",
       "        vertical-align: top;\n",
       "    }\n",
       "\n",
       "    .dataframe thead th {\n",
       "        text-align: right;\n",
       "    }\n",
       "</style>\n",
       "<table border=\"1\" class=\"dataframe\">\n",
       "  <thead>\n",
       "    <tr style=\"text-align: right;\">\n",
       "      <th></th>\n",
       "      <th>CA</th>\n",
       "      <th>DE</th>\n",
       "      <th>ID</th>\n",
       "      <th>IN</th>\n",
       "      <th>MI</th>\n",
       "      <th>MS</th>\n",
       "      <th>NV</th>\n",
       "      <th>NY</th>\n",
       "      <th>PA</th>\n",
       "      <th>RI</th>\n",
       "      <th>TN</th>\n",
       "      <th>UT</th>\n",
       "      <th>VT</th>\n",
       "    </tr>\n",
       "  </thead>\n",
       "  <tbody>\n",
       "    <tr>\n",
       "      <th>truth</th>\n",
       "      <td>0</td>\n",
       "      <td>0</td>\n",
       "      <td>1</td>\n",
       "      <td>1</td>\n",
       "      <td>1</td>\n",
       "      <td>1</td>\n",
       "      <td>0</td>\n",
       "      <td>0</td>\n",
       "      <td>1</td>\n",
       "      <td>0</td>\n",
       "      <td>1</td>\n",
       "      <td>1</td>\n",
       "      <td>0</td>\n",
       "    </tr>\n",
       "    <tr>\n",
       "      <th>predicted value</th>\n",
       "      <td>1</td>\n",
       "      <td>0</td>\n",
       "      <td>1</td>\n",
       "      <td>0</td>\n",
       "      <td>0</td>\n",
       "      <td>1</td>\n",
       "      <td>1</td>\n",
       "      <td>1</td>\n",
       "      <td>1</td>\n",
       "      <td>0</td>\n",
       "      <td>1</td>\n",
       "      <td>1</td>\n",
       "      <td>0</td>\n",
       "    </tr>\n",
       "    <tr>\n",
       "      <th>prediction correct?</th>\n",
       "      <td>0</td>\n",
       "      <td>1</td>\n",
       "      <td>1</td>\n",
       "      <td>0</td>\n",
       "      <td>0</td>\n",
       "      <td>1</td>\n",
       "      <td>0</td>\n",
       "      <td>0</td>\n",
       "      <td>1</td>\n",
       "      <td>1</td>\n",
       "      <td>1</td>\n",
       "      <td>1</td>\n",
       "      <td>1</td>\n",
       "    </tr>\n",
       "  </tbody>\n",
       "</table>\n",
       "</div>"
      ],
      "text/plain": [
       "                     CA  DE  ID  IN  MI  MS  NV  NY  PA  RI  TN  UT  VT\n",
       "truth                 0   0   1   1   1   1   0   0   1   0   1   1   0\n",
       "predicted value       1   0   1   0   0   1   1   1   1   0   1   1   0\n",
       "prediction correct?   0   1   1   0   0   1   0   0   1   1   1   1   1"
      ]
     },
     "metadata": {},
     "output_type": "display_data"
    }
   ],
   "source": [
    "# Part (d):\n",
    "\n",
    "'''\n",
    "Fetch test predictions from your logistic model and construct a table\n",
    "with the following rows: (a) ground truth, (b) predicted value,\n",
    "(c) prediction correct? Compare this to your results with trees and\n",
    "random forest in Question 4. Do mistakes of the logistic regression\n",
    "model correlate with difficulty (uncertainty) identified by the random forest?\n",
    "'''\n",
    "\n",
    "# TO DO\n",
    "preds = fast_model.predict(test_X)\n",
    "results = [[int(label),int(pred),int(not pred ^ label)] for pred, label in zip(preds, test_y) ]\n",
    "results_df = pd.DataFrame(results, columns = ['truth', 'predicted value', 'prediction correct?'], index=test.index)\n",
    "display(results_df.T)"
   ]
  },
  {
   "cell_type": "markdown",
   "metadata": {},
   "source": [
    "The mistakes of the logistic regression model do not correlate significantly with the difficulty identified by the random forest."
   ]
  }
 ],
 "metadata": {
  "hide_input": false,
  "kernelspec": {
   "display_name": "Python 3",
   "language": "python",
   "name": "python3"
  },
  "language_info": {
   "codemirror_mode": {
    "name": "ipython",
    "version": 3
   },
   "file_extension": ".py",
   "mimetype": "text/x-python",
   "name": "python",
   "nbconvert_exporter": "python",
   "pygments_lexer": "ipython3",
   "version": "3.8.2"
  }
 },
 "nbformat": 4,
 "nbformat_minor": 4
}
