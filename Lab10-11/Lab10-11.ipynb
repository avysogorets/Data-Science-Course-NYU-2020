{
 "cells": [
  {
   "cell_type": "markdown",
   "metadata": {},
   "source": [
    "# Introduction to Data Science, Lab 10-11 (11/18)\n",
    "- Naive Bayes: generic model and assumptions, examples (Gaussian, Multivariate Bernoulli, Multinomial);\n",
    "- Text classification pipeline for music genre prediction (tokenization, vectorization, modeling). \n",
    "\n",
    "## *Naive Bayes*\n",
    "Naive Bayes classifier consists of two parts: (1) Naive Bayes *generative* model (*generative* models approximate the conditional distribution $X|Y=y$ rather than $Y|X=x$ as in discriminative models) and (2) Naive Bayes classification rule. Given a data-generating distribition $(X,Y)\\sim P$ over $\\mathbb{R}^d\\times K$,  (1) models the conditional distribution $X|Y=y\\sim P_{\\theta}$ for some parameter $\\theta\\in\\Theta$ and computes the maximum likelihood estimator $\\hat{\\theta}=\\hat{\\theta}_{MLE}$ to obtain the approximate generative distribution $P_{\\hat{\\theta}}$. Then, (2) will classify all new inputs $x$ based on the maximum a-posteriori decision rule, i.e. by maximizing the class probability $p(y|X=x)$, which is calculated from $P_{\\hat{\\theta}}$.\n",
    "\n",
    "### *Naive Bayes Classification*\n",
    "Let us start by understanding (2)$-$the classification model. Assume the approximate conditional distribution for $X|Y=y\\sim P_{\\hat{\\theta}}$ is found using (1). One key assumption of Naive Bayes is that attributes of $X$ are *mutually independent* conditioned on $Y=y$ (random variables $Z_1,Z_2,\\ldots,Z_m$ are *mutually independent* if their cumulative distribution functions satisfy $F(z_1,z_2,\\ldots,z_m)=F_1(z_1)F(z_2)\\ldots F_m(z_m)$, which implies a similar identity for their probability mass functions or probability density functions when $Z_i$ are all discrete or all continuous, respectively). Then, applying Bayes rule, we have\n",
    "\n",
    "\\begin{align*}\n",
    "p(y|x_1,x_2,\\ldots,x_d)=\\frac{p(x_1,x_2,\\ldots,x_d|y)p(y)}{p(x_1,x_2,\\ldots,x_d)}\\propto p(x_1,x_2,\\ldots,x_d|y)p(y)=p(x_1|y)p(x_2|y)\\ldots p(x_d|y)p(y)=p(y)\\prod_{i=1}^{d}p(x_i|y)\n",
    "\\end{align*}\n",
    "\n",
    "where $(x_1,x_2,\\ldots,x_d)$ is conditioned on, so that $p(x_1,x_2,\\ldots,x_d)$ is just a constant.<br/>\n",
    "Question: What is $p$ here? If $X,Y$ are discrete, then $p$ simply denotes the appropriate marginal probability mass function, but what if $X$ is continuous? Why would the Bayes rule even hold when one variable is discrete and the other is continuous? Check out [this article](https://cpb-us-w2.wpmucdn.com/sites.gatech.edu/dist/2/436/files/2017/08/16_BayesRVs-su14.pdf).\n",
    "\n",
    "Note that $p(y)$ is the prior distribution on $Y$ (which can also be estimated as $\\hat{p}(y)$ using maximum likelihood estimation under an approprite distribution), while $p(x_i|y)$ can be computed using the conditional probability distribution $P_{\\hat{\\theta}}$ found in step (1), giving us the posterior $p(y|x_1,x_2,\\ldots,x_d)$. Then, (2) predicts $\\hat{y}=\\text{argmax}\\:p(\\hat{y}|x_1,x_2,\\ldots,x_d)$ to be the maximum a-posteriori estimator.\n",
    "\n",
    "### *Naive Bayes Generation*\n",
    "Finding the generative model (1) requires more assumptions; in partucular, we need to specify the family of parametric distributions $\\mathcal{P}=\\{P_{\\theta}\\colon\\theta\\in\\Theta\\}$ for $X|Y=y$. This choice is largely guided by the nature of $X$; for continuous-valued evidence, a common choice is the so-called *Gaussian Naive Bayes*, which assumes $X_j|Y=y\\sim\\mathcal{N}(\\mu_{jy},\\sigma_{jy}^2)$ for any $j\\in[d]$ (note that parameters $\\mu_{jy}$ and $\\sigma^2_{jy}$ are selected separately for every attribute-label pair). When each attribute $X_j$ of evidence $X$ is binary (as is the case for the standard text tokenization), one common model is *Bernoulli Naive Bayes*, which assumes $X_j|Y=y\\sim\\text{Bernoulli}(p_{jy})$. Let's derive the maximum likelihood estimators $\\hat{p}_{jy}$ for this model as an example.\n",
    "\n",
    "### *Example: Bernoulli NB*\n",
    "Let $\\mathcal{D}=\\{(x_1,y_1),(x_2,y_2),\\ldots,(x_n,y_n)\\}$ be samples from independent random variables $(X_i,Y_i)\\sim P$ satisfying the Bernoulli conditional model with a matrix of parameters $P$. The likelihood function is \n",
    "\n",
    "\\begin{align*}\n",
    "\\mathcal{L}(P|\\mathcal{D})=p_P(\\mathcal{D})&=\\prod_{i=1}^{n}p_{P_{y_i}}(x_i,y_i)=\\prod_{i=1}^{n}p_{P_{y_i}}(x_i|y_i)p(y_i)=\\prod_{i=1}^{n}p(y_i)\\prod_{j=1}^{d}p_{P_{jy_i}}(x_{ij}|y_i)=\\prod_{i=1}^{n}p(y_i)\\prod_{j=1}^{d}P_{jy_i}^{x_{ij}}(1-P_{jy_i})^{(1-x_{ij})}\\\\\n",
    "l(P)=\\log\\mathcal{L}(P|\\mathcal{D})&=\\sum_{i=1}^{n}\\log p(y_i)\\sum_{j=1}^{d}x_{ij}\\log P_{jy_i}+(1-x_{ij})\\log(1-P_{jy_i})=\\sum_{k=1}^{K}\\sum_{i\\in C_k}\\log p(Y=k)\\sum_{j=1}^{d}x_{ij}\\log P_{jk}+(1-x_{ij})\\log(1-P_{jk})\n",
    "\\end{align*}\n",
    "\n",
    "where we partitioned obsevations $y_i$ by their values, i.e. $C_k=\\{i\\in[n]\\colon y_i=k\\}$ for all response classes $k\\in K$. Now, taking the derivative with respect to $P_{jk}$, we have\n",
    "\n",
    "\\begin{align*}\n",
    "\\frac{\\partial l(P)}{\\partial P_{jk}}=p(Y=k)\\sum_{i\\in C_k}\\frac{x_{ij}}{P_{jk}}-\\frac{1-x_{ij}}{1-P_{jk}}=0\\:\\:\\:\\Longrightarrow\\:\\:\\:\\sum_{i\\in C_k}x_{ij}-x_{ij}P_{jk}-P_{jk}+x_{ij}P_{jk}=0\\:\\:\\:\\Longrightarrow\\:\\:\\:\\hat{P}_{jk}=\\frac{1}{|C_k|}\\sum_{i\\in C_k}x_{ij},\n",
    "\\end{align*}\n",
    "\n",
    "which is the fraction of samples from class $k$ having $1$ in their $J$-th attribute. Note that if, in the training data, a particular class $k\\in[K]$ never has $J$-th attribute, then $\\hat{P}_{Jk}=0$; this is a problem. To see why, assume we have an input instance $x$; its \"score\" for label $y$ from the classifier is $p(y|x)=p(y)\\prod_{i=1}^{n}p(x_i|y)$. Thus, no matter how well all attributes of $x$ predict the class to be $y$,  having $x_J=1$ will nullify the score. To avoid this problem, it is common to use *Laplace (add-one) smoothing* of estimates $\\hat{P}_{jk}$ by assuming\n",
    "\n",
    "$$\\hat{P}_{jk}=\\frac{1+\\sum_{i\\in C_k}x_{ij}}{2+|C_k|}\\:\\:\\:\\text{instead of}\\:\\:\\:\\hat{P}_{jk}=\\frac{\\sum_{i\\in C_k}x_{ij}}{|C_k|}$$\n",
    "\n",
    "In fact, the left estimator $\\hat{P}_{jk}$ above corresponds to the maximum likelihood estimator in the Bernoulli Naive Bayes with $\\bigcup_{k\\in[K]}\\left\\{\\left(\\bar{0},k\\right),\\left(\\bar{1},k\\right)\\right\\}$ appended to the training dataset $\\mathcal{D}$.\n",
    "\n",
    "In addition, modeling the response variable as $Y\\sim\\text{Multinoulli}(\\beta_1,\\beta_2,\\ldots,\\beta_K)$, we can obtain the maximum likelihood estimators $\\hat{\\beta}_1,\\hat{\\beta}_2,\\ldots,\\hat{\\beta}_K$. This will require invoking Lagrange multipliers since $\\sum_{k=1}^{K}\\beta_k=1$ is a necessary constraint. We omit the derivation but, as one might expect, $\\hat{\\beta}_k=n^{-1}\\sum_{i=1}^{n}(y_i=k)$, which is the share of all training documents belonging to $Y=k$.\n",
    "\n",
    "Finally, to exhibit the full modeling cycle, we show how the generative model fitted above is used at inference. Assume that $\\tilde{x}=(\\tilde{x_1},\\tilde{x}_2,\\ldots,\\tilde{x}_d)$ is an input sample. As noted before, the prediction label will maximize the posterior probability $\\hat{p}(y|\\tilde{x})=\\hat{p}_y(y)\\prod_{j=1}^{d}\\hat{p}_j(x_j|y)$. Thus, $\\hat{y}=\\text{argmax}_{k\\in[K]}\\hat{\\beta}_k\\prod_{j=1}^{d}\\hat{P}_{jk}^{x_j}(1-\\hat{P}_{jk})^{1-x_{j}}$\n",
    "\n",
    "### *Example: Multinomial NB*\n",
    "What if range of evidence $X$ is non-binary but still discrete (e.g., the bag-of-words vectorization)? In this case, it is common to use a *Multinomial Naive Bayes* model. One might assume that, under this model, $X|Y=y\\sim \\text{Multinomial}(N,\\Theta)$ with $\\Theta_{yj}$ denoting the probability of $j$-th attribute appearing in an evidence sample $x$ given $Y=y$. However, multinomial distribution requires parameter $N$, which models the number of $\\text{Multinoulli}(\\theta_{1y},\\theta_{2y},\\ldots,\\theta_{dy})$ drawn to compose instance $x$. In practice, we rarely can afford to assume that $N$ should be fixed in our conditional model for $X|Y=y$. Think about text classification problem: each $\\text{Multinoulli}(\\theta_{1y},\\theta_{2y},\\ldots,\\theta_{dy})$ sample corresponds to a word placeholder in text $x$ from class $Y=y$, which is then populated with a particular term (attribute) from the vocabulary. In this sense, $N$ satnds for the number of words in the document. Thus, letting $X|Y=y\\sim\\text{Multinomial}(N,\\Theta)$ will require that all documents in our text corpus must have length $N-$an impractical assumption. Therefore, $X|Y=y$ can't follow a Multinomial distribution in a strict sense, contrary to the name of the model.\n",
    "\n",
    "You will find that people all over the web never specify the model for $X|Y=y$ explicitly, which I suspect is exactly for the above reason. Instead, in order to estimate $\\Theta$, they jump straight into writing out the likelihood for this model as\n",
    "\n",
    "\\begin{align*}\n",
    "\\mathcal{L}(\\Theta|\\mathcal{D})=p_{\\Theta}(\\mathcal{D})=\\prod_{i=1}^{n}p(y_i)p_{\\Theta}(x_i|y_i)=\\prod_{i=1}^{n}\\frac{\\left(\\sum_{j=1}^{d}x_{ij}\\right)!}{\\prod_{j=1}^{d}x_{ij}!}\\prod_{j=1}^{d}\\theta_{jy}^{x_{ij}},\n",
    "\\end{align*}\n",
    "\n",
    "where $x_{ij}$ is the $j$-th attribute of sample $x_i$. This formula, however, cannot be derived unless a specific model for $X|Y=y$ is assumed. \n",
    "\n",
    "Let's attempt to define the Multinomial Naive Bayes precisely. It is natural to adopt a Bayesian framework (i.e., let the parameter $N$ from the Multinomial distribution be itself a random variable) and put $N\\sim P_N$ for some discrete prior distribution $P_N$ and, finally, $X|Y=y,N=n\\sim\\text{Multinoulli}(n,\\Theta)$; moreover, let $N$ be independent of $Y$. In this case, we implicitly define $X|Y=y$, which can be otained by marginalizing over $N$. Thus, we can write\n",
    "\n",
    "\\begin{align*}\n",
    "\\mathcal{L}(\\mathcal{D}|\\Theta)=p_{\\Theta}(\\mathcal{D})&=\\prod_{i=1}^{n}p_{\\Theta}(x_i,y_i)=\\prod_{i=1}^{n}\\sum_{\\tilde{n}\\in\\mathcal{N}}p_{\\Theta}(x_i,y_i,\\tilde{n})=\\prod_{i=1}^{n}\\sum_{\\tilde{n}\\in\\mathcal{N}}p_{\\Theta}(x_i|y_i,\\tilde{n})p(y_i,\\tilde{n})\\\\\n",
    "&=\\prod_{i=1}^{n}\\sum_{\\tilde{n}\\in\\mathcal{N}}p_{\\Theta}(x_i|y_i,\\tilde{n})p(\\tilde{n})p(y_i)=\\prod_{i=1}^{n}p(y_i)P_N\\left(\\textstyle\\sum_{j=1}^{d}x_{ij}\\right)\\frac{\\left(\\sum_{j=1}^{d}x_{ij}\\right)!}{\\prod_{j=1}^{d}x_{ij}!}\\prod_{j=1}^{d}\\theta_{jy}^{x_{ij}}\n",
    "\\end{align*}\n",
    "\n",
    "where $\\mathcal{N}$ is the discrete range of $N$. The last equality above holds because $p(x_i|y_i,\\tilde{n},\\Theta)=0$ unless $\\tilde{n}=\\sum_{j=1}^{d}x_{ij}$. Now, we derive maximum likelihood estimators $\\hat{\\Theta}_{jk}$ for all $j\\in[d],k\\in[K]$. The log-likelihood function is\n",
    "\n",
    "\\begin{align*}\n",
    "l(\\Theta)=\\log\\mathcal{L}(\\Theta)&=\\sum_{i=1}^{n}\\log p(y_i)+\\log P_N\\left(\\textstyle\\sum_{j=1}^{d}x_{ij}\\right)!+\\log\\left(\\textstyle\\sum_{j=1}^{d}x_{ij}\\right)!-\\log\\prod_{j=1}^{d}x_{ij}!+\\sum_{j=1}^{d}x_{ij}\\log\\theta_{jy_i}\\\\\n",
    "&=\\sum_{k=1}^{K}\\sum_{i\\in C_k}\\log p(Y=k)+\\log P_N\\left(\\textstyle\\sum_{j=1}^{d}x_{ij}\\right)!+\\log\\left(\\textstyle\\sum_{j=1}^{d}x_{ij}\\right)!-\\log\\prod_{j=1}^{d}x_{ij}!+\\sum_{j=1}^{d}x_{ij}\\log\\theta_{jk}\\propto\\sum_{k=1}^{K}\\sum_{i\\in C_k}\\sum_{j=1}^{d}x_{ij}\\log\\theta_{jk}\n",
    "\\end{align*}\n",
    "\n",
    "when we define $C_k=\\{i\\in[n]\\colon y_i=k\\}$ for all $k\\in[K]$. Now, recall that ther is a constraint on $\\Theta$; indeed, the Multinomial distribution requires that, for all $k\\in[K]$, we have $\\sum_{j=1}^{d}\\theta_{jk}=1$ as these parameters are probabilities corresponding to individual attributes in the context of the underlying Multinoulli distribution. Thus, we need to solve the following constrained maximization problem:\n",
    "\n",
    "\\begin{align*}\n",
    "\\max_{\\Theta}\\sum_{k=1}^{K}\\sum_{i\\in C_k}\\sum_{j=1}^{d}x_{ij}\\log\\theta_{jk}\\:\\:\\:\\:\\text{subject to}\\:\\:\\:\\:\\sum_{j=1}^{d}\\theta_{jk}=1,\\:\\:\\theta_{jk}\\geq 0\\:\\:\\:\\text{for all}\\:k\\in[K].\n",
    "\\end{align*}\n",
    "\n",
    "One standard way to obtain solution $\\hat{\\theta}_{MLE}$ is to apply Lagrange multiliers; however, we will demonstrate a different approach. In particular, we let $\\theta_{dk}=1-\\sum_{j=1}^{d-1}\\theta_{jk}$. We then have\n",
    "\n",
    "\\begin{align*}\n",
    "l(\\Theta)&=\\sum_{k=1}^{K}\\sum_{i\\in C_k}\\sum_{j=1}^{d}x_{ij}\\log\\theta_{jk}=\\sum_{k=1}^{K}\\sum_{i\\in C_k}\\left[x_{id}\\log\\left(1-\\textstyle\\sum_{j=1}^{d-1}\\theta_{jk}\\right)+\\sum_{j=1}^{d-1}x_{ij}\\log\\theta_{jk}\\right],\\\\\n",
    "\\frac{\\partial l(\\Theta)}{\\partial\\theta_{jk}}&=\\sum_{i\\in C_k}\\frac{x_{ij}}{\\theta_{jk}}-\\frac{x_{id}}{1-\\sum_{j=1}^{d-1}\\theta_{jk}}=0\\:\\:\\:\\Longrightarrow\\:\\:\\:\\frac{\\sum_{i\\in C_k}x_{ij}}{\\theta_{jk}}=\\frac{\\sum_{i\\in C_k}x_{id}}{\\theta_{dk}}\\:\\:\\:\\Longrightarrow\\:\\:\\:\\theta_{jk}=\\frac{\\theta_{dk}\\sum_{i\\in C_k}x_{ij}}{\\sum_{i\\in C_k}x_{id}}\\:\\:\\:\\text{for all}\\:j\\in[d-1].\n",
    "\\end{align*}\n",
    "\n",
    "Now, plug the above solution into $\\sum_{j=1}^{d}\\theta_{jk}=1$; we get\n",
    "\n",
    "\\begin{align*}\n",
    "1=\\sum_{j=1}^{d}\\theta_{jk}=\\frac{\\theta_{dk}\\sum_{j=1}^{d-1}\\sum_{i\\in C_k}x_{ij}}{\\sum_{i\\in C_k}x_{id}}+\\theta_{dk}=\\frac{\\theta_{dk}\\sum_{j=1}^{d}\\sum_{i\\in C_k}x_{ij}}{\\sum_{i\\in C_k}x_{id}}\\:\\:\\:\\Longrightarrow\\:\\:\\:\\theta_{dk}=\\frac{\\sum_{i\\in C_k}x_{id}}{\\sum_{j=1}^{d}\\sum_{i\\in C_k}x_{ij}}\n",
    "\\end{align*}\n",
    "\n",
    "Finally, plugging this back in the expression for $\\theta_{jk}$ obtained above, we have that for all $j\\in[d]$ and $k\\in[K]$,\n",
    "\n",
    "\n",
    "\\begin{align*}\n",
    "\\hat{\\theta}_{jk}=\\frac{\\theta_{dk}\\sum_{i\\in C_k}x_{ij}}{\\sum_{i\\in C_k}x_{id}}\\:\\:\\:=\\frac{\\sum_{i\\in C_k}x_{ij}}{\\sum_{j=1}^{d}\\sum_{i\\in C_k}x_{ij}}=\\frac{\\text{sum of $j$-th attributes across all samples from class $k$}}{\\text{sum of all attributes across all samples from class $k$}}\n",
    "\\end{align*}\n",
    "\n",
    "Smoothing is usually applied to these estimators as well to avoid the problem of the propagating zero probability ($\\alpha$ is added to the numerator and $d\\alpha$ is added to the denominator; $\\alpha$ defaults to $1$ in ```scikit-learn```). Smoothing with $\\alpha=1$ is called *Laplace* or (*add-one*), while $\\alpha<1$ corresponds to Lidstone smooting.\n",
    "\n",
    "## *Vocabulary Vectorization*\n",
    "Before we talk about more basic text preprocessing (e.g., text tokenization, decapitalization, stemming, stop words, etc.), let's assume we are at the vectorization stage of a known vocabulary $V$. Any vectorization method outputs some $|\\mathcal{D}|\\times|V|$ matrix $M$. As was discussed in the lecture, there are three most common vectorization techniques:\n",
    "\n",
    " 1. *Binary*: $M_{ij}=1$ if document $x_i$ contains token $V_j$ and $0$ otherwise. This is the most basic and least used vectorization method, which works well with the Bernoulli Naive Bayes model;\n",
    " 2. *Counts* (bag-of-words): $M_{ij}$ is the number of occurences of token $V_j$ in document $x_i$. Since $M$ is non-binary under this vectorization, Bernoulli Naive Bayes does not apply; however, Multinomial Naive Bayes will serve its purpose;\n",
    " 3. *TF-IDF (term frequency & inverse document frequency)*: $M_{ij}=\\text{tf}_{ij}\\log\\text{idf}_j$, where $\\text{tf}_{ij}$ is the frequency of token $V_j$ in document $x_i$ (the number of occurences of $V_j$ in $x_i$ divided by the size of $x_i$), while $\\text{idf}_j$ is the inverse ratio of the number of documents containing at least one occurence of $V_j$ to the total number of documents $|\\mathcal{D}|$. Put together, we have\n",
    " \n",
    " \\begin{align*}\n",
    " M_{ij}=\\frac{\\sum_{m=1}^{d}(x_{im}=V_j)}{\\sum_{m=1}^{d}(x_{im}>0)}\\left(\\log|\\mathcal{D}|-\\log\\sum_{i=1}^{n}(V_j\\in x_i)\\right)\n",
    " \\end{align*}\n",
    " \n",
    " Which Naive Bayes model should we use under this vectorization? One might expect that among the three models we discussed earlier only Gaussian Naive Bayes fit the continuous valued training data as supplied by the TF-IDF vectorization. However, it is in fact more common to still use Multinomial Naive Bayes. \n",
    " \n",
    " Will we have any problems during training or inference? Maximum likelihood estimators $\\hat{\\theta}_{jk}$ can be computed even from continious-values attributes. At inference, however, one needs to compute posterior probabilities $p(y|x)\\propto p(x|y)p(y)$ where multinomial conditional probability $p(x|y)$ involves factorials $x_{ij}!$, which are not defined for non-integer $x_{ij}$. However, note that these factorials are the same for all $y\\in[K]$, so dropping them from the formula for $p(x|y)$ will not affect the prediction. Thus, we are left with $p(y|x)\\propto \\prod_{j=1}^{d}\\hat{\\theta}^{x_j}_{jy}$, which is well defined for continuous inputs.\n",
    " \n",
    "## *Text Tokenization and Preprocessing*"
   ]
  },
  {
   "cell_type": "code",
   "execution_count": 1,
   "metadata": {},
   "outputs": [],
   "source": [
    "import matplotlib.pyplot as plt\n",
    "import pandas as pd\n",
    "import numpy as np\n",
    "import nltk\n",
    "import math"
   ]
  },
  {
   "cell_type": "code",
   "execution_count": 2,
   "metadata": {},
   "outputs": [
    {
     "data": {
      "text/html": [
       "<div>\n",
       "<style scoped>\n",
       "    .dataframe tbody tr th:only-of-type {\n",
       "        vertical-align: middle;\n",
       "    }\n",
       "\n",
       "    .dataframe tbody tr th {\n",
       "        vertical-align: top;\n",
       "    }\n",
       "\n",
       "    .dataframe thead th {\n",
       "        text-align: right;\n",
       "    }\n",
       "</style>\n",
       "<table border=\"1\" class=\"dataframe\">\n",
       "  <thead>\n",
       "    <tr style=\"text-align: right;\">\n",
       "      <th></th>\n",
       "      <th>ALink</th>\n",
       "      <th>SName</th>\n",
       "      <th>SLink</th>\n",
       "      <th>Lyric</th>\n",
       "      <th>Idiom</th>\n",
       "    </tr>\n",
       "  </thead>\n",
       "  <tbody>\n",
       "    <tr>\n",
       "      <th>27709</th>\n",
       "      <td>/janis-joplin/</td>\n",
       "      <td>Kozmic Blues</td>\n",
       "      <td>/janis-joplin/kozmic-blues.html</td>\n",
       "      <td>Time keeps movin' on,. Friends they turn away....</td>\n",
       "      <td>ENGLISH</td>\n",
       "    </tr>\n",
       "    <tr>\n",
       "      <th>162022</th>\n",
       "      <td>/duduca-e-dalvan/</td>\n",
       "      <td>Tribunal de Deus</td>\n",
       "      <td>/duduca-e-dalvan/tribunal-de-deus.html</td>\n",
       "      <td>Além da vida, desta vida de engano. Há um trib...</td>\n",
       "      <td>PORTUGUESE</td>\n",
       "    </tr>\n",
       "    <tr>\n",
       "      <th>18942</th>\n",
       "      <td>/elvis-presley/</td>\n",
       "      <td>I've Got to Find My Baby</td>\n",
       "      <td>/elvis-presley/ive-got-to-find-my-baby.html</td>\n",
       "      <td>(Words &amp; music by J. Byers). I've got to find ...</td>\n",
       "      <td>ENGLISH</td>\n",
       "    </tr>\n",
       "  </tbody>\n",
       "</table>\n",
       "</div>"
      ],
      "text/plain": [
       "                    ALink                     SName  \\\n",
       "27709      /janis-joplin/              Kozmic Blues   \n",
       "162022  /duduca-e-dalvan/          Tribunal de Deus   \n",
       "18942     /elvis-presley/  I've Got to Find My Baby   \n",
       "\n",
       "                                              SLink  \\\n",
       "27709               /janis-joplin/kozmic-blues.html   \n",
       "162022       /duduca-e-dalvan/tribunal-de-deus.html   \n",
       "18942   /elvis-presley/ive-got-to-find-my-baby.html   \n",
       "\n",
       "                                                    Lyric       Idiom  \n",
       "27709   Time keeps movin' on,. Friends they turn away....     ENGLISH  \n",
       "162022  Além da vida, desta vida de engano. Há um trib...  PORTUGUESE  \n",
       "18942   (Words & music by J. Byers). I've got to find ...     ENGLISH  "
      ]
     },
     "metadata": {},
     "output_type": "display_data"
    },
    {
     "data": {
      "text/html": [
       "<div>\n",
       "<style scoped>\n",
       "    .dataframe tbody tr th:only-of-type {\n",
       "        vertical-align: middle;\n",
       "    }\n",
       "\n",
       "    .dataframe tbody tr th {\n",
       "        vertical-align: top;\n",
       "    }\n",
       "\n",
       "    .dataframe thead th {\n",
       "        text-align: right;\n",
       "    }\n",
       "</style>\n",
       "<table border=\"1\" class=\"dataframe\">\n",
       "  <thead>\n",
       "    <tr style=\"text-align: right;\">\n",
       "      <th></th>\n",
       "      <th>Artist</th>\n",
       "      <th>Songs</th>\n",
       "      <th>Popularity</th>\n",
       "      <th>Link</th>\n",
       "      <th>Genre</th>\n",
       "      <th>Genres</th>\n",
       "    </tr>\n",
       "  </thead>\n",
       "  <tbody>\n",
       "    <tr>\n",
       "      <th>2997</th>\n",
       "      <td>Ojay</td>\n",
       "      <td>6</td>\n",
       "      <td>0.0</td>\n",
       "      <td>/ojay/</td>\n",
       "      <td>Hip Hop</td>\n",
       "      <td>Kizomba; Jazz; Hip Hop</td>\n",
       "    </tr>\n",
       "    <tr>\n",
       "      <th>2979</th>\n",
       "      <td>MC DALLUZ</td>\n",
       "      <td>1</td>\n",
       "      <td>0.0</td>\n",
       "      <td>/mc-dalluz/</td>\n",
       "      <td>Hip Hop</td>\n",
       "      <td>Trip-Hop; Reggae; Hip Hop</td>\n",
       "    </tr>\n",
       "    <tr>\n",
       "      <th>2293</th>\n",
       "      <td>Henzock</td>\n",
       "      <td>6</td>\n",
       "      <td>0.0</td>\n",
       "      <td>/henzock/</td>\n",
       "      <td>Hip Hop</td>\n",
       "      <td>Rap; Hip Hop</td>\n",
       "    </tr>\n",
       "  </tbody>\n",
       "</table>\n",
       "</div>"
      ],
      "text/plain": [
       "         Artist  Songs  Popularity         Link    Genre  \\\n",
       "2997       Ojay      6         0.0       /ojay/  Hip Hop   \n",
       "2979  MC DALLUZ      1         0.0  /mc-dalluz/  Hip Hop   \n",
       "2293    Henzock      6         0.0    /henzock/  Hip Hop   \n",
       "\n",
       "                         Genres  \n",
       "2997     Kizomba; Jazz; Hip Hop  \n",
       "2979  Trip-Hop; Reggae; Hip Hop  \n",
       "2293               Rap; Hip Hop  "
      ]
     },
     "metadata": {},
     "output_type": "display_data"
    }
   ],
   "source": [
    "# Load the data and sample rows:\n",
    "lyrics=pd.read_csv('lyrics-data.csv')\n",
    "artists=pd.read_csv('artists-data.csv')\n",
    "lyrics.dropna(axis=0,inplace=True)\n",
    "artists.dropna(axis=0,inplace=True)\n",
    "display(lyrics.sample(3))\n",
    "display(artists.sample(3))"
   ]
  },
  {
   "cell_type": "code",
   "execution_count": 3,
   "metadata": {},
   "outputs": [],
   "source": [
    "# Basic ad-hoc preprocessing of artists: \n",
    "artists=artists.applymap(lambda x: x.lower() if type(x)==str else x)\n",
    "artists[\"Genres\"]=artists[\"Genres\"].apply(lambda x: x.split(\"; \"))\n",
    "artists=artists[artists[\"Popularity\"]>5]"
   ]
  },
  {
   "cell_type": "code",
   "execution_count": 4,
   "metadata": {},
   "outputs": [],
   "source": [
    "# Basic ad-hoc preprocessing of lyrics:\n",
    "lyrics=lyrics[lyrics[\"Idiom\"]==\"ENGLISH\"]\n",
    "lyrics[\"ALink\"]=lyrics[\"ALink\"].apply(lambda x: x.replace('/',''))\n",
    "lyrics=lyrics.applymap(lambda x: x.lower() if type(x)==str else x)\n",
    "lyrics[\"Lyric\"]=lyrics[\"Lyric\"].apply(lambda x: x.split(' '))"
   ]
  },
  {
   "cell_type": "code",
   "execution_count": 5,
   "metadata": {},
   "outputs": [
    {
     "name": "stdout",
     "output_type": "stream",
     "text": [
      "beautiful \n",
      "\n",
      "in the flesh?. \"....we came in?\". so ya. thought ya. might like to go to the show.. to feel the warm thrill of confusion. that space cadet glow.. tell me is something eluding you, sunshine?. is this not what you expected to see?. if you wanna find out what's behind these cold eyes. you'll just have to claw your way through this disguise.. \"lights! turn on the sound effects! action!\". \"drop it, drop it on 'em! drop it on them!!!!!\". the thin ice. momma loves her baby. and daddy loves you too.. and the sea may look warm to you babe. and the sky may look blue. but ooooh baby. ooooh baby blue. oooooh babe.. if you should go skating. on the thin ice of modern life. dragging behind you the silent reproach. of a million tear-stained eyes. don't be surprised when a crack in the ice. appears under your feet.. you slip out of your depth and out of your mind. with your fear flowing out behind you. as you claw the thin ice.. another brick in the wall (part 1). daddy's flown across the ocean. leaving just a memory. snapshot in the family album. daddy what else did you leave for me?. daddy, what'd'ja leave behind for me?!?. all in all it was just a brick in the wall.. all in all it was all just bricks in the wall.. \"you! yes, you! stand still laddy!\". the happiest days of our lives. when we grew up and went to school. there were certain teachers who would. hurt the children in any way they could. \"oof!\". by pouring their derision. upon anything we did. and exposing every weakness. however carefully hidden by the kids. but in the town, it was well known. when they got home at night, their fat and. psychopathic wives would thrash them. within inches of their lives.. another brick in the wall (part 2). we don't need no education. we dont need no thought control. no dark sarcasm in the classroom. teachers leave them kids alone. hey! teachers! leave them kids alone!. all in all it's just another brick in the wall.. all in all you're just another brick in the wall.. we don't need no education. we dont need no thought control. no dark sarcasm in the classroom. teachers leave them kids alone. hey! teachers! leave them kids alone!. all in all it's just another brick in the wall.. all in all you're just another brick in the wall.. \"wrong, do it again!\". \"if you don't eat yer meat, you can't have any pudding. how can you. have any pudding if you don't eat yer meat?\". \"you! yes, you behind the bikesheds, stand still laddy!\". mother. mother do you think they'll drop the bomb?. mother do you think they'll like this song?. mother do you think they'll try to break my balls?. mother should i build the wall?. mother should i run for president?. mother should i trust the government?. mother will they put me in the firing line?. mother is it just a waste of time?. hush now baby, baby, dont you cry.. mother's gonna make all your nightmares come true.. mother's gonna put all her fears into you.. mother's gonna keep you right here under her wing.. she wont let you fly, but she might let you sing.. mama will keep baby cozy and warm.. ooooh baby ooooh baby oooooh baby,. of course mama'll help to build the wall.. mother do you think she's good enough -- to me?. mother do you think she's dangerous -- to me?. mother will she tear your little boy apart?. mother will she break my heart?. hush now baby, baby dont you cry.. mama's gonna check out all your girlfriends for you.. mama wont let anyone dirty get through.. mama's gonna wait up until you get in.. mama will always find out where you've been.. mama's gonna keep baby healthy and clean.. ooooh baby oooh baby oooh baby,. you'll always be baby to me.. mother, did it need to be so high?. goodbye blue sky. \"look mummy, there's an aeroplane up in the sky\". did you see the frightened ones?. did you hear the falling bombs?. did you ever wonder why we had to run for shelter when the. promise of a brave new world unfurled beneath a clear blue sky?. did you see the frightened ones?. did you hear the falling bombs?. the flames are all gone, but the pain lingers on.. goodbye, blue sky. goodbye, blue sky.. goodbye.. goodbye.. goodbye.. \"the 11:15 from newcastle is now approaching\". \"the 11:18 arrival....\". empty spaces. what shall we use. to fill the empty spaces. where we used to talk?. how shall i fill. the final places?. how can i complete the wall. young lust. i am just a new boy,. stranger in this town.. where are all the good times?. who's gonna show this stranger around?. ooooh, i need a dirty woman.. ooooh, i need a dirty girl.. will some cold woman in this desert land. make me feel like a real man?. take this rock and roll refugee. oooh, baby set me free.. ooooh, i need a dirty woman.. ooooh, i need a dirty girl.. [phone rings..clunk of receiver being lifted]. \"hello..?\". \"yes, a collect call for mrs. floyd from mr. floyd.. will you accept the charges from united states?\". [clunk! of phone being put down]. \"oh, he hung up! that's your residence, right? i wonder why he hung up?. is there supposed to be someone else there besides your wife there to answer?\". [phone rings again...clunk of receiver being picked up]. \"hello?\". \"this is united states calling, are we reaching...\". [interrupted by phone being put down]. \"see he keeps hanging up, and it's a man answering.\". [whirr of connection being closed]. one of my turns. \"oh my god! what a fabulous room! are all these your guitars?\". \"this place is bigger than our apartment!\". \"erm, can i get a drink of water?\". \"you want some, huh?\". \"oh wow, look at this tub? do you wanna take baaaath?\". \"what are watching?\". \"hello?\". \"are you feeling okay?...\". day after day, love turns grey. like the skin of a dying man.. night after night, we pretend its all right. but i have grown older and. you have grown colder and. nothing is very much fun any more.. and i can feel one of my turns coming on.. i feel cold as a razor blade,. tight as a tourniquet,. dry as a funeral drum.. run to the bedroom,. in the suitcase on the left. you'll find my favorite axe.. don't look so frightened. this is just a passing phase,. one of my bad days.. would you like to watch t.v.?. or get between the sheets?. or contemplate the silent freeway?. would you like something to eat?. would you like to learn to fly?. would'ya?. would you like to see me try?. would you like to call the cops?. do you think it's time i stopped?. why are you running away?. don't leave me now. ooooh, babe. don't leave me now.. don't say it's the end of the road.. remember the flowers i sent.. i need you, babe. to put through the shredder. in front of my friends. ooooh babe.. dont leave me now.. how could you go?. when you know how i need you. to beat to a pulp on a saturday night. ooooh babe.. how could you treat me this way?. running away.. i need you, babe. why are you running away?. oooooh babe!. another brick in the wall (part 3). [sound of many tv's coming on, all on different channels]. \"the bulls are already out there\". pink: \"aaaaaaaaaaaaaaaaaaaaaaaarrrrrgh!\". \"this roman meal bakery thought you'd like to know.\". i don't need no arms around me. and i dont need no drugs to calm me.. i have seen the writing on the wall.. don't think i need anything at all.. no! don't think i'll need anything at all.. all in all it was all just bricks in the wall.. all in all you were all just bricks in the wall.. goodbye cruel world. goodbye cruel world,. i'm leaving you today.. goodbye,. goodbye,. goodbye.. goodbye, all you people,. there's nothing you can say. to make me change my mind.. goodbye.. hey you. hey you, out there in the cold. getting lonely, getting old. can you feel me?. hey you, standing in the aisles. with itchy feet and fading smiles. can you feel me?. hey you, dont help them to bury the light. don't give in without a fight.. hey you, out there on your own. sitting naked by the phone. would you touch me?. hey you, with you ear against the wall. waiting for someone to call out. would you touch me?. hey you, would you help me to carry the stone?. open your heart, i'm coming home.. but it was only fantasy.. the wall was too high,. as you can see.. no matter how he tried,. he could not break free.. and the worms ate into his brainhey you, standing in the road. always doing what you're told,. can you help me?. hey you, out there beyond the wall,. breaking bottles in the hall,. can you help me?. hey you, don't tell me there's no hope at all. together we stand, divided we fall.. [click of tv being turned on]. \"well, only got an hour of daylight left. better get started\". \"isnt it unsafe to travel at night?\". \"it'll be a lot less safe to stay here. your father's gunna pick up our trail before long\". \"can loca ride?\". \"yeah, i can ride... magaret, time to go! maigret, thank you for everything\". \"goodbye chenga\". \"goodbye miss ...\". \"i'll be back\". is there anybody out there?. is there anybody out there?. is there anybody out there?. is there anybody out there?. is there anybody out there?. nobody home. \"alright, i'll take care of them part of the time, but there's somebody else that needs taking care of in washington\". \"who's that?\". \"rose pilchitt!\". \"rose pilchitt? who's that?\". [kid screams in background. foreground: \"shut up!\"]. \"36-24-36 ... does that answer your question?\". [foreground: \"oi! i've got a little black book with me poems in!\"]. \"who's she?\". \"she was 'miss armoured division' in 1961 ... \". i've got a little black book with my poems in.. got a bag with a toothbrush and a comb in.. when i'm a good dog, they sometimes throw me a bone in.. i got elastic bands keepin my shoes on.. got those swollen hand blues.. got thirteen channels of shit on the t.v. to choose from.. i've got electric light.. and i've got second sight.. and amazing powers of observation.. and that is how i know. when i try to get through. on the telephone to you. there'll be nobody home.. i've got the obligatory hendrix perm.. and the inevitable pinhole burns. all down the front of my favorite satin shirt.. i've got nicotine stains on my fingers.. i've got a silver spoon on a chain.. i've got a grand piano to prop up my mortal remains.. i've got wild staring eyes.. and i've got a strong urge to fly.. but i got nowhere to fly to.. ooooh, babe when i pick up the phone. \"surprise, surprise, surprise...\". there's still nobody home.. i've got a pair of gohills boots. and i got fading roots.. \"where the hell are you?\". \"over 47 german planes were destroyed with the loss of only 15 of our own aircraft\". \"where the hell are you simon?\". [machine gun sound, followed by plane crashing]. vera. does anybody here remember vera lynn?. remember how she said that. we would meet again. some sunny day?. vera! vera!. what has become of you?. does anybody else here. feel the way i do?. bring the boys back home. bring the boys back home.. bring the boys back home.. don't leave the children on their own, no, no.. bring the boys back home.. \"wrong! do it again!\". \"time to go!\". [knock, knock, knock, knock]. \"are you feeling okay?\". \"there's a man answering, but he keeps hanging up!\". is there anybody out there?. comfortably numb. hello?. is there anybody in there?. just nod if you can hear me.. is there anyone at home?. come on, now,. i hear you're feeling down.. well i can ease your pain. get you on your feet again.. relax.. i'll need some information first.. just the basic facts.. can you show me where it hurts?. there is no pain you are receding. a distant ship, smoke on the horizon.. you are only coming through in waves.. your lips move but i can't hear what you're saying.. when i was a child i had a fever. my hands felt just like two balloons.. now i've got that feeling once again. i can't explain you would not understand. this is not how i am.. i have become comfortably numb.. o.k.. just a little pinprick.. there'll be no more aaaaaaaaah!. but you may feel a little sick.. can you stand up?. i do believe it's woring, good.. that'll keep you going through the show. come on it's time to go.. there is no pain you are receding. a distant ship, smoke on the horizon.. you are only coming through in waves.. your lips move but i can't hear what you're saying.. when i was a child. i caught a fleeting glimpse. out of the corner of my eye.. i turned to look but it was gone. i cannot put my finger on it now. the child is grown,. the dream is gone.. i have become comfortably numb.. the show must go on. ooooh, ma, oooh pa. must the show go on?. ooooh, pa. take me home. ooooh, ma. let me go. there must be some mistake. i didnt mean to let them. take away my soul.. am i too old, is it too late?. ooooh, ma, ooooh pa,. where has the feeling gone?. ooooh, ma, ooooh pa,. will i remember the songs?. the show must go on.. in the flesh. so ya. thought ya. might like to. go to the show.. to feel that warm thrill of confusion,. that space cadet glow.. i've got some bad news for you sunshine,. pink isn't well, he stayed back at the hotel. and they sent us along as a surrogate band. we're gonna find out where you folks really stand.. are there any queers in the theater tonight?. get them up against the wall!. there's one in the spotlight, he don't look right to me,. get him up against the wall!. that one looks jewish!. and that one's a coon!. who let all of this riff-raff into the room?. there's one smoking a joint,. and another with spots!. if i had my way,. i'd have all of you shot!. run like hell. \"pink floyd, pink floyd\". run, run, run, run, run, run, run, run,. run, run, run, run, run, run, run, run.. you better make your face up in. your favorite disguise.. with your button down lips and your. roller blind eyes.. with your empty smile. and your hungry heart.. feel the bile rising from your guilty past.. with your nerves in tatters. when the conchshell shatters. and the hammers batter. down the door.. you'd better run.. run, run, run, run, run, run, run, run,. run, run, run, run, run, run, run, run.. you better sleep all day. and run all night.. keep your dirty feelings. deep inside.. and if you're taking your girlfriend. out tonight. you'd better park the car. well out of sight.. cause if they catch you in the back seat. trying to pick her locks,. they're gonna send you back to mother. in a cardboard box.. you better run.. \"hey, open up! hahahahahaaaaaaaaaa!\". \"hammer, hammer\". waiting for the worms. \"ein, zwei, drei, alle!\". ooooh, you cannot reach me now. ooooh, no matter how you try. goodbye, cruel world, it's over. walk on by.. sitting in a bunker here behind my wall. waiting for the worms to come.. in perfect isolation here behind my wall. waiting for the worms to come.. we're {waiting to succeed} and going to convene outside brixton. town hall where we're going to be.... waiting to cut out the deadwood.. waiting to clean up the city.. waiting to follow the worms.. waiting to put on a black shirt.. waiting to weed out the weaklings.. waiting to smash in their windows. and kick in their doors.. waiting for the final solution. to strengthen the strain.. waiting to follow the worms.. waiting to turn on the showers. and fire the ovens.. waiting for the queers and the coons. and the reds and the jews.. waiting to follow the worms.. would you like to see britannia. rule again, my friend?. all you have to do is follow the worms.. would you like to send our colored cousins. home again, my friend?. all you need to do is follow the worms.. \"the worms will convene outside brixton bus station.. we'll be moving along at about 12 o'clock down stockwell road. twelve minutes to three we'll be moving along lambeth road towards vauxhall bridge.. now when we get to the other side of vauxhall bridge we're in. westminster {borough } area. it's quite possible we may encounter. some {.....} by the way we go. {... ..}.\". stop. stop!. i wanna go home. take off this uniform. and leave the show.. but i'm waiting in this cell. because i have to know.. have i been guilty all this time?. the trial. good morning, worm your honor.. the crown will plainly show. the prisoner who now stands before you. was caught red-handed showing feelings. showing feelings of an almost human nature;. this will not do.. call the schoolmaster!. i always said he'd come to no good. in the end your honor.. if they'd let me have my way i could. have flayed him into shape.. but my hands were tied,. the bleeding hearts and artists. let him get away with murder.. let me hammer him today?. crazy,. toys in the attic i am crazy,. truly gone fishing.. they must have taken my marbles away.. crazy, toys in the attic he is crazy.. you little shit you're in it now,. i hope they throw away the key.. you should have talked to me more often. than you did, but no! you had to go. your own way, have you broken any. homes up lately?. just five minutes, worm your honor,. him and me, alone.. baaaaaaaaaabe!. come to mother baby, let me hold you. in my arms.. m'lud i never wanted him to. get in any trouble.. why'd he ever have to leave me?. worm, your honor, let me take him home.. crazy,. over the rainbow, i am crazy,. bars in the window.. there must have been a door there in the wall. when i came in.. crazy, over the rainbow, he is crazy.. the evidence before the court is. incontrivertable, there's no need for. the jury to retire.. in all my years of judging. i have never heard before. of someone more deserving. of the full penaltie of law.. the way you made them suffer,. your exquisite wife and mother,. fills me with the urge to defecate!. \"hey judge! shit on him!\". but, my friend, you have revealed your. deepest fear,. i sentence you to be exposed before. your peers.. tear down the wall!. outside the wall. all alone, or in two's,. the ones who really love you. walk up and down outside the wall.. some hand in hand. and some gathered together in bands.. the bleeding hearts and artists. make their stand.. and when they've given you their all. some stagger and fall, after all it's not easy. banging your heart against some mad bugger's wall.. \"isn't this where....\". .\n"
     ]
    }
   ],
   "source": [
    "# Retrieve the shortest and the longest lyrics:\n",
    "min_lyric=lyrics[lyrics[\"Lyric\"].apply(lambda x: len(x))==lyrics[\"Lyric\"].apply(lambda x: len(x)).min()]\n",
    "max_lyric=lyrics[lyrics[\"Lyric\"].apply(lambda x: len(x))==lyrics[\"Lyric\"].apply(lambda x: len(x)).max()]\n",
    "print(\" \".join(min_lyric[\"Lyric\"].iloc[0]),\"\\n\")\n",
    "print(\" \".join(max_lyric[\"Lyric\"].iloc[0]))"
   ]
  },
  {
   "cell_type": "code",
   "execution_count": 6,
   "metadata": {},
   "outputs": [],
   "source": [
    "# Remove lyrics of abnormal lengths:\n",
    "lyrics=lyrics[lyrics[\"Lyric\"].apply(lambda x: len(x)<=1000)]\n",
    "lyrics=lyrics[lyrics[\"Lyric\"].apply(lambda x: len(x)>=10)]"
   ]
  },
  {
   "cell_type": "code",
   "execution_count": 7,
   "metadata": {},
   "outputs": [],
   "source": [
    "# We will build a model predicting genre of a song:\n",
    "genres=[\"rock\",\"hip hop\"]\n",
    "artists_0=artists[(artists[\"Genre\"]==genres[0]) & (artists[\"Popularity\"]>25)]\n",
    "artists_1=artists[(artists[\"Genre\"]==genres[1]) & (artists[\"Popularity\"]>10)]\n",
    "artists_0=artists_0[artists_0[\"Genres\"].apply(lambda x: genres[1] not in x)]\n",
    "artists_1=artists_1[artists_1[\"Genres\"].apply(lambda x: genres[0] not in x)]"
   ]
  },
  {
   "cell_type": "code",
   "execution_count": 8,
   "metadata": {},
   "outputs": [
    {
     "data": {
      "text/html": [
       "<div>\n",
       "<style scoped>\n",
       "    .dataframe tbody tr th:only-of-type {\n",
       "        vertical-align: middle;\n",
       "    }\n",
       "\n",
       "    .dataframe tbody tr th {\n",
       "        vertical-align: top;\n",
       "    }\n",
       "\n",
       "    .dataframe thead th {\n",
       "        text-align: right;\n",
       "    }\n",
       "</style>\n",
       "<table border=\"1\" class=\"dataframe\">\n",
       "  <thead>\n",
       "    <tr style=\"text-align: right;\">\n",
       "      <th></th>\n",
       "      <th>Artist</th>\n",
       "      <th>Songs</th>\n",
       "      <th>Popularity</th>\n",
       "      <th>Link</th>\n",
       "      <th>Genre</th>\n",
       "      <th>Genres</th>\n",
       "    </tr>\n",
       "  </thead>\n",
       "  <tbody>\n",
       "    <tr>\n",
       "      <th>186</th>\n",
       "      <td>legião urbana</td>\n",
       "      <td>118</td>\n",
       "      <td>27.7</td>\n",
       "      <td>/legiao-urbana/</td>\n",
       "      <td>rock</td>\n",
       "      <td>[rock, pop/rock, mpb, punk rock, pós-punk, bla...</td>\n",
       "    </tr>\n",
       "    <tr>\n",
       "      <th>267</th>\n",
       "      <td>queen</td>\n",
       "      <td>249</td>\n",
       "      <td>69.5</td>\n",
       "      <td>/queen/</td>\n",
       "      <td>rock</td>\n",
       "      <td>[rock, hard rock, progressivo, pop/rock, heavy...</td>\n",
       "    </tr>\n",
       "    <tr>\n",
       "      <th>302</th>\n",
       "      <td>scorpions</td>\n",
       "      <td>252</td>\n",
       "      <td>29.1</td>\n",
       "      <td>/scorpions/</td>\n",
       "      <td>rock</td>\n",
       "      <td>[rock, hard rock, heavy metal, clássico, român...</td>\n",
       "    </tr>\n",
       "    <tr>\n",
       "      <th>337</th>\n",
       "      <td>the beatles</td>\n",
       "      <td>335</td>\n",
       "      <td>42.9</td>\n",
       "      <td>/the-beatles/</td>\n",
       "      <td>rock</td>\n",
       "      <td>[rock, psicodelia, pop/rock, classic rock, clá...</td>\n",
       "    </tr>\n",
       "    <tr>\n",
       "      <th>2132</th>\n",
       "      <td>pink floyd</td>\n",
       "      <td>209</td>\n",
       "      <td>30.9</td>\n",
       "      <td>/pink-floyd/</td>\n",
       "      <td>rock</td>\n",
       "      <td>[progressivo, rock, psicodelia, clássico, clas...</td>\n",
       "    </tr>\n",
       "  </tbody>\n",
       "</table>\n",
       "</div>"
      ],
      "text/plain": [
       "             Artist  Songs  Popularity             Link Genre  \\\n",
       "186   legião urbana    118        27.7  /legiao-urbana/  rock   \n",
       "267           queen    249        69.5          /queen/  rock   \n",
       "302       scorpions    252        29.1      /scorpions/  rock   \n",
       "337     the beatles    335        42.9    /the-beatles/  rock   \n",
       "2132     pink floyd    209        30.9     /pink-floyd/  rock   \n",
       "\n",
       "                                                 Genres  \n",
       "186   [rock, pop/rock, mpb, punk rock, pós-punk, bla...  \n",
       "267   [rock, hard rock, progressivo, pop/rock, heavy...  \n",
       "302   [rock, hard rock, heavy metal, clássico, român...  \n",
       "337   [rock, psicodelia, pop/rock, classic rock, clá...  \n",
       "2132  [progressivo, rock, psicodelia, clássico, clas...  "
      ]
     },
     "execution_count": 8,
     "metadata": {},
     "output_type": "execute_result"
    }
   ],
   "source": [
    "# Rock artists for the dataset\n",
    "artists_0"
   ]
  },
  {
   "cell_type": "code",
   "execution_count": 9,
   "metadata": {},
   "outputs": [
    {
     "data": {
      "text/html": [
       "<div>\n",
       "<style scoped>\n",
       "    .dataframe tbody tr th:only-of-type {\n",
       "        vertical-align: middle;\n",
       "    }\n",
       "\n",
       "    .dataframe tbody tr th {\n",
       "        vertical-align: top;\n",
       "    }\n",
       "\n",
       "    .dataframe thead th {\n",
       "        text-align: right;\n",
       "    }\n",
       "</style>\n",
       "<table border=\"1\" class=\"dataframe\">\n",
       "  <thead>\n",
       "    <tr style=\"text-align: right;\">\n",
       "      <th></th>\n",
       "      <th>Artist</th>\n",
       "      <th>Songs</th>\n",
       "      <th>Popularity</th>\n",
       "      <th>Link</th>\n",
       "      <th>Genre</th>\n",
       "      <th>Genres</th>\n",
       "    </tr>\n",
       "  </thead>\n",
       "  <tbody>\n",
       "    <tr>\n",
       "      <th>413</th>\n",
       "      <td>50 cent</td>\n",
       "      <td>463</td>\n",
       "      <td>17.9</td>\n",
       "      <td>/50-cent/</td>\n",
       "      <td>hip hop</td>\n",
       "      <td>[hip hop, rap, black music, reggae, funk cario...</td>\n",
       "    </tr>\n",
       "    <tr>\n",
       "      <th>640</th>\n",
       "      <td>sean paul</td>\n",
       "      <td>164</td>\n",
       "      <td>14.7</td>\n",
       "      <td>/sean-paul/</td>\n",
       "      <td>hip hop</td>\n",
       "      <td>[hip hop, reggae, rap, black music, dance, reg...</td>\n",
       "    </tr>\n",
       "    <tr>\n",
       "      <th>670</th>\n",
       "      <td>tribo da periferia</td>\n",
       "      <td>112</td>\n",
       "      <td>10.8</td>\n",
       "      <td>/tribo-da-periferia/</td>\n",
       "      <td>hip hop</td>\n",
       "      <td>[hip hop, rap, funk, black music, axé, reggae,...</td>\n",
       "    </tr>\n",
       "    <tr>\n",
       "      <th>2262</th>\n",
       "      <td>criolo</td>\n",
       "      <td>72</td>\n",
       "      <td>14.6</td>\n",
       "      <td>/criolo/</td>\n",
       "      <td>hip hop</td>\n",
       "      <td>[rap, hip hop, mpb, black music, samba, axé, r...</td>\n",
       "    </tr>\n",
       "    <tr>\n",
       "      <th>2269</th>\n",
       "      <td>drake</td>\n",
       "      <td>263</td>\n",
       "      <td>21.2</td>\n",
       "      <td>/drake/</td>\n",
       "      <td>hip hop</td>\n",
       "      <td>[rap, hip hop, r&amp;b, black music, reggaeton, wo...</td>\n",
       "    </tr>\n",
       "  </tbody>\n",
       "</table>\n",
       "</div>"
      ],
      "text/plain": [
       "                  Artist  Songs  Popularity                  Link    Genre  \\\n",
       "413              50 cent    463        17.9             /50-cent/  hip hop   \n",
       "640            sean paul    164        14.7           /sean-paul/  hip hop   \n",
       "670   tribo da periferia    112        10.8  /tribo-da-periferia/  hip hop   \n",
       "2262              criolo     72        14.6              /criolo/  hip hop   \n",
       "2269               drake    263        21.2               /drake/  hip hop   \n",
       "\n",
       "                                                 Genres  \n",
       "413   [hip hop, rap, black music, reggae, funk cario...  \n",
       "640   [hip hop, reggae, rap, black music, dance, reg...  \n",
       "670   [hip hop, rap, funk, black music, axé, reggae,...  \n",
       "2262  [rap, hip hop, mpb, black music, samba, axé, r...  \n",
       "2269  [rap, hip hop, r&b, black music, reggaeton, wo...  "
      ]
     },
     "execution_count": 9,
     "metadata": {},
     "output_type": "execute_result"
    }
   ],
   "source": [
    "# Hip-Hop artists for the dataset\n",
    "artists_1"
   ]
  },
  {
   "cell_type": "code",
   "execution_count": 10,
   "metadata": {},
   "outputs": [],
   "source": [
    "# Collect lyrics of songs of the above artists:\n",
    "lyrics_0=[lyrics[lyrics[\"ALink\"]==artist.replace(' ','-')] for artist in artists_0[\"Artist\"].unique()]\n",
    "lyrics_1=[lyrics[lyrics[\"ALink\"]==artist.replace(' ','-')] for artist in artists_1[\"Artist\"].unique()]\n",
    "texts_0,texts_1=[],[]\n",
    "for artist in lyrics_0:\n",
    "    for song in artist[\"Lyric\"]:\n",
    "        texts_0.append(\" \".join(song))\n",
    "for artist in lyrics_1:\n",
    "    for song in artist[\"Lyric\"]:\n",
    "        texts_1.append(\" \".join(song))"
   ]
  },
  {
   "cell_type": "code",
   "execution_count": 11,
   "metadata": {},
   "outputs": [
    {
     "name": "stdout",
     "output_type": "stream",
     "text": [
      "rock :  1030 ;  hip hop :  952\n"
     ]
    }
   ],
   "source": [
    "# Raw text dataset and labels created:\n",
    "texts=texts_0+texts_1\n",
    "labels=[0]*len(texts_0)+[1]*len(texts_1)\n",
    "print(genres[0],\": \",len(texts_0),\"; \",genres[1],\": \",len(texts_1))"
   ]
  },
  {
   "cell_type": "markdown",
   "metadata": {},
   "source": [
    "### *Tokenization*"
   ]
  },
  {
   "cell_type": "code",
   "execution_count": 12,
   "metadata": {},
   "outputs": [
    {
     "data": {
      "text/plain": [
       "['They will PACK THE COURTS.', 'We won’t let that happen!', '(22h ago)']"
      ]
     },
     "execution_count": 12,
     "metadata": {},
     "output_type": "execute_result"
    }
   ],
   "source": [
    "# Tokenizer example by sentences:\n",
    "tweet=\"They will PACK THE COURTS. We won’t let that happen! (22h ago)\"\n",
    "nltk.tokenize.sent_tokenize(tweet)"
   ]
  },
  {
   "cell_type": "code",
   "execution_count": 13,
   "metadata": {},
   "outputs": [
    {
     "data": {
      "text/plain": [
       "['They',\n",
       " 'will',\n",
       " 'PACK',\n",
       " 'THE',\n",
       " 'COURTS',\n",
       " '.',\n",
       " 'We',\n",
       " 'won',\n",
       " '’',\n",
       " 't',\n",
       " 'let',\n",
       " 'that',\n",
       " 'happen',\n",
       " '!',\n",
       " '(',\n",
       " '22h',\n",
       " 'ago',\n",
       " ')']"
      ]
     },
     "execution_count": 13,
     "metadata": {},
     "output_type": "execute_result"
    }
   ],
   "source": [
    "# Tokenizer example by words:\n",
    "nltk.tokenize.word_tokenize(tweet)"
   ]
  },
  {
   "cell_type": "code",
   "execution_count": 14,
   "metadata": {},
   "outputs": [],
   "source": [
    "# Tokenize the union of all documents; only alphabetical tokens:\n",
    "tokens=[[token for token in nltk.tokenize.word_tokenize(text) if token.isalpha()] for text in texts]"
   ]
  },
  {
   "cell_type": "code",
   "execution_count": 15,
   "metadata": {},
   "outputs": [
    {
     "name": "stdout",
     "output_type": "stream",
     "text": [
      "['is', 'this', 'the', 'real', 'life']\n",
      "['is', 'this', 'just', 'fantasy']\n"
     ]
    }
   ],
   "source": [
    "# Can you guess what song these are from?\n",
    "print(tokens[0][:5])\n",
    "print(tokens[0][5:9])"
   ]
  },
  {
   "cell_type": "code",
   "execution_count": 16,
   "metadata": {},
   "outputs": [
    {
     "name": "stdout",
     "output_type": "stream",
     "text": [
      "['i', 'you', 'the', 'a', 'it', 'to', 'me', 'and', 'my', 'in']\n"
     ]
    }
   ],
   "source": [
    "# Retrieve the most-frequent tokens:\n",
    "from collections import Counter\n",
    "counter=Counter(np.concatenate(tokens))\n",
    "word_freq=counter.most_common(10)\n",
    "stop_words=[w[0] for w in word_freq]\n",
    "print(stop_words)"
   ]
  },
  {
   "cell_type": "code",
   "execution_count": 17,
   "metadata": {},
   "outputs": [
    {
     "name": "stdout",
     "output_type": "stream",
     "text": [
      "['i', 'me', 'my', 'myself', 'we', 'our', 'ours', 'ourselves', 'you', \"you're\", \"you've\", \"you'll\", \"you'd\", 'your', 'yours', 'yourself', 'yourselves', 'he', 'him', 'his', 'himself', 'she', \"she's\", 'her', 'hers', 'herself', 'it', \"it's\", 'its', 'itself', 'they', 'them', 'their', 'theirs', 'themselves', 'what', 'which', 'who', 'whom', 'this', 'that', \"that'll\", 'these', 'those', 'am', 'is', 'are', 'was', 'were', 'be', 'been', 'being', 'have', 'has', 'had', 'having', 'do', 'does', 'did', 'doing', 'a', 'an', 'the', 'and', 'but', 'if', 'or', 'because', 'as', 'until', 'while', 'of', 'at', 'by', 'for', 'with', 'about', 'against', 'between', 'into', 'through', 'during', 'before', 'after', 'above', 'below', 'to', 'from', 'up', 'down', 'in', 'out', 'on', 'off', 'over', 'under', 'again', 'further', 'then', 'once', 'here', 'there', 'when', 'where', 'why', 'how', 'all', 'any', 'both', 'each', 'few', 'more', 'most', 'other', 'some', 'such', 'no', 'nor', 'not', 'only', 'own', 'same', 'so', 'than', 'too', 'very', 's', 't', 'can', 'will', 'just', 'don', \"don't\", 'should', \"should've\", 'now', 'd', 'll', 'm', 'o', 're', 've', 'y', 'ain', 'aren', \"aren't\", 'couldn', \"couldn't\", 'didn', \"didn't\", 'doesn', \"doesn't\", 'hadn', \"hadn't\", 'hasn', \"hasn't\", 'haven', \"haven't\", 'isn', \"isn't\", 'ma', 'mightn', \"mightn't\", 'mustn', \"mustn't\", 'needn', \"needn't\", 'shan', \"shan't\", 'shouldn', \"shouldn't\", 'wasn', \"wasn't\", 'weren', \"weren't\", 'won', \"won't\", 'wouldn', \"wouldn't\"]\n"
     ]
    }
   ],
   "source": [
    "# The list of english stopwords suggested by nltk:\n",
    "from nltk.corpus import stopwords\n",
    "print(stopwords.words(\"english\"))"
   ]
  },
  {
   "cell_type": "code",
   "execution_count": 18,
   "metadata": {},
   "outputs": [],
   "source": [
    "# Remove all stopwords from the above list:\n",
    "tokens=[[token for token in doc if token not in stopwords.words(\"english\")] for doc in tokens]"
   ]
  },
  {
   "cell_type": "markdown",
   "metadata": {},
   "source": [
    "### *Text Normalization*\n",
    "Texts often contain synonyms or different forms of the same word; it is desirable to identify tokens in such cases. For example,\n",
    " - cars, cars', car's, car: $\\longrightarrow$ car;\n",
    " - best, better, good: $\\longrightarrow$ good;\n",
    " - am, is, are: $\\longrightarrow$ be;\n",
    " - palying, plays, played: $\\longrightarrow$ play.\n",
    " \n",
    "Two common methods of achieving the above normalizations are *stemming* and *lemmatization*. The goal of the former is to bring inflections of the same word to its stem by deleting suffixes and otherwise manipulating the word."
   ]
  },
  {
   "cell_type": "code",
   "execution_count": 19,
   "metadata": {},
   "outputs": [],
   "source": [
    "# NLTK provides two different English stemmers:\n",
    "from nltk import WordNetLemmatizer\n",
    "from nltk.stem import PorterStemmer,LancasterStemmer\n",
    "porter=PorterStemmer()\n",
    "lancaster=LancasterStemmer()"
   ]
  },
  {
   "cell_type": "code",
   "execution_count": 20,
   "metadata": {},
   "outputs": [
    {
     "name": "stdout",
     "output_type": "stream",
     "text": [
      "Porter:  ['player', 'play', 'play', 'play', 'play', 'replay']\n",
      "Lancaster:  ['play', 'play', 'play', 'play', 'play', 'replay']\n"
     ]
    }
   ],
   "source": [
    "# Stemming example 1:\n",
    "play=[\"player\",\"playing\",\"plays\",\"played\",\"playful\",\"replay\"]\n",
    "print(\"Porter: \",[porter.stem(word) for word in play])\n",
    "print(\"Lancaster: \",[lancaster.stem(word) for word in play])"
   ]
  },
  {
   "cell_type": "code",
   "execution_count": 21,
   "metadata": {},
   "outputs": [
    {
     "name": "stdout",
     "output_type": "stream",
     "text": [
      "Porter:  ['begin', 'began', 'begun', 'begin', 'begin']\n",
      "Lancaster:  ['begin', 'beg', 'begun', 'begin', 'begin']\n"
     ]
    }
   ],
   "source": [
    "# Stemming example 2:\n",
    "begin=[\"begin\",\"began\",\"begun\",\"beginning\",\"begins\"]\n",
    "print(\"Porter: \",[porter.stem(word) for word in begin])\n",
    "print(\"Lancaster: \",[lancaster.stem(word) for word in begin])"
   ]
  },
  {
   "cell_type": "code",
   "execution_count": 22,
   "metadata": {},
   "outputs": [
    {
     "name": "stdout",
     "output_type": "stream",
     "text": [
      "Porter:  ['troubl', 'troubl', 'troubl', 'troubl', 'troublesom']\n",
      "Lancaster:  ['troubl', 'troubl', 'troubl', 'troubl', 'troublesom']\n"
     ]
    }
   ],
   "source": [
    "# Stemming example 3:\n",
    "trouble=[\"trouble\",\"troubling\",\"troubled\",\"troubles\",\"troublesome\"]\n",
    "print(\"Porter: \",[porter.stem(word) for word in trouble])\n",
    "print(\"Lancaster: \",[lancaster.stem(word) for word in trouble])"
   ]
  },
  {
   "cell_type": "markdown",
   "metadata": {},
   "source": [
    "Find the [detailed explanation](http://snowball.tartarus.org/algorithms/english/stemmer.html) of the Porter stemming algorithm. Lemmatization is a related but more sophisticated normalization method, which aims to find the correct *lemma* of a word. Contrary to stemmers, lemmatizers will not output non-existent words as in the above example."
   ]
  },
  {
   "cell_type": "code",
   "execution_count": 23,
   "metadata": {},
   "outputs": [
    {
     "name": "stdout",
     "output_type": "stream",
     "text": [
      "['trouble', 'troubling', 'troubled', 'trouble', 'troublesome']\n"
     ]
    }
   ],
   "source": [
    "# Lemmatization example (no 'pos' specified):\n",
    "from nltk.stem import WordNetLemmatizer\n",
    "wnl=WordNetLemmatizer()\n",
    "print([wnl.lemmatize(word) for word in trouble])"
   ]
  },
  {
   "cell_type": "code",
   "execution_count": 24,
   "metadata": {},
   "outputs": [
    {
     "name": "stdout",
     "output_type": "stream",
     "text": [
      "['trouble', 'trouble', 'trouble', 'trouble', 'troublesome']\n"
     ]
    }
   ],
   "source": [
    "# Example 3 revisited:\n",
    "pos=[\"n\",\"v\",\"v\",\"v\",\"a\"]\n",
    "print([wnl.lemmatize(word,pos=p) for word,p in zip(trouble,pos)])"
   ]
  },
  {
   "cell_type": "code",
   "execution_count": 25,
   "metadata": {},
   "outputs": [
    {
     "name": "stdout",
     "output_type": "stream",
     "text": [
      "['begin', 'begin', 'begin', 'beginning', 'begin']\n"
     ]
    }
   ],
   "source": [
    "# Example 2 revisited:\n",
    "pos=[\"v\",\"v\",\"v\",\"n\",\"v\"]\n",
    "print([wnl.lemmatize(word,pos=p) for word,p in zip(begin,pos)])"
   ]
  },
  {
   "cell_type": "code",
   "execution_count": 26,
   "metadata": {},
   "outputs": [
    {
     "name": "stdout",
     "output_type": "stream",
     "text": [
      "better:  good\n",
      "mice :  mouse\n",
      "running (n) :  running\n",
      "running (v):  run\n"
     ]
    }
   ],
   "source": [
    "# More lemmatizaion examples:\n",
    "print(\"better: \",wnl.lemmatize(\"better\",pos=\"a\"))\n",
    "print(\"mice : \",wnl.lemmatize(\"mice\",pos=\"n\"))\n",
    "print(\"running (n) : \",wnl.lemmatize(\"running\",pos=\"n\"))\n",
    "print(\"running (v): \",wnl.lemmatize(\"running\",pos=\"v\"))"
   ]
  },
  {
   "cell_type": "markdown",
   "metadata": {},
   "source": [
    "Of course, having to tag every single word with its part of speech (pos) is impractical; for this purpose, ```nltk``` provides its own automatic pos tagger model (based on a perceptron trained on the Penn Treebank dataset)! The only headache is that ```pos_tag``` returns tags in a [different format](https://www.ling.upenn.edu/courses/Fall_2003/ling001/penn_treebank_pos.html) than those taken by the lemmatizer."
   ]
  },
  {
   "cell_type": "code",
   "execution_count": 27,
   "metadata": {},
   "outputs": [],
   "source": [
    "from nltk.corpus import wordnet\n",
    "def get_wordnet_pos(treebank_tag):\n",
    "    if treebank_tag.startswith('J'):\n",
    "        return wordnet.ADJ\n",
    "    elif treebank_tag.startswith('V'):\n",
    "        return wordnet.VERB\n",
    "    elif treebank_tag.startswith('N'):\n",
    "        return wordnet.NOUN\n",
    "    elif treebank_tag.startswith('R'):\n",
    "        return wordnet.ADV"
   ]
  },
  {
   "cell_type": "code",
   "execution_count": 28,
   "metadata": {},
   "outputs": [
    {
     "data": {
      "text/html": [
       "<div>\n",
       "<style scoped>\n",
       "    .dataframe tbody tr th:only-of-type {\n",
       "        vertical-align: middle;\n",
       "    }\n",
       "\n",
       "    .dataframe tbody tr th {\n",
       "        vertical-align: top;\n",
       "    }\n",
       "\n",
       "    .dataframe thead th {\n",
       "        text-align: right;\n",
       "    }\n",
       "</style>\n",
       "<table border=\"1\" class=\"dataframe\">\n",
       "  <thead>\n",
       "    <tr style=\"text-align: right;\">\n",
       "      <th></th>\n",
       "      <th>Penn tag</th>\n",
       "      <th>wordnet tag</th>\n",
       "      <th>lemma</th>\n",
       "    </tr>\n",
       "  </thead>\n",
       "  <tbody>\n",
       "    <tr>\n",
       "      <th>worse</th>\n",
       "      <td>JJR</td>\n",
       "      <td>a</td>\n",
       "      <td>bad</td>\n",
       "    </tr>\n",
       "    <tr>\n",
       "      <th>playful</th>\n",
       "      <td>NN</td>\n",
       "      <td>n</td>\n",
       "      <td>playful</td>\n",
       "    </tr>\n",
       "    <tr>\n",
       "      <th>is</th>\n",
       "      <td>VBZ</td>\n",
       "      <td>v</td>\n",
       "      <td>be</td>\n",
       "    </tr>\n",
       "    <tr>\n",
       "      <th>troubling</th>\n",
       "      <td>VBG</td>\n",
       "      <td>v</td>\n",
       "      <td>trouble</td>\n",
       "    </tr>\n",
       "    <tr>\n",
       "      <th>replay</th>\n",
       "      <td>NN</td>\n",
       "      <td>n</td>\n",
       "      <td>replay</td>\n",
       "    </tr>\n",
       "    <tr>\n",
       "      <th>mice</th>\n",
       "      <td>NN</td>\n",
       "      <td>n</td>\n",
       "      <td>mouse</td>\n",
       "    </tr>\n",
       "  </tbody>\n",
       "</table>\n",
       "</div>"
      ],
      "text/plain": [
       "          Penn tag wordnet tag    lemma\n",
       "worse          JJR           a      bad\n",
       "playful         NN           n  playful\n",
       "is             VBZ           v       be\n",
       "troubling      VBG           v  trouble\n",
       "replay          NN           n   replay\n",
       "mice            NN           n    mouse"
      ]
     },
     "execution_count": 28,
     "metadata": {},
     "output_type": "execute_result"
    }
   ],
   "source": [
    "words=[[\"worse\"],[\"playful\"],[\"is\"],[\"troubling\"],[\"replay\"],[\"mice\"]]\n",
    "pd.DataFrame([[nltk.pos_tag(word)[0][1],get_wordnet_pos(nltk.pos_tag(word)[0][1]),wnl.lemmatize(word[0],pos=get_wordnet_pos(nltk.pos_tag(word)[0][1]))] for word in words],index=np.squeeze(words),columns=[\"Penn tag\",\"wordnet tag\",\"lemma\"])"
   ]
  },
  {
   "cell_type": "code",
   "execution_count": 29,
   "metadata": {},
   "outputs": [],
   "source": [
    "# Apply stemming to lyrics documents:\n",
    "tokens=[[porter.stem(token) for token in doc] for doc in tokens]"
   ]
  },
  {
   "cell_type": "code",
   "execution_count": 30,
   "metadata": {},
   "outputs": [
    {
     "data": {
      "text/plain": [
       "'real life fantasi caught landslid escap realiti open eye look sky see poor boy need sympathi easi come easi go littl high littl low anyway wind blow realli matter mama kill man put gun head pull trigger dead mama life begun gone thrown away mama oh mean make cri back'"
      ]
     },
     "execution_count": 30,
     "metadata": {},
     "output_type": "execute_result"
    }
   ],
   "source": [
    "# What do you think happened to Bohemian Rhapsody?\n",
    "# This is why it is important to remove stop words prior to stemming!\n",
    "\" \".join(tokens[0][:50])"
   ]
  },
  {
   "cell_type": "code",
   "execution_count": 31,
   "metadata": {},
   "outputs": [],
   "source": [
    "# Train/Test split of the data and labels:\n",
    "train=np.random.choice(range(len(labels)),size=int(0.8*len(labels)),replace=False)\n",
    "test=[i for i in range(len(labels)) if i not in train]\n",
    "train_X=[tokens[i] for i in train]\n",
    "train_y=[labels[i] for i in train]\n",
    "test_X=[tokens[i] for i in test]\n",
    "test_y=[labels[i] for i in test]"
   ]
  },
  {
   "cell_type": "markdown",
   "metadata": {},
   "source": [
    "### *Vectorization*\n",
    "We already discussed three different vectorization methods; now, we will use ```scikit-learn``` to actually get three different vectorized representations."
   ]
  },
  {
   "cell_type": "code",
   "execution_count": 32,
   "metadata": {},
   "outputs": [],
   "source": [
    "# Vectorize text in documents in three different ways:\n",
    "from sklearn.feature_extraction.text import CountVectorizer\n",
    "from sklearn.feature_extraction.text import TfidfVectorizer\n",
    "vectorizers={'binary':TfidfVectorizer(analyzer='word',binary=True),'bow':CountVectorizer(analyzer='word',binary=False),'tfidf':TfidfVectorizer(analyzer='word',binary=False)}\n",
    "vec_train_X,vec_test_X={},{}\n",
    "for name,vectorizer in vectorizers.items():\n",
    "    vec_train_X[name]=vectorizer.fit_transform([\" \".join(doc) for doc in train_X])\n",
    "    vec_test_X[name]=vectorizer.transform([\" \".join(doc) for doc in test_X])"
   ]
  },
  {
   "cell_type": "code",
   "execution_count": 33,
   "metadata": {},
   "outputs": [
    {
     "name": "stdout",
     "output_type": "stream",
     "text": [
      "<class 'scipy.sparse.csr.csr_matrix'>\n",
      "<class 'scipy.sparse.csr.csr_matrix'>\n",
      "<class 'scipy.sparse.csr.csr_matrix'>\n"
     ]
    }
   ],
   "source": [
    "# Note the type of vectorization:\n",
    "print(type(vec_train_X['binary']))\n",
    "print(type(vec_train_X['bow']))\n",
    "print(type(vec_train_X['tfidf']))"
   ]
  },
  {
   "cell_type": "markdown",
   "metadata": {},
   "source": [
    "Scikit learn's vectorizers use SciPy's matrix types, which are made specifically for storing sparse matrices. In particular, the so-called *compressed sparse row (CSR; also knows as Yale format)* strategy is used above. Given an $M\\times N$ sparse matrix with $P$ non-zero values, the $\\text{CSR}$ representation will convert it into three arrays by traversing it by rows: (1) holding non-zero values (length $P$), (2) holding column indices of those non-zero values (length $P$), (3) holding indices of those values in array (1) that are the first non-zero values in their row (length $M+1$; the last entry is set to $P$ by convention). Therefore, in total, this format requires $P$ floating point and $P+M+1$ int types. Consider an example:"
   ]
  },
  {
   "cell_type": "code",
   "execution_count": 34,
   "metadata": {},
   "outputs": [
    {
     "name": "stdout",
     "output_type": "stream",
     "text": [
      "matrix \n",
      "\n",
      " [[0 0 1]\n",
      " [2 0 3]\n",
      " [4 0 0]] \n",
      "\n",
      " is converted to \n",
      "\n",
      "[1 2 3 4] [2 0 2 0] [0 1 3 4]\n"
     ]
    }
   ],
   "source": [
    "from scipy.sparse import csr_matrix\n",
    "arr=np.array([[0,0,1],[2,0,3],[4,0,0]])\n",
    "csr=csr_matrix(arr)\n",
    "print(\"matrix \\n\\n\",arr,\"\\n\\n is converted to \\n\")\n",
    "print(csr.data,csr.indices,csr.indptr)"
   ]
  },
  {
   "cell_type": "markdown",
   "metadata": {},
   "source": [
    "## *Naive Bayes Modeling*"
   ]
  },
  {
   "cell_type": "code",
   "execution_count": 35,
   "metadata": {},
   "outputs": [],
   "source": [
    "# Create and fit three NB models:\n",
    "from sklearn.naive_bayes import MultinomialNB\n",
    "from sklearn.naive_bayes import BernoulliNB\n",
    "models={'binary':BernoulliNB(),'bow':MultinomialNB(),'tfidf':MultinomialNB()}\n",
    "predictions={}\n",
    "for name,model in models.items():\n",
    "    model.fit(vec_train_X[name],train_y)\n",
    "    predictions[name]=model.predict(vec_test_X[name])"
   ]
  },
  {
   "cell_type": "code",
   "execution_count": 36,
   "metadata": {},
   "outputs": [],
   "source": [
    "# Generate confusion matrices:\n",
    "from sklearn.metrics import confusion_matrix\n",
    "cms={name:pd.DataFrame(confusion_matrix(test_y,predictions[name]).T,index=[f\"predicted {genres[0]}\",f\"predicted {genres[1]}\"],columns=[f\"true {genres[0]}\",f\"true {genres[1]}\"]) for name in predictions.keys()}"
   ]
  },
  {
   "cell_type": "code",
   "execution_count": 37,
   "metadata": {},
   "outputs": [
    {
     "data": {
      "text/html": [
       "<div>\n",
       "<style scoped>\n",
       "    .dataframe tbody tr th:only-of-type {\n",
       "        vertical-align: middle;\n",
       "    }\n",
       "\n",
       "    .dataframe tbody tr th {\n",
       "        vertical-align: top;\n",
       "    }\n",
       "\n",
       "    .dataframe thead th {\n",
       "        text-align: right;\n",
       "    }\n",
       "</style>\n",
       "<table border=\"1\" class=\"dataframe\">\n",
       "  <thead>\n",
       "    <tr style=\"text-align: right;\">\n",
       "      <th></th>\n",
       "      <th>true rock</th>\n",
       "      <th>true hip hop</th>\n",
       "    </tr>\n",
       "  </thead>\n",
       "  <tbody>\n",
       "    <tr>\n",
       "      <th>predicted rock</th>\n",
       "      <td>223</td>\n",
       "      <td>22</td>\n",
       "    </tr>\n",
       "    <tr>\n",
       "      <th>predicted hip hop</th>\n",
       "      <td>1</td>\n",
       "      <td>151</td>\n",
       "    </tr>\n",
       "  </tbody>\n",
       "</table>\n",
       "</div>"
      ],
      "text/plain": [
       "                   true rock  true hip hop\n",
       "predicted rock           223            22\n",
       "predicted hip hop          1           151"
      ]
     },
     "execution_count": 37,
     "metadata": {},
     "output_type": "execute_result"
    }
   ],
   "source": [
    "# Binary Vectorization + Bernoulli NB:\n",
    "cms[\"binary\"]"
   ]
  },
  {
   "cell_type": "code",
   "execution_count": 38,
   "metadata": {},
   "outputs": [
    {
     "data": {
      "text/html": [
       "<div>\n",
       "<style scoped>\n",
       "    .dataframe tbody tr th:only-of-type {\n",
       "        vertical-align: middle;\n",
       "    }\n",
       "\n",
       "    .dataframe tbody tr th {\n",
       "        vertical-align: top;\n",
       "    }\n",
       "\n",
       "    .dataframe thead th {\n",
       "        text-align: right;\n",
       "    }\n",
       "</style>\n",
       "<table border=\"1\" class=\"dataframe\">\n",
       "  <thead>\n",
       "    <tr style=\"text-align: right;\">\n",
       "      <th></th>\n",
       "      <th>true rock</th>\n",
       "      <th>true hip hop</th>\n",
       "    </tr>\n",
       "  </thead>\n",
       "  <tbody>\n",
       "    <tr>\n",
       "      <th>predicted rock</th>\n",
       "      <td>224</td>\n",
       "      <td>8</td>\n",
       "    </tr>\n",
       "    <tr>\n",
       "      <th>predicted hip hop</th>\n",
       "      <td>0</td>\n",
       "      <td>165</td>\n",
       "    </tr>\n",
       "  </tbody>\n",
       "</table>\n",
       "</div>"
      ],
      "text/plain": [
       "                   true rock  true hip hop\n",
       "predicted rock           224             8\n",
       "predicted hip hop          0           165"
      ]
     },
     "execution_count": 38,
     "metadata": {},
     "output_type": "execute_result"
    }
   ],
   "source": [
    "# Count Vectorization + Multinomial NB:\n",
    "cms[\"bow\"]"
   ]
  },
  {
   "cell_type": "code",
   "execution_count": 39,
   "metadata": {},
   "outputs": [
    {
     "data": {
      "text/html": [
       "<div>\n",
       "<style scoped>\n",
       "    .dataframe tbody tr th:only-of-type {\n",
       "        vertical-align: middle;\n",
       "    }\n",
       "\n",
       "    .dataframe tbody tr th {\n",
       "        vertical-align: top;\n",
       "    }\n",
       "\n",
       "    .dataframe thead th {\n",
       "        text-align: right;\n",
       "    }\n",
       "</style>\n",
       "<table border=\"1\" class=\"dataframe\">\n",
       "  <thead>\n",
       "    <tr style=\"text-align: right;\">\n",
       "      <th></th>\n",
       "      <th>true rock</th>\n",
       "      <th>true hip hop</th>\n",
       "    </tr>\n",
       "  </thead>\n",
       "  <tbody>\n",
       "    <tr>\n",
       "      <th>predicted rock</th>\n",
       "      <td>204</td>\n",
       "      <td>7</td>\n",
       "    </tr>\n",
       "    <tr>\n",
       "      <th>predicted hip hop</th>\n",
       "      <td>20</td>\n",
       "      <td>166</td>\n",
       "    </tr>\n",
       "  </tbody>\n",
       "</table>\n",
       "</div>"
      ],
      "text/plain": [
       "                   true rock  true hip hop\n",
       "predicted rock           204             7\n",
       "predicted hip hop         20           166"
      ]
     },
     "execution_count": 39,
     "metadata": {},
     "output_type": "execute_result"
    }
   ],
   "source": [
    "# TF-IDF Vectorization + Multinomial NB:\n",
    "cms[\"tfidf\"]"
   ]
  },
  {
   "cell_type": "code",
   "execution_count": 52,
   "metadata": {},
   "outputs": [],
   "source": [
    "# Compare Multinomial NB to Gaussian NB for TF-IDF vectorization:\n",
    "from sklearn.naive_bayes import GaussianNB\n",
    "model_gauss=GaussianNB()\n",
    "model_gauss.fit(vec_train_X[\"tfidf\"].toarray(),train_y)\n",
    "predictions_gauss=model_gauss.predict(vec_test_X[\"tfidf\"].toarray())\n",
    "gauss_cm=pd.DataFrame(confusion_matrix(test_y,predictions_gauss).T,index=[f\"predicted {genres[0]}\",f\"predicted {genres[1]}\"],columns=[f\"true {genres[0]}\",f\"true {genres[1]}\"])"
   ]
  },
  {
   "cell_type": "code",
   "execution_count": 53,
   "metadata": {},
   "outputs": [
    {
     "data": {
      "text/html": [
       "<div>\n",
       "<style scoped>\n",
       "    .dataframe tbody tr th:only-of-type {\n",
       "        vertical-align: middle;\n",
       "    }\n",
       "\n",
       "    .dataframe tbody tr th {\n",
       "        vertical-align: top;\n",
       "    }\n",
       "\n",
       "    .dataframe thead th {\n",
       "        text-align: right;\n",
       "    }\n",
       "</style>\n",
       "<table border=\"1\" class=\"dataframe\">\n",
       "  <thead>\n",
       "    <tr style=\"text-align: right;\">\n",
       "      <th></th>\n",
       "      <th>true rock</th>\n",
       "      <th>true hip hop</th>\n",
       "    </tr>\n",
       "  </thead>\n",
       "  <tbody>\n",
       "    <tr>\n",
       "      <th>predicted rock</th>\n",
       "      <td>155</td>\n",
       "      <td>1</td>\n",
       "    </tr>\n",
       "    <tr>\n",
       "      <th>predicted hip hop</th>\n",
       "      <td>69</td>\n",
       "      <td>172</td>\n",
       "    </tr>\n",
       "  </tbody>\n",
       "</table>\n",
       "</div>"
      ],
      "text/plain": [
       "                   true rock  true hip hop\n",
       "predicted rock           155             1\n",
       "predicted hip hop         69           172"
      ]
     },
     "execution_count": 53,
     "metadata": {},
     "output_type": "execute_result"
    }
   ],
   "source": [
    "# TF-IDF Vectorization; Gaussian NB:\n",
    "gauss_cm"
   ]
  },
  {
   "cell_type": "code",
   "execution_count": 54,
   "metadata": {},
   "outputs": [
    {
     "data": {
      "image/png": "[encoded data removed]",
      "text/plain": [
       "<Figure size 1440x576 with 8 Axes>"
      ]
     },
     "metadata": {
      "needs_background": "light"
     },
     "output_type": "display_data"
    }
   ],
   "source": [
    "# Understand the effect of smoothing (scikit-learn won't \n",
    "# let you set alpha=0, contrary to their documentation):\n",
    "from sklearn.metrics import roc_curve\n",
    "from sklearn.metrics import roc_auc_score\n",
    "fig,axes=plt.subplots(nrows=2,ncols=4,figsize=(20,8))\n",
    "alphas=[1e-10,1e-6,1e-4,1e-2,1e-1,1,10,100]\n",
    "alpha_models={alpha:MultinomialNB(alpha=alpha) for alpha in alphas}\n",
    "for i,alpha in enumerate(alphas):\n",
    "    alpha_models[alpha].fit(vec_train_X[\"tfidf\"],train_y)\n",
    "    probas=alpha_models[alpha].predict_proba(vec_test_X[\"tfidf\"])\n",
    "    fpr,tpr,thresh=roc_curve(test_y,probas[:,1])\n",
    "    axes[i//4,i%4].plot(fpr,tpr,color='purple',label=f\"alpha: {alpha}; AUC: {roc_auc_score(test_y,probas[:,1]):.4f}\")\n",
    "    axes[i//4,i%4].plot([0,1],[0,1],color='k',linestyle='dashed')\n",
    "    axes[i//4,i%4].legend(loc='lower right')\n",
    "    axes[i//4,i%4].grid()"
   ]
  },
  {
   "cell_type": "code",
   "execution_count": 55,
   "metadata": {},
   "outputs": [
    {
     "data": {
      "text/plain": [
       "array(['get', 'like', 'know', 'got', 'go', 'see', 'make', 'come', 'man',\n",
       "       'na', 'back', 'nigga', 'time', 'say', 'shit', 'one', 'want',\n",
       "       'love', 'yeah', 'tell', 'let', 'ai', 'take', 'fuck', 'wan', 'look',\n",
       "       'girl', 'right', 'put', 'choru', 'bitch', 'gon', 'never', 'feel',\n",
       "       'give', 'money', 'ya', 'vers', 'caus', 'way', 'babi', 'need',\n",
       "       'call', 'ca', 'keep', 'think', 'new', 'thing', 'around', 'tri'],\n",
       "      dtype='<U31')"
      ]
     },
     "execution_count": 55,
     "metadata": {},
     "output_type": "execute_result"
    }
   ],
   "source": [
    "# 50 words most indicative of hip-hop according to Count vectorization + Multinomial NB:\n",
    "hiphop_words=np.array(vectorizers[\"binary\"].get_feature_names())[models[\"binary\"].feature_log_prob_[1,:].argsort()[::-1][:50]]\n",
    "hiphop_words"
   ]
  },
  {
   "cell_type": "code",
   "execution_count": 56,
   "metadata": {},
   "outputs": [
    {
     "data": {
      "text/plain": [
       "array(['love', 'know', 'time', 'like', 'go', 'come', 'get', 'got', 'see',\n",
       "       'one', 'make', 'day', 'oh', 'way', 'feel', 'say', 'take', 'away',\n",
       "       'ca', 'na', 'yeah', 'look', 'life', 'let', 'never', 'heart',\n",
       "       'night', 'want', 'tell', 'world', 'back', 'eye', 'right', 'well',\n",
       "       'think', 'good', 'need', 'give', 'gon', 'leav', 'mind', 'man',\n",
       "       'babi', 'home', 'live', 'dream', 'thing', 'girl', 'music', 'long'],\n",
       "      dtype='<U31')"
      ]
     },
     "execution_count": 56,
     "metadata": {},
     "output_type": "execute_result"
    }
   ],
   "source": [
    "# 50 words most indicative of rock according to Count vectorization + Multinomial NB:\n",
    "rock_words=np.array(vectorizers[\"binary\"].get_feature_names())[models[\"binary\"].feature_log_prob_[0,:].argsort()[::-1][:50]]\n",
    "rock_words"
   ]
  },
  {
   "cell_type": "code",
   "execution_count": 57,
   "metadata": {},
   "outputs": [
    {
     "name": "stdout",
     "output_type": "stream",
     "text": [
      "P(love,rock)=0.415842 (smoothened)\n"
     ]
    }
   ],
   "source": [
    "# What is the value of P(love,rock)? Recall that this is the estimator of\n",
    "# the multinoulli parameter corresponding to the word \"that\" given class \"hip-hop\".\n",
    "# If this value was not smoothened, what would it reveal about our training corpora?\n",
    "print(f\"P(love,rock)={math.e**max(models['binary'].feature_log_prob_[0,:]):.6f} (smoothened)\")"
   ]
  },
  {
   "cell_type": "code",
   "execution_count": 58,
   "metadata": {},
   "outputs": [
    {
     "name": "stdout",
     "output_type": "stream",
     "text": [
      "P(love,rock) actual:  0.41563275434243174\n",
      "P(love,rock) smooth:  0.4158415841584158\n"
     ]
    }
   ],
   "source": [
    "# The actual bernoulli parameter of \"love\" given genre=rock. \n",
    "# What does this value reveal about \"love\" in rock songs?\n",
    "count,songs=0,0\n",
    "for i,song in enumerate(train_X):\n",
    "    songs+=(train_y[i]==0)\n",
    "    count+=(\"love\" in song and train_y[i]==0)\n",
    "print(\"P(love,rock) actual: \",count/songs)\n",
    "print(\"P(love,rock) smooth: \",(count+1)/(songs+2))"
   ]
  },
  {
   "cell_type": "code",
   "execution_count": 59,
   "metadata": {},
   "outputs": [
    {
     "name": "stdout",
     "output_type": "stream",
     "text": [
      "{'vers', 'ai', 'bitch', 'fuck', 'call', 'put', 'shit', 'around', 'choru', 'new', 'money', 'keep', 'ya', 'wan', 'tri', 'nigga', 'caus'}\n"
     ]
    }
   ],
   "source": [
    "# Top 50 words for Hip Hop not present in top 50 for Rock words:\n",
    "print(set(hiphop_words).difference(rock_words))"
   ]
  },
  {
   "cell_type": "code",
   "execution_count": 60,
   "metadata": {},
   "outputs": [
    {
     "name": "stdout",
     "output_type": "stream",
     "text": [
      "{'long', 'music', 'away', 'dream', 'leav', 'heart', 'life', 'day', 'home', 'mind', 'world', 'night', 'live', 'eye', 'well', 'good', 'oh'}\n"
     ]
    }
   ],
   "source": [
    "## Top 50 words for Rock not present in top 50 for Hip Hop:\n",
    "print(set(rock_words).difference(hiphop_words))"
   ]
  },
  {
   "cell_type": "markdown",
   "metadata": {},
   "source": [
    "Note tokens \"vers\" and \"choru\": these are most likely \"verse\" and \"chorus\", which are \"metadata tags\" in lyrics and, ideally, should have been filtered out before modeling. It is not clear, however, why these words appear to be more indicative of hip hop songs than of rock songs."
   ]
  },
  {
   "cell_type": "markdown",
   "metadata": {},
   "source": [
    "A more informative way to find words specific to one genre and not the other could be to find those with the largest discrepancy between P(word,hiphop) and P(word,rock). For example, this can be implemented in the following way."
   ]
  },
  {
   "cell_type": "code",
   "execution_count": 61,
   "metadata": {},
   "outputs": [],
   "source": [
    "# This code will compute differences in percentiles of \n",
    "# parameter estimates for rock and for hip hop for each word:\n",
    "from scipy.stats import percentileofscore\n",
    "rock=models[\"binary\"].feature_log_prob_[0,:]\n",
    "hiphop=models[\"binary\"].feature_log_prob_[1,:]\n",
    "diffs={}\n",
    "for i,word in enumerate(models[\"bow\"].feature_log_prob_.T):\n",
    "    diffs[percentileofscore(rock,word[0])-percentileofscore(hiphop,word[1])]=vectorizers[\"bow\"].get_feature_names()[i]"
   ]
  },
  {
   "cell_type": "code",
   "execution_count": 62,
   "metadata": {},
   "outputs": [
    {
     "name": "stdout",
     "output_type": "stream",
     "text": [
      "Hip Hop specific words: \n",
      " ['nigga', 'ya', 'fuck', 'money', 'yuh', 'work', 'ai', 'wan', 'сome', 'like', 'girl', 'got', 'know', 'man', 'go', 'tell', 'yeah', 'want', 'na', 'one', 'time', 'love', 'right', 'take', 'think', 'never', 'way', 'oh', 'would', 'year']\n",
      "\n",
      "\n",
      "Rock specific words: \n",
      " ['world', 'sun', 'life', 'well', 'tri', 'year', 'would', 'oh', 'way', 'never', 'think', 'take', 'right', 'love', 'time', 'one', 'na', 'want', 'yeah', 'tell', 'go', 'man', 'know', 'got', 'girl', 'like', 'сome', 'wan', 'ai', 'work']\n"
     ]
    }
   ],
   "source": [
    "# Find words with largest (rock-specific) and smallest (hip-hop specific) differences:\n",
    "words=[w for s,w in sorted(diffs.items(),key=lambda kv: kv[0])]\n",
    "print(\"Hip Hop specific words: \\n\",words[:30])\n",
    "print(\"\\n\\nRock specific words: \\n\",words[::-1][:30])"
   ]
  }
 ],
 "metadata": {
  "hide_input": false,
  "kernelspec": {
   "display_name": "Python 3",
   "language": "python",
   "name": "python3"
  },
  "language_info": {
   "codemirror_mode": {
    "name": "ipython",
    "version": 3
   },
   "file_extension": ".py",
   "mimetype": "text/x-python",
   "name": "python",
   "nbconvert_exporter": "python",
   "pygments_lexer": "ipython3",
   "version": "3.8.2"
  }
 },
 "nbformat": 4,
 "nbformat_minor": 4
}
