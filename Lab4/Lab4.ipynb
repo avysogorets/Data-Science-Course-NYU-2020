{
 "cells": [
  {
   "cell_type": "markdown",
   "metadata": {},
   "source": [
    "# Introduction to Data Science, Lab 4 (10/7)\n",
    "- Understand COMPAS and Propublica's data;\n",
    "- Assess type I/II errors of COMPAS predictions.\n",
    "\n",
    "The material in this notebook is based on the Responsible Data Science course taught by Julia Stoyanovich in Spring 2020. The data and its analysis are partly adopted from [(Larson et al., 2016)](https://www.propublica.org/article/how-we-analyzed-the-compas-recidivism-algorithm) published in ProPublica.\n",
    "### *COMPAS*\n",
    "COMPAS (Correctional Offender Management Profiling for Alternative Sanctions) is a software that assesses the risk of a defendant becoming a recidivist via his/her profile informaton and a questionnaire. This tool has been used in jurisdictions across several states, includign New York and California. COMPAS is often used as the pretrial assessment tool that suggests if a defendant should be released or booked in jail during the pretrial period.\n",
    "### *Understanding Data*\n",
    "The dataset was collected using records from Broward County, Florida. Originally, ProPublica received records of 18,610 people scored with COMPAS between 2013 and 2014. Then, records corresponding to defendants assessed not during their pretrial period (i.e., at parole, probation, etc.) were discarded. The authors of the dataset define recidivism as occurence of an arrest within two years of the COMPAS screening date, which is suggested by COMPAS developers as the predicting scope of their software. Traffic violations were not counter as an instance of recidivism, nor were arrests associated with offenses happened prior to COMPAS screening."
   ]
  },
  {
   "cell_type": "code",
   "execution_count": null,
   "metadata": {},
   "outputs": [],
   "source": [
    "import pandas as pd\n",
    "import numpy as np\n",
    "import matplotlib.pyplot as plt\n",
    "data=pd.read_csv(\"compas-scores-two-years.csv\")\n",
    "print(data.shape,data.columns)"
   ]
  },
  {
   "cell_type": "markdown",
   "metadata": {},
   "source": [
    "Columns represent certain profile characteristics of defendants; prefix 'c' seemingly stands for *current*, so that the corresponding fature reveals information about the current offense. Other prefixes are 'r', 'vr' and stand for *recidivism* and *violent recidivism*, respectively (the authors define *violent recidivism* as murder, manslaughter, forcible rape, robbery or aggravated assault).\n",
    "\n",
    "Let's focus on recidivism (rather than violent recidivism) and filter out features unnecessary for our analysis:\n",
    "\n",
    "1. `age` - age (numeric);\n",
    "2. `age_cat` - age bracket [0,25],[25,45] and [45,+] (categorical);\n",
    "3. `sex` - sex: male or female (categorical);\n",
    "4. `race` - race: african-american, caucasian, hispanic, asian, or other (categorical);\n",
    "5. `c_charge_degree` - crime degree: misdemeanor (M), felony (F), or not causing jail time (O) (categorical);\n",
    "6. `priors_count` - count of prior crimes committed (numeric);\n",
    "7. `days_b_screening_arrest` - days between the arrest and COMPAS screening (numeric);\n",
    "8. **`decile_score` - the COMPAS score predicted by the system: 1 to 10 (numeric);**\n",
    "9. **`score_text` - category of decile score: low (1-4), medium (5-7), or high (8-10) (categorical);**\n",
    "10. `is_recid` - indicator of recidivism after screening: 0,1 (categorical);\n",
    "11. `two_year_recid` - indicator of recidivism within two years after screening (categorical);\n",
    "12. `c_jail_in` - date of imprisonment (numeric);\n",
    "13. `c_jail_out` - date of release (numeric)."
   ]
  },
  {
   "cell_type": "code",
   "execution_count": null,
   "metadata": {},
   "outputs": [],
   "source": [
    "# Remove unnecessary columns:\n",
    "to_save=['sex','age','age_cat','race','c_charge_degree','priors_count','days_b_screening_arrest','decile_score','score_text','is_recid','two_year_recid','c_jail_in','c_jail_out']\n",
    "data=data[to_save].copy()"
   ]
  },
  {
   "cell_type": "code",
   "execution_count": null,
   "metadata": {},
   "outputs": [],
   "source": [
    "def column_type(col_name):\n",
    "    return data.loc[:,col_name].apply(lambda x: type(x)).unique()\n",
    "def column_range(col_name):\n",
    "    return data.loc[:,col_name].unique()\n",
    "def column_nan(col_name):\n",
    "    return data.loc[:,col_name].isna().sum()"
   ]
  },
  {
   "cell_type": "code",
   "execution_count": null,
   "metadata": {},
   "outputs": [],
   "source": [
    "# Understand the type of each feature:\n",
    "for col in data.columns:\n",
    "    print(col,\":\",column_type(col))"
   ]
  },
  {
   "cell_type": "code",
   "execution_count": null,
   "metadata": {
    "scrolled": true
   },
   "outputs": [],
   "source": [
    "# Understand the range of each categorical feature:\n",
    "categorical=[\"age_cat\",\"race\",\"sex\",\"c_charge_degree\",\"score_text\",\"is_recid\",\"two_year_recid\"]\n",
    "for col in categorical:\n",
    "    print(col,\":\",column_range(col))"
   ]
  },
  {
   "cell_type": "code",
   "execution_count": null,
   "metadata": {},
   "outputs": [],
   "source": [
    "# Understand the missing data:\n",
    "for col in data.columns:\n",
    "    print(col,\":\",column_nan(col))"
   ]
  },
  {
   "cell_type": "code",
   "execution_count": null,
   "metadata": {},
   "outputs": [],
   "source": [
    "# Delete observations with missing data:\n",
    "data=data.dropna()\n",
    "for col in data.columns:\n",
    "    print(col,\":\",column_nan(col))"
   ]
  },
  {
   "cell_type": "code",
   "execution_count": null,
   "metadata": {},
   "outputs": [],
   "source": [
    "# Delete observations with arrest/assessment mismatch\n",
    "data=data[(data.days_b_screening_arrest<=30)&(data.days_b_screening_arrest>=-30)]"
   ]
  },
  {
   "cell_type": "markdown",
   "metadata": {},
   "source": [
    "### *Visualizing Data*\n",
    "First, understand the data distribution for different groups by race, sex, and age:"
   ]
  },
  {
   "cell_type": "code",
   "execution_count": null,
   "metadata": {
    "scrolled": false
   },
   "outputs": [],
   "source": [
    "fig,axes=plt.subplots(nrows=1,ncols=2,figsize=(11,5))\n",
    "data.loc[:,\"age\"].hist(ax=axes[0],bins=10)\n",
    "axes[0].set_xlabel(\"age\")\n",
    "axes[0].set_ylabel(\"counts\")\n",
    "data[\"race\"].value_counts().plot(kind='bar',ax=axes[1])\n",
    "plt.xticks(rotation=45)\n",
    "axes[1].set_ylabel(\"counts\")\n",
    "males=round(len(data[data.sex==\"Male\"])/len(data),3)\n",
    "females=round(1-males,3)\n",
    "print(f\"male: {males}%, female: {females}%\")"
   ]
  },
  {
   "cell_type": "markdown",
   "metadata": {},
   "source": [
    "For different groups by race, sex, and age, plot the frequency of COMPAS scores:"
   ]
  },
  {
   "cell_type": "code",
   "execution_count": null,
   "metadata": {},
   "outputs": [],
   "source": [
    "# Show decile score histograms by sex:\n",
    "fig,axes=plt.subplots(nrows=1,ncols=2,figsize=(11,5))\n",
    "data_f=data[(data.sex=='Female')]\n",
    "data_f[\"decile_score\"].hist(ax=axes[0],label='total')\n",
    "axes[0].set_xlabel(\"Decile Score (1-10)\")\n",
    "axes[0].set_ylabel(\"Frequency\")\n",
    "axes[0].set_title(\"Female Criminal Cases by Decile Score\")\n",
    "data_f[data_f.two_year_recid==1][\"decile_score\"].hist(ax=axes[0],label='two year recidivist',color='pink')\n",
    "axes[0].legend()\n",
    "data_m=data[(data.sex=='Male')]\n",
    "data_m[\"decile_score\"].hist(ax=axes[1],label='total')\n",
    "axes[1].set_xlabel(\"Decile Score (1-10)\")\n",
    "axes[1].set_ylabel(\"Frequency\")\n",
    "axes[1].set_title(\"Male Criminal Cases by Decile Score\")\n",
    "data_m[data_m.two_year_recid==1][\"decile_score\"].hist(ax=axes[1],label='two year recidivist',color='pink')\n",
    "axes[1].legend()"
   ]
  },
  {
   "cell_type": "code",
   "execution_count": null,
   "metadata": {},
   "outputs": [],
   "source": [
    "# Compute the proportion of recidivists among all defendants in each decile group:\n",
    "proportions_f=[len(data_f[(data_f.two_year_recid==1)&(data_f.decile_score==i+1)])/len(data_f[data_f.decile_score==i+1]) for i in range(10)]\n",
    "proportions_m=[len(data_m[(data_m.two_year_recid==1)&(data_m.decile_score==i+1)])/len(data_m[data_m.decile_score==i+1]) for i in range(10)]\n",
    "plt.plot([0,10],[0,1],linestyle='dashed',color='k')\n",
    "plt.plot(range(1,11),proportions_m,color='blue',label='male')\n",
    "plt.plot(range(1,11),proportions_f,color='red',label='female')\n",
    "plt.title(\"Proportion of recidivists by Decile Score\")\n",
    "plt.xlabel(\"Decie Score (1-10)\")\n",
    "plt.ylabel(\"proportion\")\n",
    "plt.legend()\n",
    "plt.grid()"
   ]
  },
  {
   "cell_type": "code",
   "execution_count": null,
   "metadata": {},
   "outputs": [],
   "source": [
    "fig,axes=plt.subplots(nrows=1,ncols=2,figsize=(11,5))\n",
    "data_aa=data[(data.race=='African-American')]\n",
    "data_aa[\"decile_score\"].hist(ax=axes[0],label='total')\n",
    "axes[0].set_xlabel(\"Decile Score (0-10)\")\n",
    "axes[0].set_ylabel(\"Frequency\")\n",
    "axes[0].set_title(\"African-American by Decile Score\")\n",
    "data_aa[data_aa.two_year_recid==1][\"decile_score\"].hist(ax=axes[0],label='two year recidivist',color='pink')\n",
    "axes[0].legend()\n",
    "data_w=data[(data.race=='Caucasian')]\n",
    "data_w[\"decile_score\"].hist(ax=axes[1],label='total')\n",
    "axes[1].set_xlabel(\"Decile Score (0-10)\")\n",
    "axes[1].set_ylabel(\"Frequency\")\n",
    "axes[1].set_title(\"Caucasian by Decile Score\")\n",
    "data_w[data_w.two_year_recid==1][\"decile_score\"].hist(ax=axes[1],label='two year recidivist',color='pink')\n",
    "axes[1].legend()"
   ]
  },
  {
   "cell_type": "code",
   "execution_count": null,
   "metadata": {},
   "outputs": [],
   "source": [
    "# Compute the proportion of recidivists among all defendants in each decile group:\n",
    "proportions_aa=[len(data_aa[(data_aa.two_year_recid==1)&(data_aa.decile_score==i+1)])/len(data_aa[data_aa.decile_score==i+1]) for i in range(10)]\n",
    "proportions_w=[len(data_w[(data_w.two_year_recid==1)&(data_w.decile_score==i+1)])/len(data_w[data_w.decile_score==i+1]) for i in range(10)]\n",
    "plt.plot([0,10],[0,1],linestyle='dashed',color='k')\n",
    "plt.plot(range(1,11),proportions_aa,color='blue',label='african-american')\n",
    "plt.plot(range(1,11),proportions_w,color='red',label='caucasian')\n",
    "plt.title(\"Proportion of recidivists by Decile Score\")\n",
    "plt.xlabel(\"Decie Score (1-10)\")\n",
    "plt.ylabel(\"proportion\")\n",
    "plt.legend()\n",
    "plt.grid()"
   ]
  },
  {
   "cell_type": "code",
   "execution_count": null,
   "metadata": {},
   "outputs": [],
   "source": [
    "fig,axes=plt.subplots(nrows=1,ncols=2,figsize=(11,5))\n",
    "data_aa[\"score_text\"].value_counts().plot(kind='bar',ax=axes[0],label=\"total\")\n",
    "data_w[\"score_text\"].value_counts().plot(kind='bar',ax=axes[1],label=\"total\")\n",
    "data_aa[data_aa.two_year_recid==1][\"score_text\"].value_counts().plot(kind='bar',ax=axes[0],label=\"two year recidivist\",color='pink')\n",
    "data_w[data_w.two_year_recid==1][\"score_text\"].value_counts().plot(kind='bar',ax=axes[1],label=\"two year recidivist\",color='pink')\n",
    "axes[0].set_title('COMPAS risk for African-American')\n",
    "axes[1].set_title('COMPAS risk for Caucasians')\n",
    "axes[0].legend()\n",
    "axes[1].legend()"
   ]
  },
  {
   "cell_type": "code",
   "execution_count": null,
   "metadata": {},
   "outputs": [],
   "source": [
    "fig,axes=plt.subplots(nrows=1,ncols=3,figsize=(11,5))\n",
    "data_1=data[(data.age_cat=='Less than 25')]\n",
    "data_1[\"decile_score\"].hist(ax=axes[0])\n",
    "axes[0].set_xlabel(\"Decile Score (0-10)\")\n",
    "axes[0].set_ylabel(\"Frequency\")\n",
    "axes[0].set_title(\"Younger than 25 by Decile Score\")\n",
    "data_1[data_1.two_year_recid==1][\"decile_score\"].hist(ax=axes[0],label='two year recidivist',color='pink')\n",
    "axes[0].legend()\n",
    "data_2=data[(data.age_cat=='25 - 45')]\n",
    "data_2[\"decile_score\"].hist(ax=axes[1])\n",
    "axes[1].set_xlabel(\"Decile Score (0-10)\")\n",
    "axes[1].set_ylabel(\"Frequency\")\n",
    "axes[1].set_title(\"Age 25-45 by Decile Score\")\n",
    "data_2[data_2.two_year_recid==1][\"decile_score\"].hist(ax=axes[1],label='two year recidivist',color='pink')\n",
    "axes[1].legend()\n",
    "data_3=data[(data.age_cat=='Greater than 45')]\n",
    "data_3[\"decile_score\"].hist(ax=axes[2])\n",
    "axes[2].set_xlabel(\"Decile Score (0-10)\")\n",
    "axes[2].set_ylabel(\"Frequency\")\n",
    "axes[2].set_title(\"Older than 45 by Decile Score\")\n",
    "data_3[data_3.two_year_recid==1][\"decile_score\"].hist(ax=axes[2],label='two year recidivist',color='pink')\n",
    "axes[2].legend()\n",
    "plt.tight_layout()"
   ]
  },
  {
   "cell_type": "code",
   "execution_count": null,
   "metadata": {},
   "outputs": [],
   "source": [
    "# Compute the proportion of recidivists among all defendants in each decile group:\n",
    "proportions_1=[len(data_1[(data_1.two_year_recid==1)&(data_1.decile_score==i+1)])/len(data_1[data_1.decile_score==i+1]) for i in range(10)]\n",
    "proportions_2=[len(data_2[(data_2.two_year_recid==1)&(data_2.decile_score==i+1)])/len(data_2[data_2.decile_score==i+1]) for i in range(10)]\n",
    "proportions_3=[len(data_3[(data_3.two_year_recid==1)&(data_3.decile_score==i+1)])/len(data_3[data_3.decile_score==i+1]) for i in range(10)]\n",
    "plt.plot([0,10],[0,1],linestyle='dashed',color='k')\n",
    "plt.plot(range(1,11),proportions_1,color='blue',label='younger than 25')\n",
    "plt.plot(range(1,11),proportions_2,color='paleturquoise',label='25-45')\n",
    "plt.plot(range(1,11),proportions_3,color='pink',label='older than 45')\n",
    "plt.title(\"Proportion of recidivists by Decile Score\")\n",
    "plt.xlabel(\"Decie Score (1-10)\")\n",
    "plt.ylabel(\"proportion\")\n",
    "plt.legend()\n",
    "plt.grid()"
   ]
  },
  {
   "cell_type": "markdown",
   "metadata": {},
   "source": [
    "Exercise: what does the spike at decile 1 for defendants younger than 25 imply? Is this an evidence of COMPAS predicting too conservative or too liberal?\n",
    "### *Assessing Type I/II Errors of COMPAS*\n",
    "- *Type I errors* (false positives) are incorrect predictions of a positive class (incorrectly rejecting a true null hypothesis) when the truth is negative; \n",
    "- *Type II errors* (false negatives) are incorrect predictions of a negative class (incorrectly accepting a false null hypothesis) when the truth is positive.\n",
    "\n",
    "Here, the action space $\\mathcal{A}=[10]$ of the model (COMPAS) does not coincide with the output space $\\mathcal{Y}$ (binary *two_year_recid* variable). We thus need to determine a mapping $\\mathcal{A}\\rightarrow\\mathcal{Y}$ to be able to compute the error rates. Consider a natural choice $a\\mapsto \\mathbb{1}_{a>5}$ (i.e. place a threshold in the middle of the \"medium\" risk category).\n",
    "\n",
    "Since the race, sex and age distributions are not uniform in the data, we are not as interested in absolute counts of type I/II errors as we are in their rates. Rather, we want to know type I/II error *rates*, i.e., among all defendants within a particular demographic group, what proportion of them is mistakingly predicted risky/non-risky?"
   ]
  },
  {
   "cell_type": "code",
   "execution_count": null,
   "metadata": {},
   "outputs": [],
   "source": [
    "data_h=data[data.race==\"Hispanic\"]\n",
    "data_aa=data[data.race==\"African-American\"]\n",
    "data_w=data[data.race==\"Caucasian\"]"
   ]
  },
  {
   "cell_type": "code",
   "execution_count": null,
   "metadata": {},
   "outputs": [],
   "source": [
    "# Compute type I/II error rates within racial groups:\n",
    "cutoff=5\n",
    "type_1_aa=len(data_aa[(data_aa.two_year_recid==0)&(data_aa.decile_score>cutoff)])/len(data_aa[(data_aa.two_year_recid==0)])\n",
    "type_2_aa=len(data_aa[(data_aa.two_year_recid==1)&(data_aa.decile_score<=cutoff)])/len(data_aa[(data_aa.two_year_recid==1)])\n",
    "type_1_w=len(data_w[(data_w.two_year_recid==0)&(data_w.decile_score>cutoff)])/len(data_w[(data_w.two_year_recid==0)])\n",
    "type_2_w=len(data_w[(data_w.two_year_recid==1)&(data_w.decile_score<=cutoff)])/len(data_w[(data_w.two_year_recid==1)])\n",
    "type_1_h=len(data_h[(data_h.two_year_recid==0)&(data_h.decile_score>cutoff)])/len(data_h[(data_h.two_year_recid==0)])\n",
    "type_2_h=len(data_h[(data_h.two_year_recid==1)&(data_h.decile_score<=cutoff)])/len(data_h[(data_h.two_year_recid==1)])\n",
    "races=pd.DataFrame([[type_1_aa,type_2_aa],[type_1_w,type_2_w],[type_1_h,type_2_h]],index=[\"African-Americans\",\"Caucasians\",\"Hispanics\"],columns=[\"type I\",\"type II\"])\n",
    "display(races.T)"
   ]
  },
  {
   "cell_type": "markdown",
   "metadata": {},
   "source": [
    "Note that type II error rate is significantly lower for African-American group compared to Caucasians and Hispanics. In other words, a defendant that will become a recidivist within the next two years is much more likely to be predicted as low-risk if he/she is not African-American. Similarly, the type I error rate is much larger for African-Americans, implying that chances that a non-recidivist African-American defendant will be mistakingly predicted as high-risk are higher than in any other racial group."
   ]
  },
  {
   "cell_type": "code",
   "execution_count": null,
   "metadata": {},
   "outputs": [],
   "source": [
    "data_1=data[data.age_cat==\"Less than 25\"]\n",
    "data_2=data[data.age_cat==\"25 - 45\"]\n",
    "data_3=data[data.age_cat==\"Greater than 45\"]"
   ]
  },
  {
   "cell_type": "code",
   "execution_count": null,
   "metadata": {},
   "outputs": [],
   "source": [
    "# Compute type I/II error rates within age groups:\n",
    "cutoff=5\n",
    "type_1_1=len(data_1[(data_1.two_year_recid==0)&(data_1.decile_score>cutoff)])/len(data_1[(data_1.two_year_recid==0)])\n",
    "type_2_1=len(data_1[(data_1.two_year_recid==1)&(data_1.decile_score<=cutoff)])/len(data_1[(data_1.two_year_recid==1)])\n",
    "type_1_2=len(data_2[(data_2.two_year_recid==0)&(data_2.decile_score>cutoff)])/len(data_2[(data_2.two_year_recid==0)])\n",
    "type_2_2=len(data_2[(data_2.two_year_recid==1)&(data_2.decile_score<=cutoff)])/len(data_2[(data_2.two_year_recid==1)])\n",
    "type_1_3=len(data_3[(data_3.two_year_recid==0)&(data_3.decile_score>cutoff)])/len(data_3[(data_3.two_year_recid==0)])\n",
    "type_2_3=len(data_3[(data_3.two_year_recid==1)&(data_3.decile_score<=cutoff)])/len(data_3[(data_3.two_year_recid==1)])\n",
    "ages=pd.DataFrame([[type_1_1,type_2_1],[type_1_2,type_2_2],[type_1_3,type_2_3]],index=[\"Younger than 25\",\"25-45\",\"Older than 45\"],columns=[\"type I\",\"type II\"])\n",
    "display(ages.T)"
   ]
  },
  {
   "cell_type": "markdown",
   "metadata": {},
   "source": [
    "Note that type I error rate is the largest for defendants younger than 25; i.e., compared to other age groups, younger defendants are more likely to be mistakingly predicted to be high-risk compared to defendants falling in a differnt age bracket. Similarly, type II error rate is the largest for the older defendants, suggesting that potential two-year recidivists from this age group are more likely to be treated as low-risk compared to defendants from other age groups."
   ]
  },
  {
   "cell_type": "code",
   "execution_count": null,
   "metadata": {},
   "outputs": [],
   "source": [
    "data_f=data[data.sex==\"Female\"]\n",
    "data_m=data[data.sex==\"Male\"]"
   ]
  },
  {
   "cell_type": "code",
   "execution_count": null,
   "metadata": {},
   "outputs": [],
   "source": [
    "# Compute type I/II error rates within sex groups:\n",
    "cutoff=5\n",
    "type_1_f=len(data_f[(data_f.two_year_recid==0)&(data_f.decile_score>cutoff)])/len(data_f[(data_f.two_year_recid==0)])\n",
    "type_2_f=len(data_f[(data_f.two_year_recid==1)&(data_f.decile_score<=cutoff)])/len(data_f[(data_f.two_year_recid==1)])\n",
    "type_1_m=len(data_m[(data_m.two_year_recid==0)&(data_m.decile_score>cutoff)])/len(data_m[(data_m.two_year_recid==0)])\n",
    "type_2_m=len(data_m[(data_m.two_year_recid==1)&(data_m.decile_score<=cutoff)])/len(data_m[(data_m.two_year_recid==1)])\n",
    "sex=pd.DataFrame([[type_1_f,type_2_f],[type_1_m,type_2_m]],index=[\"Female\",\"Male\"],columns=[\"type I\",\"type II\"])\n",
    "display(sex.T)"
   ]
  },
  {
   "cell_type": "markdown",
   "metadata": {},
   "source": [
    "Now, iterate through different cutoff (threshold) values to observe if racial groups with largest type I/II errors change depending on this value."
   ]
  },
  {
   "cell_type": "code",
   "execution_count": null,
   "metadata": {},
   "outputs": [],
   "source": [
    "types_1_aa,types_2_aa,types_1_w,types_2_w,types_1_h,types_2_h=[],[],[],[],[],[]\n",
    "for cutoff in range(2,10):\n",
    "    types_1_aa.append(len(data_aa[(data_aa.two_year_recid==0)&(data_aa.decile_score>cutoff)])/len(data_aa[(data_aa.two_year_recid==0)]))\n",
    "    types_2_aa.append(len(data_aa[(data_aa.two_year_recid==1)&(data_aa.decile_score<=cutoff)])/len(data_aa[(data_aa.two_year_recid==1)]))\n",
    "    types_1_w.append(len(data_w[(data_w.two_year_recid==0)&(data_w.decile_score>cutoff)])/len(data_w[(data_w.two_year_recid==0)]))\n",
    "    types_2_w.append(len(data_w[(data_w.two_year_recid==1)&(data_w.decile_score<=cutoff)])/len(data_w[(data_w.two_year_recid==1)]))\n",
    "    types_1_h.append(len(data_h[(data_h.two_year_recid==0)&(data_h.decile_score>cutoff)])/len(data_h[(data_h.two_year_recid==0)]))\n",
    "    types_2_h.append(len(data_h[(data_h.two_year_recid==1)&(data_h.decile_score<=cutoff)])/len(data_h[(data_h.two_year_recid==1)]))"
   ]
  },
  {
   "cell_type": "code",
   "execution_count": null,
   "metadata": {},
   "outputs": [],
   "source": [
    "fig,axes=plt.subplots(nrows=1,ncols=2,figsize=(11,5))\n",
    "axes[0].plot(range(2,10),types_1_aa,label='african-american',color='blue')\n",
    "axes[0].plot(range(2,10),types_1_w,label='caucasian',color='pink')\n",
    "axes[0].plot(range(2,10),types_1_h,label='hispanic',color='paleturquoise')\n",
    "axes[0].set_xlabel(\"cutoff value\")\n",
    "axes[0].set_ylabel(\"type I error rate\")\n",
    "axes[0].legend()\n",
    "axes[0].grid()\n",
    "axes[1].plot(range(2,10),types_2_aa,label='african-american',color='blue')\n",
    "axes[1].plot(range(2,10),types_2_w,label='caucasian',color='pink')\n",
    "axes[1].plot(range(2,10),types_2_h,label='hispanic',color='paleturquoise')\n",
    "axes[1].set_xlabel(\"cutoff value\")\n",
    "axes[1].set_ylabel(\"type II error rate\")\n",
    "axes[1].legend()\n",
    "axes[1].grid()"
   ]
  },
  {
   "cell_type": "markdown",
   "metadata": {},
   "source": [
    "Interpret these graphs. Why does type I (II) error rate decrease (increase) with cutoff value?"
   ]
  }
 ],
 "metadata": {
  "hide_input": false,
  "kernelspec": {
   "display_name": "Python 3",
   "language": "python",
   "name": "python3"
  },
  "language_info": {
   "codemirror_mode": {
    "name": "ipython",
    "version": 3
   },
   "file_extension": ".py",
   "mimetype": "text/x-python",
   "name": "python",
   "nbconvert_exporter": "python",
   "pygments_lexer": "ipython3",
   "version": "3.7.3"
  }
 },
 "nbformat": 4,
 "nbformat_minor": 2
}
