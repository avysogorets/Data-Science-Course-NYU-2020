{
 "cells": [
  {
   "cell_type": "markdown",
   "metadata": {},
   "source": [
    "## Summary:\n",
    "\n",
    "Our strategy consists mainly of: processing the data then comparing 3 methods of prediction: a Multinomial Naive Bayes model with counts (bag-of-words) vectorization, a Multinomial Naive Bayes model with TF-IDF (term frequency and inverse document frequency) vectorization and finally  a Gaussian Naive Bayes model with TF-IDF vectorization as well. The final test model function uses the model that yields the best test score (we use the test set as a validation set). We decided to only investigate these 3 models but we could have also used a Logistic Regression model suggested by \\href{https://www.analyticsvidhya.com/blog/2019/04/predicting-movie-genres-nlp-multi-label-classification/}{this source}, that we also referred to for writing some processing functions. \n",
    "\n",
    "We find that the Multinomial Naive Bayes model with bag-of-words vectorization yields the best test accuracy of $70.5\\%$, with $90\\%$ training accuracy. We then use this model in the test function that we provide."
   ]
  },
  {
   "cell_type": "code",
   "execution_count": 1,
   "metadata": {},
   "outputs": [],
   "source": [
    "# importing all relevant packages \n",
    "import matplotlib.pyplot as plt\n",
    "import pandas as pd\n",
    "import numpy as np\n",
    "import nltk\n",
    "import math\n",
    "import re\n",
    "import seaborn as sns\n",
    "from tqdm import tqdm\n",
    "from sklearn.feature_extraction.text import TfidfVectorizer\n",
    "from sklearn.model_selection import train_test_split\n",
    "\n",
    "%matplotlib inline\n",
    "pd.set_option('display.max_colwidth', 300)"
   ]
  },
  {
   "cell_type": "markdown",
   "metadata": {},
   "source": [
    "## Data preprocessing "
   ]
  },
  {
   "cell_type": "code",
   "execution_count": 2,
   "metadata": {},
   "outputs": [
    {
     "name": "stdout",
     "output_type": "stream",
     "text": [
      "len description before dropping na:  10716\n",
      "len description after dropping na:  10716\n"
     ]
    }
   ],
   "source": [
    "# importing the data\n",
    "description = pd.read_csv('movie-plots-student.csv')\n",
    "print(\"len description before dropping na: \", len(description))\n",
    "# ommiting missing data\n",
    "description.dropna(axis=0,inplace=True)\n",
    "print(\"len description after dropping na: \", len(description))"
   ]
  },
  {
   "cell_type": "code",
   "execution_count": 3,
   "metadata": {
    "scrolled": true
   },
   "outputs": [
    {
     "data": {
      "text/html": [
       "<div>\n",
       "<style scoped>\n",
       "    .dataframe tbody tr th:only-of-type {\n",
       "        vertical-align: middle;\n",
       "    }\n",
       "\n",
       "    .dataframe tbody tr th {\n",
       "        vertical-align: top;\n",
       "    }\n",
       "\n",
       "    .dataframe thead th {\n",
       "        text-align: right;\n",
       "    }\n",
       "</style>\n",
       "<table border=\"1\" class=\"dataframe\">\n",
       "  <thead>\n",
       "    <tr style=\"text-align: right;\">\n",
       "      <th></th>\n",
       "      <th>Unnamed: 0</th>\n",
       "      <th>Genre</th>\n",
       "      <th>Plot</th>\n",
       "    </tr>\n",
       "  </thead>\n",
       "  <tbody>\n",
       "    <tr>\n",
       "      <th>0</th>\n",
       "      <td>0</td>\n",
       "      <td>drama</td>\n",
       "      <td>A Bill of Divorcement describes a day in the lives of a middle-aged Englishwoman named Margaret \"Meg\" Fairfield (Burke); her daughter Sydney (Hepburn); Sydney's fiancé Kit Humphreys (Manners); Meg's fiancé Gray Meredith (Cavanagh); and Meg's husband Hilary (Barrymore), who escapes after spending...</td>\n",
       "    </tr>\n",
       "    <tr>\n",
       "      <th>1</th>\n",
       "      <td>1</td>\n",
       "      <td>comedy</td>\n",
       "      <td>Dr. Clitterhouse (Edward G. Robinson) is a wealthy society doctor in New York City who decides to research the medical aspects of the behavior of criminals directly by becoming one. He begins a series of daring jewel robberies, measuring his own blood pressure, temperature and pulse before, duri...</td>\n",
       "    </tr>\n",
       "    <tr>\n",
       "      <th>2</th>\n",
       "      <td>2</td>\n",
       "      <td>comedy</td>\n",
       "      <td>Three young couples, all having financial struggles, decide to risk getting married. Joe Tucker and new wife Susie begin their new life living in a trailer. Slats Warwick is in a continuous quarrel with bride Jennifer, whose allowance from her parents is keeping them afloat.\\r\\nThe couple having...</td>\n",
       "    </tr>\n",
       "  </tbody>\n",
       "</table>\n",
       "</div>"
      ],
      "text/plain": [
       "   Unnamed: 0   Genre  \\\n",
       "0           0   drama   \n",
       "1           1  comedy   \n",
       "2           2  comedy   \n",
       "\n",
       "                                                                                                                                                                                                                                                                                                          Plot  \n",
       "0  A Bill of Divorcement describes a day in the lives of a middle-aged Englishwoman named Margaret \"Meg\" Fairfield (Burke); her daughter Sydney (Hepburn); Sydney's fiancé Kit Humphreys (Manners); Meg's fiancé Gray Meredith (Cavanagh); and Meg's husband Hilary (Barrymore), who escapes after spending...  \n",
       "1  Dr. Clitterhouse (Edward G. Robinson) is a wealthy society doctor in New York City who decides to research the medical aspects of the behavior of criminals directly by becoming one. He begins a series of daring jewel robberies, measuring his own blood pressure, temperature and pulse before, duri...  \n",
       "2  Three young couples, all having financial struggles, decide to risk getting married. Joe Tucker and new wife Susie begin their new life living in a trailer. Slats Warwick is in a continuous quarrel with bride Jennifer, whose allowance from her parents is keeping them afloat.\\r\\nThe couple having...  "
      ]
     },
     "metadata": {},
     "output_type": "display_data"
    }
   ],
   "source": [
    "display(description.head(3))"
   ]
  },
  {
   "cell_type": "code",
   "execution_count": 4,
   "metadata": {},
   "outputs": [],
   "source": [
    "# we keep test data to try our pipeline towards the end \n",
    "test_data = [w for w in description['Plot'].iloc[:10]]"
   ]
  },
  {
   "cell_type": "code",
   "execution_count": 5,
   "metadata": {
    "scrolled": true
   },
   "outputs": [
    {
     "data": {
      "text/html": [
       "<div>\n",
       "<style scoped>\n",
       "    .dataframe tbody tr th:only-of-type {\n",
       "        vertical-align: middle;\n",
       "    }\n",
       "\n",
       "    .dataframe tbody tr th {\n",
       "        vertical-align: top;\n",
       "    }\n",
       "\n",
       "    .dataframe thead th {\n",
       "        text-align: right;\n",
       "    }\n",
       "</style>\n",
       "<table border=\"1\" class=\"dataframe\">\n",
       "  <thead>\n",
       "    <tr style=\"text-align: right;\">\n",
       "      <th></th>\n",
       "      <th>movie_id</th>\n",
       "      <th>genre</th>\n",
       "      <th>plot</th>\n",
       "    </tr>\n",
       "  </thead>\n",
       "  <tbody>\n",
       "    <tr>\n",
       "      <th>0</th>\n",
       "      <td>0</td>\n",
       "      <td>drama</td>\n",
       "      <td>A Bill of Divorcement describes a day in the lives of a middle-aged Englishwoman named Margaret \"Meg\" Fairfield (Burke); her daughter Sydney (Hepburn); Sydney's fiancé Kit Humphreys (Manners); Meg's fiancé Gray Meredith (Cavanagh); and Meg's husband Hilary (Barrymore), who escapes after spending...</td>\n",
       "    </tr>\n",
       "    <tr>\n",
       "      <th>1</th>\n",
       "      <td>1</td>\n",
       "      <td>comedy</td>\n",
       "      <td>Dr. Clitterhouse (Edward G. Robinson) is a wealthy society doctor in New York City who decides to research the medical aspects of the behavior of criminals directly by becoming one. He begins a series of daring jewel robberies, measuring his own blood pressure, temperature and pulse before, duri...</td>\n",
       "    </tr>\n",
       "    <tr>\n",
       "      <th>2</th>\n",
       "      <td>2</td>\n",
       "      <td>comedy</td>\n",
       "      <td>Three young couples, all having financial struggles, decide to risk getting married. Joe Tucker and new wife Susie begin their new life living in a trailer. Slats Warwick is in a continuous quarrel with bride Jennifer, whose allowance from her parents is keeping them afloat.\\r\\nThe couple having...</td>\n",
       "    </tr>\n",
       "  </tbody>\n",
       "</table>\n",
       "</div>"
      ],
      "text/plain": [
       "   movie_id   genre  \\\n",
       "0         0   drama   \n",
       "1         1  comedy   \n",
       "2         2  comedy   \n",
       "\n",
       "                                                                                                                                                                                                                                                                                                          plot  \n",
       "0  A Bill of Divorcement describes a day in the lives of a middle-aged Englishwoman named Margaret \"Meg\" Fairfield (Burke); her daughter Sydney (Hepburn); Sydney's fiancé Kit Humphreys (Manners); Meg's fiancé Gray Meredith (Cavanagh); and Meg's husband Hilary (Barrymore), who escapes after spending...  \n",
       "1  Dr. Clitterhouse (Edward G. Robinson) is a wealthy society doctor in New York City who decides to research the medical aspects of the behavior of criminals directly by becoming one. He begins a series of daring jewel robberies, measuring his own blood pressure, temperature and pulse before, duri...  \n",
       "2  Three young couples, all having financial struggles, decide to risk getting married. Joe Tucker and new wife Susie begin their new life living in a trailer. Slats Warwick is in a continuous quarrel with bride Jennifer, whose allowance from her parents is keeping them afloat.\\r\\nThe couple having...  "
      ]
     },
     "metadata": {},
     "output_type": "display_data"
    }
   ],
   "source": [
    "# renaming colums \n",
    "description.columns = [\"movie_id\", \"genre\", \"plot\"]\n",
    "display(description.head(3))"
   ]
  },
  {
   "cell_type": "code",
   "execution_count": 6,
   "metadata": {},
   "outputs": [
    {
     "data": {
      "text/html": [
       "<div>\n",
       "<style scoped>\n",
       "    .dataframe tbody tr th:only-of-type {\n",
       "        vertical-align: middle;\n",
       "    }\n",
       "\n",
       "    .dataframe tbody tr th {\n",
       "        vertical-align: top;\n",
       "    }\n",
       "\n",
       "    .dataframe thead th {\n",
       "        text-align: right;\n",
       "    }\n",
       "</style>\n",
       "<table border=\"1\" class=\"dataframe\">\n",
       "  <thead>\n",
       "    <tr style=\"text-align: right;\">\n",
       "      <th></th>\n",
       "      <th>movie_id</th>\n",
       "      <th>genre</th>\n",
       "      <th>plot</th>\n",
       "    </tr>\n",
       "  </thead>\n",
       "  <tbody>\n",
       "    <tr>\n",
       "      <th>0</th>\n",
       "      <td>0</td>\n",
       "      <td>drama</td>\n",
       "      <td>a bill of divorcement describes a day in the lives of a middle aged englishwoman named margaret meg fairfield burke her daughter sydney hepburn sydneys fianc kit humphreys manners megs fianc gray meredith cavanagh and megs husband hilary barrymore who escapes after spending almost twenty years i...</td>\n",
       "    </tr>\n",
       "    <tr>\n",
       "      <th>1</th>\n",
       "      <td>1</td>\n",
       "      <td>comedy</td>\n",
       "      <td>dr clitterhouse edward g robinson is a wealthy society doctor in new york city who decides to research the medical aspects of the behavior of criminals directly by becoming one he begins a series of daring jewel robberies measuring his own blood pressure temperature and pulse before during and a...</td>\n",
       "    </tr>\n",
       "    <tr>\n",
       "      <th>2</th>\n",
       "      <td>2</td>\n",
       "      <td>comedy</td>\n",
       "      <td>three young couples all having financial struggles decide to risk getting married joe tucker and new wife susie begin their new life living in a trailer slats warwick is in a continuous quarrel with bride jennifer whose allowance from her parents is keeping them afloat the couple having the hard...</td>\n",
       "    </tr>\n",
       "  </tbody>\n",
       "</table>\n",
       "</div>"
      ],
      "text/plain": [
       "   movie_id   genre  \\\n",
       "0         0   drama   \n",
       "1         1  comedy   \n",
       "2         2  comedy   \n",
       "\n",
       "                                                                                                                                                                                                                                                                                                          plot  \n",
       "0  a bill of divorcement describes a day in the lives of a middle aged englishwoman named margaret meg fairfield burke her daughter sydney hepburn sydneys fianc kit humphreys manners megs fianc gray meredith cavanagh and megs husband hilary barrymore who escapes after spending almost twenty years i...  \n",
       "1  dr clitterhouse edward g robinson is a wealthy society doctor in new york city who decides to research the medical aspects of the behavior of criminals directly by becoming one he begins a series of daring jewel robberies measuring his own blood pressure temperature and pulse before during and a...  \n",
       "2  three young couples all having financial struggles decide to risk getting married joe tucker and new wife susie begin their new life living in a trailer slats warwick is in a continuous quarrel with bride jennifer whose allowance from her parents is keeping them afloat the couple having the hard...  "
      ]
     },
     "metadata": {},
     "output_type": "display_data"
    }
   ],
   "source": [
    "# preprocessing the data \n",
    "def preprocess(plot):\n",
    "    # transforming upper case to lower case \n",
    "    plot = plot.lower()\n",
    "    # getting rid of backslash-apostrophe \n",
    "    plot = re.sub(\"\\'\", \"\", plot) \n",
    "    # getting rid of symbols\n",
    "    plot = re.sub(\"[^a-zA-Z]\",\" \",plot) \n",
    "    # getting rid of white spaces \n",
    "    plot = ' '.join(plot.split())      \n",
    "    \n",
    "    return plot\n",
    "\n",
    "description['plot'] = description['plot'].apply(lambda x: preprocess(x))\n",
    "display(description.head(3))"
   ]
  },
  {
   "cell_type": "code",
   "execution_count": 7,
   "metadata": {},
   "outputs": [
    {
     "data": {
      "text/plain": [
       "array(['action', 'comedy', 'drama', 'horror'], dtype=object)"
      ]
     },
     "execution_count": 7,
     "metadata": {},
     "output_type": "execute_result"
    }
   ],
   "source": [
    "# the data only includes the genres we want to predict \n",
    "np.unique(description['genre'])"
   ]
  },
  {
   "cell_type": "code",
   "execution_count": 8,
   "metadata": {
    "scrolled": true
   },
   "outputs": [
    {
     "data": {
      "image/png": "[encoded data removed]",
      "text/plain": [
       "<Figure size 432x288 with 1 Axes>"
      ]
     },
     "metadata": {
      "needs_background": "light"
     },
     "output_type": "display_data"
    }
   ],
   "source": [
    "# checking the length of the description\n",
    "len_plot = description[\"plot\"].apply(lambda x: len(x))\n",
    "plt.hist(len_plot, bins=200)\n",
    "plt.show()"
   ]
  },
  {
   "cell_type": "code",
   "execution_count": 9,
   "metadata": {},
   "outputs": [],
   "source": [
    "# Checking the shortest and the longest plots\n",
    "shortest_plot=description[description[\"plot\"].apply(lambda x: len(x))==description[\"plot\"].apply(lambda x: len(x)).min()]\n",
    "longest_plot=description[description[\"plot\"].apply(lambda x: len(x))==description[\"plot\"].apply(lambda x: len(x)).max()]"
   ]
  },
  {
   "cell_type": "code",
   "execution_count": 10,
   "metadata": {
    "scrolled": true
   },
   "outputs": [
    {
     "name": "stdout",
     "output_type": "stream",
     "text": [
      "18 16069\n"
     ]
    }
   ],
   "source": [
    "print(len(shortest_plot[\"plot\"].iloc[0]), len(longest_plot[\"plot\"].iloc[0]))"
   ]
  },
  {
   "cell_type": "code",
   "execution_count": 11,
   "metadata": {},
   "outputs": [
    {
     "name": "stdout",
     "output_type": "stream",
     "text": [
      "Shortest plot:  films introduction\n",
      "Longest plot:  following the screening of her latest film the scarlet lady hollywood movie star april tremaine is posing for photographs in chicago when her overly opinionated director ivan ivansky suddenly orders the newspaper reporters and photographers out of the room once they are out he tells her that her next film has to differ in tone to the previous ones and april is horrified to know that in order to accomplish this he has decided she has to have a baby her complaints fall on deaf ears to ivan who charges his press agent patsy riley with the job of finding one for a publicity stunt patsys first thought is to enlist the help of pennsylvania railroad locomotive driver maurice mike monaghan an old boyfriend of hers and one of the regular drivers of the prrs top link express train the broadway limited mike is at first delighted when he hears that they are travelling on the limited but is less enthused when he is assigned to try to find the baby required for the stunt as he gloomily outlines the problem to the bartender of the engine shed cafe an unknown man nearby overhears and makes a telephone call before informing mike that he has solved his problem mike is so glad to see his dilemma solved that he vows to remain his lifelong friend but unknown to him the kidnapping of a baby belonging to family named pierson has made headline news at chicago union station aprils adopted baby attracts a great deal of attention from news reporters they are watched as they board the broadway limited by a suspicious looking stranger who hands over some money to the man who helped mike out of his predicament earlier before boarding the express himself mike has been rostered to the first leg of the journey from chicago to fort wayne where another crew is waiting to take the train on to harrisburg as they make their way along the line he informs his fireman that he is taking his holiday in new york and wont be returning to chicago with him the fireman is rather taken aback when he hears that mike is travelling on the limited especially when he mentions that patsy is on the train meanwhile patsy is met by myra prottle the president of the chicago april tremaine club patsy is just showing her into ivans compartment when she is called away and when ivan eventually emerges he doesnt immediately recognise miss prottle and firmly orders her out she re enters shortly after on patsys prompting but this time she is on hand to explain who exactly miss prottle is to ivan before he can get rid of her again whereupon ivan takes out his annoyance on her at his own mistake and orders her to leave him and miss prottle in peace in her own compartment april is having trouble with the baby again but isnt sure how to stop him crying thinking that he may be hungry she leaves him in patsys care and goes to the buffet in the observation lounge where she unexpectedly meets up with her childhood sweetheart dr harvey north who remembers her by her real name of mary potter their brief gossip is interrupted when patsy reminds april about the baby harvey who is especially gifted with children follows to see if he can help when they get back to aprils compartment she confides in patsy that ivan may have a point in what he had said on their way to the station about being at home nurturing her very own child and a young husband realising that she is thinking of marrying harvey patsy rushes back to ivans compartment to break the news to him meanwhile harvey is rather taken aback by the babys similar appearance to aprils almost as if he were her own april tries to explain that it is merely a publicity stunt but harvey cannot bring himself to believe this and when she asks for ivans support unaware that he is fearful of losing his leading lady he denies that he had anything to do with it displeased at being fooled harvey walks out and returns to the observation saloon and an angry april forces ivan and patsy out of her compartment along with the baby at fort wayne mike hands his engine k no over to the relief crew and joins the train itself while he is waiting in the dining car for patsy he is briefly harassed by a small boy before being joined at his table by harvey patsy enters the dining car a little later with april and miss prottle seeing harvey at mikes table april tries once again to reason with him but harvey still doesnt believe her in the end she gets her way by telling him that ivan was the father ivan soon approaches her table with the baby and is confused when harvey threatens to knock his teeth down his throat before storming off but april smugly repeats to ivan what she had said to harvey horrified ivan leaves the baby with april and flees to his compartment to pack his suitcase ordering the train porter to stop the train and let him off in spite of it being scheduled to run straight through to harrisburg the porter has only just gone to talk to the guard about it when harvey comes to interrogate ivan before he can do so ivan reveals to him that it was indeed a mere publicity stunt leaving harvey rather ashamed of himself in the dining car mike has joined patsy and miss prottle on their table and is explaining to miss prottle about various aspects of railroading he has just finished explaining how he once avoided crashing into a derailed wagon when a goods train flashes past causing mike to leap from his seat and yell a greeting he explains to patsy and miss prottle that a friend relative was driving the goods engine eventually patsy and miss prottle head off to help april with the baby but before she leaves patsy and mike agree to meet in the observation car later on in the observation car mike is just leafing through a newspaper when another passenger comments about the pierson kidnapping which is still making headline news he adds that the last such crime was foiled in just three weeks the kidnapper being sentenced to death while the accomplice who didnt realise that the kid had been taken hostage in the first place was given years effectively a life sentence mike is shocked when he reads that the baby in question is similar in appearance to the one lent to april tremaine and was believed to have been heading east when he sees that the other passenger is a detective he hastily leaves the saloon and heads for patsys compartment to check the baby for the one detail that hasnt been seen yet a mole on his left shoulder by this time patsy and miss prottle have the baby ready for bed but miss prottle insists on staying up late to listen to renfrew of the mounted a radio series of which she is a big fan mike hastily offers to look after the baby briefly while they go and listen to the latest installment on the observation saloon radio as soon as they have gone the suspicious character looks through the door and remarks to mike about the baby adding that he will be right outside if he needs any help he shuts the door behind him and mike pulls the babys shirt down to look at his shoulder sure enough he sees a dark patch similar to a mole in the observation saloon renfrew of the mounted is just finishing when mike comes in and tries to explain their dilemma to patsy while miss prottle takes charge of the baby but patsy is so annoyed at his anxious rambling that she mistakes it for lack of interest in her and accordingly walks out on him realising that he is on his own mike reacts by collecting every newspaper in the train before discarding them through the carriage window in the observation saloon meanwhile harvey tries to apologise to april for his misunderstanding but april refuses to hear him out ivan who had opted to stay on the train after all steps in and reminds harvey that he is a mere underpaid doctor and advises that he shouldnt interfere with her career any longer although suspicious that ivan may have ulterior motives harvey reluctantly agrees however his guilt quickly catches up with him again and his attempts to make up with april are constantly foiled by ivan staring warily out of his compartment ironically every time he himself tries to talk with april harvey catches him out this goes on until they catch mike leaving aprils compartment both are taken aback by this unaware that mike was really helping to open aprils suitcase later that night patsy is woken by a sleepless mike who tells her that unbeknown to him until too late the baby had been kidnapped thankfully patsy has a plan and puts mike in charge of the baby until they get a chance to drop him off at a station mike takes the baby back to his compartment and keeps him occupied by telling him the three bears until he falls asleep mid story shortly patsy comes and informs him that the train has made an unscheduled stop mike takes this opportunity to leave the baby in the booking office of the nearby station but just as he leaves the building the suspicious man finds the baby with a note in his crib please return to chicago notify police he screws up the note and surreptitiously returns the baby to aprils compartment when mike returns he finds that the train is being held up for two and a half hours there is a flood in the valley and the express engine has been commandeered to take a consignment of coal trucks to the town affected by the flood the other engine a d is unable to make it fast enough mike suggests that they use the smaller engine to pull the broadway limited but the driver and fireman are sceptical saying that they couldnt get enough head on that to haul the limited around the block mike however is insistent and challenges the superintendent mulcany into firing the engine for him with that mike and mulcany prepare the d while no is shunted onto the coal trucks the d slips violently at first but with careful handling and some sand on the rails mike manages to get the express rolling again back on the train miss prottle realises that the baby is missing and frantically tells ivan who orders the guard to call for the police patsy overhears and rushes miss prottle back to bed before repeating to ivan what mike had told her realising that they are headed for prison cells if the police are sent for ivan rushes off to order the guard not to send off the message only to find he is too late but almost immediately after he finds this out he remembers that the baby is missing anyway so they have no need to worry meanwhile april is woken up to find the baby on her bedside table although confused at first as to how the baby got into her compartment and why he is wide awake she sees a chance to make up her dispute with harvey and asks the porter to send for him when harvey arrives he deduces that the baby just isnt tired much to aprils relief but kindly offers to stay and keep an eye on him by this time april is beginning to realise just how right ivan was about babies and expresses to harvey a desire to have one of her own ivans words are still playing on harveys mind however and he is therefore rather pessimistic about this until april tells him that she has had enough of making films with ivan they both head off to ivans compartment where april confesses her love to harvey and the two of them share a kiss just as ivan opens his door ivan is horrified not only because harvey went back on his word but also at aprils intention to quit from hollywood and marry harvey they leave ivan pacing back and forth in his compartment ranting and raving to himself in russian as he tries desperately to work out a way round it by dawn ivan is still pacing in his compartment unable to sleep when he hits on a compromise whereby he hopes everyone will win excited he heads off to harveys compartment and admitting that he has been rather heartless up till now proposes to build harveys life ambition the finest clinic that science can dream up money can buy harvey is unconvinced at first but ivan promises to pay him the required and give him a contract before he leaves the train while they are discussing this the express enters harrisburg where it is to change engines and proceed to new york behind a gg electric locomotive as soon as they have stopped mulcany congratulates mike on his expert handling of the little d and wishes him a nice holiday mike returns to the train feeling pleased with himself unaware that the police have begun to search the limited for the baby following a brief visit from one of the policemen ivan confides in harvey about their predicament and is shocked to hear from harvey that the baby is still aboard the train he runs back to aprils compartment where april is just dressing the baby for the day and explains to her how he had been kidnapped patsy enters shortly after and is shocked to find the baby on aprils bed ivan hands her the baby and forces her into her own compartment before hastily organising a ruse with april as soon as the policeman enters april pretends to be distraught while ivan keeps him occupied for a short while back in patsys compartment mike comes to inform patsy that everything is under control but patsy reveals that the baby is back aboard the train much to his bewilderment he takes the baby back into aprils compartment just in time to avoid being caught out by miss prottle and the policeman whom miss prottle mistakes for renfrew of the mounted the policemen soon come to the conclusion that the baby isnt on the train and head back to make their report with the coast clear and the engines changed mike heads to his compartment with the baby while ivan patsy april and harvey try to find a way out of their crisis ivan suggests that they get off at philadelphia but patsy reminds him that they will be rounded up by the police even if they dont stay on the train until new york at philadelphia the suspicious man is met by another two men who join the train for the last few miles to new york back in aprils compartment patsy harvey april and ivan are still desperately trying to find a solution to their problem until miss prottle points out that they are all heroes harvey and april realise that they neednt have worried about the baby after all they just have to hand him to the police and they will be on the front page of every newspaper in the usa at that moment mike comes in and announces that he is going to surrender as soon as they reach new york to which all eagerly agree patsy sends him to get the baby and mike elated when he hears that they will all be received to a heros welcome instantly obliges shortly after the guard hands ivan the contract and a cheque for the clinic harvey is just signing the contract when mike bursts back into the room in a panic saying that the baby has gone all six of them spread out to look for the baby whom mike eventually finds with the suspicious stranger he approaches him demanding the baby back but the other two passengers try to restrain him mike however is too strong for them and knocks them down before hanging the suspicious passenger on the coat hanger patsy enters and is about to take the baby when the other two passengers come round and bar her way only to be overpowered once again by mike on arrival at pennsylvania station it is revealed that the pierson baby had been found the night before and that the suspicious looking man was actually the babys father he had let them use the baby for the publicity stunt on the basis that he could use the reward for a family reunion the other two characters he adds are his brother and brother in law from philadelphia mike points out what he believes is a mole on the babys shoulder but it turns out to be a false beauty mark that miss prottle had lost with their misunderstanding sorted out patsy heads off to niagara falls with mike while the flustered father leaves for his reunion before harvey and april leave however they read through the contract and find that the clinic is to be located right across the street from ivans studio possibly indicating that ivan intended to keep april as his leading lady without interfering too much with her private life with harvey as for miss prottle she chases after another policeman once again believing him to be renfrew\n"
     ]
    }
   ],
   "source": [
    "print(\"Shortest plot: \", shortest_plot[\"plot\"].iloc[0])\n",
    "print(\"Longest plot: \", longest_plot[\"plot\"].iloc[0])"
   ]
  },
  {
   "cell_type": "markdown",
   "metadata": {},
   "source": [
    "The shortest plot is not informative while the longest does make sense. We will get rid of movies with very short plots. "
   ]
  },
  {
   "cell_type": "code",
   "execution_count": 12,
   "metadata": {
    "scrolled": true
   },
   "outputs": [
    {
     "name": "stdout",
     "output_type": "stream",
     "text": [
      "10700\n"
     ]
    }
   ],
   "source": [
    "# Remove movies with very short plots\n",
    "description=description[description[\"plot\"].apply(lambda x: len(x)>=50)]\n",
    "print(len(description))"
   ]
  },
  {
   "cell_type": "markdown",
   "metadata": {},
   "source": [
    "16 movies had too short plots. "
   ]
  },
  {
   "cell_type": "code",
   "execution_count": 13,
   "metadata": {},
   "outputs": [
    {
     "name": "stdout",
     "output_type": "stream",
     "text": [
      "Number of comedy movies is 3723\n",
      "Number of drama movies is 5051\n",
      "Number of horror movies is 986\n",
      "Number of action movies is 940\n"
     ]
    }
   ],
   "source": [
    "# counting movies in each genre\n",
    "# We will build a model predicting genre of a song:\n",
    "genres=[\"comedy\", \"drama\", \"horror\", \"action\"]\n",
    "movies_0=description[description[\"genre\"]==genres[0]]\n",
    "movies_1=description[description[\"genre\"]==genres[1]]\n",
    "movies_2=description[description[\"genre\"]==genres[2]]\n",
    "movies_3=description[description[\"genre\"]==genres[3]]\n",
    "movies = [movies_0, movies_1, movies_2, movies_3]\n",
    "for i in range(4):\n",
    "    print(\"Number of {} movies is {}\".format(genres[i], len(movies[i])))"
   ]
  },
  {
   "cell_type": "markdown",
   "metadata": {},
   "source": [
    "No severe imbalance detected! "
   ]
  },
  {
   "cell_type": "markdown",
   "metadata": {},
   "source": [
    "### *Tokenization*"
   ]
  },
  {
   "cell_type": "markdown",
   "metadata": {},
   "source": [
    "We remove all the stop words:"
   ]
  },
  {
   "cell_type": "code",
   "execution_count": 14,
   "metadata": {},
   "outputs": [
    {
     "data": {
      "image/png": "[encoded data removed]",
      "text/plain": [
       "<Figure size 864x1080 with 1 Axes>"
      ]
     },
     "metadata": {
      "needs_background": "light"
     },
     "output_type": "display_data"
    }
   ],
   "source": [
    "def plot_frequency_(plot, freq): \n",
    "    plots = ' '.join([text for text in plot]) \n",
    "    plots = plots.split() \n",
    "    fdist = nltk.FreqDist(plots) \n",
    "    plots_df =  pd.DataFrame({'word':list(fdist.keys()), 'count':list(fdist.values())}) \n",
    "                                                                     \n",
    "    d = plots_df.nlargest(columns=\"count\", n = freq) \n",
    "\n",
    "    plt.figure(figsize=(12,15)) \n",
    "    ax = sns.barplot(data=d, x= \"count\", y = \"word\") \n",
    "    ax.set(ylabel = 'Word') \n",
    "    plt.show()\n",
    "# show most frequent 50 words\n",
    "plot_frequency_(description['plot'], 50)"
   ]
  },
  {
   "cell_type": "code",
   "execution_count": 15,
   "metadata": {},
   "outputs": [
    {
     "name": "stderr",
     "output_type": "stream",
     "text": [
      "[nltk_data] Downloading package stopwords to\n",
      "[nltk_data]     /Users/artemvysogorets/nltk_data...\n",
      "[nltk_data]   Package stopwords is already up-to-date!\n"
     ]
    }
   ],
   "source": [
    "from nltk.corpus import stopwords\n",
    "nltk.download('stopwords')\n",
    "stop_words = set(stopwords.words('english'))"
   ]
  },
  {
   "cell_type": "code",
   "execution_count": 16,
   "metadata": {},
   "outputs": [
    {
     "data": {
      "image/png": "[encoded data removed]",
      "text/plain": [
       "<Figure size 864x1080 with 1 Axes>"
      ]
     },
     "metadata": {
      "needs_background": "light"
     },
     "output_type": "display_data"
    }
   ],
   "source": [
    "def remove_stopwords(plot):\n",
    "    new_plot = [w for w in plot.split() if not w in stop_words]\n",
    "    return ' '.join(new_plot)\n",
    "\n",
    "description['plot'] = description['plot'].apply(lambda x: remove_stopwords(x))\n",
    "plot_frequency_(description['plot'], 50)"
   ]
  },
  {
   "cell_type": "markdown",
   "metadata": {},
   "source": [
    "### *Text Normalization*"
   ]
  },
  {
   "cell_type": "markdown",
   "metadata": {},
   "source": [
    "We normalize the text in our data:"
   ]
  },
  {
   "cell_type": "code",
   "execution_count": 17,
   "metadata": {},
   "outputs": [],
   "source": [
    "from nltk import WordNetLemmatizer\n",
    "from nltk.stem import PorterStemmer\n",
    "porter=PorterStemmer()\n",
    "\n",
    "def normalize_text(plot):\n",
    "    new_plot = [porter.stem(w) for w in plot.split()]\n",
    "    return ' '.join(new_plot)"
   ]
  },
  {
   "cell_type": "code",
   "execution_count": null,
   "metadata": {},
   "outputs": [],
   "source": [
    "description['plot'] = description['plot'].apply(lambda x: normalize_text(x))\n",
    "description.head(4)"
   ]
  },
  {
   "cell_type": "markdown",
   "metadata": {},
   "source": [
    "### *Converting the labels*"
   ]
  },
  {
   "cell_type": "code",
   "execution_count": null,
   "metadata": {},
   "outputs": [],
   "source": [
    "genres"
   ]
  },
  {
   "cell_type": "code",
   "execution_count": null,
   "metadata": {},
   "outputs": [],
   "source": [
    "y = []\n",
    "for genre in description['genre']:\n",
    "    if genre == genres[0]:\n",
    "        y.append(1)\n",
    "    if genre == genres[1]:\n",
    "        y.append(2)\n",
    "    if genre == genres[2]:\n",
    "        y.append(3)\n",
    "    if genre == genres[3]:\n",
    "        y.append(4)"
   ]
  },
  {
   "cell_type": "markdown",
   "metadata": {},
   "source": [
    "### *Vectorization*"
   ]
  },
  {
   "cell_type": "code",
   "execution_count": null,
   "metadata": {},
   "outputs": [],
   "source": [
    "# split dataset into training and validation set\n",
    "train_X, test_X, train_y, test_y = train_test_split(description['plot'], y, test_size=0.2, random_state=9)"
   ]
  },
  {
   "cell_type": "code",
   "execution_count": null,
   "metadata": {},
   "outputs": [],
   "source": [
    "new_train_X = [[w for w in plot.split()] for plot in train_X]\n",
    "new_test_y = [[w for w in plot.split()] for plot in test_X]"
   ]
  },
  {
   "cell_type": "code",
   "execution_count": null,
   "metadata": {},
   "outputs": [],
   "source": [
    "# Vectorize text in documents in three different ways:\n",
    "from sklearn.feature_extraction.text import CountVectorizer\n",
    "from sklearn.feature_extraction.text import TfidfVectorizer\n",
    "vectorizers={'bow':CountVectorizer(analyzer='word',binary=False),'tfidf':TfidfVectorizer(analyzer='word',binary=False)}\n",
    "vec_train_X,vec_test_X={},{}\n",
    "for name,vectorizer in vectorizers.items():\n",
    "    vec_train_X[name]=vectorizer.fit_transform([\" \".join(doc) for doc in new_train_X])\n",
    "    vec_test_X[name]=vectorizer.transform([\" \".join(doc) for doc in new_test_y])"
   ]
  },
  {
   "cell_type": "markdown",
   "metadata": {},
   "source": [
    "## Modeling"
   ]
  },
  {
   "cell_type": "markdown",
   "metadata": {},
   "source": [
    "We consider 3 models: a Multinomial Naive Bayes model with counts (bag-of-words) vectorization, a Multinomial Naive Bayes model with TF-IDF (term frequency and inverse document frequency) vectorization and finally  a Gaussian Naive Bayes model with TF-IDF vectorization as well."
   ]
  },
  {
   "cell_type": "code",
   "execution_count": null,
   "metadata": {},
   "outputs": [],
   "source": [
    "# Creating and fitting two Multinomial Naive Bayes models:\n",
    "from sklearn.naive_bayes import MultinomialNB\n",
    "models={'bow':MultinomialNB(), 'tfidf':MultinomialNB()}\n",
    "predictions={}\n",
    "preds_train = {}\n",
    "for name,model in models.items():\n",
    "    model.fit(vec_train_X[name],train_y)\n",
    "    predictions[name]=model.predict(vec_test_X[name])\n",
    "    preds_train[name]=model.predict(vec_train_X[name])"
   ]
  },
  {
   "cell_type": "code",
   "execution_count": null,
   "metadata": {},
   "outputs": [],
   "source": [
    "# Compare Multinomial NB to Gaussian NB for TF-IDF vectorization:\n",
    "from sklearn.naive_bayes import GaussianNB\n",
    "model_gauss=GaussianNB()\n",
    "model_gauss.fit(vec_train_X[\"tfidf\"].toarray(),train_y)\n",
    "predictions_gauss=model_gauss.predict(vec_test_X[\"tfidf\"].toarray())\n",
    "predictions_gauss_train=model_gauss.predict(vec_train_X[\"tfidf\"].toarray())"
   ]
  },
  {
   "cell_type": "code",
   "execution_count": null,
   "metadata": {},
   "outputs": [],
   "source": [
    "print(\"The training accuracy for the model Multinomial Naive Bayes model with counts (bag-of-words) vectorization is: \\n\", np.mean(preds_train[\"bow\"] == train_y) * 100)\n",
    "print(\"The test accuracy for the model Multinomial Naive Bayes model with counts (bag-of-words) vectorization is: \\n\", np.mean(predictions[\"bow\"] == test_y) * 100)\n",
    "\n",
    "print(\"The training accuracy for the model Multinomial Naive Bayes model with TF-IDF vectorization is: \\n\", np.mean(preds_train[\"tfidf\"] == train_y) * 100)\n",
    "print(\"The test accuracy for the model Multinomial Naive Bayes model with TF-IDF  vectorization is: \\n\", np.mean(predictions[\"tfidf\"] == test_y) * 100)\n",
    "\n",
    "print(\"The training accuracy for the model Gaussian Naive Bayes model with TF-IDF vectorization is: \\n\", np.mean(predictions_gauss_train == train_y) * 100)\n",
    "print(\"The test accuracy for the model Gaussian Naive Bayes model with TF-IDF  vectorization is: \\n\", np.mean(predictions_gauss == test_y) * 100)"
   ]
  },
  {
   "cell_type": "markdown",
   "metadata": {},
   "source": [
    "While the Gaussian Naive Bayes model yields the best training accuracy, we select the Multinomial Naive Bayes model with counts (bag-of-words) vectorization to pass to the test model function, since it yields the best test accuracy. "
   ]
  },
  {
   "cell_type": "code",
   "execution_count": null,
   "metadata": {},
   "outputs": [],
   "source": [
    "def test_model(test_data, vectorizers=vectorizers, models=models, best_model=\"bow\", genres=genres):\n",
    "    # preprocessing the data\n",
    "    test_data = [preprocess(plot) for plot in test_data]\n",
    "    # removing stop words\n",
    "    test_data = [remove_stopwords(plot) for plot in test_data]\n",
    "    # normalizing the test\n",
    "    test_data = [normalize_text(plot) for plot in test_data]\n",
    "    # reshaping the data\n",
    "    test_data = [[w for w in plot.split()] for plot in test_data]\n",
    "    # vectorizing the data\n",
    "    vectorizer_test=vectorizers[best_model].transform([\" \".join(doc) for doc in test_data])\n",
    "    # predicting using the model that yields the highest score \n",
    "    preds = models[best_model].predict(vectorizer_test)\n",
    "    # getting the genres as outputs\n",
    "    genre_preds = []\n",
    "    for pred in preds:\n",
    "        if pred == 1:\n",
    "            genre_preds.append(genres[0])\n",
    "        if pred == 2:\n",
    "            genre_preds.append(genres[1])\n",
    "        if pred == 3:\n",
    "            genre_preds.append(genres[2])\n",
    "        if pred == 4:\n",
    "            genre_preds.append(genres[3])\n",
    "    \n",
    "    return genre_preds"
   ]
  },
  {
   "cell_type": "code",
   "execution_count": null,
   "metadata": {},
   "outputs": [],
   "source": [
    "data=pd.read_csv(\"movie-plots-test.csv\",index_col=0)\n",
    "test_y=data[\"Genre\"]"
   ]
  },
  {
   "cell_type": "code",
   "execution_count": null,
   "metadata": {},
   "outputs": [],
   "source": [
    "from sklearn.metrics import confusion_matrix as cm\n",
    "from sklearn.metrics import classification_report as cr\n",
    "cm(test_y,preds)"
   ]
  },
  {
   "cell_type": "code",
   "execution_count": null,
   "metadata": {},
   "outputs": [],
   "source": [
    "print(cr(test_y,preds))"
   ]
  }
 ],
 "metadata": {
  "hide_input": false,
  "kernelspec": {
   "display_name": "Python 3",
   "language": "python",
   "name": "python3"
  },
  "language_info": {
   "codemirror_mode": {
    "name": "ipython",
    "version": 3
   },
   "file_extension": ".py",
   "mimetype": "text/x-python",
   "name": "python",
   "nbconvert_exporter": "python",
   "pygments_lexer": "ipython3",
   "version": "3.8.2"
  }
 },
 "nbformat": 4,
 "nbformat_minor": 4
}
