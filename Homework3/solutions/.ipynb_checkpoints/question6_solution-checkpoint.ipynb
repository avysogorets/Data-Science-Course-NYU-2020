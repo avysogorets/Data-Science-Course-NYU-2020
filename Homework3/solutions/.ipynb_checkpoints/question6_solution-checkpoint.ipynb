{
 "cells": [
  {
   "cell_type": "markdown",
   "metadata": {},
   "source": [
    "### *Question 6*"
   ]
  },
  {
   "cell_type": "code",
   "execution_count": 1,
   "metadata": {},
   "outputs": [],
   "source": [
    "import matplotlib.pyplot as plt\n",
    "import pandas as pd\n",
    "import numpy as np\n",
    "import nltk"
   ]
  },
  {
   "cell_type": "code",
   "execution_count": 2,
   "metadata": {},
   "outputs": [],
   "source": [
    "data=pd.read_csv(\"data/movie-plots-student.csv\")\n",
    "classes=[\"drama\",\"comedy\",\"horror\",\"action\"]\n",
    "labels=data[\"Genre\"].apply(lambda x: classes.index(x))"
   ]
  },
  {
   "cell_type": "code",
   "execution_count": 3,
   "metadata": {},
   "outputs": [],
   "source": [
    "# Tokenize textual data:\n",
    "tokens=[[token for token in nltk.tokenize.word_tokenize(text) if token.isalpha()] for text in data[\"Plot\"]]"
   ]
  },
  {
   "cell_type": "code",
   "execution_count": 4,
   "metadata": {},
   "outputs": [],
   "source": [
    "# Remove stopwords from nltk:\n",
    "from nltk.corpus import stopwords\n",
    "tokens=[[token for token in doc if token not in stopwords.words(\"english\")] for doc in tokens]"
   ]
  },
  {
   "cell_type": "code",
   "execution_count": 5,
   "metadata": {},
   "outputs": [],
   "source": [
    "# Apply stemming:\n",
    "from nltk.stem import PorterStemmer\n",
    "porter=PorterStemmer()\n",
    "tokens=[[porter.stem(token) for token in doc] for doc in tokens]"
   ]
  },
  {
   "cell_type": "code",
   "execution_count": 6,
   "metadata": {},
   "outputs": [],
   "source": [
    "# Train/validation 80/20 split:\n",
    "train=np.random.choice(range(len(labels)),size=int(0.8*len(labels)),replace=False)\n",
    "val=[i for i in range(len(labels)) if i not in train]\n",
    "train_X=[tokens[i] for i in train]\n",
    "train_y=[labels[i] for i in train]\n",
    "val_X=[tokens[i] for i in val]\n",
    "val_y=[labels[i] for i in val]"
   ]
  },
  {
   "cell_type": "code",
   "execution_count": 7,
   "metadata": {},
   "outputs": [],
   "source": [
    "# Three different vectorizations:\n",
    "from sklearn.feature_extraction.text import CountVectorizer\n",
    "from sklearn.feature_extraction.text import TfidfVectorizer\n",
    "vectorizers={'binary':TfidfVectorizer(analyzer='word',binary=True),'bow':CountVectorizer(analyzer='word',binary=False),'tfidf':TfidfVectorizer(analyzer='word',binary=False)}\n",
    "vec_train_X,vec_val_X={},{}\n",
    "for name,vectorizer in vectorizers.items():\n",
    "    vec_train_X[name]=vectorizer.fit_transform([\" \".join(doc) for doc in train_X])\n",
    "    vec_val_X[name]=vectorizer.transform([\" \".join(doc) for doc in val_X])"
   ]
  },
  {
   "cell_type": "code",
   "execution_count": 8,
   "metadata": {},
   "outputs": [],
   "source": [
    "# Naive Bayes models:\n",
    "from sklearn.naive_bayes import MultinomialNB\n",
    "from sklearn.naive_bayes import BernoulliNB\n",
    "models={'binary':BernoulliNB(),'bow':MultinomialNB(),'tfidf':MultinomialNB()}\n",
    "predictions_nb={}\n",
    "for name,model in models.items():\n",
    "    model.fit(vec_train_X[name],train_y)\n",
    "    predictions_nb[name]=model.predict(vec_val_X[name])"
   ]
  },
  {
   "cell_type": "code",
   "execution_count": 9,
   "metadata": {},
   "outputs": [],
   "source": [
    "# Logistic Regression models:\n",
    "from sklearn.linear_model import LogisticRegression\n",
    "models={name:LogisticRegression(max_iter=10000) for name in models.keys()}\n",
    "predictions_lr={}\n",
    "for name,model in models.items():\n",
    "    model.fit(vec_train_X[name],train_y)\n",
    "    predictions_lr[name]=model.predict(vec_val_X[name])"
   ]
  },
  {
   "cell_type": "code",
   "execution_count": 10,
   "metadata": {},
   "outputs": [],
   "source": [
    "# SVM models:\n",
    "from sklearn.svm import SVC\n",
    "models={name:SVC(kernel='linear') for name in models.keys()}\n",
    "predictions_svm={}\n",
    "for name,model in models.items():\n",
    "    model.fit(vec_train_X[name],train_y)\n",
    "    predictions_svm[name]=model.predict(vec_val_X[name])"
   ]
  },
  {
   "cell_type": "code",
   "execution_count": 11,
   "metadata": {},
   "outputs": [],
   "source": [
    "# Generate confusion matrices:\n",
    "from sklearn.metrics import confusion_matrix\n",
    "cms_nb={name:pd.DataFrame(confusion_matrix(val_y,predictions_nb[name]).T,index=[f\"predicted {classes[0]}\",f\"predicted {classes[1]}\",f\"predicted {classes[2]}\",f\"predicted {classes[3]}\"],columns=[f\"true {classes[0]}\",f\"true {classes[1]}\",f\"true {classes[2]}\",f\"true {classes[3]}\"]) for name in predictions_nb.keys()}\n",
    "cms_lr={name:pd.DataFrame(confusion_matrix(val_y,predictions_lr[name]).T,index=[f\"predicted {classes[0]}\",f\"predicted {classes[1]}\",f\"predicted {classes[2]}\",f\"predicted {classes[3]}\"],columns=[f\"true {classes[0]}\",f\"true {classes[1]}\",f\"true {classes[2]}\",f\"true {classes[3]}\"]) for name in predictions_lr.keys()}\n",
    "cms_svm={name:pd.DataFrame(confusion_matrix(val_y,predictions_svm[name]).T,index=[f\"predicted {classes[0]}\",f\"predicted {classes[1]}\",f\"predicted {classes[2]}\",f\"predicted {classes[3]}\"],columns=[f\"true {classes[0]}\",f\"true {classes[1]}\",f\"true {classes[2]}\",f\"true {classes[3]}\"]) for name in predictions_svm.keys()}"
   ]
  },
  {
   "cell_type": "code",
   "execution_count": 12,
   "metadata": {},
   "outputs": [],
   "source": [
    "from sklearn.metrics import *"
   ]
  },
  {
   "cell_type": "code",
   "execution_count": 13,
   "metadata": {},
   "outputs": [
    {
     "name": "stdout",
     "output_type": "stream",
     "text": [
      "accuracy:  0.628731343283582\n",
      "balanced accuracy:  0.5414243097321921\n",
      "macro f1-score:  0.5656577183542144\n"
     ]
    },
    {
     "data": {
      "text/html": [
       "<div>\n",
       "<style scoped>\n",
       "    .dataframe tbody tr th:only-of-type {\n",
       "        vertical-align: middle;\n",
       "    }\n",
       "\n",
       "    .dataframe tbody tr th {\n",
       "        vertical-align: top;\n",
       "    }\n",
       "\n",
       "    .dataframe thead th {\n",
       "        text-align: right;\n",
       "    }\n",
       "</style>\n",
       "<table border=\"1\" class=\"dataframe\">\n",
       "  <thead>\n",
       "    <tr style=\"text-align: right;\">\n",
       "      <th></th>\n",
       "      <th>true drama</th>\n",
       "      <th>true comedy</th>\n",
       "      <th>true horror</th>\n",
       "      <th>true action</th>\n",
       "    </tr>\n",
       "  </thead>\n",
       "  <tbody>\n",
       "    <tr>\n",
       "      <th>predicted drama</th>\n",
       "      <td>849</td>\n",
       "      <td>397</td>\n",
       "      <td>80</td>\n",
       "      <td>115</td>\n",
       "    </tr>\n",
       "    <tr>\n",
       "      <th>predicted comedy</th>\n",
       "      <td>84</td>\n",
       "      <td>318</td>\n",
       "      <td>7</td>\n",
       "      <td>18</td>\n",
       "    </tr>\n",
       "    <tr>\n",
       "      <th>predicted horror</th>\n",
       "      <td>38</td>\n",
       "      <td>34</td>\n",
       "      <td>121</td>\n",
       "      <td>11</td>\n",
       "    </tr>\n",
       "    <tr>\n",
       "      <th>predicted action</th>\n",
       "      <td>7</td>\n",
       "      <td>5</td>\n",
       "      <td>0</td>\n",
       "      <td>60</td>\n",
       "    </tr>\n",
       "  </tbody>\n",
       "</table>\n",
       "</div>"
      ],
      "text/plain": [
       "                  true drama  true comedy  true horror  true action\n",
       "predicted drama          849          397           80          115\n",
       "predicted comedy          84          318            7           18\n",
       "predicted horror          38           34          121           11\n",
       "predicted action           7            5            0           60"
      ]
     },
     "execution_count": 13,
     "metadata": {},
     "output_type": "execute_result"
    }
   ],
   "source": [
    "# Binary vect. + Bernoulli NB:\n",
    "print('accuracy: ',accuracy_score(val_y,predictions_nb['binary']))\n",
    "print('balanced accuracy: ',balanced_accuracy_score(val_y,predictions_nb['binary']))\n",
    "print('macro f1-score: ',f1_score(val_y,predictions_nb['binary'],average='macro'))\n",
    "cms_nb['binary']"
   ]
  },
  {
   "cell_type": "code",
   "execution_count": 14,
   "metadata": {},
   "outputs": [
    {
     "name": "stdout",
     "output_type": "stream",
     "text": [
      "accuracy:  0.7033582089552238\n",
      "balanced accuracy:  0.6874736010374598\n",
      "macro f1-score:  0.6956621407280851\n"
     ]
    },
    {
     "data": {
      "text/html": [
       "<div>\n",
       "<style scoped>\n",
       "    .dataframe tbody tr th:only-of-type {\n",
       "        vertical-align: middle;\n",
       "    }\n",
       "\n",
       "    .dataframe tbody tr th {\n",
       "        vertical-align: top;\n",
       "    }\n",
       "\n",
       "    .dataframe thead th {\n",
       "        text-align: right;\n",
       "    }\n",
       "</style>\n",
       "<table border=\"1\" class=\"dataframe\">\n",
       "  <thead>\n",
       "    <tr style=\"text-align: right;\">\n",
       "      <th></th>\n",
       "      <th>true drama</th>\n",
       "      <th>true comedy</th>\n",
       "      <th>true horror</th>\n",
       "      <th>true action</th>\n",
       "    </tr>\n",
       "  </thead>\n",
       "  <tbody>\n",
       "    <tr>\n",
       "      <th>predicted drama</th>\n",
       "      <td>729</td>\n",
       "      <td>220</td>\n",
       "      <td>25</td>\n",
       "      <td>53</td>\n",
       "    </tr>\n",
       "    <tr>\n",
       "      <th>predicted comedy</th>\n",
       "      <td>183</td>\n",
       "      <td>503</td>\n",
       "      <td>18</td>\n",
       "      <td>30</td>\n",
       "    </tr>\n",
       "    <tr>\n",
       "      <th>predicted horror</th>\n",
       "      <td>23</td>\n",
       "      <td>9</td>\n",
       "      <td>165</td>\n",
       "      <td>10</td>\n",
       "    </tr>\n",
       "    <tr>\n",
       "      <th>predicted action</th>\n",
       "      <td>43</td>\n",
       "      <td>22</td>\n",
       "      <td>0</td>\n",
       "      <td>111</td>\n",
       "    </tr>\n",
       "  </tbody>\n",
       "</table>\n",
       "</div>"
      ],
      "text/plain": [
       "                  true drama  true comedy  true horror  true action\n",
       "predicted drama          729          220           25           53\n",
       "predicted comedy         183          503           18           30\n",
       "predicted horror          23            9          165           10\n",
       "predicted action          43           22            0          111"
      ]
     },
     "execution_count": 14,
     "metadata": {},
     "output_type": "execute_result"
    }
   ],
   "source": [
    "# Bag-of-words vect. + Multinomial NB:\n",
    "print('accuracy: ',accuracy_score(val_y,predictions_nb['bow']))\n",
    "print('balanced accuracy: ',balanced_accuracy_score(val_y,predictions_nb['bow']))\n",
    "print('macro f1-score: ',f1_score(val_y,predictions_nb['bow'],average='macro'))\n",
    "cms_nb['bow']"
   ]
  },
  {
   "cell_type": "code",
   "execution_count": 15,
   "metadata": {},
   "outputs": [
    {
     "name": "stdout",
     "output_type": "stream",
     "text": [
      "accuracy:  0.5107276119402985\n",
      "balanced accuracy:  0.2894006335671239\n",
      "macro f1-score:  0.23248301095404733\n"
     ]
    },
    {
     "data": {
      "text/html": [
       "<div>\n",
       "<style scoped>\n",
       "    .dataframe tbody tr th:only-of-type {\n",
       "        vertical-align: middle;\n",
       "    }\n",
       "\n",
       "    .dataframe tbody tr th {\n",
       "        vertical-align: top;\n",
       "    }\n",
       "\n",
       "    .dataframe thead th {\n",
       "        text-align: right;\n",
       "    }\n",
       "</style>\n",
       "<table border=\"1\" class=\"dataframe\">\n",
       "  <thead>\n",
       "    <tr style=\"text-align: right;\">\n",
       "      <th></th>\n",
       "      <th>true drama</th>\n",
       "      <th>true comedy</th>\n",
       "      <th>true horror</th>\n",
       "      <th>true action</th>\n",
       "    </tr>\n",
       "  </thead>\n",
       "  <tbody>\n",
       "    <tr>\n",
       "      <th>predicted drama</th>\n",
       "      <td>970</td>\n",
       "      <td>629</td>\n",
       "      <td>202</td>\n",
       "      <td>200</td>\n",
       "    </tr>\n",
       "    <tr>\n",
       "      <th>predicted comedy</th>\n",
       "      <td>8</td>\n",
       "      <td>125</td>\n",
       "      <td>6</td>\n",
       "      <td>4</td>\n",
       "    </tr>\n",
       "    <tr>\n",
       "      <th>predicted horror</th>\n",
       "      <td>0</td>\n",
       "      <td>0</td>\n",
       "      <td>0</td>\n",
       "      <td>0</td>\n",
       "    </tr>\n",
       "    <tr>\n",
       "      <th>predicted action</th>\n",
       "      <td>0</td>\n",
       "      <td>0</td>\n",
       "      <td>0</td>\n",
       "      <td>0</td>\n",
       "    </tr>\n",
       "  </tbody>\n",
       "</table>\n",
       "</div>"
      ],
      "text/plain": [
       "                  true drama  true comedy  true horror  true action\n",
       "predicted drama          970          629          202          200\n",
       "predicted comedy           8          125            6            4\n",
       "predicted horror           0            0            0            0\n",
       "predicted action           0            0            0            0"
      ]
     },
     "execution_count": 15,
     "metadata": {},
     "output_type": "execute_result"
    }
   ],
   "source": [
    "# TF-IDF vect. + Multinomial NB:\n",
    "print('accuracy: ',accuracy_score(val_y,predictions_nb['tfidf']))\n",
    "print('balanced accuracy: ',balanced_accuracy_score(val_y,predictions_nb['tfidf']))\n",
    "print('macro f1-score: ',f1_score(val_y,predictions_nb['tfidf'],average='macro'))\n",
    "cms_nb['tfidf']"
   ]
  },
  {
   "cell_type": "code",
   "execution_count": 16,
   "metadata": {},
   "outputs": [
    {
     "name": "stdout",
     "output_type": "stream",
     "text": [
      "accuracy:  0.7509328358208955\n",
      "balanced accuracy:  0.6655956764611753\n",
      "macro f1-score:  0.709023004435916\n"
     ]
    },
    {
     "data": {
      "text/html": [
       "<div>\n",
       "<style scoped>\n",
       "    .dataframe tbody tr th:only-of-type {\n",
       "        vertical-align: middle;\n",
       "    }\n",
       "\n",
       "    .dataframe tbody tr th {\n",
       "        vertical-align: top;\n",
       "    }\n",
       "\n",
       "    .dataframe thead th {\n",
       "        text-align: right;\n",
       "    }\n",
       "</style>\n",
       "<table border=\"1\" class=\"dataframe\">\n",
       "  <thead>\n",
       "    <tr style=\"text-align: right;\">\n",
       "      <th></th>\n",
       "      <th>true drama</th>\n",
       "      <th>true comedy</th>\n",
       "      <th>true horror</th>\n",
       "      <th>true action</th>\n",
       "    </tr>\n",
       "  </thead>\n",
       "  <tbody>\n",
       "    <tr>\n",
       "      <th>predicted drama</th>\n",
       "      <td>846</td>\n",
       "      <td>206</td>\n",
       "      <td>48</td>\n",
       "      <td>82</td>\n",
       "    </tr>\n",
       "    <tr>\n",
       "      <th>predicted comedy</th>\n",
       "      <td>112</td>\n",
       "      <td>541</td>\n",
       "      <td>18</td>\n",
       "      <td>34</td>\n",
       "    </tr>\n",
       "    <tr>\n",
       "      <th>predicted horror</th>\n",
       "      <td>9</td>\n",
       "      <td>4</td>\n",
       "      <td>141</td>\n",
       "      <td>6</td>\n",
       "    </tr>\n",
       "    <tr>\n",
       "      <th>predicted action</th>\n",
       "      <td>11</td>\n",
       "      <td>3</td>\n",
       "      <td>1</td>\n",
       "      <td>82</td>\n",
       "    </tr>\n",
       "  </tbody>\n",
       "</table>\n",
       "</div>"
      ],
      "text/plain": [
       "                  true drama  true comedy  true horror  true action\n",
       "predicted drama          846          206           48           82\n",
       "predicted comedy         112          541           18           34\n",
       "predicted horror           9            4          141            6\n",
       "predicted action          11            3            1           82"
      ]
     },
     "execution_count": 16,
     "metadata": {},
     "output_type": "execute_result"
    }
   ],
   "source": [
    "# Binary vect. + Logistic Regression:\n",
    "print('accuracy: ',accuracy_score(val_y,predictions_lr['binary']))\n",
    "print('balanced accuracy: ',balanced_accuracy_score(val_y,predictions_lr['binary']))\n",
    "print('macro f1-score: ',f1_score(val_y,predictions_lr['binary'],average='macro'))\n",
    "cms_lr['binary']"
   ]
  },
  {
   "cell_type": "code",
   "execution_count": 17,
   "metadata": {},
   "outputs": [
    {
     "name": "stdout",
     "output_type": "stream",
     "text": [
      "accuracy:  0.7033582089552238\n",
      "balanced accuracy:  0.6608165319267607\n",
      "macro f1-score:  0.6813276002637071\n"
     ]
    },
    {
     "data": {
      "text/html": [
       "<div>\n",
       "<style scoped>\n",
       "    .dataframe tbody tr th:only-of-type {\n",
       "        vertical-align: middle;\n",
       "    }\n",
       "\n",
       "    .dataframe tbody tr th {\n",
       "        vertical-align: top;\n",
       "    }\n",
       "\n",
       "    .dataframe thead th {\n",
       "        text-align: right;\n",
       "    }\n",
       "</style>\n",
       "<table border=\"1\" class=\"dataframe\">\n",
       "  <thead>\n",
       "    <tr style=\"text-align: right;\">\n",
       "      <th></th>\n",
       "      <th>true drama</th>\n",
       "      <th>true comedy</th>\n",
       "      <th>true horror</th>\n",
       "      <th>true action</th>\n",
       "    </tr>\n",
       "  </thead>\n",
       "  <tbody>\n",
       "    <tr>\n",
       "      <th>predicted drama</th>\n",
       "      <td>743</td>\n",
       "      <td>209</td>\n",
       "      <td>35</td>\n",
       "      <td>71</td>\n",
       "    </tr>\n",
       "    <tr>\n",
       "      <th>predicted comedy</th>\n",
       "      <td>182</td>\n",
       "      <td>518</td>\n",
       "      <td>21</td>\n",
       "      <td>28</td>\n",
       "    </tr>\n",
       "    <tr>\n",
       "      <th>predicted horror</th>\n",
       "      <td>18</td>\n",
       "      <td>11</td>\n",
       "      <td>151</td>\n",
       "      <td>9</td>\n",
       "    </tr>\n",
       "    <tr>\n",
       "      <th>predicted action</th>\n",
       "      <td>35</td>\n",
       "      <td>16</td>\n",
       "      <td>1</td>\n",
       "      <td>96</td>\n",
       "    </tr>\n",
       "  </tbody>\n",
       "</table>\n",
       "</div>"
      ],
      "text/plain": [
       "                  true drama  true comedy  true horror  true action\n",
       "predicted drama          743          209           35           71\n",
       "predicted comedy         182          518           21           28\n",
       "predicted horror          18           11          151            9\n",
       "predicted action          35           16            1           96"
      ]
     },
     "execution_count": 17,
     "metadata": {},
     "output_type": "execute_result"
    }
   ],
   "source": [
    "# Bag-of-words vect. + Logistic Regression:\n",
    "print('accuracy: ',accuracy_score(val_y,predictions_lr['bow']))\n",
    "print('balanced accuracy: ',balanced_accuracy_score(val_y,predictions_lr['bow']))\n",
    "print('macro f1-score: ',f1_score(val_y,predictions_lr['bow'],average='macro'))\n",
    "cms_lr['bow']"
   ]
  },
  {
   "cell_type": "code",
   "execution_count": 18,
   "metadata": {},
   "outputs": [
    {
     "name": "stdout",
     "output_type": "stream",
     "text": [
      "accuracy:  0.7047574626865671\n",
      "balanced accuracy:  0.5848486985964587\n",
      "macro f1-score:  0.631746479095691\n"
     ]
    },
    {
     "data": {
      "text/html": [
       "<div>\n",
       "<style scoped>\n",
       "    .dataframe tbody tr th:only-of-type {\n",
       "        vertical-align: middle;\n",
       "    }\n",
       "\n",
       "    .dataframe tbody tr th {\n",
       "        vertical-align: top;\n",
       "    }\n",
       "\n",
       "    .dataframe thead th {\n",
       "        text-align: right;\n",
       "    }\n",
       "</style>\n",
       "<table border=\"1\" class=\"dataframe\">\n",
       "  <thead>\n",
       "    <tr style=\"text-align: right;\">\n",
       "      <th></th>\n",
       "      <th>true drama</th>\n",
       "      <th>true comedy</th>\n",
       "      <th>true horror</th>\n",
       "      <th>true action</th>\n",
       "    </tr>\n",
       "  </thead>\n",
       "  <tbody>\n",
       "    <tr>\n",
       "      <th>predicted drama</th>\n",
       "      <td>838</td>\n",
       "      <td>245</td>\n",
       "      <td>69</td>\n",
       "      <td>115</td>\n",
       "    </tr>\n",
       "    <tr>\n",
       "      <th>predicted comedy</th>\n",
       "      <td>123</td>\n",
       "      <td>505</td>\n",
       "      <td>25</td>\n",
       "      <td>29</td>\n",
       "    </tr>\n",
       "    <tr>\n",
       "      <th>predicted horror</th>\n",
       "      <td>6</td>\n",
       "      <td>2</td>\n",
       "      <td>114</td>\n",
       "      <td>6</td>\n",
       "    </tr>\n",
       "    <tr>\n",
       "      <th>predicted action</th>\n",
       "      <td>11</td>\n",
       "      <td>2</td>\n",
       "      <td>0</td>\n",
       "      <td>54</td>\n",
       "    </tr>\n",
       "  </tbody>\n",
       "</table>\n",
       "</div>"
      ],
      "text/plain": [
       "                  true drama  true comedy  true horror  true action\n",
       "predicted drama          838          245           69          115\n",
       "predicted comedy         123          505           25           29\n",
       "predicted horror           6            2          114            6\n",
       "predicted action          11            2            0           54"
      ]
     },
     "execution_count": 18,
     "metadata": {},
     "output_type": "execute_result"
    }
   ],
   "source": [
    "# TF-IDF vect. + Logistic Regression:\n",
    "print('accuracy: ',accuracy_score(val_y,predictions_lr['tfidf']))\n",
    "print('balanced accuracy: ',balanced_accuracy_score(val_y,predictions_lr['tfidf']))\n",
    "print('macro f1-score: ',f1_score(val_y,predictions_lr['tfidf'],average='macro'))\n",
    "cms_lr['tfidf']"
   ]
  },
  {
   "cell_type": "code",
   "execution_count": 19,
   "metadata": {},
   "outputs": [
    {
     "name": "stdout",
     "output_type": "stream",
     "text": [
      "accuracy:  0.7630597014925373\n",
      "balanced accuracy:  0.7149003233007902\n",
      "macro f1-score:  0.7442536818709565\n"
     ]
    },
    {
     "data": {
      "text/html": [
       "<div>\n",
       "<style scoped>\n",
       "    .dataframe tbody tr th:only-of-type {\n",
       "        vertical-align: middle;\n",
       "    }\n",
       "\n",
       "    .dataframe tbody tr th {\n",
       "        vertical-align: top;\n",
       "    }\n",
       "\n",
       "    .dataframe thead th {\n",
       "        text-align: right;\n",
       "    }\n",
       "</style>\n",
       "<table border=\"1\" class=\"dataframe\">\n",
       "  <thead>\n",
       "    <tr style=\"text-align: right;\">\n",
       "      <th></th>\n",
       "      <th>true drama</th>\n",
       "      <th>true comedy</th>\n",
       "      <th>true horror</th>\n",
       "      <th>true action</th>\n",
       "    </tr>\n",
       "  </thead>\n",
       "  <tbody>\n",
       "    <tr>\n",
       "      <th>predicted drama</th>\n",
       "      <td>822</td>\n",
       "      <td>193</td>\n",
       "      <td>35</td>\n",
       "      <td>73</td>\n",
       "    </tr>\n",
       "    <tr>\n",
       "      <th>predicted comedy</th>\n",
       "      <td>121</td>\n",
       "      <td>547</td>\n",
       "      <td>11</td>\n",
       "      <td>20</td>\n",
       "    </tr>\n",
       "    <tr>\n",
       "      <th>predicted horror</th>\n",
       "      <td>11</td>\n",
       "      <td>6</td>\n",
       "      <td>161</td>\n",
       "      <td>5</td>\n",
       "    </tr>\n",
       "    <tr>\n",
       "      <th>predicted action</th>\n",
       "      <td>24</td>\n",
       "      <td>8</td>\n",
       "      <td>1</td>\n",
       "      <td>106</td>\n",
       "    </tr>\n",
       "  </tbody>\n",
       "</table>\n",
       "</div>"
      ],
      "text/plain": [
       "                  true drama  true comedy  true horror  true action\n",
       "predicted drama          822          193           35           73\n",
       "predicted comedy         121          547           11           20\n",
       "predicted horror          11            6          161            5\n",
       "predicted action          24            8            1          106"
      ]
     },
     "execution_count": 19,
     "metadata": {},
     "output_type": "execute_result"
    }
   ],
   "source": [
    "# Binary vect. + SVM:\n",
    "print('accuracy: ',accuracy_score(val_y,predictions_svm['binary']))\n",
    "print('balanced accuracy: ',balanced_accuracy_score(val_y,predictions_svm['binary']))\n",
    "print('macro f1-score: ',f1_score(val_y,predictions_svm['binary'],average='macro'))\n",
    "cms_svm['binary']"
   ]
  },
  {
   "cell_type": "code",
   "execution_count": 20,
   "metadata": {},
   "outputs": [
    {
     "name": "stdout",
     "output_type": "stream",
     "text": [
      "accuracy:  0.6637126865671642\n",
      "balanced accuracy:  0.6284978401011998\n",
      "macro f1-score:  0.6416096936144344\n"
     ]
    },
    {
     "data": {
      "text/html": [
       "<div>\n",
       "<style scoped>\n",
       "    .dataframe tbody tr th:only-of-type {\n",
       "        vertical-align: middle;\n",
       "    }\n",
       "\n",
       "    .dataframe tbody tr th {\n",
       "        vertical-align: top;\n",
       "    }\n",
       "\n",
       "    .dataframe thead th {\n",
       "        text-align: right;\n",
       "    }\n",
       "</style>\n",
       "<table border=\"1\" class=\"dataframe\">\n",
       "  <thead>\n",
       "    <tr style=\"text-align: right;\">\n",
       "      <th></th>\n",
       "      <th>true drama</th>\n",
       "      <th>true comedy</th>\n",
       "      <th>true horror</th>\n",
       "      <th>true action</th>\n",
       "    </tr>\n",
       "  </thead>\n",
       "  <tbody>\n",
       "    <tr>\n",
       "      <th>predicted drama</th>\n",
       "      <td>694</td>\n",
       "      <td>227</td>\n",
       "      <td>45</td>\n",
       "      <td>70</td>\n",
       "    </tr>\n",
       "    <tr>\n",
       "      <th>predicted comedy</th>\n",
       "      <td>210</td>\n",
       "      <td>491</td>\n",
       "      <td>16</td>\n",
       "      <td>27</td>\n",
       "    </tr>\n",
       "    <tr>\n",
       "      <th>predicted horror</th>\n",
       "      <td>24</td>\n",
       "      <td>10</td>\n",
       "      <td>143</td>\n",
       "      <td>12</td>\n",
       "    </tr>\n",
       "    <tr>\n",
       "      <th>predicted action</th>\n",
       "      <td>50</td>\n",
       "      <td>26</td>\n",
       "      <td>4</td>\n",
       "      <td>95</td>\n",
       "    </tr>\n",
       "  </tbody>\n",
       "</table>\n",
       "</div>"
      ],
      "text/plain": [
       "                  true drama  true comedy  true horror  true action\n",
       "predicted drama          694          227           45           70\n",
       "predicted comedy         210          491           16           27\n",
       "predicted horror          24           10          143           12\n",
       "predicted action          50           26            4           95"
      ]
     },
     "execution_count": 20,
     "metadata": {},
     "output_type": "execute_result"
    }
   ],
   "source": [
    "# Bag-of-words vect. + SVM:\n",
    "print('accuracy: ',accuracy_score(val_y,predictions_svm['bow']))\n",
    "print('balanced accuracy: ',balanced_accuracy_score(val_y,predictions_svm['bow']))\n",
    "print('macro f1-score: ',f1_score(val_y,predictions_svm['bow'],average='macro'))\n",
    "cms_svm['bow']"
   ]
  },
  {
   "cell_type": "code",
   "execution_count": 21,
   "metadata": {},
   "outputs": [
    {
     "name": "stdout",
     "output_type": "stream",
     "text": [
      "accuracy:  0.7290111940298507\n",
      "balanced accuracy:  0.6730706162426241\n",
      "macro f1-score:  0.7077353884725073\n"
     ]
    },
    {
     "data": {
      "text/html": [
       "<div>\n",
       "<style scoped>\n",
       "    .dataframe tbody tr th:only-of-type {\n",
       "        vertical-align: middle;\n",
       "    }\n",
       "\n",
       "    .dataframe tbody tr th {\n",
       "        vertical-align: top;\n",
       "    }\n",
       "\n",
       "    .dataframe thead th {\n",
       "        text-align: right;\n",
       "    }\n",
       "</style>\n",
       "<table border=\"1\" class=\"dataframe\">\n",
       "  <thead>\n",
       "    <tr style=\"text-align: right;\">\n",
       "      <th></th>\n",
       "      <th>true drama</th>\n",
       "      <th>true comedy</th>\n",
       "      <th>true horror</th>\n",
       "      <th>true action</th>\n",
       "    </tr>\n",
       "  </thead>\n",
       "  <tbody>\n",
       "    <tr>\n",
       "      <th>predicted drama</th>\n",
       "      <td>810</td>\n",
       "      <td>229</td>\n",
       "      <td>42</td>\n",
       "      <td>81</td>\n",
       "    </tr>\n",
       "    <tr>\n",
       "      <th>predicted comedy</th>\n",
       "      <td>138</td>\n",
       "      <td>507</td>\n",
       "      <td>15</td>\n",
       "      <td>22</td>\n",
       "    </tr>\n",
       "    <tr>\n",
       "      <th>predicted horror</th>\n",
       "      <td>5</td>\n",
       "      <td>8</td>\n",
       "      <td>151</td>\n",
       "      <td>6</td>\n",
       "    </tr>\n",
       "    <tr>\n",
       "      <th>predicted action</th>\n",
       "      <td>25</td>\n",
       "      <td>10</td>\n",
       "      <td>0</td>\n",
       "      <td>95</td>\n",
       "    </tr>\n",
       "  </tbody>\n",
       "</table>\n",
       "</div>"
      ],
      "text/plain": [
       "                  true drama  true comedy  true horror  true action\n",
       "predicted drama          810          229           42           81\n",
       "predicted comedy         138          507           15           22\n",
       "predicted horror           5            8          151            6\n",
       "predicted action          25           10            0           95"
      ]
     },
     "execution_count": 21,
     "metadata": {},
     "output_type": "execute_result"
    }
   ],
   "source": [
    "# TF-IDF vect. + SVM:\n",
    "print('accuracy: ',accuracy_score(val_y,predictions_svm['tfidf']))\n",
    "print('balanced accuracy: ',balanced_accuracy_score(val_y,predictions_svm['tfidf']))\n",
    "print('macro f1-score: ',f1_score(val_y,predictions_svm['tfidf'],average='macro'))\n",
    "cms_svm['tfidf']"
   ]
  },
  {
   "cell_type": "code",
   "execution_count": 22,
   "metadata": {},
   "outputs": [
    {
     "data": {
      "image/png": "[encoded data removed]",
      "text/plain": [
       "<Figure size 1296x360 with 1 Axes>"
      ]
     },
     "metadata": {
      "needs_background": "light"
     },
     "output_type": "display_data"
    }
   ],
   "source": [
    "# Select hyperparameters for Bag-of-words + Logistic Regression:\n",
    "fig,axes=plt.subplots(nrows=1,ncols=1,figsize=(18,5))\n",
    "Cs=[0,1e-3,1e-2,1e-1,0.5,1,5,1e1,1e2,1e3]\n",
    "acc,b_acc,f1=[],[],[]\n",
    "for c in Cs:\n",
    "    if not c:\n",
    "        model=LogisticRegression(penalty=\"none\",max_iter=10000)\n",
    "    else:\n",
    "        model=LogisticRegression(penalty=\"l2\",C=c,max_iter=10000)\n",
    "    model.fit(vec_train_X['bow'],train_y)\n",
    "    prediction=model.predict(vec_val_X['bow'])\n",
    "    acc.append(accuracy_score(val_y,prediction))\n",
    "    b_acc.append(balanced_accuracy_score(val_y,prediction))\n",
    "    f1.append(f1_score(val_y,prediction,average='macro'))\n",
    "axes.plot(acc,color='purple',label='accuracy')\n",
    "axes.plot(b_acc,color='orange',label='balanced acc.')\n",
    "axes.plot(f1,color='salmon',label='macro-f1')\n",
    "axes.set_xlabel(\"C\")\n",
    "axes.set_xticks(ticks=range(len(Cs)))\n",
    "axes.set_xticklabels(labels=Cs)\n",
    "axes.legend()\n",
    "axes.grid()\n",
    "plt.show()"
   ]
  }
 ],
 "metadata": {
  "hide_input": false,
  "kernelspec": {
   "display_name": "Python 3",
   "language": "python",
   "name": "python3"
  },
  "language_info": {
   "codemirror_mode": {
    "name": "ipython",
    "version": 3
   },
   "file_extension": ".py",
   "mimetype": "text/x-python",
   "name": "python",
   "nbconvert_exporter": "python",
   "pygments_lexer": "ipython3",
   "version": "3.8.2"
  }
 },
 "nbformat": 4,
 "nbformat_minor": 4
}
