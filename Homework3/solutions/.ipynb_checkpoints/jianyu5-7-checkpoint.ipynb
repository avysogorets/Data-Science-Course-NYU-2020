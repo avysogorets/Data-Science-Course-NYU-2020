{
 "cells": [
  {
   "cell_type": "markdown",
   "metadata": {},
   "source": [
    "# Question 5\n",
    "Let $\\mathcal{D}=\\{(x_1,y_1),(x_2,y_2),\\ldots,(x_n,y_n)\\}$ be samples from independent random variables $(X_i,Y_i)\\sim P$ satisfying the Bernoulli conditional model with a matrix of parameters $P$. The likelihood function is \n",
    "\n",
    "\\begin{align*}\n",
    "\\mathcal{L}(P|\\mathcal{D})=p_P(\\mathcal{D})&=\\prod_{i=1}^{n}p_{P_{y_i}}(x_i,y_i)=\\prod_{i=1}^{n}p_{P_{y_i}}(x_i|y_i)p(y_i)=\\prod_{i=1}^{n}p(y_i)\\prod_{j=1}^{d}p_{P_{jy_i}}(x_{ij}|y_i)=\\prod_{i=1}^{n}p(y_i)\\prod_{j=1}^{d}N(\\mu_{j}, \\sigma_{j}^2)\n",
    "\\end{align*}\n",
    "\n"
   ]
  },
  {
   "cell_type": "markdown",
   "metadata": {},
   "source": [
    "$l(P) = \\log\\mathcal{L}(P|\\mathcal{D}) = \\sum_{i=1}^n logp(y_i)\\sum_{i=1}^d(log(\\frac{1}{\\sqrt{2\\pi}\\sigma_j}) - \\frac{(x-\\mu_j)^2}{2\\sigma_j^2})$"
   ]
  },
  {
   "cell_type": "markdown",
   "metadata": {},
   "source": [
    "Setting $\\frac{\\partial l(P)}{\\partial \\sigma_j} = 0, \\frac{\\partial l(P)}{\\partial \\mu_j} = 0$, we get $\\mu_j = \\frac{1}{n}\\sum_{i=0}^nX_{ij}$, $\\sigma_j = \\frac{1}{n}\\sum_{i=0}^n(X_{ij} - \\bar{X_{ij}})^2$"
   ]
  },
  {
   "cell_type": "markdown",
   "metadata": {},
   "source": [
    "# Question 6.a"
   ]
  },
  {
   "cell_type": "code",
   "execution_count": 28,
   "metadata": {},
   "outputs": [],
   "source": [
    "import pandas as pd \n",
    "from nltk import WordNetLemmatizer\n",
    "from nltk.stem import PorterStemmer,LancasterStemmer\n",
    "from nltk.corpus import stopwords\n",
    "import nltk\n",
    "from tqdm import tqdm \n",
    "from sklearn.feature_extraction.text import CountVectorizer\n",
    "from sklearn.feature_extraction.text import TfidfVectorizer\n",
    "from sklearn.preprocessing import LabelEncoder, OneHotEncoder\n",
    "import numpy as np\n",
    "from sklearn.linear_model import LogisticRegression \n",
    "from sklearn.multiclass import OneVsRestClassifier\n",
    "from sklearn.model_selection import RandomizedSearchCV\n",
    "from scipy.stats import uniform\n",
    "from sklearn.model_selection import train_test_split\n",
    "from sklearn.naive_bayes import GaussianNB"
   ]
  },
  {
   "cell_type": "code",
   "execution_count": 37,
   "metadata": {},
   "outputs": [],
   "source": [
    "def lem_stem(texts):\n",
    "    porter=PorterStemmer()\n",
    "    lancaster=LancasterStemmer()\n",
    "    wnl = WordNetLemmatizer()\n",
    "    # def test_model(test_data):\n",
    "    #     pass\n",
    "    X = []\n",
    "    for text in texts:\n",
    "        text = text.lower()\n",
    "        tokens = []\n",
    "        # Tokenize the union of all documents; only alphabetical tokens:\n",
    "        for token in nltk.tokenize.word_tokenize(text):\n",
    "            if token.isalpha():\n",
    "                token = wnl.lemmatize(token)\n",
    "                token = porter.stem(token)\n",
    "                tokens.append(token)\n",
    "        X.append(tokens)\n",
    "    return X"
   ]
  },
  {
   "cell_type": "code",
   "execution_count": 19,
   "metadata": {},
   "outputs": [],
   "source": [
    "def vectorization(X):\n",
    "    vectorizers={#'binary':TfidfVectorizer(analyzer='word',stop_words='english',binary=True),\n",
    "                 #'bow':CountVectorizer(analyzer='word',stop_words='english',binary=False),\n",
    "                 'tfidf':TfidfVectorizer(analyzer='word',stop_words='english',binary=False)}\n",
    "    vec_X = {}\n",
    "    for name,vectorizer in vectorizers.items():\n",
    "        vec_X[name]=vectorizer.fit_transform([\" \".join(doc) for doc in X])  \n",
    "    return vec_X['tfidf']"
   ]
  },
  {
   "cell_type": "markdown",
   "metadata": {},
   "source": [
    "### Question 6.a workflow"
   ]
  },
  {
   "cell_type": "code",
   "execution_count": 22,
   "metadata": {},
   "outputs": [
    {
     "name": "stderr",
     "output_type": "stream",
     "text": [
      "100%|██████████| 10716/10716 [02:18<00:00, 77.50it/s]\n"
     ]
    }
   ],
   "source": [
    "# Load dataset \n",
    "data = pd.read_csv('movie-plots-student.csv')[['Genre','Plot']]\n",
    "texts = data['Plot'].values\n",
    "target = data['Genre']\n",
    "\n",
    "# lemmatizer and stemmer\n",
    "X = lem_stem(texts)\n",
    "\n",
    "#vectorization by tfidf\n",
    "X = vectorization(X)\n",
    "\n",
    "# Label Encoder\n",
    "le = LabelEncoder()\n",
    "le.fit(target)\n",
    "y = le.transform(target)\n",
    "\n",
    "# train validation split \n",
    "X_train, X_test, y_train, y_test = train_test_split( X.toarray(), y, test_size=0.2, random_state=42)\n",
    "\n",
    "# Model fitting\n",
    "clf = GaussianNB()\n",
    "clf.fit(X_train, y_train)\n",
    "\n",
    "\n",
    "# validation \n",
    "score = clf.score(X_test, y_test)\n",
    "print(\"validation score %.3f\" % score)"
   ]
  },
  {
   "cell_type": "code",
   "execution_count": 35,
   "metadata": {},
   "outputs": [],
   "source": [
    "\n",
    "def test_model(test_data):\n",
    "    ##################\n",
    "    # global variable\n",
    "    # clf\n",
    "    texts = test_data['Plot'].values\n",
    "    X = lem_stem(texts)\n",
    "    X = vectorization(X)\n",
    "    X = normalization(X)\n",
    "    return le.inverse_transform(clf.predict(X))\n",
    "    \n",
    "     "
   ]
  },
  {
   "cell_type": "markdown",
   "metadata": {},
   "source": [
    "# Question 7.a"
   ]
  },
  {
   "cell_type": "code",
   "execution_count": 9,
   "metadata": {},
   "outputs": [
    {
     "data": {
      "image/png": "[encoded data removed]",
      "text/plain": [
       "<Figure size 432x288 with 1 Axes>"
      ]
     },
     "metadata": {
      "needs_background": "light"
     },
     "output_type": "display_data"
    }
   ],
   "source": [
    "\n",
    "import numpy as np\n",
    "from matplotlib import pyplot as plt\n",
    "from scipy.cluster.hierarchy import dendrogram\n",
    "from sklearn.datasets import load_iris\n",
    "from sklearn.cluster import AgglomerativeClustering\n",
    "\n",
    "\n",
    "def plot_dendrogram(model, **kwargs):\n",
    "    # Create linkage matrix and then plot the dendrogram\n",
    "\n",
    "    # create the counts of samples under each node\n",
    "    counts = np.zeros(model.children_.shape[0])\n",
    "    n_samples = len(model.labels_)\n",
    "    for i, merge in enumerate(model.children_):\n",
    "        current_count = 0\n",
    "        for child_idx in merge:\n",
    "            if child_idx < n_samples:\n",
    "                current_count += 1  # leaf node\n",
    "            else:\n",
    "                current_count += counts[child_idx - n_samples]\n",
    "        counts[i] = current_count\n",
    "\n",
    "    linkage_matrix = np.column_stack([model.children_, model.distances_,\n",
    "                                      counts]).astype(float)\n",
    "\n",
    "    # Plot the corresponding dendrogram\n",
    "    dendrogram(linkage_matrix, **kwargs)\n",
    "\n",
    "\n",
    "data = [[0,0],[0,1],[0,3],[2.5,1],[3,1],[-1,2],[4,2]]\n",
    "\n",
    "# setting distance_threshold=0 ensures we compute the full tree.\n",
    "model = AgglomerativeClustering(distance_threshold=0, n_clusters=None)\n",
    "\n",
    "model = model.fit(data)\n",
    "plt.title('Hierarchical Clustering Dendrogram')\n",
    "# plot the top three levels of the dendrogram\n",
    "plot_dendrogram(model, truncate_mode='level', p=3)\n",
    "plt.xlabel(\"Number of points in node (or index of point if no parenthesis).\")\n",
    "plt.show()"
   ]
  },
  {
   "cell_type": "markdown",
   "metadata": {},
   "source": [
    "# Question 7.b"
   ]
  },
  {
   "cell_type": "code",
   "execution_count": 3,
   "metadata": {},
   "outputs": [],
   "source": [
    "from sklearn.cluster import AgglomerativeClustering as ag\n",
    "import numpy as np\n",
    "import pandas as pd \n",
    "from itertools import product\n",
    "X = np.load('mnist-sample-X.npy')\n",
    "y = np.load('mnist-sample-y.npy')\n",
    "\n",
    "affinitys = ['euclidean', 'manhattan', 'cosine']\n",
    "linkages = ['complete','average','single']\n",
    "params = list(product(affinitys, linkages))\n",
    "params.append(['euclidean','ward'])\n",
    "params = np.array(params)\n",
    "params = params[[0,1,3,6,9]]\n",
    "preds = []\n",
    "for param in params:\n",
    "    model = ag(n_clusters=10,affinity=param[0], linkage = param[1])\n",
    "    pred = model.fit_predict(X)\n",
    "    preds.append(pred)"
   ]
  },
  {
   "cell_type": "code",
   "execution_count": 5,
   "metadata": {},
   "outputs": [
    {
     "name": "stdout",
     "output_type": "stream",
     "text": [
      "train error of agglomerative clustering is 0.120\n"
     ]
    }
   ],
   "source": [
    "pred_y = preds = pd.DataFrame(np.array(preds)).\\\n",
    "    mode().iloc[0].values\n",
    "train_error = ((pred_y - y)==0).mean()\n",
    "print('train error of agglomerative clustering is %.3f' % train_error)"
   ]
  },
  {
   "cell_type": "code",
   "execution_count": 8,
   "metadata": {},
   "outputs": [
    {
     "name": "stdout",
     "output_type": "stream",
     "text": [
      "train error of k-mean is 0.049\n",
      "train error of k-means++ is 0.228\n"
     ]
    }
   ],
   "source": [
    "from sklearn.cluster import KMeans as km\n",
    "model=km(n_clusters=10,init='random',algorithm='full')\n",
    "pred_y = model.fit_predict(X)\n",
    "\n",
    "train_error = ((pred_y - y)==0).mean()\n",
    "print('train error of k-mean is %.3f' % train_error)\n",
    "model=km(n_clusters=10,init='k-means++',algorithm='full')\n",
    "pred_y = model.fit_predict(X)\n",
    "train_error = ((pred_y - y)==0).mean()\n",
    "\n",
    "print('train error of k-means++ is %.3f' % train_error)"
   ]
  }
 ],
 "metadata": {
  "hide_input": false,
  "kernelspec": {
   "display_name": "Python 3",
   "language": "python",
   "name": "python3"
  },
  "language_info": {
   "codemirror_mode": {
    "name": "ipython",
    "version": 3
   },
   "file_extension": ".py",
   "mimetype": "text/x-python",
   "name": "python",
   "nbconvert_exporter": "python",
   "pygments_lexer": "ipython3",
   "version": "3.8.2"
  },
  "toc": {
   "base_numbering": 1,
   "nav_menu": {},
   "number_sections": true,
   "sideBar": true,
   "skip_h1_title": false,
   "title_cell": "Table of Contents",
   "title_sidebar": "Contents",
   "toc_cell": false,
   "toc_position": {},
   "toc_section_display": true,
   "toc_window_display": false
  }
 },
 "nbformat": 4,
 "nbformat_minor": 4
}
