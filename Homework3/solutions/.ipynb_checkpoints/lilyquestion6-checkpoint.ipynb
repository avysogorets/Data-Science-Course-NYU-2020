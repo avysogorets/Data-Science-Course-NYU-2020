{
 "cells": [
  {
   "cell_type": "markdown",
   "metadata": {},
   "source": [
    "1. I chose random train/validation splits\n",
    "2. I chose to tokenize and lemmatize using nltk\n",
    "3. For the model, I chose a RandomForestClassifier, an ensemble model which is both expressive and can take advantage of multiple weak classifiers.\n",
    "4. I used a GridSearchCV to come up with the best hyperparameters for my models, scoring the parameter combinations by macro f1. One hyperparameter to note is class weights (e.g. None vs balanced), which I chose to validate having noted the class imbalance in the dataset.\n",
    "5. I scored my model/tokenizer combinations on the validation set based on best macro f1.\n",
    "6. I chose the best combination and retrained my final model on all the data."
   ]
  },
  {
   "cell_type": "code",
   "execution_count": 1,
   "metadata": {
    "ExecuteTime": {
     "end_time": "2020-12-04T00:59:41.662679Z",
     "start_time": "2020-12-04T00:59:41.658562Z"
    }
   },
   "outputs": [],
   "source": [
    "import pandas as pd\n",
    "import numpy as np\n",
    "from sklearn.model_selection import train_test_split\n",
    "from sklearn.model_selection import GridSearchCV\n",
    "from sklearn.pipeline import Pipeline\n",
    "from sklearn.feature_extraction.text import CountVectorizer, TfidfVectorizer\n",
    "from sklearn.ensemble import RandomForestClassifier\n",
    "from sklearn.metrics import f1_score\n",
    "\n",
    "from nltk import word_tokenize          \n",
    "from nltk.stem import WordNetLemmatizer "
   ]
  },
  {
   "cell_type": "markdown",
   "metadata": {},
   "source": [
    "# Training code\n",
    "\n",
    "Note: skip straight to the next section to run the code on the holdout set! Otherwise, you might be waiting for a while..."
   ]
  },
  {
   "cell_type": "code",
   "execution_count": 2,
   "metadata": {
    "ExecuteTime": {
     "end_time": "2020-12-04T00:59:42.070632Z",
     "start_time": "2020-12-04T00:59:42.067001Z"
    }
   },
   "outputs": [],
   "source": [
    "class LemmaTokenizer:\n",
    "    \"\"\"\n",
    "    Code pulled from https://scikit-learn.org/stable/modules/feature_extraction.html\n",
    "    \"\"\"\n",
    "    def __init__(self):\n",
    "        self.wnl = WordNetLemmatizer()\n",
    "    def __call__(self, doc):\n",
    "        return [self.wnl.lemmatize(t) for t in word_tokenize(doc)]"
   ]
  },
  {
   "cell_type": "code",
   "execution_count": 3,
   "metadata": {
    "ExecuteTime": {
     "end_time": "2020-12-04T00:59:42.461579Z",
     "start_time": "2020-12-04T00:59:42.274932Z"
    }
   },
   "outputs": [
    {
     "data": {
      "text/html": [
       "<div>\n",
       "<style scoped>\n",
       "    .dataframe tbody tr th:only-of-type {\n",
       "        vertical-align: middle;\n",
       "    }\n",
       "\n",
       "    .dataframe tbody tr th {\n",
       "        vertical-align: top;\n",
       "    }\n",
       "\n",
       "    .dataframe thead th {\n",
       "        text-align: right;\n",
       "    }\n",
       "</style>\n",
       "<table border=\"1\" class=\"dataframe\">\n",
       "  <thead>\n",
       "    <tr style=\"text-align: right;\">\n",
       "      <th></th>\n",
       "      <th>Genre</th>\n",
       "      <th>Plot</th>\n",
       "    </tr>\n",
       "  </thead>\n",
       "  <tbody>\n",
       "    <tr>\n",
       "      <th>0</th>\n",
       "      <td>drama</td>\n",
       "      <td>A Bill of Divorcement describes a day in the l...</td>\n",
       "    </tr>\n",
       "    <tr>\n",
       "      <th>1</th>\n",
       "      <td>comedy</td>\n",
       "      <td>Dr. Clitterhouse (Edward G. Robinson) is a wea...</td>\n",
       "    </tr>\n",
       "    <tr>\n",
       "      <th>2</th>\n",
       "      <td>comedy</td>\n",
       "      <td>Three young couples, all having financial stru...</td>\n",
       "    </tr>\n",
       "    <tr>\n",
       "      <th>3</th>\n",
       "      <td>comedy</td>\n",
       "      <td>Hollywood studio mogul Joe Mulholland (Matthau...</td>\n",
       "    </tr>\n",
       "    <tr>\n",
       "      <th>4</th>\n",
       "      <td>drama</td>\n",
       "      <td>In a working class South London district lives...</td>\n",
       "    </tr>\n",
       "  </tbody>\n",
       "</table>\n",
       "</div>"
      ],
      "text/plain": [
       "    Genre                                               Plot\n",
       "0   drama  A Bill of Divorcement describes a day in the l...\n",
       "1  comedy  Dr. Clitterhouse (Edward G. Robinson) is a wea...\n",
       "2  comedy  Three young couples, all having financial stru...\n",
       "3  comedy  Hollywood studio mogul Joe Mulholland (Matthau...\n",
       "4   drama  In a working class South London district lives..."
      ]
     },
     "execution_count": 3,
     "metadata": {},
     "output_type": "execute_result"
    }
   ],
   "source": [
    "data = pd.read_csv('movie-plots-student.csv', index_col=0)\n",
    "data.head()"
   ]
  },
  {
   "cell_type": "code",
   "execution_count": 4,
   "metadata": {
    "ExecuteTime": {
     "end_time": "2020-12-04T00:59:42.823662Z",
     "start_time": "2020-12-04T00:59:42.817372Z"
    },
    "run_control": {
     "marked": true
    }
   },
   "outputs": [],
   "source": [
    "X = data['Plot']\n",
    "y = data['Genre']\n",
    "Xtrain, Xtest, ytrain, ytest = train_test_split(X, y, random_state=0)"
   ]
  },
  {
   "cell_type": "code",
   "execution_count": 5,
   "metadata": {
    "ExecuteTime": {
     "end_time": "2020-12-04T01:12:00.564062Z",
     "start_time": "2020-12-04T01:12:00.377494Z"
    }
   },
   "outputs": [
    {
     "data": {
      "text/plain": [
       "<matplotlib.axes._subplots.AxesSubplot at 0x11bf38910>"
      ]
     },
     "execution_count": 5,
     "metadata": {},
     "output_type": "execute_result"
    },
    {
     "data": {
      "image/png": "[encoded data removed]",
      "text/plain": [
       "<Figure size 432x288 with 1 Axes>"
      ]
     },
     "metadata": {
      "needs_background": "light"
     },
     "output_type": "display_data"
    }
   ],
   "source": [
    "ytrain.hist()"
   ]
  },
  {
   "cell_type": "code",
   "execution_count": 6,
   "metadata": {
    "ExecuteTime": {
     "end_time": "2020-12-04T01:09:16.780720Z",
     "start_time": "2020-12-04T01:09:16.778080Z"
    },
    "run_control": {
     "marked": true
    }
   },
   "outputs": [],
   "source": [
    "# parameters = {'n_estimators': [100, 200], 'min_samples_split': [2, 4, 8]}\n",
    "# # parameters = {'n_estimators': [100, 200], 'learning_rate': [.001, .01, .1], 'min_samples_split': [2, 4, 8]}\n",
    "# tokenizer = TfidfVectorizer(tokenizer=LemmaTokenizer())\n",
    "# X_tr = tokenizer.fit_transform(Xtrain)\n",
    "# X_ts = tokenizer.transform(Xtest)\n",
    "# y_tr = ytrain\n",
    "# y_ts = ytest\n",
    "# clf = GridSearchCV(RandomForestClassifier(), parameters, scoring=\"f1_macro\")\n",
    "# clf.fit(X_tr, y_tr)\n",
    "# model = model(**clf.best_params_)\n",
    "# model.fit(X_tr, y_tr)\n",
    "# preds = model.predict(X_ts)\n",
    "# print(f1_score(y_ts, preds, average='macro'))"
   ]
  },
  {
   "cell_type": "code",
   "execution_count": null,
   "metadata": {
    "ExecuteTime": {
     "end_time": "2020-12-04T19:49:34.275803Z",
     "start_time": "2020-12-04T19:45:22.212216Z"
    },
    "run_control": {
     "marked": true
    }
   },
   "outputs": [
    {
     "name": "stdout",
     "output_type": "stream",
     "text": [
      "RandomForestClassifier\n",
      "CountVectorizer\n"
     ]
    }
   ],
   "source": [
    "models_and_params = [\n",
    "    (RandomForestClassifier, {'n_estimators': [200], 'min_samples_split': [2, 4, 8, 16, 32, 64, 128, 256], 'class_weight': ['balanced']}),\n",
    "#      {'n_estimators': [100, 200], 'min_samples_split': [2, 4, 8], 'class_weight': [None, 'balanced']}),\n",
    "#     (GradientBoostingClassifier, {'n_estimators': [100, 200], 'learning_rate': [.001, .01, .1], 'min_samples_split': [2, 4, 8]})\n",
    "]\n",
    "tokenizers = [\n",
    "#     TfidfVectorizer(tokenizer=LemmaTokenizer()),\n",
    "    CountVectorizer(tokenizer=LemmaTokenizer())\n",
    "]\n",
    "best_params = []\n",
    "for model_class, parameters in models_and_params:\n",
    "    for tokenizer in tokenizers:\n",
    "        print(model_class.__name__)\n",
    "        print(tokenizer.__class__.__name__)\n",
    "        X_tr = tokenizer.fit_transform(Xtrain)\n",
    "        X_ts = tokenizer.transform(Xtest)\n",
    "        y_tr = ytrain\n",
    "        y_ts = ytest\n",
    "        clf = GridSearchCV(model_class(), parameters, scoring=\"f1_macro\")\n",
    "        clf.fit(X_tr, y_tr)\n",
    "        model = model_class(**clf.best_params_)\n",
    "        best_params.append(clf.best_params_)\n",
    "        print(clf.best_params_)\n",
    "        model.fit(X_tr, y_tr)\n",
    "        preds = model.predict(X_ts)\n",
    "        print(f1_score(y_ts, preds, average='macro'))\n",
    "        print('***************************')"
   ]
  },
  {
   "cell_type": "markdown",
   "metadata": {},
   "source": [
    "RandomForestClassifier\n",
    "TfidfVectorizer\n",
    "{'class_weight': 'balanced', 'min_samples_split': 8, 'n_estimators': 200}\n",
    "0.5163435905703798\n",
    "***************************\n",
    "RandomForestClassifier\n",
    "CountVectorizer\n",
    "{'class_weight': 'balanced', 'min_samples_split': 8, 'n_estimators': 200}\n",
    "0.5695423236450183\n",
    "***************************\n",
    "RandomForestClassifier\n",
    "CountVectorizer\n",
    "{'class_weight': 'balanced', 'min_samples_split': 32, 'n_estimators': 200}\n",
    "0.6128094124152929\n",
    "***************************\n",
    "RandomForestClassifier\n",
    "CountVectorizer\n",
    "{'class_weight': 'balanced', 'min_samples_split': 64, 'n_estimators': 200}\n",
    "0.618686484024249\n",
    "***************************"
   ]
  },
  {
   "cell_type": "code",
   "execution_count": null,
   "metadata": {
    "ExecuteTime": {
     "end_time": "2020-12-04T20:11:31.947921Z",
     "start_time": "2020-12-04T20:10:15.968801Z"
    }
   },
   "outputs": [],
   "source": [
    "model = RandomForestClassifier(n_estimators=200, min_samples_split=64, class_weight='balanced')\n",
    "tokenizer = CountVectorizer(tokenizer=LemmaTokenizer())\n",
    "fullX = tokenizer.fit_transform(data['Plot'])\n",
    "model.fit(fullX, data['Genre'])"
   ]
  },
  {
   "cell_type": "code",
   "execution_count": null,
   "metadata": {
    "ExecuteTime": {
     "end_time": "2020-12-05T02:38:28.824917Z",
     "start_time": "2020-12-05T02:38:27.925016Z"
    }
   },
   "outputs": [],
   "source": [
    "import joblib as jl\n",
    "jl.dump(model, 'saved_model.jl')"
   ]
  },
  {
   "cell_type": "code",
   "execution_count": null,
   "metadata": {
    "ExecuteTime": {
     "end_time": "2020-12-05T02:40:03.143701Z",
     "start_time": "2020-12-05T02:40:00.286069Z"
    }
   },
   "outputs": [],
   "source": [
    "jl.dump(tokenizer, 'tokenizer.jl')"
   ]
  },
  {
   "cell_type": "markdown",
   "metadata": {},
   "source": [
    "# Testing code"
   ]
  },
  {
   "cell_type": "code",
   "execution_count": null,
   "metadata": {
    "ExecuteTime": {
     "end_time": "2020-12-05T02:40:13.195093Z",
     "start_time": "2020-12-05T02:40:13.189141Z"
    }
   },
   "outputs": [],
   "source": [
    "import joblib as jl\n",
    "\n",
    "def test_model(test_data):\n",
    "    model = jl.load('lilysaved_model.jl')\n",
    "    tokenizer = jl.load('lilytokenizer.jl')\n",
    "    pipeline = Pipeline([\n",
    "        ('tokenize', tokenizer),\n",
    "        ('model', model)])\n",
    "    return pipeline.predict(test_data)"
   ]
  },
  {
   "cell_type": "code",
   "execution_count": null,
   "metadata": {},
   "outputs": [],
   "source": [
    "data=pd.read_csv('movie-plots-test.csv',index_col=0)\n",
    "test_model(data)\n",
    "test_y=data[\"Genre\"]\n",
    "#mapping={'action':0,'comedy':3,'drama':1,'horror':2}\n",
    "#test_y=[mapping[genre] for genre in test_y]\n",
    "from sklearn.metrics import confusion_matrix as cm\n",
    "from sklearn.metrics import classification_report as cr\n",
    "print(cm(test_y,preds))\n",
    "print(cr(test_y,preds))"
   ]
  }
 ],
 "metadata": {
  "hide_input": false,
  "kernelspec": {
   "display_name": "Python 3",
   "language": "python",
   "name": "python3"
  },
  "language_info": {
   "codemirror_mode": {
    "name": "ipython",
    "version": 3
   },
   "file_extension": ".py",
   "mimetype": "text/x-python",
   "name": "python",
   "nbconvert_exporter": "python",
   "pygments_lexer": "ipython3",
   "version": "3.8.2"
  },
  "toc": {
   "base_numbering": 1,
   "nav_menu": {},
   "number_sections": true,
   "sideBar": true,
   "skip_h1_title": false,
   "title_cell": "Table of Contents",
   "title_sidebar": "Contents",
   "toc_cell": false,
   "toc_position": {},
   "toc_section_display": true,
   "toc_window_display": false
  }
 },
 "nbformat": 4,
 "nbformat_minor": 4
}
