{
 "cells": [
  {
   "cell_type": "code",
   "execution_count": 1,
   "metadata": {},
   "outputs": [],
   "source": [
    "import matplotlib.pyplot as plt\n",
    "import pandas as pd\n",
    "import numpy as np\n",
    "import nltk\n",
    "import math"
   ]
  },
  {
   "cell_type": "code",
   "execution_count": 2,
   "metadata": {},
   "outputs": [
    {
     "name": "stdout",
     "output_type": "stream",
     "text": [
      "<class 'pandas.core.frame.DataFrame'>\n",
      "Int64Index: 10716 entries, 0 to 10715\n",
      "Data columns (total 2 columns):\n",
      " #   Column  Non-Null Count  Dtype \n",
      "---  ------  --------------  ----- \n",
      " 0   Genre   10716 non-null  object\n",
      " 1   Plot    10716 non-null  object\n",
      "dtypes: object(2)\n",
      "memory usage: 251.2+ KB\n"
     ]
    }
   ],
   "source": [
    "# Load the data and sample rows:\n",
    "movies=pd.read_csv('movie-plots-student.csv',index_col=0)\n",
    "movies.info()"
   ]
  },
  {
   "cell_type": "code",
   "execution_count": 3,
   "metadata": {},
   "outputs": [
    {
     "data": {
      "text/html": [
       "<div>\n",
       "<style scoped>\n",
       "    .dataframe tbody tr th:only-of-type {\n",
       "        vertical-align: middle;\n",
       "    }\n",
       "\n",
       "    .dataframe tbody tr th {\n",
       "        vertical-align: top;\n",
       "    }\n",
       "\n",
       "    .dataframe thead th {\n",
       "        text-align: right;\n",
       "    }\n",
       "</style>\n",
       "<table border=\"1\" class=\"dataframe\">\n",
       "  <thead>\n",
       "    <tr style=\"text-align: right;\">\n",
       "      <th></th>\n",
       "      <th>Genre</th>\n",
       "      <th>Plot</th>\n",
       "    </tr>\n",
       "  </thead>\n",
       "  <tbody>\n",
       "    <tr>\n",
       "      <th>0</th>\n",
       "      <td>drama</td>\n",
       "      <td>A Bill of Divorcement describes a day in the l...</td>\n",
       "    </tr>\n",
       "    <tr>\n",
       "      <th>1</th>\n",
       "      <td>comedy</td>\n",
       "      <td>Dr. Clitterhouse (Edward G. Robinson) is a wea...</td>\n",
       "    </tr>\n",
       "    <tr>\n",
       "      <th>2</th>\n",
       "      <td>comedy</td>\n",
       "      <td>Three young couples, all having financial stru...</td>\n",
       "    </tr>\n",
       "    <tr>\n",
       "      <th>3</th>\n",
       "      <td>comedy</td>\n",
       "      <td>Hollywood studio mogul Joe Mulholland (Matthau...</td>\n",
       "    </tr>\n",
       "    <tr>\n",
       "      <th>4</th>\n",
       "      <td>drama</td>\n",
       "      <td>In a working class South London district lives...</td>\n",
       "    </tr>\n",
       "  </tbody>\n",
       "</table>\n",
       "</div>"
      ],
      "text/plain": [
       "    Genre                                               Plot\n",
       "0   drama  A Bill of Divorcement describes a day in the l...\n",
       "1  comedy  Dr. Clitterhouse (Edward G. Robinson) is a wea...\n",
       "2  comedy  Three young couples, all having financial stru...\n",
       "3  comedy  Hollywood studio mogul Joe Mulholland (Matthau...\n",
       "4   drama  In a working class South London district lives..."
      ]
     },
     "execution_count": 3,
     "metadata": {},
     "output_type": "execute_result"
    }
   ],
   "source": [
    "movies.head(5)"
   ]
  },
  {
   "cell_type": "code",
   "execution_count": 4,
   "metadata": {},
   "outputs": [
    {
     "data": {
      "text/plain": [
       "drama     5059\n",
       "comedy    3727\n",
       "horror     986\n",
       "action     944\n",
       "Name: Genre, dtype: int64"
      ]
     },
     "execution_count": 4,
     "metadata": {},
     "output_type": "execute_result"
    }
   ],
   "source": [
    "movies.Genre.value_counts()"
   ]
  },
  {
   "cell_type": "code",
   "execution_count": 5,
   "metadata": {},
   "outputs": [
    {
     "data": {
      "text/plain": [
       "<matplotlib.axes._subplots.AxesSubplot at 0x116e2aa30>"
      ]
     },
     "execution_count": 5,
     "metadata": {},
     "output_type": "execute_result"
    },
    {
     "data": {
      "image/png": "[encoded data removed]",
      "text/plain": [
       "<Figure size 432x288 with 1 Axes>"
      ]
     },
     "metadata": {
      "needs_background": "light"
     },
     "output_type": "display_data"
    }
   ],
   "source": [
    "movies.Plot.map(lambda x: len(x.split(' '))).hist(bins=40)"
   ]
  },
  {
   "cell_type": "code",
   "execution_count": 6,
   "metadata": {
    "scrolled": true
   },
   "outputs": [
    {
     "data": {
      "text/plain": [
       "'The film opens with an English schoolteacher, Gwen Mayfield (Joan Fontaine), packing up her belongings at a mission school in colonial Africa. The local witch doctors have led a rebellion, and they reach the school before she is able to escape - the shaman wearing a body mask. Gwen screams, and the scene dissolves to the opening credits.\\r\\nThe next scene is back home in England, where Gwen meets with the apparently Reverend Alan Bax (Alec McCowen) for a job interview. We discover that Gwen suffered a nervous breakdown from whatever she experienced at the hand of the rebels when the school was attacked. Alan is impressed by Gwen and hires her to be the new head teacher at the small private school he and his sister, well-known journalist Stephanie Bax (Kay Walsh) run for the local children in the village of Heddaby.\\r\\nUpon moving into the teacher\\'s cottage, Gwen asks her maid, Valerie Creek (Michele Dotrice), where she might find the rectory. Valerie is confused - she knows there is no rectory - until Gwen explains she would like to thank Mr Bax. \"Oh, you mean the Baxes\\' house!\" she says, and shows her the way after tea.\\r\\nAt the house, Gwen meets Stephanie and mentions she tried to look for the church on the way but couldn\\'t find it. Stephanie explains there isn\\'t any church, and no \"Reverend Alan Bax\" - but that the pretence is completely harmless. Alan shows Gwen the old church, now a ruin, as he walks her home. He confesses to her that he is not really a priest - \"I wanted to enter the Church, but I failed.\" He notes that he does not try to persuade anyone or officiate, but sometimes wears the priestly collar \"for security.\" Gwen tries to find out more about why the old church was left a ruin but Alan mysteriously turns silent and seems to be unable to move, so she says good night and leaves him to his thoughts.\\r\\nSchool begins and, initially, the only drama is that the other teacher, Sally Benson (Ann Bell), is late to arrive. She was on holiday in France and the boat was held up. She does not live in Heddaby but in the town nearby where her boyfriend lives.\\r\\nTwo of Gwen\\'s students, Ronnie Dowsett (Martin Stephens) (son of Gwen\\'s gardener) and Linda Rigg (Ingrid Boulting), spend a lot of time together and are on their way to becoming boyfriend and girlfiend. But for some inexplicable reason, the entire town seems to disapprove of their friendship and prospective romantic relationship; and wants them apart, especially Linda\\'s grandmother, Granny Rigg (Gwen Ffrangcon-Davies). Ronnie includes an anonymous note for Gwen in the stack of homework stating that Linda\\'s grandmother \"treats her something crool.\" Gwen realises the note must be from him and questions him about it. He explains that Linda and her grandmother were in the washroom and thought he had gone after walking Linda home from school; but he was still there and saw as Mrs Rigg put Linda\\'s hand through the mangle (wringer) of the washing machine.\\r\\nGwen goes to visit Linda at home, who claims to have hurt her hand washing doll clothes. Linda\\'s grandmother seems to Gwen to be a cheerful woman, and is well-versed in the making of home remedies from herbs. But Linda is able to have a quiet word with Gwen while Mrs Rigg is out of the room, so she knows that things are not all that they seem.\\r\\nRonnie turns out to be a very clever lad. Alan offers to pay to send Ronnie to a cramming school so he can catch up in time to pass the necessary examinations to follow a university preparation course of study in high school. But Mr. Dowsett (John Collin) doesn\\'t like the idea of sending him away and Gwen is concerned that Ronnie might find he\\'s so far behind that he\\'ll lose heart. So she agrees to give him the extra tutoring he needs herself.\\r\\nMeanwhile, Ronnie has given Linda a male doll to match her female doll, obviously to represent the two of them. The doll turns up missing. Ronnie thinks Linda has thrown it out but Linda asserts it is lost. The next morning, Ronnie\\'s parents discover he fell into a coma overnight and Gwen arrives at the house just as the ambulance is taking him to hospital.\\r\\nLater, while conducting lessons outside, Gwen finds Linda\\'s missing male doll in the fork of a tree, stuck full of pins and with its head missing. She shows it to Stephanie who suggests it might be someone in Heddaby having a little dabble in witchcraft. Gwen wants to remove the pins but Stephanie says, \"Oh, no! Emphatically not! Do you see why? That would mean admitting belief in it - for ourselves.\" Gwen sees her point and remarks, \"What we believe and what we think we believe, could destroy us.\" Stephanie is impressed and suggests she and Gwen should write an article together on the subject of witchcraft in contemporary England, especially given Gwen\\'s prior experience in Africa.\\r\\nGwen then encounters Mrs. Dowsett (Carmel McSharry) walking home from the hospital. Mr. Dowsett had previously told Gwen the his wife, a Welshwoman who \"has some silly notions,\" had a case of shingles the year before after she had an argument over Ronnie with Mrs. Rigg. Gwen offers Mrs. Dowsett a lift home, asks about her illness the year before and whether she thinks Ronnie\\'s illness is natural. Mrs. Dowsett becomes upset and demands Gwen stop the car and let her out, whereupon she quickly makes her way to Mrs. Rigg\\'s house.\\r\\nThe next day, Ronnie is well again. Mr. Dowsett arrives at the school, having spent some time in the pub, and informs Gwen that Mrs. Dowsett has taken Ronnie to her family in Wales. Dowsett was welcome to go with them but, \"I couldn\\'t go just like that.\" Gwen then informs Dowsett that Mrs. Dowsett went to see Mrs. Rigg the night before and she things they struck some kind of bargain. Dowsett then goes off to confront Mrs. Rigg about it. The next morning, he is found drowned at the beach.\\r\\nGwen goes to the beach where Dowsett\\'s body was found. After passing Stephanie, who is walking her dogs, she discovers several footprints. A herd of sheep then runs along the beach, chased by Stephanie\\'s dogs, and they knock Gwen down. \"They broke away and wouldn\\'t answer,\" Stephanie says. \"They\\'ve never done it before.\" She helps Gwen up and learns about the footprints. Stephanie suggests there may have been a coven of witches on the beach that night, who killed Dowsett because they stumbled across them. An inquest is set for Monday and Gwen states she will tell everything she knows at that time.\\r\\nStephanie takes Gwen to recuperate at her house, where Dr. Wallis (Leonard Rossiter) gives her a tetanus injection. Gwen wakes in the night to see an African object on her bedside table, which frightens her. She gets out of bed and calls for Stephanie, but when she opens the door she is apparently met by the same body-masked witch doctor she encountered in Africa. She faints into a relapse of the breakdown she suffered in Africa.\\r\\nShe wakes several weeks later in a nursing home (small private hospital) but has no memory of her life after returning to England a year ago. She initially thinks she is still in Africa (\"This isn\\'t the coast, it\\'s too cool.\") Dr Wallis explains that she has generous friends who are paying for her care, and that her memory will come back when it wants to. On another occasion, she sees Alan with Dr Wallis outside her window but does not recognise him. A few days later, a little girl arrives to visit her grandmother at the nursing home. She has a new doll, the sight of which jogs Gwen\\'s memory and she whispers, \"Heddaby.\"\\r\\nHer memory recovered, Gwen realises there is no time to waste. Linda is in danger of being made a ritual sacrifice. She sneaks out of the nursing home and hitchhikes her way back to Heddaby. She is picked up on the way by Mr. Curd (Duncan Lamont), the local butcher, who stops outside his shop to pick up a package to deliver to the Baxes. Several people see Gwen and say how nice it is to have her back. Mrs. Curd (Viola Keats) comes out of the butcher shop ostensibly to do the same but instead softly warns, \"They\\'ve got the girl!\" Mr Curd takes Gwen to the Baxes, where she is warmly received by Alan, Stephanie and Dr Wallis, who got there before her because Alan and Stephanie were the friends paying for her care.\\r\\nA few days later, Gwen goes to see Mrs. Rigg to enquire after Linda. She is visibly worried but tells Gwen that Linda is at her cousin\\'s in Great Yarmouth. Alan then arrives and Gwen can ask no further questions. From her room at the Baxes\\' house, Gwen sees people furtively scurrying along a path through the cemetery. She follows them and ends up in the ruins of the old church, where she finds a sack doll with a picture of Linda attached to it. The doll is dancing about a witches\\' circle. Gwen grabs the doll, unzips it and discovers that Mrs. Rigg\\'s cat, Vesper, is inside. He runs away and Stephanie is surprised to find Alan there, wearing his priestly collar. \"Come away from here,\" Alan calls. But before she can, someone else enters the room and takes their attention.\\r\\nIt is Stephanie, dressed in ceremonial robes and antlers. \"I willed you to come and you came!\" she says to Gwen. It turns out that she is the leader of the coven, and her interest in Gwen all along has been to make her an acolyte to assist her. Stephanie directs Alan to leave, the others emerge from the shadows, and Gwen is formally initiated.\\r\\nStephanie and Gwen return to the house, where Stephanie explains everything. She has studied witchcraft as a science and uses it very powerfully. She also has the only surviving copy of a book of Brother Johann Woodswurch, in which he detailed the process for extending one\\'s own life through the ritual sacrifice of a pure maiden (thus, Ronnie Dowsett had to be kept out of the way) and not more than 15 years old (Linda is still 14). Gwen is horrified to read the Latin, which Stephanie then recites the rhyme in English, \"Grow me a gown with golden down. Cut me a robe from toe to lobe. Give me a skin for dancing in.\"\\r\\nThe thing is to happen at Lammastide - the next night. Stephanie and Gwen review the essential material in the book. The seeker-after-life is warned that everything at the place of sacrifice must be kept pure up to the moment of sacrifice - no blood or animal defilement, etc., \"lest the whole dread power do turn upon the seeker.\" In particular, the knife must be well-practised in the art of human sacrifice. \"You haven\\'t one,\" Gwen asserts. \"You can\\'t have!\" But Stephanie simply goes to her desk drawer, and shows Gwen a ceremonial knife saying, \"From ancient Mexico!\"\\r\\nGwen tries to get Alan to tell her where Linda is, but he cannot say anything. The next evening, Stephanie takes Gwen to the old church, where Linda has been hidden. Gwen tries to talk to her but she is in a trance. The ritual begins and Gwen fears she is unable to do anything to stop it. But just as Stephanie raises her hand to strike the blow, Gwen sees and grabs another knife, cuts her own arm, and wipes the blood on Stephanie\\'s robe. \"Blood!\" she cries out, then quotes: \"At the moment of sacrifice, let no blood be spilled!\"\\r\\nStephanie is seized with a convulsion, as she throws off her headdress and tries to remove her stained gown from the place - but it is too late, and she dies. Linda revives and everyone else seems to come out of a daze, too. \"It was in her all the time!\" Gwen says.\\r\\nWeeks later, it is the start of a new school term and the village is very happy. Sally Benson arrives and is surprised by all the changes, \"What\\'s been happening? Curd gone away; the general store\\'s a supermarket. Has everyone been moving out or something?\" Alan, who has been installing loudspeakers in the classroom, then says, \"The one who matters didn\\'t!\" and Gwen smiles.'"
      ]
     },
     "execution_count": 6,
     "metadata": {},
     "output_type": "execute_result"
    }
   ],
   "source": [
    "movies[movies.Plot.map(lambda x: len(x.split(' ')))>2000].Plot.iloc[0]"
   ]
  },
  {
   "cell_type": "code",
   "execution_count": 7,
   "metadata": {},
   "outputs": [
    {
     "data": {
      "text/plain": [
       "688           A woman fears her new husband will kill her.\n",
       "1044      The film is about a court case and embezzlement.\n",
       "1970     Professor Ernest Belman creates a woman in his...\n",
       "2074     A night watchman is mistaken for a wealthy fin...\n",
       "2980     Two seaside photographers become entangled wit...\n",
       "3679     The film is set in Tokyo and Ōsakikamijima, Hi...\n",
       "3875                                  Film's introduction:\n",
       "4199                  Two car firms have a bitter rivalry.\n",
       "4866     A young couple struggle with their overbearing...\n",
       "6463              Suraj is an Action film for Mithun Fans.\n",
       "6562               The film examines small town hypocrisy.\n",
       "8064                        \"A beach near Rio de Janeiro\".\n",
       "8229     A private detective is hired to protect expens...\n",
       "8519                        The film is set in Nanjing.[1]\n",
       "8665               A Socialist barber inherits an Earldom.\n",
       "8772         Married chorus girl rides scandal to stardom.\n",
       "8910     Two rookie policewomen investigate a woman's a...\n",
       "9178      Rokto is a remake of the Telegu film Chandee.[3]\n",
       "10045                        Chhalia is a family thriller.\n",
       "10673           Some sisters inherit a large sum of money.\n",
       "Name: Plot, dtype: object"
      ]
     },
     "execution_count": 7,
     "metadata": {},
     "output_type": "execute_result"
    }
   ],
   "source": [
    "movies[movies.Plot.map(lambda x: len(x.split(' ')))<10].Plot.iloc[0:30]"
   ]
  },
  {
   "cell_type": "code",
   "execution_count": 8,
   "metadata": {},
   "outputs": [],
   "source": [
    "movies = movies[movies.Plot.map(lambda x: len(x.split(' ')))<1500]\n",
    "movies = movies[movies.Plot.map(lambda x: len(x.split(' ')))>15]"
   ]
  },
  {
   "cell_type": "code",
   "execution_count": 9,
   "metadata": {},
   "outputs": [
    {
     "name": "stdout",
     "output_type": "stream",
     "text": [
      "<class 'pandas.core.frame.DataFrame'>\n",
      "Int64Index: 10559 entries, 0 to 10715\n",
      "Data columns (total 2 columns):\n",
      " #   Column  Non-Null Count  Dtype \n",
      "---  ------  --------------  ----- \n",
      " 0   Genre   10559 non-null  object\n",
      " 1   Plot    10559 non-null  object\n",
      "dtypes: object(2)\n",
      "memory usage: 247.5+ KB\n"
     ]
    }
   ],
   "source": [
    "movies.info()"
   ]
  },
  {
   "cell_type": "code",
   "execution_count": 10,
   "metadata": {},
   "outputs": [],
   "source": [
    "movies.Genre,class_index = pd.factorize(movies.Genre)\n"
   ]
  },
  {
   "cell_type": "code",
   "execution_count": 11,
   "metadata": {},
   "outputs": [
    {
     "data": {
      "text/plain": [
       "Index(['drama', 'comedy', 'action', 'horror'], dtype='object')"
      ]
     },
     "execution_count": 11,
     "metadata": {},
     "output_type": "execute_result"
    }
   ],
   "source": [
    "class_index"
   ]
  },
  {
   "cell_type": "code",
   "execution_count": 12,
   "metadata": {},
   "outputs": [],
   "source": [
    "movies.Plot = movies.Plot.map(lambda x:x.lower())"
   ]
  },
  {
   "cell_type": "code",
   "execution_count": null,
   "metadata": {},
   "outputs": [
    {
     "name": "stdout",
     "output_type": "stream",
     "text": [
      "['the', 'to', 'and', 'a', 'of', 'is', 'in', 'his', 'he', 'her', 'with', 'that', 'she', 'him', 'for', 'by', 'as', 'on', 'who', 'but', 'they', 'at', 'has', 'from', 'an', 'their', 'when', 'after', 'it', 'are', 'out', 'up', 'into', 'them', 'not', 'be', 'was', 'one', 'about', 'while', 'which', 'then', 'father', 'have', 'where', 'will', 'back', 'all', 'this', 'home']\n"
     ]
    }
   ],
   "source": [
    "from nltk.corpus import stopwords\n",
    "from collections import Counter\n",
    "#nltk.download('punkt')\n",
    "#nltk.download('stopwords')\n",
    "\n",
    "tokens=[[token for token in nltk.tokenize.word_tokenize(text) if token.isalpha()] for text in movies.Plot]\n",
    "\n",
    "counter=Counter(np.concatenate(tokens))\n",
    "word_freq=counter.most_common(50)\n",
    "stop_words=[w[0] for w in word_freq]\n",
    "print(stop_words)\n",
    "#words with high frequency seem to be included in nltk built-in stopwords\n",
    "\n",
    "\n",
    "tokens=[[token for token in doc if token not in stopwords.words(\"english\")] for doc in tokens]"
   ]
  },
  {
   "cell_type": "code",
   "execution_count": null,
   "metadata": {},
   "outputs": [],
   "source": [
    "import nltk\n",
    "#nltk.download('averaged_perceptron_tagger')\n",
    "#nltk.download('wordnet')\n",
    "from nltk import WordNetLemmatizer\n",
    "from nltk.stem import PorterStemmer,LancasterStemmer\n",
    "from nltk.corpus import wordnet\n",
    "\n",
    "\n",
    "porter=PorterStemmer()\n",
    "tokens=[[porter.stem(token) for token in doc] for doc in tokens]"
   ]
  },
  {
   "cell_type": "code",
   "execution_count": null,
   "metadata": {},
   "outputs": [],
   "source": [
    "len(tokens)"
   ]
  },
  {
   "cell_type": "code",
   "execution_count": null,
   "metadata": {},
   "outputs": [],
   "source": [
    "from sklearn.model_selection import train_test_split\n",
    "\n",
    "train=np.random.choice(range(movies.shape[0]),size=int(0.66*movies.shape[0]),replace=False)\n",
    "test=[i for i in range(movies.shape[0]) if i not in train]\n",
    "train_X=[tokens[i] for i in train]\n",
    "train_y=[movies.Genre.values[i] for i in train]\n",
    "test_X=[tokens[i] for i in test]\n",
    "test_y=[movies.Genre.values[i] for i in test]\n",
    "\n",
    "X_train, X_test, y_train, y_test = train_test_split(movies.Plot, movies.Genre, test_size=0.33, random_state=42)"
   ]
  },
  {
   "cell_type": "code",
   "execution_count": null,
   "metadata": {},
   "outputs": [],
   "source": [
    "from sklearn.feature_extraction.text import CountVectorizer\n",
    "from sklearn.feature_extraction.text import TfidfVectorizer\n",
    "\n",
    "vectorizers={'binary':TfidfVectorizer(analyzer='word',binary=True),\\\n",
    "             'bow':CountVectorizer(analyzer='word',binary=False),\\\n",
    "             'tfidf':TfidfVectorizer(analyzer='word',binary=False)}\n",
    "\n",
    "\n",
    "vec_train_X,vec_test_X={},{}\n",
    "for name,vectorizer in vectorizers.items():\n",
    "    vec_train_X[name]=vectorizer.fit_transform([\" \".join(doc) for doc in train_X])\n",
    "    vec_test_X[name]=vectorizer.transform([\" \".join(doc) for doc in test_X])"
   ]
  },
  {
   "cell_type": "code",
   "execution_count": null,
   "metadata": {},
   "outputs": [],
   "source": [
    "from sklearn.naive_bayes import MultinomialNB\n",
    "from sklearn.naive_bayes import BernoulliNB\n",
    "from sklearn.naive_bayes import ComplementNB\n",
    "from sklearn.multiclass import OneVsRestClassifier\n",
    "\n",
    "\n",
    "models={'BNB':BernoulliNB(),'MNB':MultinomialNB(), 'CNB':ComplementNB()}\n",
    "OneVsRestClassifier_models = {'OneVsRestClassifier_BNB': OneVsRestClassifier(BernoulliNB()),\\\n",
    "                             'OneVsRestClassifier_MNB': OneVsRestClassifier(MultinomialNB()),\\\n",
    "                             'OneVsRestClassifier_CNB': OneVsRestClassifier(ComplementNB())}\n",
    "predictions = {}\n",
    "train_probilities = {}\n",
    "test_probilities = {}\n",
    "for model_name, model in models.items():\n",
    "    for vec_name, vec in vectorizers.items():\n",
    "        model.fit(vec_train_X[vec_name],train_y)\n",
    "        predictions[model_name+'_'+vec_name]=model.predict(vec_test_X[vec_name])\n",
    "        for c in range(4):\n",
    "            train_probilities[model_name+'_'+vec_name+str(c)]=model.predict_proba(vec_train_X[vec_name])[:,c]\n",
    "            test_probilities[model_name+'_'+vec_name+str(c)]=model.predict_proba(vec_test_X[vec_name])[:,c]\n",
    "        clf = OneVsRestClassifier_models['OneVsRestClassifier_'+model_name].fit(vec_train_X[vec_name],train_y)\n",
    "        predictions['OneVsRestClassifier_'+model_name+'_'+vec_name]=clf.predict(vec_test_X[vec_name])\n",
    "        for c in range(4):\n",
    "            train_probilities['OneVsRestClassifier_'+model_name+'_'+vec_name+str(c)]=clf.predict_proba(vec_train_X[vec_name])[:,c]\n",
    "            test_probilities['OneVsRestClassifier_'+model_name+'_'+vec_name+str(c)]=clf.predict_proba(vec_test_X[vec_name])[:,c]\n",
    "        \n",
    "    \n"
   ]
  },
  {
   "cell_type": "code",
   "execution_count": null,
   "metadata": {
    "scrolled": true
   },
   "outputs": [],
   "source": [
    "from sklearn.metrics import confusion_matrix\n",
    "cms={name:pd.DataFrame(confusion_matrix(test_y,predictions[name]).T) for name in predictions.keys()}\n",
    "cms"
   ]
  },
  {
   "cell_type": "code",
   "execution_count": null,
   "metadata": {},
   "outputs": [],
   "source": [
    "from sklearn.ensemble import RandomForestClassifier\n",
    "from sklearn.model_selection import GridSearchCV,KFold\n",
    "\n",
    "parameters = {'max_depth':[8,16,32], 'class_weight':['balanced', None]}\n",
    "kfolds = KFold(n_splits = 10)\n",
    "\n",
    "RF_cv = GridSearchCV(RandomForestClassifier(random_state=0),parameters,cv = kfolds)\n",
    "RF_cv.fit(pd.DataFrame(train_probilities), train_y)\n",
    "\n",
    "print(RF_cv.best_estimator_)\n",
    "final_pred = RF_cv.best_estimator_.predict(pd.DataFrame(test_probilities))\n",
    "confusion_matrix(test_y,final_pred)"
   ]
  },
  {
   "cell_type": "code",
   "execution_count": null,
   "metadata": {},
   "outputs": [],
   "source": [
    "\n",
    "confusion_matrix(train_y,RF_cv.best_estimator_.predict(pd.DataFrame(train_probilities)))"
   ]
  },
  {
   "cell_type": "code",
   "execution_count": null,
   "metadata": {},
   "outputs": [],
   "source": [
    "\n",
    "#please run the above blocks to prepare the model/import packages first\n",
    "\n",
    "def test_model(test_data):\n",
    "    test_data.Plot = test_data.Plot.map(lambda x:x.lower())\n",
    "    #make sure the category index is the same using previously generated class_index\n",
    "    test_data.Genre = test_data.Genre.map(lambda x: list(class_index).index(x))\n",
    "    \n",
    "    tokens=[[token for token in nltk.tokenize.word_tokenize(text) if token.isalpha()] for text in test_data.Plot]\n",
    "    tokens=[[token for token in doc if token not in stopwords.words(\"english\")] for doc in tokens]\n",
    "    porter=PorterStemmer()\n",
    "    tokens=[[porter.stem(token) for token in doc] for doc in tokens]\n",
    "    \n",
    "    for name,vectorizer in vectorizers.items():\n",
    "        vec_test_X[name]=vectorizer.transform([\" \".join(doc) for doc in tokens])\n",
    "        \n",
    "    predictions = {}\n",
    "    test_probilities = {}\n",
    "    for model_name, model in models.items():\n",
    "        for vec_name, vec in vectorizers.items():\n",
    "            predictions[model_name+'_'+vec_name]=model.predict(vec_test_X[vec_name])\n",
    "            for c in range(4):\n",
    "                test_probilities[model_name+'_'+vec_name+str(c)]=model.predict_proba(vec_test_X[vec_name])[:,c]\n",
    "            clf = OneVsRestClassifier_models['OneVsRestClassifier_'+model_name]\n",
    "            predictions['OneVsRestClassifier_'+model_name+'_'+vec_name]=clf.predict(vec_test_X[vec_name])\n",
    "            for c in range(4):\n",
    "                test_probilities['OneVsRestClassifier_'+model_name+'_'+vec_name+str(c)]=clf.predict_proba(vec_test_X[vec_name])[:,c]\n",
    "                \n",
    "    return RF_cv.best_estimator_.predict(pd.DataFrame(test_probilities))         \n"
   ]
  },
  {
   "cell_type": "code",
   "execution_count": null,
   "metadata": {},
   "outputs": [],
   "source": [
    "#just to test if test_model() works\n",
    "data=pd.read_csv('movie-plots-test.csv',index_col=0)\n",
    "test_model(movies[:100])"
   ]
  },
  {
   "cell_type": "code",
   "execution_count": null,
   "metadata": {},
   "outputs": [],
   "source": [
    "test_model()"
   ]
  }
 ],
 "metadata": {
  "hide_input": false,
  "kernelspec": {
   "display_name": "Python 3",
   "language": "python",
   "name": "python3"
  },
  "language_info": {
   "codemirror_mode": {
    "name": "ipython",
    "version": 3
   },
   "file_extension": ".py",
   "mimetype": "text/x-python",
   "name": "python",
   "nbconvert_exporter": "python",
   "pygments_lexer": "ipython3",
   "version": "3.8.2"
  }
 },
 "nbformat": 4,
 "nbformat_minor": 4
}
