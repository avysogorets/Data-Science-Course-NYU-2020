{
 "cells": [
  {
   "cell_type": "code",
   "execution_count": null,
   "metadata": {},
   "outputs": [],
   "source": [
    "import pandas as pd\n",
    "import numpy as np\n",
    "from sklearn.feature_extraction.text import CountVectorizer, TfidfTransformer\n",
    "from sklearn.pipeline import Pipeline\n",
    "from sklearn.linear_model import SGDClassifier\n",
    "from sklearn.model_selection import GridSearchCV\n",
    "from sklearn.metrics import f1_score\n",
    "\n",
    "# Proportion of data to use for training and validation\n",
    "trainval_ratio = 0.8\n",
    "\n",
    "rng = np.random.RandomState(0)\n",
    "data = pd.read_csv('movie-plots-student.csv', index_col=0)\n",
    "x, y = data.Plot.values, data.Genre.values\n",
    "\n",
    "# Shuffle data and split into combined training/validation, and test sets. We will tune\n",
    "# hyperparameters using cross-validation on the combined training/validation set, and then\n",
    "# estimate generalization performance on the test set.\n",
    "shuffled_idxs = rng.permutation(len(x))\n",
    "x, y = x[shuffled_idxs], y[shuffled_idxs]\n",
    "trainval_idx = int(len(x) * trainval_ratio)\n",
    "x_trainval, y_trainval = x[:trainval_idx], y[:trainval_idx]\n",
    "x_test, y_test = x[trainval_idx:], y[trainval_idx:]\n",
    "\n",
    "# Count words, then transform to a tf-idf representation. Classify using linear SVM.\n",
    "text_clf = Pipeline([\n",
    "    ('vect', CountVectorizer()),\n",
    "    ('tfidf', TfidfTransformer()),\n",
    "    ('clf', SGDClassifier(loss='hinge', max_iter=5, tol=None))])\n",
    "\n",
    "# Setup hyperparameter grid search. Log loss is multinomial logistic regression, hinge loss \n",
    "# is linear SVM. Alpha is the regularization strength of the classifier, and ngram_range allows \n",
    "# using unigrams and bigrams.\n",
    "parameters = {\n",
    "    'clf__loss': ('log', 'hinge'),\n",
    "    'clf__alpha': (1e-4, 1e-5, 1e-6),\n",
    "    'vect__ngram_range': [(1, 1), (1, 2)]\n",
    "}\n",
    "# Optimize hyperparameters using grid search 5-fold cross-validation\n",
    "gs_clf = GridSearchCV(text_clf, parameters, scoring='f1_macro', cv=5, n_jobs=-1).fit(x_trainval, y_trainval)\n",
    "for param_name in sorted(parameters.keys()):\n",
    "    print(\"%s: %r\" % (param_name, gs_clf.best_params_[param_name]))\n",
    "pred_test = gs_clf.predict(x_test)\n",
    "f1 = f1_score(y_test, pred_test, average='macro')\n",
    "print(f'F1: {f1:.3f}')"
   ]
  },
  {
   "cell_type": "markdown",
   "metadata": {},
   "source": [
    "The result of the cross-validation is:\n",
    "\n",
    "`clf__alpha: 0.0001\n",
    "clf__loss: 'hinge'\n",
    "vect__ngram_range: (1, 2)\n",
    "F1: 0.716`\n",
    "\n",
    "For the competition, we will use these hyperparameters and train using the entire dataset."
   ]
  },
  {
   "cell_type": "code",
   "execution_count": null,
   "metadata": {},
   "outputs": [],
   "source": [
    "def test_model(test_data):\n",
    "    data = pd.read_csv('movie-plots-student.csv', index_col=0)\n",
    "    x, y = data.Plot.values, data.Genre.values\n",
    "    text_clf = Pipeline([\n",
    "        ('vect', CountVectorizer(ngram_range=(1, 2))),\n",
    "        ('tfidf', TfidfTransformer()),\n",
    "        ('clf', SGDClassifier(loss='hinge', alpha=1e-4, max_iter=5, tol=None))])\n",
    "    text_clf = text_clf.fit(x, y)\n",
    "    return text_clf.predict(test_data)"
   ]
  },
  {
   "cell_type": "code",
   "execution_count": null,
   "metadata": {},
   "outputs": [],
   "source": [
    "data=pd.read_csv(\"movie-plots-test.csv\",index_col=0)\n",
    "test_y=data[\"Genre\"]\n",
    "from sklearn.metrics import confusion_matrix as cm\n",
    "from sklearn.metrics import classification_report as cr\n",
    "preds=test_model(data[\"Plot\"])\n",
    "cm(test_y,preds)"
   ]
  },
  {
   "cell_type": "code",
   "execution_count": null,
   "metadata": {},
   "outputs": [],
   "source": [
    "print(cr(test_y,preds))"
   ]
  }
 ],
 "metadata": {
  "hide_input": false,
  "kernelspec": {
   "display_name": "Python 3",
   "language": "python",
   "name": "python3"
  },
  "language_info": {
   "codemirror_mode": {
    "name": "ipython",
    "version": 3
   },
   "file_extension": ".py",
   "mimetype": "text/x-python",
   "name": "python",
   "nbconvert_exporter": "python",
   "pygments_lexer": "ipython3",
   "version": "3.8.2"
  }
 },
 "nbformat": 4,
 "nbformat_minor": 4
}
