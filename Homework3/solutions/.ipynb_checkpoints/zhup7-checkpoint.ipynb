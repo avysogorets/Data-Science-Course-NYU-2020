{
 "cells": [
  {
   "cell_type": "code",
   "execution_count": 8,
   "metadata": {},
   "outputs": [],
   "source": [
    "import numpy as np\n",
    "import pandas as pd\n",
    "from sklearn.cluster import AgglomerativeClustering as ag\n",
    "from sklearn.cluster import KMeans as km\n",
    "\n",
    "from scipy.cluster.hierarchy import dendrogram\n",
    "import matplotlib.pyplot as plt\n",
    "from collections import Counter"
   ]
  },
  {
   "cell_type": "markdown",
   "metadata": {},
   "source": [
    "## Problem 7\n",
    "### (a)"
   ]
  },
  {
   "cell_type": "code",
   "execution_count": 3,
   "metadata": {},
   "outputs": [],
   "source": [
    "def plot_dendrogram(model, **kwargs):\n",
    "    # Create linkage matrix and then plot the dendrogram\n",
    "\n",
    "    # create the counts of samples under each node\n",
    "    counts = np.zeros(model.children_.shape[0])\n",
    "    n_samples = len(model.labels_)\n",
    "    for i, merge in enumerate(model.children_):\n",
    "        current_count = 0\n",
    "        for child_idx in merge:\n",
    "            if child_idx < n_samples:\n",
    "                current_count += 1  # leaf node\n",
    "            else:\n",
    "                current_count += counts[child_idx - n_samples]\n",
    "        counts[i] = current_count\n",
    "\n",
    "    linkage_matrix = np.column_stack([model.children_, model.distances_,\n",
    "                                      counts]).astype(float)\n",
    "\n",
    "    # Plot the corresponding dendrogram\n",
    "    dendrogram(linkage_matrix, **kwargs)\n"
   ]
  },
  {
   "cell_type": "code",
   "execution_count": 4,
   "metadata": {},
   "outputs": [
    {
     "data": {
      "image/png": "[encoded data removed]",
      "text/plain": [
       "<Figure size 432x288 with 1 Axes>"
      ]
     },
     "metadata": {
      "needs_background": "light"
     },
     "output_type": "display_data"
    }
   ],
   "source": [
    "X = np.array([[0,0], [0,1],[0,3], [2.5,1], [3,1], [-1,2], [4,2]])\n",
    "model = ag(distance_threshold=0, n_clusters=None, \n",
    "                                affinity='manhattan', linkage='complete')\n",
    "model = model.fit(X)\n",
    "plot_dendrogram(model, truncate_mode='level', p=3)\n",
    "plt.xlabel(\"Number of points in node (or index of point if no parenthesis).\")\n",
    "plt.show()\n"
   ]
  },
  {
   "cell_type": "markdown",
   "metadata": {},
   "source": [
    "### (b)"
   ]
  },
  {
   "cell_type": "code",
   "execution_count": 5,
   "metadata": {},
   "outputs": [],
   "source": [
    "X = np.load('mnist-sample-X.npy')\n",
    "y = np.load('mnist-sample-y.npy')\n",
    "metric_list = ['euclidean', 'manhattan']\n",
    "linkage_list = ['ward', 'complete', 'average']"
   ]
  },
  {
   "cell_type": "code",
   "execution_count": 6,
   "metadata": {},
   "outputs": [],
   "source": [
    "def get_error(n, y_pred, y):\n",
    "    true_count = 0\n",
    "    for i in range(n):\n",
    "        i_idx = (y_pred==i)\n",
    "        label_count = Counter(y[i_idx])\n",
    "        true_count += max(label_count, key= lambda x: label_count[x])\n",
    "    return 1-true_count/len(y_pred)"
   ]
  },
  {
   "cell_type": "code",
   "execution_count": 7,
   "metadata": {},
   "outputs": [
    {
     "name": "stdout",
     "output_type": "stream",
     "text": [
      "AG-euclidean-ward - 0.35519999999999996\n",
      "AG-euclidean-complete - 0.6215999999999999\n",
      "AG-euclidean-average - 0.759\n",
      "AG-manhattan-complete - 0.6682\n",
      "AG-manhattan-average - 0.7758\n",
      "k-means - 0.4282\n",
      "k-means++ - 0.40480000000000005\n"
     ]
    }
   ],
   "source": [
    "np.random.seed(2020)\n",
    "model_list = []\n",
    "model_names = []\n",
    "for m in metric_list:\n",
    "    for l in linkage_list:\n",
    "        if m == 'manhattan' and l == 'ward':\n",
    "            continue\n",
    "        model_list.append(ag(n_clusters=10, affinity=m, linkage=l))\n",
    "        model_names.append('AG-{}-{}'.format(m, l))\n",
    "model_list.append(km(n_clusters=10,init='random',algorithm='full',n_init=1))\n",
    "model_names.append('k-means')\n",
    "model_list.append(km(n_clusters=10,init='k-means++',algorithm='full',n_init=1))\n",
    "model_names.append('k-means++')\n",
    "for name, model in zip(model_names, model_list):\n",
    "    n = model.n_clusters\n",
    "    y_pred = model.fit_predict(X)\n",
    "    print('{} - {}'.format(name, get_error(n, y_pred, y)))"
   ]
  },
  {
   "cell_type": "markdown",
   "metadata": {},
   "source": [
    "Agglomerative clustering with euclidean metric and ward linkage works best as it has least training error."
   ]
  },
  {
   "cell_type": "code",
   "execution_count": null,
   "metadata": {},
   "outputs": [],
   "source": []
  },
  {
   "cell_type": "code",
   "execution_count": null,
   "metadata": {},
   "outputs": [],
   "source": []
  }
 ],
 "metadata": {
  "hide_input": false,
  "kernelspec": {
   "display_name": "Python 3",
   "language": "python",
   "name": "python3"
  },
  "language_info": {
   "codemirror_mode": {
    "name": "ipython",
    "version": 3
   },
   "file_extension": ".py",
   "mimetype": "text/x-python",
   "name": "python",
   "nbconvert_exporter": "python",
   "pygments_lexer": "ipython3",
   "version": "3.8.2"
  }
 },
 "nbformat": 4,
 "nbformat_minor": 4
}
