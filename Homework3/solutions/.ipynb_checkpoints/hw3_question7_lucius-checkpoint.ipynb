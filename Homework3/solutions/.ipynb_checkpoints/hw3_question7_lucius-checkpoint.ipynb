{
 "cells": [
  {
   "cell_type": "markdown",
   "metadata": {},
   "source": [
    "## 7a"
   ]
  },
  {
   "cell_type": "markdown",
   "metadata": {},
   "source": [
    "First we look at the data on a grid."
   ]
  },
  {
   "cell_type": "code",
   "execution_count": 67,
   "metadata": {},
   "outputs": [],
   "source": [
    "import pandas as pd\n",
    "import numpy as np\n",
    "import matplotlib.pyplot as plt\n",
    "from scipy.spatial.distance import cdist\n",
    "from scipy.cluster.hierarchy import dendrogram, linkage\n",
    "\n",
    "from sklearn.cluster import KMeans as km\n",
    "from sklearn.cluster import AgglomerativeClustering as ag"
   ]
  },
  {
   "cell_type": "code",
   "execution_count": 143,
   "metadata": {},
   "outputs": [
    {
     "data": {
      "image/png": "[encoded data removed]",
      "text/plain": [
       "<Figure size 432x288 with 1 Axes>"
      ]
     },
     "metadata": {
      "needs_background": "light"
     },
     "output_type": "display_data"
    },
    {
     "data": {
      "text/html": [
       "<div>\n",
       "<style scoped>\n",
       "    .dataframe tbody tr th:only-of-type {\n",
       "        vertical-align: middle;\n",
       "    }\n",
       "\n",
       "    .dataframe tbody tr th {\n",
       "        vertical-align: top;\n",
       "    }\n",
       "\n",
       "    .dataframe thead th {\n",
       "        text-align: right;\n",
       "    }\n",
       "</style>\n",
       "<table border=\"1\" class=\"dataframe\">\n",
       "  <thead>\n",
       "    <tr style=\"text-align: right;\">\n",
       "      <th></th>\n",
       "      <th>A</th>\n",
       "      <th>B</th>\n",
       "      <th>C</th>\n",
       "      <th>D</th>\n",
       "      <th>E</th>\n",
       "      <th>F</th>\n",
       "      <th>G</th>\n",
       "    </tr>\n",
       "  </thead>\n",
       "  <tbody>\n",
       "    <tr>\n",
       "      <th>A</th>\n",
       "      <td>0.0</td>\n",
       "      <td>1.0</td>\n",
       "      <td>3.0</td>\n",
       "      <td>3.5</td>\n",
       "      <td>4.0</td>\n",
       "      <td>3.0</td>\n",
       "      <td>6.0</td>\n",
       "    </tr>\n",
       "    <tr>\n",
       "      <th>B</th>\n",
       "      <td>1.0</td>\n",
       "      <td>0.0</td>\n",
       "      <td>2.0</td>\n",
       "      <td>2.5</td>\n",
       "      <td>3.0</td>\n",
       "      <td>2.0</td>\n",
       "      <td>5.0</td>\n",
       "    </tr>\n",
       "    <tr>\n",
       "      <th>C</th>\n",
       "      <td>3.0</td>\n",
       "      <td>2.0</td>\n",
       "      <td>0.0</td>\n",
       "      <td>4.5</td>\n",
       "      <td>5.0</td>\n",
       "      <td>2.0</td>\n",
       "      <td>5.0</td>\n",
       "    </tr>\n",
       "    <tr>\n",
       "      <th>D</th>\n",
       "      <td>3.5</td>\n",
       "      <td>2.5</td>\n",
       "      <td>4.5</td>\n",
       "      <td>0.0</td>\n",
       "      <td>0.5</td>\n",
       "      <td>4.5</td>\n",
       "      <td>2.5</td>\n",
       "    </tr>\n",
       "    <tr>\n",
       "      <th>E</th>\n",
       "      <td>4.0</td>\n",
       "      <td>3.0</td>\n",
       "      <td>5.0</td>\n",
       "      <td>0.5</td>\n",
       "      <td>0.0</td>\n",
       "      <td>5.0</td>\n",
       "      <td>2.0</td>\n",
       "    </tr>\n",
       "    <tr>\n",
       "      <th>F</th>\n",
       "      <td>3.0</td>\n",
       "      <td>2.0</td>\n",
       "      <td>2.0</td>\n",
       "      <td>4.5</td>\n",
       "      <td>5.0</td>\n",
       "      <td>0.0</td>\n",
       "      <td>5.0</td>\n",
       "    </tr>\n",
       "    <tr>\n",
       "      <th>G</th>\n",
       "      <td>6.0</td>\n",
       "      <td>5.0</td>\n",
       "      <td>5.0</td>\n",
       "      <td>2.5</td>\n",
       "      <td>2.0</td>\n",
       "      <td>5.0</td>\n",
       "      <td>0.0</td>\n",
       "    </tr>\n",
       "  </tbody>\n",
       "</table>\n",
       "</div>"
      ],
      "text/plain": [
       "     A    B    C    D    E    F    G\n",
       "A  0.0  1.0  3.0  3.5  4.0  3.0  6.0\n",
       "B  1.0  0.0  2.0  2.5  3.0  2.0  5.0\n",
       "C  3.0  2.0  0.0  4.5  5.0  2.0  5.0\n",
       "D  3.5  2.5  4.5  0.0  0.5  4.5  2.5\n",
       "E  4.0  3.0  5.0  0.5  0.0  5.0  2.0\n",
       "F  3.0  2.0  2.0  4.5  5.0  0.0  5.0\n",
       "G  6.0  5.0  5.0  2.5  2.0  5.0  0.0"
      ]
     },
     "execution_count": 143,
     "metadata": {},
     "output_type": "execute_result"
    }
   ],
   "source": [
    "data = np.array([\n",
    "    [0, 0],\n",
    "    [0, 1],\n",
    "    [0, 3],\n",
    "    [2.5, 1],\n",
    "    [3, 1],\n",
    "    [-1, 2],\n",
    "    [4, 2] \n",
    "])\n",
    "labels = ['A', 'B', 'C', 'D', 'E', 'F', 'G']\n",
    "\n",
    "for i, (x, y) in enumerate(data):\n",
    "    plt.plot(x, y)\n",
    "    plt.text(s=labels[i], x=x, y=y)\n",
    "plt.grid()\n",
    "plt.show()\n",
    "\n",
    "dist_matrix = pd.DataFrame(cdist(data, data, metric='cityblock'))\n",
    "dist_matrix.columns = labels\n",
    "dist_matrix.index = labels\n",
    "dist_matrix"
   ]
  },
  {
   "cell_type": "markdown",
   "metadata": {},
   "source": [
    "Maximum linkage finds the next cluster by merging the two clusters that have the smallest maximum distance across all pairs of their constituent points (in this case, Manhattan distance). We start with D and E as the closest points when all clusters are size one. We then find that A and B are closer than the maximum linkage between (DE) and any of the other points as well as the distance between any other points. Now with (DE) and (AB) as clusters, we repeat the process and find C and F are closest. Next we merge (DE) with G and then finally (CF) with (AB). Our next merge captures all of the data. Implementing this, we get the following dendrogram."
   ]
  },
  {
   "cell_type": "code",
   "execution_count": 62,
   "metadata": {},
   "outputs": [
    {
     "data": {
      "image/png": "[encoded data removed]",
      "text/plain": [
       "<Figure size 432x288 with 1 Axes>"
      ]
     },
     "metadata": {
      "needs_background": "light"
     },
     "output_type": "display_data"
    }
   ],
   "source": [
    "model_max_linkage = linkage(data, method='complete', metric='cityblock')\n",
    "den = dendrogram(model_max_linkage, labels=labels)\n",
    "plt.show()"
   ]
  },
  {
   "cell_type": "markdown",
   "metadata": {},
   "source": [
    "## 7b"
   ]
  },
  {
   "cell_type": "markdown",
   "metadata": {},
   "source": [
    "Next we use Agglomerative Clustering with 5 linkage-metric combinations and K-means and K-means++ to cluster MNIST. We write a function to label clusters by majority vote and assess the training error for each combination. For MNIST we set K=10."
   ]
  },
  {
   "cell_type": "code",
   "execution_count": 114,
   "metadata": {},
   "outputs": [],
   "source": [
    "from itertools import product\n",
    "from collections import Counter \n",
    "\n",
    "from sklearn.metrics import accuracy_score"
   ]
  },
  {
   "cell_type": "code",
   "execution_count": 141,
   "metadata": {},
   "outputs": [
    {
     "name": "stdout",
     "output_type": "stream",
     "text": [
      "ward, euclidean -- error: 0.3552\n",
      "complete, euclidean -- error: 0.6216\n",
      "complete, cosine -- error: 0.6418\n",
      "average, euclidean -- error: 0.7590\n",
      "average, cosine -- error: 0.8796\n",
      "single, euclidean -- error: 0.8916\n",
      "single, cosine -- error: 0.8922\n",
      "kmeans -- error: 0.4200\n",
      "kmeans++ -- error: 0.4034\n"
     ]
    }
   ],
   "source": [
    "mnist_X = np.load('mnist-sample-X.npy')\n",
    "mnist_y = np.load('mnist-sample-y.npy')\n",
    "\n",
    "def labels_to_digits(cluster_labels):\n",
    "    cluster_label_counts = Counter(list(zip(cluster_labels, mnist_y)))\n",
    "    majority_digits = {cluster_label: (None, 0) for cluster_label in range(10)}\n",
    "    for (cluster_label, digit), count in cluster_label_counts.items():\n",
    "        if count > majority_digits[cluster_label][1]:\n",
    "            majority_digits[cluster_label] = (digit, count)\n",
    "\n",
    "    cluster_label_to_digit = {cluster_label: digit \n",
    "                              for cluster_label, (digit, _) \n",
    "                              in majority_digits.items()}\n",
    "\n",
    "    digits = [cluster_label_to_digit[cluster_label] \n",
    "              for cluster_label in cluster_labels]\n",
    "    \n",
    "    return digits\n",
    "\n",
    "linkage_methods = ['ward', 'complete', 'average', 'single']\n",
    "distance_metrics = ['euclidean', 'cosine']\n",
    "\n",
    "linkage_metric_pairs = list(product(linkage_methods, distance_metrics))\n",
    "\n",
    "for linkage_method, distance_metric in linkage_metric_pairs:\n",
    "    if distance_metric != 'euclidean' and linkage_method == 'ward':\n",
    "        continue\n",
    "    model = ag(n_clusters=10, affinity=distance_metric, linkage=linkage_method)\n",
    "    cluster_labels = model.fit_predict(mnist_X)\n",
    "    y_pred = labels_to_digits(cluster_labels)\n",
    "    \n",
    "    error = 1 - accuracy_score(mnist_y, y_pred)\n",
    "    print(f'{linkage_method}, {distance_metric} -- error: {error:.4f}')\n",
    "    \n",
    "model = km(n_clusters=10, init='random', algorithm='full', n_init=10)\n",
    "cluster_labels = model.fit_predict(mnist_X)\n",
    "y_pred = labels_to_digits(cluster_labels)\n",
    "error = 1 - accuracy_score(mnist_y, y_pred)\n",
    "print(f'kmeans -- error: {error:.4f}')\n",
    "\n",
    "model = km(n_clusters=10, init='k-means++', algorithm='full', n_init=10)\n",
    "cluster_labels = model.fit_predict(mnist_X)\n",
    "y_pred = labels_to_digits(cluster_labels)\n",
    "error = 1 - accuracy_score(mnist_y, y_pred)\n",
    "print(f'kmeans++ -- error: {error:.4f}')"
   ]
  },
  {
   "cell_type": "markdown",
   "metadata": {},
   "source": [
    "We can see the best method for this run is ward linkage with euclidean distance, followed closely by the K-means models. "
   ]
  }
 ],
 "metadata": {
  "hide_input": false,
  "kernelspec": {
   "display_name": "Python 3",
   "language": "python",
   "name": "python3"
  },
  "language_info": {
   "codemirror_mode": {
    "name": "ipython",
    "version": 3
   },
   "file_extension": ".py",
   "mimetype": "text/x-python",
   "name": "python",
   "nbconvert_exporter": "python",
   "pygments_lexer": "ipython3",
   "version": "3.8.2"
  }
 },
 "nbformat": 4,
 "nbformat_minor": 4
}
