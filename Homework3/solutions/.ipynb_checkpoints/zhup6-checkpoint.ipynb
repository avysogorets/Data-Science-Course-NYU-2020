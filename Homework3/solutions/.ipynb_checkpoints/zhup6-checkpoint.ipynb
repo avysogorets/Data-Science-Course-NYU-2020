{
 "cells": [
  {
   "cell_type": "code",
   "execution_count": 92,
   "metadata": {},
   "outputs": [],
   "source": [
    "import pandas as pd\n",
    "import numpy as np\n",
    "from sklearn.pipeline import Pipeline\n",
    "from sklearn.preprocessing import LabelEncoder\n",
    "from sklearn.feature_extraction.text import CountVectorizer, TfidfTransformer\n",
    "from sklearn.model_selection import GridSearchCV\n",
    "from sklearn.ensemble import GradientBoostingClassifier, RandomForestClassifier\n",
    "from sklearn.naive_bayes import MultinomialNB\n",
    "\n",
    "from sklearn.metrics import f1_score, make_scorer\n",
    "from pprint import pprint\n",
    "from time import time\n",
    "import pickle"
   ]
  },
  {
   "cell_type": "code",
   "execution_count": 2,
   "metadata": {},
   "outputs": [],
   "source": [
    "train_data = pd.read_csv('movie-plots-student.csv', index_col=0)\n",
    "train_X, train_y = train_data['Plot'], train_data['Genre']\n",
    "lab_enc = LabelEncoder()\n",
    "train_y = lab_enc.fit_transform(train_y)"
   ]
  },
  {
   "cell_type": "code",
   "execution_count": 89,
   "metadata": {},
   "outputs": [],
   "source": [
    "pipeline = Pipeline([\n",
    "    ('vect', CountVectorizer()),\n",
    "    ('tfidf', TfidfTransformer()),\n",
    "    ('clf', RandomForestClassifier()),\n",
    "])\n",
    "parameters = {\n",
    "    'vect__max_features': (None, 1000, 5000),\n",
    "    'vect__stop_words': (None, 'english'),\n",
    "    'vect__ngram_range': ((1, 1), (1, 2), (1, 3)),  # unigrams or bigrams\n",
    "    'clf__max_depth': (30, 50, 70, None),\n",
    "    'clf__n_estimators': (100, 300),\n",
    "}"
   ]
  },
  {
   "cell_type": "code",
   "execution_count": 90,
   "metadata": {},
   "outputs": [],
   "source": [
    "np.random.seed(2020)\n",
    "macro_f1 = make_scorer(f1_score, average='macro')\n",
    "grid_search = GridSearchCV(pipeline, parameters, scoring=macro_f1,\n",
    "                           n_jobs=-1, verbose=10, cv=5)\n"
   ]
  },
  {
   "cell_type": "code",
   "execution_count": 91,
   "metadata": {},
   "outputs": [
    {
     "name": "stdout",
     "output_type": "stream",
     "text": [
      "Performing grid search...\n",
      "pipeline: ['vect', 'tfidf', 'clf']\n",
      "parameters:\n",
      "{'clf__max_depth': (10, 50),\n",
      " 'vect__max_features': (1000, 5000),\n",
      " 'vect__ngram_range': ((1, 1), (1, 3)),\n",
      " 'vect__stop_words': (None, 'english')}\n",
      "Fitting 5 folds for each of 16 candidates, totalling 80 fits\n"
     ]
    },
    {
     "name": "stderr",
     "output_type": "stream",
     "text": [
      "[Parallel(n_jobs=-1)]: Using backend LokyBackend with 8 concurrent workers.\n",
      "[Parallel(n_jobs=-1)]: Done   2 tasks      | elapsed:   16.2s\n",
      "[Parallel(n_jobs=-1)]: Done   9 tasks      | elapsed:   23.6s\n",
      "[Parallel(n_jobs=-1)]: Done  16 tasks      | elapsed:  1.4min\n",
      "[Parallel(n_jobs=-1)]: Done  25 tasks      | elapsed:  1.5min\n",
      "[Parallel(n_jobs=-1)]: Done  34 tasks      | elapsed:  2.1min\n",
      "[Parallel(n_jobs=-1)]: Done  45 tasks      | elapsed:  2.9min\n",
      "[Parallel(n_jobs=-1)]: Done  56 tasks      | elapsed:  4.1min\n",
      "[Parallel(n_jobs=-1)]: Done  74 out of  80 | elapsed:  5.2min remaining:   25.4s\n",
      "[Parallel(n_jobs=-1)]: Done  80 out of  80 | elapsed:  5.6min finished\n"
     ]
    },
    {
     "name": "stdout",
     "output_type": "stream",
     "text": [
      "done in 375.130s\n",
      "\n",
      "Best score: 0.525\n",
      "Best parameters set:\n",
      "\tclf__max_depth: 50\n",
      "\tvect__max_features: 5000\n",
      "\tvect__ngram_range: (1, 3)\n",
      "\tvect__stop_words: 'english'\n"
     ]
    }
   ],
   "source": [
    "print(\"Performing grid search...\")\n",
    "print(\"pipeline:\", [name for name, _ in pipeline.steps])\n",
    "print(\"parameters:\")\n",
    "pprint(parameters)\n",
    "t0 = time()\n",
    "grid_search.fit(train_X, train_y)\n",
    "print(\"done in %0.3fs\" % (time() - t0))\n",
    "print()\n",
    "\n",
    "print(\"Best score: %0.3f\" % grid_search.best_score_)\n",
    "print(\"Best parameters set:\")\n",
    "best_parameters = grid_search.best_estimator_.get_params()\n",
    "for param_name in sorted(parameters.keys()):\n",
    "    print(\"\\t%s: %r\" % (param_name, best_parameters[param_name]))\n",
    "pickle.dump((lab_enc, grid_search), open('result_models.pkl','wb'))"
   ]
  },
  {
   "cell_type": "markdown",
   "metadata": {},
   "source": [
    "I use 5-fold cross-validation for train-validation split. To tokenize the sentences, I lower the cases, experiment on n-grams (1, 2, 3), different numbers of maximus tokens and exclude stop words. Then I use TF-IDF to featurize the tokens. I experiment on different classification models, like Naive Bayes and random forest. The classification results are evaluated on validation with macro F1 socres. I tune the hyperparameters by cross-validation with grid search on tokenization settings mentioned above and model hyperparameters of random forests, including number of trees and max depth."
   ]
  },
  {
   "cell_type": "code",
   "execution_count": 100,
   "metadata": {},
   "outputs": [
    {
     "name": "stdout",
     "output_type": "stream",
     "text": [
      "Validation f1: 0.5254\n"
     ]
    }
   ],
   "source": [
    "lab_enc, grid_search = pickle.load(open('result_models.pkl','rb'))\n",
    "print('Validation f1: %.4f'%grid_search.best_score_)"
   ]
  },
  {
   "cell_type": "code",
   "execution_count": null,
   "metadata": {},
   "outputs": [],
   "source": [
    "# Change the file name to the test file\n",
    "test_data = pd.read_csv('movie-plots-test.csv',index_col=0)\n",
    "test_X, test_y = test_data['Plot'], test_data['Genre']\n",
    "test_y = lab_enc.transform(test_y)\n",
    "print(cm(test_y,preds))\n",
    "print(cr(test_y,preds))"
   ]
  },
  {
   "cell_type": "code",
   "execution_count": null,
   "metadata": {},
   "outputs": [],
   "source": []
  }
 ],
 "metadata": {
  "hide_input": false,
  "kernelspec": {
   "display_name": "Python 3",
   "language": "python",
   "name": "python3"
  },
  "language_info": {
   "codemirror_mode": {
    "name": "ipython",
    "version": 3
   },
   "file_extension": ".py",
   "mimetype": "text/x-python",
   "name": "python",
   "nbconvert_exporter": "python",
   "pygments_lexer": "ipython3",
   "version": "3.8.2"
  }
 },
 "nbformat": 4,
 "nbformat_minor": 4
}
