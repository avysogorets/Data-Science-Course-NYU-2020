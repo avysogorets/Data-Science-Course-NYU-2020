{
 "cells": [
  {
   "cell_type": "code",
   "execution_count": 1,
   "metadata": {},
   "outputs": [],
   "source": [
    "import math\n",
    "import numpy as np\n",
    "import matplotlib.pyplot as plt\n",
    "from sklearn.cluster import KMeans as km\n",
    "from sklearn.cluster import AgglomerativeClustering as ag\n",
    "from auxiliary import *\n",
    "import csv\n",
    "import scipy.stats\n",
    "import pandas as pd"
   ]
  },
  {
   "cell_type": "code",
   "execution_count": 2,
   "metadata": {},
   "outputs": [],
   "source": [
    "mnist_X = np.load('mnist-sample-X.npy')\n",
    "mnist_Y = np.load('mnist-sample-y.npy')"
   ]
  },
  {
   "cell_type": "code",
   "execution_count": 3,
   "metadata": {},
   "outputs": [],
   "source": [
    "def majority_voting(cluster_ids, true_labels, nclasses=10):\n",
    "    cluster_preds = np.zeros(len(cluster_ids))\n",
    "    \n",
    "    for c in range(nclasses):\n",
    "        #so c goes from 0 to 9\n",
    "        pred_class = cluster_ids == c\n",
    "        true_labels_c = true_labels[pred_class]\n",
    "        maj_vote = scipy.stats.mode(true_labels_c)[0].item()\n",
    "        \n",
    "        cluster_preds[pred_class] = maj_vote\n",
    "    \n",
    "    pred_diff = cluster_preds - mnist_Y\n",
    "    n_ = len(cluster_ids)\n",
    "    training_error = sum( pred_diff != 0 )/n_ * 100 ###counts number of wrong predictions\n",
    "    return cluster_preds, training_error"
   ]
  },
  {
   "cell_type": "code",
   "execution_count": 4,
   "metadata": {},
   "outputs": [
    {
     "name": "stdout",
     "output_type": "stream",
     "text": [
      "Percent incorrect with Euclidean/Ward combo:  35.52\n"
     ]
    }
   ],
   "source": [
    "#linkage options: {“ward”, “complete”, “average”, “single”},\n",
    "#affinity: 'euclidean', 'manhattan' (ward only works with euclidean)\n",
    "\n",
    "model_euc_ward=ag(n_clusters=10,affinity='euclidean',linkage='ward')\n",
    "clusters_euc_ward=model_euc_ward.fit_predict(mnist_X)\n",
    "euc_ward_preds, euc_ward_training = majority_voting(clusters_euc_ward,mnist_Y)\n",
    "print('Percent incorrect with Euclidean/Ward combo: ',euc_ward_training)"
   ]
  },
  {
   "cell_type": "code",
   "execution_count": 5,
   "metadata": {},
   "outputs": [
    {
     "name": "stdout",
     "output_type": "stream",
     "text": [
      "Percent incorrect with Euclidean/Complete combo:  62.160000000000004\n"
     ]
    }
   ],
   "source": [
    "model_euc_com=ag(n_clusters=10,affinity='euclidean',linkage='complete')\n",
    "clusters_euc_com=model_euc_com.fit_predict(mnist_X)\n",
    "euc_com_preds, euc_com_training = majority_voting(clusters_euc_com,mnist_Y)\n",
    "print('Percent incorrect with Euclidean/Complete combo: ',euc_com_training)"
   ]
  },
  {
   "cell_type": "code",
   "execution_count": 6,
   "metadata": {},
   "outputs": [
    {
     "name": "stdout",
     "output_type": "stream",
     "text": [
      "Percent incorrect with Euclidean/Average combo:  62.160000000000004\n"
     ]
    }
   ],
   "source": [
    "model_euc_avg=ag(n_clusters=10,affinity='euclidean',linkage='average')\n",
    "clusters_euc_avg=model_euc_avg.fit_predict(mnist_X)\n",
    "euc_avg_preds, euc_avg_training = majority_voting(clusters_euc_avg,mnist_Y)\n",
    "print('Percent incorrect with Euclidean/Average combo: ',euc_com_training)"
   ]
  },
  {
   "cell_type": "code",
   "execution_count": 7,
   "metadata": {},
   "outputs": [
    {
     "name": "stdout",
     "output_type": "stream",
     "text": [
      "Percent incorrect with Euclidean/Single combo:  89.16\n"
     ]
    }
   ],
   "source": [
    "model_euc_sin=ag(n_clusters=10,affinity='euclidean',linkage='single')\n",
    "clusters_euc_sin=model_euc_sin.fit_predict(mnist_X)\n",
    "euc_sin_preds, euc_sin_training = majority_voting(clusters_euc_sin,mnist_Y)\n",
    "print('Percent incorrect with Euclidean/Single combo: ',euc_sin_training)"
   ]
  },
  {
   "cell_type": "code",
   "execution_count": 8,
   "metadata": {},
   "outputs": [
    {
     "name": "stdout",
     "output_type": "stream",
     "text": [
      "Percent incorrect with Manhattan/Average combo:  77.58\n"
     ]
    }
   ],
   "source": [
    "model_man_avg=ag(n_clusters=10,affinity='manhattan',linkage='average')\n",
    "clusters_man_avg=model_man_avg.fit_predict(mnist_X)\n",
    "man_avg_preds, man_avg_training = majority_voting(clusters_man_avg,mnist_Y)\n",
    "print('Percent incorrect with Manhattan/Average combo: ',man_avg_training)"
   ]
  },
  {
   "cell_type": "code",
   "execution_count": 9,
   "metadata": {},
   "outputs": [
    {
     "name": "stdout",
     "output_type": "stream",
     "text": [
      "Percent incorrect with Kmeans:  41.78\n"
     ]
    }
   ],
   "source": [
    "model_km =km(n_clusters=10,init='random',algorithm='full',n_init=1)\n",
    "km_clusters = model_km.fit_predict(mnist_X)\n",
    "km_preds, km_training = majority_voting(km_clusters,mnist_Y)\n",
    "print('Percent incorrect with Kmeans: ',km_training)"
   ]
  },
  {
   "cell_type": "code",
   "execution_count": 10,
   "metadata": {},
   "outputs": [
    {
     "name": "stdout",
     "output_type": "stream",
     "text": [
      "Percent incorrect with Kmeans:  41.78\n"
     ]
    }
   ],
   "source": [
    "model_kmpp =km(n_clusters=10,init='k-means++',algorithm='full',n_init=1)\n",
    "kmpp_clusters = model_km.fit_predict(mnist_X)\n",
    "kmpp_preds, km_training = majority_voting(km_clusters,mnist_Y)\n",
    "print('Percent incorrect with Kmeans: ',km_training)"
   ]
  },
  {
   "cell_type": "code",
   "execution_count": null,
   "metadata": {},
   "outputs": [],
   "source": []
  }
 ],
 "metadata": {
  "hide_input": false,
  "kernelspec": {
   "display_name": "Python 3",
   "language": "python",
   "name": "python3"
  },
  "language_info": {
   "codemirror_mode": {
    "name": "ipython",
    "version": 3
   },
   "file_extension": ".py",
   "mimetype": "text/x-python",
   "name": "python",
   "nbconvert_exporter": "python",
   "pygments_lexer": "ipython3",
   "version": "3.8.2"
  }
 },
 "nbformat": 4,
 "nbformat_minor": 4
}
