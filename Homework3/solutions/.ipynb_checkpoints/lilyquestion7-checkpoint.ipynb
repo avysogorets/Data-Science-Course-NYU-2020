{
 "cells": [
  {
   "cell_type": "markdown",
   "metadata": {},
   "source": [
    "# Part (a)"
   ]
  },
  {
   "cell_type": "code",
   "execution_count": 3,
   "metadata": {
    "ExecuteTime": {
     "end_time": "2020-12-04T01:30:12.113660Z",
     "start_time": "2020-12-04T01:30:11.413202Z"
    }
   },
   "outputs": [
    {
     "data": {
      "text/plain": [
       "{'icoord': [[15.0, 15.0, 25.0, 25.0],\n",
       "  [5.0, 5.0, 20.0, 20.0],\n",
       "  [35.0, 35.0, 45.0, 45.0],\n",
       "  [55.0, 55.0, 65.0, 65.0],\n",
       "  [40.0, 40.0, 60.0, 60.0],\n",
       "  [12.5, 12.5, 50.0, 50.0]],\n",
       " 'dcoord': [[0.0, 0.5, 0.5, 0.0],\n",
       "  [0.0, 2.5, 2.5, 0.5],\n",
       "  [0.0, 1.0, 1.0, 0.0],\n",
       "  [0.0, 2.0, 2.0, 0.0],\n",
       "  [1.0, 3.0, 3.0, 2.0],\n",
       "  [2.5, 6.0, 6.0, 3.0]],\n",
       " 'ivl': ['G', 'D', 'E', 'A', 'B', 'C', 'F'],\n",
       " 'leaves': [6, 3, 4, 0, 1, 2, 5],\n",
       " 'color_list': ['g', 'g', 'r', 'r', 'r', 'b']}"
      ]
     },
     "execution_count": 3,
     "metadata": {},
     "output_type": "execute_result"
    },
    {
     "data": {
      "image/png": "[encoded data removed]",
      "text/plain": [
       "<Figure size 432x288 with 1 Axes>"
      ]
     },
     "metadata": {
      "needs_background": "light"
     },
     "output_type": "display_data"
    }
   ],
   "source": [
    "from scipy.cluster.hierarchy import dendrogram, linkage\n",
    "D = [(0,0),(0,1),(0,3),(2.5,1),(3,1),(-1,2),(4,2)]\n",
    "Z = linkage(D, method='complete', metric='cityblock')\n",
    "dendrogram(Z, labels=[\"A\",\"B\",\"C\",\"D\",\"E\",\"F\",\"G\"])"
   ]
  },
  {
   "cell_type": "markdown",
   "metadata": {},
   "source": [
    "# Part (b)"
   ]
  },
  {
   "cell_type": "code",
   "execution_count": 38,
   "metadata": {
    "ExecuteTime": {
     "end_time": "2020-12-04T16:52:01.999782Z",
     "start_time": "2020-12-04T16:52:01.951642Z"
    }
   },
   "outputs": [],
   "source": [
    "import numpy as np\n",
    "from sklearn.cluster import AgglomerativeClustering, KMeans\n",
    "\n",
    "X = np.load('mnist-sample-X.npy')\n",
    "y = np.load('mnist-sample-y.npy')"
   ]
  },
  {
   "cell_type": "code",
   "execution_count": 41,
   "metadata": {
    "ExecuteTime": {
     "end_time": "2020-12-04T16:52:24.421301Z",
     "start_time": "2020-12-04T16:52:24.416059Z"
    }
   },
   "outputs": [],
   "source": [
    "from sklearn.metrics import accuracy_score\n",
    "\n",
    "def majority(lst):\n",
    "    lst = list(lst)\n",
    "    return max(lst, key=lst.count)\n",
    "\n",
    "def accuracy_by_majority_vote(labels, preds):\n",
    "    new_preds = np.zeros_like(preds)\n",
    "    for i in range(10):\n",
    "        preds_idx = np.where(preds == i)[0]\n",
    "        new_preds[preds_idx] = majority(labels[preds_idx])\n",
    "    return accuracy_score(labels, new_preds)"
   ]
  },
  {
   "cell_type": "code",
   "execution_count": 42,
   "metadata": {
    "ExecuteTime": {
     "end_time": "2020-12-04T16:53:26.634879Z",
     "start_time": "2020-12-04T16:52:24.920114Z"
    }
   },
   "outputs": [
    {
     "name": "stdout",
     "output_type": "stream",
     "text": [
      "euclidean complete\n",
      "0.3784\n",
      "euclidean single\n",
      "0.1084\n",
      "manhattan complete\n",
      "0.3318\n",
      "manhattan single\n",
      "0.1084\n",
      "l2 complete\n",
      "0.3784\n",
      "l2 single\n",
      "0.1084\n"
     ]
    }
   ],
   "source": [
    "from sklearn.metrics.cluster import contingency_matrix\n",
    "from sklearn.metrics.cluster import normalized_mutual_info_score\n",
    "import matplotlib.pyplot as plt\n",
    "import seaborn as sns\n",
    "\n",
    "%matplotlib inline\n",
    "\n",
    "# fig, axes = plt.subplots(3, 2, figsize=(18, 16))\n",
    "n_clusters = 10\n",
    "for i, affinity in enumerate(['euclidean', 'manhattan', 'l2']):\n",
    "    for j, linkage in enumerate(['complete', 'single']):\n",
    "#         ax = axes[i, j]\n",
    "        model = AgglomerativeClustering(n_clusters=n_clusters, affinity=affinity, linkage=linkage)\n",
    "        preds = model.fit_predict(X)\n",
    "        print(affinity, linkage)\n",
    "        print(accuracy_by_majority_vote(y, preds))\n",
    "#         ax.set_title(' '.join([affinity, linkage, str(normalized_mutual_info_score(y, preds))]))\n",
    "#         conmat = contingency_matrix(y, preds)\n",
    "#         sns.heatmap(conmat, annot=True, ax=ax)"
   ]
  },
  {
   "cell_type": "code",
   "execution_count": 43,
   "metadata": {
    "ExecuteTime": {
     "end_time": "2020-12-04T16:53:36.396198Z",
     "start_time": "2020-12-04T16:53:26.637693Z"
    }
   },
   "outputs": [
    {
     "name": "stdout",
     "output_type": "stream",
     "text": [
      "random\n",
      "0.582\n",
      "k-means++\n",
      "0.5826\n"
     ]
    }
   ],
   "source": [
    "# fig, axes = plt.subplots(1, 2, figsize=(16, 8))\n",
    "for i, init in enumerate(['random', 'k-means++']):\n",
    "    model = KMeans(n_clusters=n_clusters, init=init, max_iter=600)\n",
    "    preds = model.fit_predict(X)\n",
    "    print(init)\n",
    "    print(accuracy_by_majority_vote(y, preds))\n",
    "#     conmat = contingency_matrix(y, preds)\n",
    "#     ax = axes[i]\n",
    "#     ax.set_title(' '.join([init, str(normalized_mutual_info_score(y, preds))]))\n",
    "#     sns.heatmap(conmat, annot=True, ax=ax)"
   ]
  },
  {
   "cell_type": "markdown",
   "metadata": {},
   "source": [
    "The agglomerative clustering methods do not perform very well, and single linkage performs especially badly. KMeans/KMeans++ performs best; the results are pretty close between the two."
   ]
  },
  {
   "cell_type": "code",
   "execution_count": null,
   "metadata": {},
   "outputs": [],
   "source": []
  }
 ],
 "metadata": {
  "hide_input": false,
  "kernelspec": {
   "display_name": "Python 3",
   "language": "python",
   "name": "python3"
  },
  "language_info": {
   "codemirror_mode": {
    "name": "ipython",
    "version": 3
   },
   "file_extension": ".py",
   "mimetype": "text/x-python",
   "name": "python",
   "nbconvert_exporter": "python",
   "pygments_lexer": "ipython3",
   "version": "3.8.2"
  },
  "toc": {
   "base_numbering": 1,
   "nav_menu": {},
   "number_sections": true,
   "sideBar": true,
   "skip_h1_title": false,
   "title_cell": "Table of Contents",
   "title_sidebar": "Contents",
   "toc_cell": false,
   "toc_position": {},
   "toc_section_display": true,
   "toc_window_display": false
  }
 },
 "nbformat": 4,
 "nbformat_minor": 4
}
