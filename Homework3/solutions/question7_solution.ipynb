{
 "cells": [
  {
   "cell_type": "markdown",
   "metadata": {},
   "source": [
    "### *Question 7(a)*"
   ]
  },
  {
   "cell_type": "code",
   "execution_count": 87,
   "metadata": {},
   "outputs": [],
   "source": [
    "import numpy as np\n",
    "import matplotlib.pyplot as plt\n",
    "from scipy.cluster import hierarchy"
   ]
  },
  {
   "cell_type": "code",
   "execution_count": 88,
   "metadata": {},
   "outputs": [
    {
     "data": {
      "image/png": "[encoded data removed]",
      "text/plain": [
       "<Figure size 864x288 with 2 Axes>"
      ]
     },
     "metadata": {
      "needs_background": "light"
     },
     "output_type": "display_data"
    }
   ],
   "source": [
    "# Solution:\n",
    "\n",
    "data_x=[0,0,0,2.5,3,-1,4]\n",
    "data_y=[0,1,3,1,1,2,2]\n",
    "labels=[\"A\",\"B\",\"C\",\"D\",\"E\",\"F\",\"G\"]\n",
    "fig,axes=plt.subplots(nrows=1,ncols=2,figsize=(12,4))\n",
    "axes[0].scatter(data_x,data_y)\n",
    "for x,y,l in zip(data_x,data_y,labels):\n",
    "    axes[0].text(x+0.1,y,l)\n",
    "model=hierarchy.linkage([[x,y] for x,y in zip(data_x,data_y)],metric='cityblock',method='complete')\n",
    "ddg=hierarchy.dendrogram(model,labels=labels,ax=axes[1])"
   ]
  },
  {
   "cell_type": "markdown",
   "metadata": {},
   "source": [
    "### *Question 7(b)*"
   ]
  },
  {
   "cell_type": "code",
   "execution_count": 94,
   "metadata": {},
   "outputs": [],
   "source": [
    "# Solution:\n",
    "\n",
    "from sklearn.cluster import KMeans\n",
    "from sklearn.cluster import AgglomerativeClustering as Agg\n",
    "train_X=np.load(\"data/mnist-sample-X.npy\")\n",
    "train_y=np.load(\"data/mnist-sample-y.npy\")\n",
    "models=[]\n",
    "models.append(Agg(n_clusters=10,affinity='euclidean',linkage='ward'))\n",
    "models.append(Agg(n_clusters=10,affinity='euclidean',linkage='average'))\n",
    "models.append(Agg(n_clusters=10,affinity='euclidean',linkage='single'))\n",
    "models.append(Agg(n_clusters=10,affinity='euclidean',linkage='complete'))\n",
    "models.append(Agg(n_clusters=10,affinity='manhattan',linkage='average'))\n",
    "models.append(Agg(n_clusters=10,affinity='manhattan',linkage='single'))\n",
    "models.append(Agg(n_clusters=10,affinity='manhattan',linkage='complete'))\n",
    "models.append(Agg(n_clusters=10,affinity='cosine',linkage='average'))\n",
    "models.append(Agg(n_clusters=10,affinity='cosine',linkage='single'))\n",
    "models.append(Agg(n_clusters=10,affinity='cosine',linkage='complete'))\n",
    "models.append(KMeans(n_clusters=10,init='random'))\n",
    "models.append(KMeans(n_clusters=10,init='k-means++'))"
   ]
  },
  {
   "cell_type": "code",
   "execution_count": 95,
   "metadata": {},
   "outputs": [],
   "source": [
    "for i,model in enumerate(models):\n",
    "    model.fit(train_X)"
   ]
  },
  {
   "cell_type": "code",
   "execution_count": 96,
   "metadata": {},
   "outputs": [],
   "source": [
    "predicted_labels={}\n",
    "for i,model in enumerate(models):\n",
    "    clusters={k:[0]*10 for k in range(10)}\n",
    "    for j,label in enumerate(model.labels_):\n",
    "        clusters[label][train_y[j]]+=1\n",
    "    predicted=[None]*10\n",
    "    for k,cluster in clusters.items():\n",
    "        predicted[k]=np.argmax(cluster)\n",
    "    predicted_labels[i]=predicted"
   ]
  },
  {
   "cell_type": "code",
   "execution_count": 97,
   "metadata": {},
   "outputs": [
    {
     "data": {
      "text/plain": [
       "{0: 1776,\n",
       " 1: 3795,\n",
       " 2: 4458,\n",
       " 3: 3108,\n",
       " 4: 3879,\n",
       " 5: 4458,\n",
       " 6: 3341,\n",
       " 7: 4398,\n",
       " 8: 4461,\n",
       " 9: 3209,\n",
       " 10: 2080,\n",
       " 11: 2058}"
      ]
     },
     "execution_count": 97,
     "metadata": {},
     "output_type": "execute_result"
    }
   ],
   "source": [
    "errors={}\n",
    "for i,model in enumerate(models):\n",
    "    errors[i]=0\n",
    "    for j,target in enumerate(train_y):\n",
    "        errors[i]+=(target!=predicted_labels[i][model.labels_[j]])\n",
    "errors"
   ]
  }
 ],
 "metadata": {
  "hide_input": false,
  "kernelspec": {
   "display_name": "Python 3",
   "language": "python",
   "name": "python3"
  },
  "language_info": {
   "codemirror_mode": {
    "name": "ipython",
    "version": 3
   },
   "file_extension": ".py",
   "mimetype": "text/x-python",
   "name": "python",
   "nbconvert_exporter": "python",
   "pygments_lexer": "ipython3",
   "version": "3.8.2"
  }
 },
 "nbformat": 4,
 "nbformat_minor": 4
}
