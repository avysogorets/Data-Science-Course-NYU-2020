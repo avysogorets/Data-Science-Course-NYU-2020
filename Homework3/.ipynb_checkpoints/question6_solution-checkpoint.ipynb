{
 "cells": [
  {
   "cell_type": "markdown",
   "metadata": {},
   "source": [
    "### *Question 6*"
   ]
  },
  {
   "cell_type": "code",
   "execution_count": 1,
   "metadata": {},
   "outputs": [],
   "source": [
    "import matplotlib.pyplot as plt\n",
    "import pandas as pd\n",
    "import numpy as np\n",
    "import nltk"
   ]
  },
  {
   "cell_type": "code",
   "execution_count": 2,
   "metadata": {},
   "outputs": [],
   "source": [
    "data=pd.read_csv(\"movie-plots-student.csv\")\n",
    "classes=[\"drama\",\"comedy\",\"horror\",\"action\"]\n",
    "labels=data[\"Genre\"].apply(lambda x: classes.index(x))"
   ]
  },
  {
   "cell_type": "code",
   "execution_count": 3,
   "metadata": {},
   "outputs": [],
   "source": [
    "# Tokenize textual data:\n",
    "tokens=[[token for token in nltk.tokenize.word_tokenize(text) if token.isalpha()] for text in data[\"Plot\"]]"
   ]
  },
  {
   "cell_type": "code",
   "execution_count": 4,
   "metadata": {},
   "outputs": [],
   "source": [
    "# Remove stopwords from nltk:\n",
    "from nltk.corpus import stopwords\n",
    "tokens=[[token for token in doc if token not in stopwords.words(\"english\")] for doc in tokens]"
   ]
  },
  {
   "cell_type": "code",
   "execution_count": 5,
   "metadata": {},
   "outputs": [],
   "source": [
    "# Apply stemming:\n",
    "from nltk.stem import PorterStemmer\n",
    "porter=PorterStemmer()\n",
    "tokens=[[porter.stem(token) for token in doc] for doc in tokens]"
   ]
  },
  {
   "cell_type": "code",
   "execution_count": 7,
   "metadata": {},
   "outputs": [],
   "source": [
    "# Train/validation 80/20 split:\n",
    "train=np.random.choice(range(len(labels)),size=int(0.8*len(labels)),replace=False)\n",
    "val=[i for i in range(len(labels)) if i not in train]\n",
    "train_X=[tokens[i] for i in train]\n",
    "train_y=[labels[i] for i in train]\n",
    "val_X=[tokens[i] for i in val]\n",
    "val_y=[labels[i] for i in val]"
   ]
  },
  {
   "cell_type": "code",
   "execution_count": 8,
   "metadata": {},
   "outputs": [],
   "source": [
    "# Three different vectorizations:\n",
    "from sklearn.feature_extraction.text import CountVectorizer\n",
    "from sklearn.feature_extraction.text import TfidfVectorizer\n",
    "vectorizers={'binary':TfidfVectorizer(analyzer='word',binary=True),'bow':CountVectorizer(analyzer='word',binary=False),'tfidf':TfidfVectorizer(analyzer='word',binary=False)}\n",
    "vec_train_X,vec_val_X={},{}\n",
    "for name,vectorizer in vectorizers.items():\n",
    "    vec_train_X[name]=vectorizer.fit_transform([\" \".join(doc) for doc in train_X])\n",
    "    vec_val_X[name]=vectorizer.transform([\" \".join(doc) for doc in val_X])"
   ]
  },
  {
   "cell_type": "code",
   "execution_count": 9,
   "metadata": {},
   "outputs": [],
   "source": [
    "# Naive Bayes models:\n",
    "from sklearn.naive_bayes import MultinomialNB\n",
    "from sklearn.naive_bayes import BernoulliNB\n",
    "models={'binary':BernoulliNB(),'bow':MultinomialNB(),'tfidf':MultinomialNB()}\n",
    "predictions_nb={}\n",
    "for name,model in models.items():\n",
    "    model.fit(vec_train_X[name],train_y)\n",
    "    predictions_nb[name]=model.predict(vec_val_X[name])"
   ]
  },
  {
   "cell_type": "code",
   "execution_count": 10,
   "metadata": {},
   "outputs": [],
   "source": [
    "# Logistic Regression models:\n",
    "from sklearn.linear_model import LogisticRegression\n",
    "models={name:LogisticRegression(max_iter=10000) for name in models.keys()}\n",
    "predictions_lr={}\n",
    "for name,model in models.items():\n",
    "    model.fit(vec_train_X[name],train_y)\n",
    "    predictions_lr[name]=model.predict(vec_val_X[name])"
   ]
  },
  {
   "cell_type": "code",
   "execution_count": 11,
   "metadata": {},
   "outputs": [],
   "source": [
    "# SVM models:\n",
    "from sklearn.svm import SVC\n",
    "models={name:SVC(kernel='linear') for name in models.keys()}\n",
    "predictions_svm={}\n",
    "for name,model in models.items():\n",
    "    model.fit(vec_train_X[name],train_y)\n",
    "    predictions_svm[name]=model.predict(vec_val_X[name])"
   ]
  },
  {
   "cell_type": "code",
   "execution_count": 12,
   "metadata": {},
   "outputs": [],
   "source": [
    "# Generate confusion matrices:\n",
    "from sklearn.metrics import confusion_matrix\n",
    "cms_nb={name:pd.DataFrame(confusion_matrix(val_y,predictions_nb[name]).T,index=[f\"predicted {classes[0]}\",f\"predicted {classes[1]}\",f\"predicted {classes[2]}\",f\"predicted {classes[3]}\"],columns=[f\"true {classes[0]}\",f\"true {classes[1]}\",f\"true {classes[2]}\",f\"true {classes[3]}\"]) for name in predictions_nb.keys()}\n",
    "cms_lr={name:pd.DataFrame(confusion_matrix(val_y,predictions_lr[name]).T,index=[f\"predicted {classes[0]}\",f\"predicted {classes[1]}\",f\"predicted {classes[2]}\",f\"predicted {classes[3]}\"],columns=[f\"true {classes[0]}\",f\"true {classes[1]}\",f\"true {classes[2]}\",f\"true {classes[3]}\"]) for name in predictions_lr.keys()}\n",
    "cms_svm={name:pd.DataFrame(confusion_matrix(val_y,predictions_svm[name]).T,index=[f\"predicted {classes[0]}\",f\"predicted {classes[1]}\",f\"predicted {classes[2]}\",f\"predicted {classes[3]}\"],columns=[f\"true {classes[0]}\",f\"true {classes[1]}\",f\"true {classes[2]}\",f\"true {classes[3]}\"]) for name in predictions_svm.keys()}"
   ]
  },
  {
   "cell_type": "code",
   "execution_count": 13,
   "metadata": {},
   "outputs": [],
   "source": [
    "from sklearn.metrics import *"
   ]
  },
  {
   "cell_type": "code",
   "execution_count": 14,
   "metadata": {},
   "outputs": [
    {
     "name": "stdout",
     "output_type": "stream",
     "text": [
      "accuracy:  0.6408582089552238\n",
      "balanced accuracy:  0.5562459866946986\n",
      "macro f1-score:  0.5747159318288565\n"
     ]
    },
    {
     "data": {
      "text/html": [
       "<div>\n",
       "<style scoped>\n",
       "    .dataframe tbody tr th:only-of-type {\n",
       "        vertical-align: middle;\n",
       "    }\n",
       "\n",
       "    .dataframe tbody tr th {\n",
       "        vertical-align: top;\n",
       "    }\n",
       "\n",
       "    .dataframe thead th {\n",
       "        text-align: right;\n",
       "    }\n",
       "</style>\n",
       "<table border=\"1\" class=\"dataframe\">\n",
       "  <thead>\n",
       "    <tr style=\"text-align: right;\">\n",
       "      <th></th>\n",
       "      <th>true drama</th>\n",
       "      <th>true comedy</th>\n",
       "      <th>true horror</th>\n",
       "      <th>true action</th>\n",
       "    </tr>\n",
       "  </thead>\n",
       "  <tbody>\n",
       "    <tr>\n",
       "      <th>predicted drama</th>\n",
       "      <td>837</td>\n",
       "      <td>354</td>\n",
       "      <td>69</td>\n",
       "      <td>109</td>\n",
       "    </tr>\n",
       "    <tr>\n",
       "      <th>predicted comedy</th>\n",
       "      <td>107</td>\n",
       "      <td>358</td>\n",
       "      <td>5</td>\n",
       "      <td>13</td>\n",
       "    </tr>\n",
       "    <tr>\n",
       "      <th>predicted horror</th>\n",
       "      <td>50</td>\n",
       "      <td>26</td>\n",
       "      <td>122</td>\n",
       "      <td>17</td>\n",
       "    </tr>\n",
       "    <tr>\n",
       "      <th>predicted action</th>\n",
       "      <td>13</td>\n",
       "      <td>7</td>\n",
       "      <td>0</td>\n",
       "      <td>57</td>\n",
       "    </tr>\n",
       "  </tbody>\n",
       "</table>\n",
       "</div>"
      ],
      "text/plain": [
       "                  true drama  true comedy  true horror  true action\n",
       "predicted drama          837          354           69          109\n",
       "predicted comedy         107          358            5           13\n",
       "predicted horror          50           26          122           17\n",
       "predicted action          13            7            0           57"
      ]
     },
     "execution_count": 14,
     "metadata": {},
     "output_type": "execute_result"
    }
   ],
   "source": [
    "# Binary vect. + Bernoulli NB:\n",
    "print('accuracy: ',accuracy_score(val_y,predictions_nb['binary']))\n",
    "print('balanced accuracy: ',balanced_accuracy_score(val_y,predictions_nb['binary']))\n",
    "print('macro f1-score: ',f1_score(val_y,predictions_nb['binary'],average='macro'))\n",
    "cms_nb['binary']"
   ]
  },
  {
   "cell_type": "code",
   "execution_count": 15,
   "metadata": {},
   "outputs": [
    {
     "name": "stdout",
     "output_type": "stream",
     "text": [
      "accuracy:  0.6898320895522388\n",
      "balanced accuracy:  0.6776360079498299\n",
      "macro f1-score:  0.6810477462086035\n"
     ]
    },
    {
     "data": {
      "text/html": [
       "<div>\n",
       "<style scoped>\n",
       "    .dataframe tbody tr th:only-of-type {\n",
       "        vertical-align: middle;\n",
       "    }\n",
       "\n",
       "    .dataframe tbody tr th {\n",
       "        vertical-align: top;\n",
       "    }\n",
       "\n",
       "    .dataframe thead th {\n",
       "        text-align: right;\n",
       "    }\n",
       "</style>\n",
       "<table border=\"1\" class=\"dataframe\">\n",
       "  <thead>\n",
       "    <tr style=\"text-align: right;\">\n",
       "      <th></th>\n",
       "      <th>true drama</th>\n",
       "      <th>true comedy</th>\n",
       "      <th>true horror</th>\n",
       "      <th>true action</th>\n",
       "    </tr>\n",
       "  </thead>\n",
       "  <tbody>\n",
       "    <tr>\n",
       "      <th>predicted drama</th>\n",
       "      <td>733</td>\n",
       "      <td>217</td>\n",
       "      <td>28</td>\n",
       "      <td>49</td>\n",
       "    </tr>\n",
       "    <tr>\n",
       "      <th>predicted comedy</th>\n",
       "      <td>211</td>\n",
       "      <td>485</td>\n",
       "      <td>15</td>\n",
       "      <td>26</td>\n",
       "    </tr>\n",
       "    <tr>\n",
       "      <th>predicted horror</th>\n",
       "      <td>15</td>\n",
       "      <td>20</td>\n",
       "      <td>151</td>\n",
       "      <td>11</td>\n",
       "    </tr>\n",
       "    <tr>\n",
       "      <th>predicted action</th>\n",
       "      <td>48</td>\n",
       "      <td>23</td>\n",
       "      <td>2</td>\n",
       "      <td>110</td>\n",
       "    </tr>\n",
       "  </tbody>\n",
       "</table>\n",
       "</div>"
      ],
      "text/plain": [
       "                  true drama  true comedy  true horror  true action\n",
       "predicted drama          733          217           28           49\n",
       "predicted comedy         211          485           15           26\n",
       "predicted horror          15           20          151           11\n",
       "predicted action          48           23            2          110"
      ]
     },
     "execution_count": 15,
     "metadata": {},
     "output_type": "execute_result"
    }
   ],
   "source": [
    "# Bag-of-words vect. + Multinomial NB:\n",
    "print('accuracy: ',accuracy_score(val_y,predictions_nb['bow']))\n",
    "print('balanced accuracy: ',balanced_accuracy_score(val_y,predictions_nb['bow']))\n",
    "print('macro f1-score: ',f1_score(val_y,predictions_nb['bow'],average='macro'))\n",
    "cms_nb['bow']"
   ]
  },
  {
   "cell_type": "code",
   "execution_count": 16,
   "metadata": {},
   "outputs": [
    {
     "name": "stdout",
     "output_type": "stream",
     "text": [
      "accuracy:  0.5237873134328358\n",
      "balanced accuracy:  0.28953733263131237\n",
      "macro f1-score:  0.2356203928153876\n"
     ]
    },
    {
     "data": {
      "text/html": [
       "<div>\n",
       "<style scoped>\n",
       "    .dataframe tbody tr th:only-of-type {\n",
       "        vertical-align: middle;\n",
       "    }\n",
       "\n",
       "    .dataframe tbody tr th {\n",
       "        vertical-align: top;\n",
       "    }\n",
       "\n",
       "    .dataframe thead th {\n",
       "        text-align: right;\n",
       "    }\n",
       "</style>\n",
       "<table border=\"1\" class=\"dataframe\">\n",
       "  <thead>\n",
       "    <tr style=\"text-align: right;\">\n",
       "      <th></th>\n",
       "      <th>true drama</th>\n",
       "      <th>true comedy</th>\n",
       "      <th>true horror</th>\n",
       "      <th>true action</th>\n",
       "    </tr>\n",
       "  </thead>\n",
       "  <tbody>\n",
       "    <tr>\n",
       "      <th>predicted drama</th>\n",
       "      <td>1000</td>\n",
       "      <td>622</td>\n",
       "      <td>190</td>\n",
       "      <td>195</td>\n",
       "    </tr>\n",
       "    <tr>\n",
       "      <th>predicted comedy</th>\n",
       "      <td>7</td>\n",
       "      <td>123</td>\n",
       "      <td>6</td>\n",
       "      <td>1</td>\n",
       "    </tr>\n",
       "    <tr>\n",
       "      <th>predicted horror</th>\n",
       "      <td>0</td>\n",
       "      <td>0</td>\n",
       "      <td>0</td>\n",
       "      <td>0</td>\n",
       "    </tr>\n",
       "    <tr>\n",
       "      <th>predicted action</th>\n",
       "      <td>0</td>\n",
       "      <td>0</td>\n",
       "      <td>0</td>\n",
       "      <td>0</td>\n",
       "    </tr>\n",
       "  </tbody>\n",
       "</table>\n",
       "</div>"
      ],
      "text/plain": [
       "                  true drama  true comedy  true horror  true action\n",
       "predicted drama         1000          622          190          195\n",
       "predicted comedy           7          123            6            1\n",
       "predicted horror           0            0            0            0\n",
       "predicted action           0            0            0            0"
      ]
     },
     "execution_count": 16,
     "metadata": {},
     "output_type": "execute_result"
    }
   ],
   "source": [
    "# TF-IDF vect. + Multinomial NB:\n",
    "print('accuracy: ',accuracy_score(val_y,predictions_nb['tfidf']))\n",
    "print('balanced accuracy: ',balanced_accuracy_score(val_y,predictions_nb['tfidf']))\n",
    "print('macro f1-score: ',f1_score(val_y,predictions_nb['tfidf'],average='macro'))\n",
    "cms_nb['tfidf']"
   ]
  },
  {
   "cell_type": "code",
   "execution_count": 17,
   "metadata": {},
   "outputs": [
    {
     "name": "stdout",
     "output_type": "stream",
     "text": [
      "accuracy:  0.7318097014925373\n",
      "balanced accuracy:  0.6470196978906863\n",
      "macro f1-score:  0.6943539693500478\n"
     ]
    },
    {
     "data": {
      "text/html": [
       "<div>\n",
       "<style scoped>\n",
       "    .dataframe tbody tr th:only-of-type {\n",
       "        vertical-align: middle;\n",
       "    }\n",
       "\n",
       "    .dataframe tbody tr th {\n",
       "        vertical-align: top;\n",
       "    }\n",
       "\n",
       "    .dataframe thead th {\n",
       "        text-align: right;\n",
       "    }\n",
       "</style>\n",
       "<table border=\"1\" class=\"dataframe\">\n",
       "  <thead>\n",
       "    <tr style=\"text-align: right;\">\n",
       "      <th></th>\n",
       "      <th>true drama</th>\n",
       "      <th>true comedy</th>\n",
       "      <th>true horror</th>\n",
       "      <th>true action</th>\n",
       "    </tr>\n",
       "  </thead>\n",
       "  <tbody>\n",
       "    <tr>\n",
       "      <th>predicted drama</th>\n",
       "      <td>859</td>\n",
       "      <td>232</td>\n",
       "      <td>53</td>\n",
       "      <td>83</td>\n",
       "    </tr>\n",
       "    <tr>\n",
       "      <th>predicted comedy</th>\n",
       "      <td>133</td>\n",
       "      <td>502</td>\n",
       "      <td>17</td>\n",
       "      <td>24</td>\n",
       "    </tr>\n",
       "    <tr>\n",
       "      <th>predicted horror</th>\n",
       "      <td>6</td>\n",
       "      <td>7</td>\n",
       "      <td>125</td>\n",
       "      <td>6</td>\n",
       "    </tr>\n",
       "    <tr>\n",
       "      <th>predicted action</th>\n",
       "      <td>9</td>\n",
       "      <td>4</td>\n",
       "      <td>1</td>\n",
       "      <td>83</td>\n",
       "    </tr>\n",
       "  </tbody>\n",
       "</table>\n",
       "</div>"
      ],
      "text/plain": [
       "                  true drama  true comedy  true horror  true action\n",
       "predicted drama          859          232           53           83\n",
       "predicted comedy         133          502           17           24\n",
       "predicted horror           6            7          125            6\n",
       "predicted action           9            4            1           83"
      ]
     },
     "execution_count": 17,
     "metadata": {},
     "output_type": "execute_result"
    }
   ],
   "source": [
    "# Binary vect. + Logistic Regression:\n",
    "print('accuracy: ',accuracy_score(val_y,predictions_lr['binary']))\n",
    "print('balanced accuracy: ',balanced_accuracy_score(val_y,predictions_lr['binary']))\n",
    "print('macro f1-score: ',f1_score(val_y,predictions_lr['binary'],average='macro'))\n",
    "cms_lr['binary']"
   ]
  },
  {
   "cell_type": "code",
   "execution_count": 18,
   "metadata": {},
   "outputs": [
    {
     "name": "stdout",
     "output_type": "stream",
     "text": [
      "accuracy:  0.6791044776119403\n",
      "balanced accuracy:  0.6304868233691376\n",
      "macro f1-score:  0.6499647462813667\n"
     ]
    },
    {
     "data": {
      "text/html": [
       "<div>\n",
       "<style scoped>\n",
       "    .dataframe tbody tr th:only-of-type {\n",
       "        vertical-align: middle;\n",
       "    }\n",
       "\n",
       "    .dataframe tbody tr th {\n",
       "        vertical-align: top;\n",
       "    }\n",
       "\n",
       "    .dataframe thead th {\n",
       "        text-align: right;\n",
       "    }\n",
       "</style>\n",
       "<table border=\"1\" class=\"dataframe\">\n",
       "  <thead>\n",
       "    <tr style=\"text-align: right;\">\n",
       "      <th></th>\n",
       "      <th>true drama</th>\n",
       "      <th>true comedy</th>\n",
       "      <th>true horror</th>\n",
       "      <th>true action</th>\n",
       "    </tr>\n",
       "  </thead>\n",
       "  <tbody>\n",
       "    <tr>\n",
       "      <th>predicted drama</th>\n",
       "      <td>754</td>\n",
       "      <td>227</td>\n",
       "      <td>48</td>\n",
       "      <td>66</td>\n",
       "    </tr>\n",
       "    <tr>\n",
       "      <th>predicted comedy</th>\n",
       "      <td>199</td>\n",
       "      <td>481</td>\n",
       "      <td>20</td>\n",
       "      <td>21</td>\n",
       "    </tr>\n",
       "    <tr>\n",
       "      <th>predicted horror</th>\n",
       "      <td>16</td>\n",
       "      <td>21</td>\n",
       "      <td>122</td>\n",
       "      <td>10</td>\n",
       "    </tr>\n",
       "    <tr>\n",
       "      <th>predicted action</th>\n",
       "      <td>38</td>\n",
       "      <td>16</td>\n",
       "      <td>6</td>\n",
       "      <td>99</td>\n",
       "    </tr>\n",
       "  </tbody>\n",
       "</table>\n",
       "</div>"
      ],
      "text/plain": [
       "                  true drama  true comedy  true horror  true action\n",
       "predicted drama          754          227           48           66\n",
       "predicted comedy         199          481           20           21\n",
       "predicted horror          16           21          122           10\n",
       "predicted action          38           16            6           99"
      ]
     },
     "execution_count": 18,
     "metadata": {},
     "output_type": "execute_result"
    }
   ],
   "source": [
    "# Bag-of-words vect. + Logistic Regression:\n",
    "print('accuracy: ',accuracy_score(val_y,predictions_lr['bow']))\n",
    "print('balanced accuracy: ',balanced_accuracy_score(val_y,predictions_lr['bow']))\n",
    "print('macro f1-score: ',f1_score(val_y,predictions_lr['bow'],average='macro'))\n",
    "cms_lr['bow']"
   ]
  },
  {
   "cell_type": "code",
   "execution_count": 19,
   "metadata": {},
   "outputs": [
    {
     "name": "stdout",
     "output_type": "stream",
     "text": [
      "accuracy:  0.6907649253731343\n",
      "balanced accuracy:  0.5600658644521903\n",
      "macro f1-score:  0.6031296107524566\n"
     ]
    },
    {
     "data": {
      "text/html": [
       "<div>\n",
       "<style scoped>\n",
       "    .dataframe tbody tr th:only-of-type {\n",
       "        vertical-align: middle;\n",
       "    }\n",
       "\n",
       "    .dataframe tbody tr th {\n",
       "        vertical-align: top;\n",
       "    }\n",
       "\n",
       "    .dataframe thead th {\n",
       "        text-align: right;\n",
       "    }\n",
       "</style>\n",
       "<table border=\"1\" class=\"dataframe\">\n",
       "  <thead>\n",
       "    <tr style=\"text-align: right;\">\n",
       "      <th></th>\n",
       "      <th>true drama</th>\n",
       "      <th>true comedy</th>\n",
       "      <th>true horror</th>\n",
       "      <th>true action</th>\n",
       "    </tr>\n",
       "  </thead>\n",
       "  <tbody>\n",
       "    <tr>\n",
       "      <th>predicted drama</th>\n",
       "      <td>860</td>\n",
       "      <td>258</td>\n",
       "      <td>71</td>\n",
       "      <td>122</td>\n",
       "    </tr>\n",
       "    <tr>\n",
       "      <th>predicted comedy</th>\n",
       "      <td>135</td>\n",
       "      <td>474</td>\n",
       "      <td>21</td>\n",
       "      <td>25</td>\n",
       "    </tr>\n",
       "    <tr>\n",
       "      <th>predicted horror</th>\n",
       "      <td>6</td>\n",
       "      <td>9</td>\n",
       "      <td>104</td>\n",
       "      <td>6</td>\n",
       "    </tr>\n",
       "    <tr>\n",
       "      <th>predicted action</th>\n",
       "      <td>6</td>\n",
       "      <td>4</td>\n",
       "      <td>0</td>\n",
       "      <td>43</td>\n",
       "    </tr>\n",
       "  </tbody>\n",
       "</table>\n",
       "</div>"
      ],
      "text/plain": [
       "                  true drama  true comedy  true horror  true action\n",
       "predicted drama          860          258           71          122\n",
       "predicted comedy         135          474           21           25\n",
       "predicted horror           6            9          104            6\n",
       "predicted action           6            4            0           43"
      ]
     },
     "execution_count": 19,
     "metadata": {},
     "output_type": "execute_result"
    }
   ],
   "source": [
    "# TF-IDF vect. + Logistic Regression:\n",
    "print('accuracy: ',accuracy_score(val_y,predictions_lr['tfidf']))\n",
    "print('balanced accuracy: ',balanced_accuracy_score(val_y,predictions_lr['tfidf']))\n",
    "print('macro f1-score: ',f1_score(val_y,predictions_lr['tfidf'],average='macro'))\n",
    "cms_lr['tfidf']"
   ]
  },
  {
   "cell_type": "code",
   "execution_count": 20,
   "metadata": {},
   "outputs": [
    {
     "name": "stdout",
     "output_type": "stream",
     "text": [
      "accuracy:  0.746268656716418\n",
      "balanced accuracy:  0.7074547082217384\n",
      "macro f1-score:  0.7339233094641257\n"
     ]
    },
    {
     "data": {
      "text/html": [
       "<div>\n",
       "<style scoped>\n",
       "    .dataframe tbody tr th:only-of-type {\n",
       "        vertical-align: middle;\n",
       "    }\n",
       "\n",
       "    .dataframe tbody tr th {\n",
       "        vertical-align: top;\n",
       "    }\n",
       "\n",
       "    .dataframe thead th {\n",
       "        text-align: right;\n",
       "    }\n",
       "</style>\n",
       "<table border=\"1\" class=\"dataframe\">\n",
       "  <thead>\n",
       "    <tr style=\"text-align: right;\">\n",
       "      <th></th>\n",
       "      <th>true drama</th>\n",
       "      <th>true comedy</th>\n",
       "      <th>true horror</th>\n",
       "      <th>true action</th>\n",
       "    </tr>\n",
       "  </thead>\n",
       "  <tbody>\n",
       "    <tr>\n",
       "      <th>predicted drama</th>\n",
       "      <td>835</td>\n",
       "      <td>220</td>\n",
       "      <td>35</td>\n",
       "      <td>62</td>\n",
       "    </tr>\n",
       "    <tr>\n",
       "      <th>predicted comedy</th>\n",
       "      <td>140</td>\n",
       "      <td>506</td>\n",
       "      <td>7</td>\n",
       "      <td>21</td>\n",
       "    </tr>\n",
       "    <tr>\n",
       "      <th>predicted horror</th>\n",
       "      <td>11</td>\n",
       "      <td>12</td>\n",
       "      <td>152</td>\n",
       "      <td>6</td>\n",
       "    </tr>\n",
       "    <tr>\n",
       "      <th>predicted action</th>\n",
       "      <td>21</td>\n",
       "      <td>7</td>\n",
       "      <td>2</td>\n",
       "      <td>107</td>\n",
       "    </tr>\n",
       "  </tbody>\n",
       "</table>\n",
       "</div>"
      ],
      "text/plain": [
       "                  true drama  true comedy  true horror  true action\n",
       "predicted drama          835          220           35           62\n",
       "predicted comedy         140          506            7           21\n",
       "predicted horror          11           12          152            6\n",
       "predicted action          21            7            2          107"
      ]
     },
     "execution_count": 20,
     "metadata": {},
     "output_type": "execute_result"
    }
   ],
   "source": [
    "print('accuracy: ',accuracy_score(val_y,predictions_svm['binary']))\n",
    "print('balanced accuracy: ',balanced_accuracy_score(val_y,predictions_svm['binary']))\n",
    "print('macro f1-score: ',f1_score(val_y,predictions_svm['binary'],average='macro'))\n",
    "cms_svm['binary']"
   ]
  },
  {
   "cell_type": "code",
   "execution_count": 21,
   "metadata": {},
   "outputs": [
    {
     "name": "stdout",
     "output_type": "stream",
     "text": [
      "accuracy:  0.6403917910447762\n",
      "balanced accuracy:  0.6023874992570157\n",
      "macro f1-score:  0.6127412209333266\n"
     ]
    },
    {
     "data": {
      "text/html": [
       "<div>\n",
       "<style scoped>\n",
       "    .dataframe tbody tr th:only-of-type {\n",
       "        vertical-align: middle;\n",
       "    }\n",
       "\n",
       "    .dataframe tbody tr th {\n",
       "        vertical-align: top;\n",
       "    }\n",
       "\n",
       "    .dataframe thead th {\n",
       "        text-align: right;\n",
       "    }\n",
       "</style>\n",
       "<table border=\"1\" class=\"dataframe\">\n",
       "  <thead>\n",
       "    <tr style=\"text-align: right;\">\n",
       "      <th></th>\n",
       "      <th>true drama</th>\n",
       "      <th>true comedy</th>\n",
       "      <th>true horror</th>\n",
       "      <th>true action</th>\n",
       "    </tr>\n",
       "  </thead>\n",
       "  <tbody>\n",
       "    <tr>\n",
       "      <th>predicted drama</th>\n",
       "      <td>703</td>\n",
       "      <td>247</td>\n",
       "      <td>51</td>\n",
       "      <td>66</td>\n",
       "    </tr>\n",
       "    <tr>\n",
       "      <th>predicted comedy</th>\n",
       "      <td>223</td>\n",
       "      <td>454</td>\n",
       "      <td>17</td>\n",
       "      <td>25</td>\n",
       "    </tr>\n",
       "    <tr>\n",
       "      <th>predicted horror</th>\n",
       "      <td>24</td>\n",
       "      <td>20</td>\n",
       "      <td>122</td>\n",
       "      <td>11</td>\n",
       "    </tr>\n",
       "    <tr>\n",
       "      <th>predicted action</th>\n",
       "      <td>57</td>\n",
       "      <td>24</td>\n",
       "      <td>6</td>\n",
       "      <td>94</td>\n",
       "    </tr>\n",
       "  </tbody>\n",
       "</table>\n",
       "</div>"
      ],
      "text/plain": [
       "                  true drama  true comedy  true horror  true action\n",
       "predicted drama          703          247           51           66\n",
       "predicted comedy         223          454           17           25\n",
       "predicted horror          24           20          122           11\n",
       "predicted action          57           24            6           94"
      ]
     },
     "execution_count": 21,
     "metadata": {},
     "output_type": "execute_result"
    }
   ],
   "source": [
    "print('accuracy: ',accuracy_score(val_y,predictions_svm['bow']))\n",
    "print('balanced accuracy: ',balanced_accuracy_score(val_y,predictions_svm['bow']))\n",
    "print('macro f1-score: ',f1_score(val_y,predictions_svm['bow'],average='macro'))\n",
    "cms_svm['bow']"
   ]
  },
  {
   "cell_type": "code",
   "execution_count": 22,
   "metadata": {},
   "outputs": [
    {
     "name": "stdout",
     "output_type": "stream",
     "text": [
      "accuracy:  0.7066231343283582\n",
      "balanced accuracy:  0.6340760359581273\n",
      "macro f1-score:  0.6653764269851274\n"
     ]
    },
    {
     "data": {
      "text/html": [
       "<div>\n",
       "<style scoped>\n",
       "    .dataframe tbody tr th:only-of-type {\n",
       "        vertical-align: middle;\n",
       "    }\n",
       "\n",
       "    .dataframe tbody tr th {\n",
       "        vertical-align: top;\n",
       "    }\n",
       "\n",
       "    .dataframe thead th {\n",
       "        text-align: right;\n",
       "    }\n",
       "</style>\n",
       "<table border=\"1\" class=\"dataframe\">\n",
       "  <thead>\n",
       "    <tr style=\"text-align: right;\">\n",
       "      <th></th>\n",
       "      <th>true drama</th>\n",
       "      <th>true comedy</th>\n",
       "      <th>true horror</th>\n",
       "      <th>true action</th>\n",
       "    </tr>\n",
       "  </thead>\n",
       "  <tbody>\n",
       "    <tr>\n",
       "      <th>predicted drama</th>\n",
       "      <td>832</td>\n",
       "      <td>248</td>\n",
       "      <td>46</td>\n",
       "      <td>93</td>\n",
       "    </tr>\n",
       "    <tr>\n",
       "      <th>predicted comedy</th>\n",
       "      <td>139</td>\n",
       "      <td>472</td>\n",
       "      <td>15</td>\n",
       "      <td>19</td>\n",
       "    </tr>\n",
       "    <tr>\n",
       "      <th>predicted horror</th>\n",
       "      <td>12</td>\n",
       "      <td>19</td>\n",
       "      <td>134</td>\n",
       "      <td>7</td>\n",
       "    </tr>\n",
       "    <tr>\n",
       "      <th>predicted action</th>\n",
       "      <td>24</td>\n",
       "      <td>6</td>\n",
       "      <td>1</td>\n",
       "      <td>77</td>\n",
       "    </tr>\n",
       "  </tbody>\n",
       "</table>\n",
       "</div>"
      ],
      "text/plain": [
       "                  true drama  true comedy  true horror  true action\n",
       "predicted drama          832          248           46           93\n",
       "predicted comedy         139          472           15           19\n",
       "predicted horror          12           19          134            7\n",
       "predicted action          24            6            1           77"
      ]
     },
     "execution_count": 22,
     "metadata": {},
     "output_type": "execute_result"
    }
   ],
   "source": [
    "print('accuracy: ',accuracy_score(val_y,predictions_svm['tfidf']))\n",
    "print('balanced accuracy: ',balanced_accuracy_score(val_y,predictions_svm['tfidf']))\n",
    "print('macro f1-score: ',f1_score(val_y,predictions_svm['tfidf'],average='macro'))\n",
    "cms_svm['tfidf']"
   ]
  },
  {
   "cell_type": "code",
   "execution_count": null,
   "metadata": {},
   "outputs": [
    {
     "name": "stdout",
     "output_type": "stream",
     "text": [
      "l2 0.001\n",
      "l2 0.01\n",
      "l2 0.1\n",
      "l2 0.5\n",
      "l2 1\n",
      "l2 5\n",
      "l2 10.0\n",
      "l2 100.0\n",
      "l2 1000.0\n",
      "l1 0.001\n",
      "l1 0.01\n",
      "l1 0.1\n",
      "l1 0.5\n"
     ]
    }
   ],
   "source": [
    "# Select hyperparameters for Bag-of-words + Logistic Regression:\n",
    "fig,axes=plt.subplots(nrows=1,ncols=3,figsize=(18,5))\n",
    "penalties=[\"l2\",\"l1\",\"none\"]\n",
    "solvers=['lbfgs','saga','lbfgs']\n",
    "Cs=[1e-3,1e-2,1e-1,0.5,1,5,1e1,1e2,1e3]\n",
    "for i,penalty in enumerate(penalties):\n",
    "    acc,b_acc,f1=[],[],[]\n",
    "    for c in Cs:\n",
    "        print(penalty,c)\n",
    "        model=LogisticRegression(penalty=penalty,solver=solvers[i],C=c,max_iter=10000)\n",
    "        model.fit(vec_train_X['bow'],train_y)\n",
    "        prediction=model.predict(vec_val_X['bow'])\n",
    "        acc.append(accuracy_score(val_y,prediction))\n",
    "        b_acc.append(balanced_accuracy_score(val_y,prediction))\n",
    "        f1.append(f1_score(val_y,prediction,average='macro'))\n",
    "    axes[i].plot(acc,color='purple',label='accuracy')\n",
    "    axes[i].plot(b_acc,color='orange',label='balanced acc.')\n",
    "    axes[i].plot(f1,color='salmon',label='macro-f1')\n",
    "    axes[i].set_title(f\"penalty: {penalty}\")\n",
    "    axes[i].set_xlabel(\"C\")\n",
    "    axes[i].set_xticks(ticks=range(len(Cs)))\n",
    "    axes[i].set_xticklabels(labels=Cs)\n",
    "    axes[i].legend()\n",
    "    axes[i].grid()\n",
    "plt.show()"
   ]
  },
  {
   "cell_type": "code",
   "execution_count": null,
   "metadata": {},
   "outputs": [],
   "source": []
  }
 ],
 "metadata": {
  "hide_input": false,
  "kernelspec": {
   "display_name": "Python 3",
   "language": "python",
   "name": "python3"
  },
  "language_info": {
   "codemirror_mode": {
    "name": "ipython",
    "version": 3
   },
   "file_extension": ".py",
   "mimetype": "text/x-python",
   "name": "python",
   "nbconvert_exporter": "python",
   "pygments_lexer": "ipython3",
   "version": "3.8.2"
  }
 },
 "nbformat": 4,
 "nbformat_minor": 4
}
