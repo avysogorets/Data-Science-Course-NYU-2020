{
 "cells": [
  {
   "cell_type": "markdown",
   "metadata": {},
   "source": [
    "### *Question 3(a)*\n"
   ]
  },
  {
   "cell_type": "code",
   "execution_count": 202,
   "metadata": {},
   "outputs": [],
   "source": [
    "import numpy as np\n",
    "import matplotlib.pyplot as plt\n",
    "import pandas as pd\n",
    "train_X=np.load(\"train_X.npy\")\n",
    "train_y=np.load(\"train_y.npy\")\n",
    "test_X=np.load(\"test_X.npy\")\n",
    "test_y=np.load(\"test_y.npy\")"
   ]
  },
  {
   "cell_type": "code",
   "execution_count": 203,
   "metadata": {},
   "outputs": [],
   "source": [
    "# Auxiliary functions:\n",
    "def sigmoid(t):\n",
    "    return 1./(1+np.exp(-t))\n",
    "def softmax(T):\n",
    "    return [np.exp(t)/sum([np.exp(t) for t in T]) for t in T]"
   ]
  },
  {
   "cell_type": "code",
   "execution_count": 204,
   "metadata": {},
   "outputs": [],
   "source": [
    "# Adding the L2 regularization term to the old loss function: \n",
    "def compute_loss(X,y,theta,lam):\n",
    "    return -sum([y_i*np.log(sigmoid(np.dot(theta,X_i)))+(1-y_i)*np.log(1-sigmoid(np.dot(theta,X_i))) for X_i,y_i in zip(X,y)])+lam*np.matmul(theta,np.transpose(theta))"
   ]
  },
  {
   "cell_type": "code",
   "execution_count": 205,
   "metadata": {},
   "outputs": [],
   "source": [
    "# Complete the multiclass logistic regression class:\n",
    "class MulticlassLogisticRegression():\n",
    "    def __init__(self,alpha,max_iter,K,C=1e10,tolerance=1e-5):\n",
    "        \n",
    "        # TO DO\n",
    "        \n",
    "        #Solution:\n",
    "        self.models=[LogisticRegression(alpha,max_iter,C,tolerance) for _ in range(K)]\n",
    "    def fit(self,X,y):\n",
    "        \n",
    "        # TO DO\n",
    "        \n",
    "        #Solution:\n",
    "        self.classes=sorted(np.unique(y))\n",
    "        self.targets=[np.array([1 if x==k else 0 for x in y]) for k in self.classes]\n",
    "        for i,model in enumerate(self.models):\n",
    "            model.fit(X,self.targets[i])\n",
    "    def predict(self,X):\n",
    "        \n",
    "        # TO DO\n",
    "        \n",
    "        # Solution:\n",
    "        margins=[model.margin(X) for model in self.models]\n",
    "        probas=[softmax([m[i] for m in margins]) for i in range(len(X))]\n",
    "        return [self.classes[np.argmax(prob)] for prob in probas]\n",
    "\n",
    "# Solution:\n",
    "class LogisticRegression():\n",
    "    def __init__(self,alpha,max_iter,C=1e10,tolerance=1e-5):\n",
    "        self.lam=1/C\n",
    "        self.alpha=alpha\n",
    "        self.tolerance=tolerance\n",
    "        self.max_iter=max_iter\n",
    "    def gradient(self,X,y):\n",
    "        term_1=sigmoid(np.matmul(self.theta,np.transpose(X)))\n",
    "        term_2=np.matmul(y,X)\n",
    "        return np.matmul(term_1,X)-term_2+2*self.lam*self.theta\n",
    "    def fit(self,X,y):\n",
    "        y=y.reshape((1,X.shape[0]))\n",
    "        X=np.hstack([X,np.ones((X.shape[0],1))])\n",
    "        self.theta=np.random.normal(loc=0,scale=1,size=X.shape[1]).reshape((1,X.shape[1]))\n",
    "        progress=[0,compute_loss(X,y[0],self.theta[0],self.lam)]\n",
    "        while self.max_iter>=0 and abs(progress[-1]-progress[-2])>self.tolerance:\n",
    "            self.theta-=self.alpha*self.gradient(X,y)\n",
    "            if self.max_iter%500==0:\n",
    "                progress.append(compute_loss(X,y[0],self.theta[0],self.lam))\n",
    "            self.max_iter-=1\n",
    "        return progress[1:]\n",
    "    def margin(self,X):\n",
    "        X=np.hstack([X,np.ones((X.shape[0],1))])\n",
    "        return np.squeeze(np.matmul(self.theta,np.transpose(X)))\n",
    "    def predict(self,X):\n",
    "        X=np.hstack([X,np.ones((X.shape[0],1))])\n",
    "        return [1 if sigmoid(np.dot(self.theta,X_i))>0.5 else 0 for X_i in X]\n",
    "    def proba(self,X):\n",
    "        X=np.hstack([X,np.ones((X.shape[0],1))])\n",
    "        return [sigmoid(np.dot(self.theta,X_i)) for X_i in X]"
   ]
  },
  {
   "cell_type": "code",
   "execution_count": 207,
   "metadata": {},
   "outputs": [],
   "source": [
    "model=MulticlassLogisticRegression(0.0005,50000,3,C=1)\n",
    "model.fit(train_X,train_y)"
   ]
  },
  {
   "cell_type": "code",
   "execution_count": 212,
   "metadata": {},
   "outputs": [
    {
     "data": {
      "text/plain": [
       "0.47368421052631576"
      ]
     },
     "execution_count": 212,
     "metadata": {},
     "output_type": "execute_result"
    }
   ],
   "source": [
    "from sklearn.linear_model import LogisticRegression as LR\n",
    "model=MulticlassLogisticRegression(0.005,100000,3,C=50)\n",
    "model.fit(train_X,train_y)\n",
    "acc=np.mean([1 if p==t else 0 for p,t in zip(model.predict(test_X),test_y)])\n",
    "acc"
   ]
  },
  {
   "cell_type": "code",
   "execution_count": 209,
   "metadata": {},
   "outputs": [
    {
     "data": {
      "text/plain": [
       "{0.1: 0.43157894736842106,\n",
       " 1: 0.5473684210526316,\n",
       " 10.0: 0.5789473684210527,\n",
       " 50: 0.6,\n",
       " 75: 0.6,\n",
       " 100.0: 0.6,\n",
       " 500: 0.5789473684210527,\n",
       " 1000.0: 0.5789473684210527,\n",
       " 10000.0: 0.5789473684210527,\n",
       " 100000.0: 0.5789473684210527,\n",
       " 1000000.0: 0.5789473684210527}"
      ]
     },
     "execution_count": 209,
     "metadata": {},
     "output_type": "execute_result"
    }
   ],
   "source": [
    "accs_our"
   ]
  },
  {
   "cell_type": "code",
   "execution_count": 210,
   "metadata": {},
   "outputs": [
    {
     "data": {
      "text/plain": [
       "{0.1: 0.5052631578947369,\n",
       " 1: 0.5894736842105263,\n",
       " 10.0: 0.6210526315789474,\n",
       " 50: 0.5684210526315789,\n",
       " 75: 0.5684210526315789,\n",
       " 100.0: 0.5684210526315789,\n",
       " 500: 0.5684210526315789,\n",
       " 1000.0: 0.5684210526315789,\n",
       " 10000.0: 0.5684210526315789,\n",
       " 100000.0: 0.5684210526315789,\n",
       " 1000000.0: 0.5684210526315789}"
      ]
     },
     "execution_count": 210,
     "metadata": {},
     "output_type": "execute_result"
    }
   ],
   "source": [
    "accs_sk"
   ]
  },
  {
   "cell_type": "code",
   "execution_count": null,
   "metadata": {},
   "outputs": [],
   "source": []
  }
 ],
 "metadata": {
  "hide_input": false,
  "kernelspec": {
   "display_name": "Python 3",
   "language": "python",
   "name": "python3"
  },
  "language_info": {
   "codemirror_mode": {
    "name": "ipython",
    "version": 3
   },
   "file_extension": ".py",
   "mimetype": "text/x-python",
   "name": "python",
   "nbconvert_exporter": "python",
   "pygments_lexer": "ipython3",
   "version": "3.8.2"
  }
 },
 "nbformat": 4,
 "nbformat_minor": 4
}
