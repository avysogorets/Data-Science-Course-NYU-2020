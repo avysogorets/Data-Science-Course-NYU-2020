{
 "cells": [
  {
   "cell_type": "code",
   "execution_count": null,
   "metadata": {},
   "outputs": [],
   "source": [
    "def process_season(filename,window):\n",
    "    features=[\"home_team_name\",\"away_team_name\",\"Pre-Match PPG (Home)\",\"Pre-Match PPG (Away)\",\"home_team_goal_count\",\"away_team_goal_count\",\"home_team_corner_count\",\"away_team_corner_count\",\"home_team_yellow_cards\",\"home_team_red_cards\",\"away_team_yellow_cards\",\"away_team_red_cards\",\"home_team_first_half_cards\",\"away_team_first_half_cards\",\"home_team_shots\",\"away_team_shots\",\"home_team_shots_on_target\",\"away_team_shots_on_target\",\"home_team_fouls\",\"away_team_fouls\",\"home_team_possession\",\"away_team_possession\",\"odds_ft_home_team_win\",\"odds_ft_draw\",\"odds_ft_away_team_win\"]\n",
    "    features_new=[\"H_team\",\"A_team\",\"H_ppg\",\"A_ppg\",\"H_score\",\"A_score\",\"H_corners\",\"A_corners\",'H_ycards', 'H_rcards',\"A_ycards\",\"A_rcards\",\"H_htcards\",\"A_htcards\",\"H_shots\",\"A_shots\",\"H_shotst\",\"A_shotst\",\"H_fouls\",\"A_fouls\",\"H_pos\",\"A_pos\",\"win\",\"draw\",\"loss\"]\n",
    "    data= pd.read_csv(filename)"
   ]
  },
  {
   "cell_type": "code",
   "execution_count": null,
   "metadata": {},
   "outputs": [],
   "source": [
    "import numpy as np\n",
    "import pandas as pd\n",
    "process_season('rpl21.html',5).tail(50)"
   ]
  },
  {
   "cell_type": "code",
   "execution_count": null,
   "metadata": {},
   "outputs": [],
   "source": [
    "df = pd.DataFrame([[1, 2], [4, 5], [7, 8]],index=['cobra', 'viper', 'sidewinder'],columns=['max_speed', 'shield'])"
   ]
  },
  {
   "cell_type": "code",
   "execution_count": null,
   "metadata": {},
   "outputs": [],
   "source": [
    "df.loc[:'viper']"
   ]
  },
  {
   "cell_type": "code",
   "execution_count": null,
   "metadata": {},
   "outputs": [],
   "source": [
    "import numpy as np\n",
    "import matplotlib.pyplot as plt\n",
    "from sklearn.decomposition import PCA\n",
    "from sklearn.linear_model import LinearRegression\n",
    "data = np.array([[0, 0], [0.25, 0.75], [0.75, 0.25], [1, 1]])\n",
    "# plot first principal direction\n",
    "pca = PCA(n_components=1)\n",
    "data_pca = pca.fit_transform(data)\n",
    "pca_direction = pca.inverse_transform(data_pca) plt.figure(figsize=(7, 5));\n",
    "plt.scatter(data[:, 0], data[:, 1]); plt.plot(pca_direction[:, 0], pca_direction[:, 1],\n",
    "label='1st Principal Direction');\n",
    "# plot linear regression fit\n",
    "x = np.expand_dims(data[:, 0], 1)\n",
    "y = data[:, 1]\n",
    "support = np.arange(-0.1, 1.1, 0.01)\n",
    "reg = LinearRegression().fit(x, y)\n",
    "linear_fit = reg.predict(np.expand_dims(support, 1)) plt.plot(support, linear_fit, label=\u0000OLS Regression Line\u0000); plt.legend();\n",
    "plt.show()"
   ]
  },
  {
   "cell_type": "code",
   "execution_count": null,
   "metadata": {},
   "outputs": [],
   "source": []
  }
 ],
 "metadata": {
  "hide_input": false,
  "kernelspec": {
   "display_name": "Python 3",
   "language": "python",
   "name": "python3"
  },
  "language_info": {
   "codemirror_mode": {
    "name": "ipython",
    "version": 3
   },
   "file_extension": ".py",
   "mimetype": "text/x-python",
   "name": "python",
   "nbconvert_exporter": "python",
   "pygments_lexer": "ipython3",
   "version": "3.8.2"
  }
 },
 "nbformat": 4,
 "nbformat_minor": 4
}
