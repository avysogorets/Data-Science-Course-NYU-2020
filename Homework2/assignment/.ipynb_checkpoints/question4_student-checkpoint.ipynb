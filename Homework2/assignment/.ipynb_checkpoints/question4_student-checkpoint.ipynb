{
 "cells": [
  {
   "cell_type": "code",
   "execution_count": 1,
   "metadata": {},
   "outputs": [],
   "source": [
    "import numpy as np\n",
    "import matplotlib.pyplot as plt\n",
    "import pandas as pd\n",
    "train_X=np.load(\"../data/train_X.npy\")\n",
    "train_y=np.load(\"../data/train_y.npy\")>0\n",
    "test_X=np.load(\"../data/test_X.npy\")\n",
    "test_y=np.load(\"../data/test_y.npy\")>0"
   ]
  },
  {
   "cell_type": "markdown",
   "metadata": {},
   "source": [
    "### *Question 4(a)*"
   ]
  },
  {
   "cell_type": "code",
   "execution_count": 4,
   "metadata": {},
   "outputs": [],
   "source": [
    "# Upsample the smaller class in the training data to ensure perfect\n",
    "# class balance. Then split it into 5 folds for cross-validation.\n",
    "# You should not use sklearn.\n",
    "\n",
    "# TO DO"
   ]
  },
  {
   "cell_type": "markdown",
   "metadata": {},
   "source": [
    "### *Question 4(b)*"
   ]
  },
  {
   "cell_type": "code",
   "execution_count": 5,
   "metadata": {},
   "outputs": [],
   "source": [
    "# Copied from Homework 1:\n",
    "def sigmoid(t):\n",
    "    return 1./(1+np.exp(-t))"
   ]
  },
  {
   "cell_type": "code",
   "execution_count": 6,
   "metadata": {},
   "outputs": [],
   "source": [
    "# Add the L2 regularization term to the old loss function: \n",
    "def compute_loss(X,y,theta,lam):\n",
    "    \n",
    "    # TO DO\n",
    "    \n",
    "    pass"
   ]
  },
  {
   "cell_type": "code",
   "execution_count": 7,
   "metadata": {},
   "outputs": [],
   "source": [
    "# Complete the LogisticRegression class that supports regularization:\n",
    "\n",
    "class LogisticRegression():\n",
    "    def __init__(self,alpha,max_iter,C,tolerance=1e-5):\n",
    "        self.lam=1/C\n",
    "        self.alpha=alpha\n",
    "        self.tolerance=tolerance\n",
    "        self.max_iter=max_iter\n",
    "    def gradient(self,X,y):\n",
    "        \n",
    "        # TO DO\n",
    "        \n",
    "        pass\n",
    "    def fit(self,X,y):\n",
    "        y=y.reshape((1,X.shape[0]))\n",
    "        X=np.hstack([X,np.ones((X.shape[0],1))])\n",
    "        self.theta=np.random.normal(loc=0,scale=1,size=X.shape[1]).reshape((1,X.shape[1]))\n",
    "        progress=[0,compute_loss(X,y[0],self.theta[0],self.lam)]\n",
    "        while self.max_iter>=0 and abs(progress[-1]-progress[-2])>self.tolerance:\n",
    "            self.theta-=self.alpha*self.gradient(X,y)\n",
    "            if self.max_iter%500==0:\n",
    "                progress.append(compute_loss(X,y[0],self.theta[0],self.lam))\n",
    "            self.max_iter-=1\n",
    "        return progress[1:]\n",
    "    def margin(self,X):\n",
    "        X=np.hstack([X,np.ones((X.shape[0],1))])\n",
    "        return np.squeeze(np.matmul(self.theta,np.transpose(X)))\n",
    "    def predict(self,X,thresh):\n",
    "        X=np.hstack([X,np.ones((X.shape[0],1))])\n",
    "        return [1 if sigmoid(np.dot(self.theta,X_i))>thresh else 0 for X_i in X]\n",
    "    def proba(self,X):\n",
    "        X=np.hstack([X,np.ones((X.shape[0],1))])\n",
    "        return np.squeeze(np.array([sigmoid(np.dot(self.theta,X_i)) for X_i in X]))"
   ]
  },
  {
   "cell_type": "markdown",
   "metadata": {},
   "source": [
    "### *Question 4(c)*"
   ]
  },
  {
   "cell_type": "code",
   "execution_count": 8,
   "metadata": {},
   "outputs": [],
   "source": [
    "# Complete the below function. Arguments:\n",
    "# - models: K models from the K-fold cross-validation;\n",
    "# - XXs:    the corresponding validaton folds (features);\n",
    "# - yys:    the corresponding validaton folds (targets);\n",
    "# - label:  regularization constant (C);\n",
    "# - axis:   a subplot to be used for plotting;\n",
    "\n",
    "# The function should plot the ROC curve for each of the\n",
    "# models as well as their pointwise average (highlighted).\n",
    "# Moreover, plot the diagonal (0,0)-(1,1) as a dashed line\n",
    "# and print the mean AUC score.\n",
    "\n",
    "def validate(models,XXs,yys,label,axis):\n",
    "    \n",
    "    # TO DO\n",
    "    \n",
    "    pass"
   ]
  },
  {
   "cell_type": "markdown",
   "metadata": {},
   "source": [
    "### *Question 4(d)*"
   ]
  },
  {
   "cell_type": "code",
   "execution_count": 9,
   "metadata": {},
   "outputs": [
    {
     "data": {
      "image/png": "[encoded data removed]",
      "text/plain": [
       "<Figure size 1224x648 with 8 Axes>"
      ]
     },
     "metadata": {
      "needs_background": "light"
     },
     "output_type": "display_data"
    }
   ],
   "source": [
    "# Fit your logistic regression and apply the above\n",
    "# function to each selection of C. Which is the optimal value?\n",
    "fig,axes=plt.subplots(ncols=4,nrows=2,figsize=(17,9))\n",
    "Cs=[1e-2,1e-1,1,1e1,1e2,1e3,1e4,1e5]\n",
    "\n",
    "# TO DO"
   ]
  },
  {
   "cell_type": "markdown",
   "metadata": {},
   "source": [
    "### *Question 4(e)*"
   ]
  },
  {
   "cell_type": "code",
   "execution_count": 10,
   "metadata": {},
   "outputs": [],
   "source": [
    "# Complete the below functions. The returned confusion matrix\n",
    "# should be a two-dimensional NumPy array.\n",
    "    \n",
    "def confusion_matrix(predictions,labels):\n",
    "    \n",
    "    # TO DO\n",
    "\n",
    "    pass\n",
    "\n",
    "def precision(predictions,labels,pos_class=1):\n",
    "    \n",
    "    # TO DO\n",
    "    \n",
    "    pass\n",
    "\n",
    "def recall(predictions,labels,pos_class=1):\n",
    "        \n",
    "    # TO DO\n",
    "    \n",
    "    pass\n",
    "\n",
    "def f1_score(predictions,labels):\n",
    "        \n",
    "    # TO DO\n",
    "    \n",
    "    pass"
   ]
  },
  {
   "cell_type": "code",
   "execution_count": 11,
   "metadata": {},
   "outputs": [],
   "source": [
    "# Select the appropriate threshold:\n",
    "thresh_vals=np.arange(0.1,0.9,0.05)\n",
    "\n",
    "# TO DO"
   ]
  },
  {
   "cell_type": "markdown",
   "metadata": {},
   "source": [
    "### *Question 4(f)*"
   ]
  },
  {
   "cell_type": "code",
   "execution_count": 12,
   "metadata": {},
   "outputs": [],
   "source": [
    "# Compute the expected profit of your best model for the odds\n",
    "# 1.81 vs. 1.99 and predict the outcome of the match CSKA-Rostov:\n",
    "\n",
    "# TO DO"
   ]
  }
 ],
 "metadata": {
  "hide_input": false,
  "kernelspec": {
   "display_name": "Python 3",
   "language": "python",
   "name": "python3"
  },
  "language_info": {
   "codemirror_mode": {
    "name": "ipython",
    "version": 3
   },
   "file_extension": ".py",
   "mimetype": "text/x-python",
   "name": "python",
   "nbconvert_exporter": "python",
   "pygments_lexer": "ipython3",
   "version": "3.8.2"
  }
 },
 "nbformat": 4,
 "nbformat_minor": 4
}
