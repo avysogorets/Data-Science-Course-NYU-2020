{
 "cells": [
  {
   "cell_type": "markdown",
   "metadata": {},
   "source": [
    "# Introduction to Data Science, Lab 1 (9/16)\n",
    "- Python fundamentals recap (with NumPy, Pandas)\n",
    "- Modelling with Google Trends data"
   ]
  },
  {
   "cell_type": "markdown",
   "metadata": {},
   "source": [
    "## Python Essentials\n",
    "#### *Formatting strings*"
   ]
  },
  {
   "cell_type": "code",
   "execution_count": 239,
   "metadata": {},
   "outputs": [
    {
     "name": "stdout",
     "output_type": "stream",
     "text": [
      "Hello world from room 650!\n",
      "Bye.\n"
     ]
    }
   ],
   "source": [
    "# Standard:\n",
    "print('Hello world from room 650!\\nBye.')"
   ]
  },
  {
   "cell_type": "code",
   "execution_count": 240,
   "metadata": {},
   "outputs": [
    {
     "name": "stdout",
     "output_type": "stream",
     "text": [
      "Hello world from room 650!\n",
      "Hello world from room 650!\n"
     ]
    }
   ],
   "source": [
    "# String with argument(s):\n",
    "room=650\n",
    "print('Hello world from room {}!'.format(room))\n",
    "print(f'Hello world from room {room}!')"
   ]
  },
  {
   "cell_type": "code",
   "execution_count": 241,
   "metadata": {
    "scrolled": true
   },
   "outputs": [
    {
     "name": "stdout",
     "output_type": "stream",
     "text": [
      "1/3 equals 0.3333333333333333, pi equals 3.141592653589793\n"
     ]
    }
   ],
   "source": [
    "# Multiple arguments:\n",
    "import math\n",
    "print('1/3 equals {}, pi equals {}'.format(one_third,math.pi))"
   ]
  },
  {
   "cell_type": "code",
   "execution_count": 242,
   "metadata": {},
   "outputs": [
    {
     "name": "stdout",
     "output_type": "stream",
     "text": [
      "1/3 equals 0.3333333333333333\n",
      "1/3 equals 0.333\n",
      "1/3 equals 0.333\n",
      "1/3 equals 0.333\n"
     ]
    }
   ],
   "source": [
    "# Format the argument:\n",
    "one_third=1/3\n",
    "print('1/3 equals {}'.format(one_third)) # insert 'one_third' in place of '{}'\n",
    "print('1/3 equals {:.3f}'.format(one_third)) # specify the number of decimals \n",
    "print('1/3 equals {}'.format(round(one_third,3))) # apply the 'round' function directly\n",
    "print(f'1/3 equals {one_third:.3f}')"
   ]
  },
  {
   "cell_type": "code",
   "execution_count": 243,
   "metadata": {},
   "outputs": [
    {
     "name": "stdout",
     "output_type": "stream",
     "text": [
      "1/3 equals 3.141592653589793, pi equals 0.3333333333333333\n"
     ]
    }
   ],
   "source": [
    "# Choose the order of arguments\n",
    "print('1/3 equals {1}, pi equals {0}'.format(one_third,math.pi))"
   ]
  },
  {
   "cell_type": "code",
   "execution_count": 244,
   "metadata": {},
   "outputs": [
    {
     "name": "stdout",
     "output_type": "stream",
     "text": [
      "1/3 equals 0.3333333333333333, pi equals 3.141592653589793\n"
     ]
    }
   ],
   "source": [
    "# Keyword arguments\n",
    "print('1/3 equals {first}, pi equals {second}'.format(first=one_third,second=math.pi))"
   ]
  },
  {
   "cell_type": "code",
   "execution_count": 245,
   "metadata": {},
   "outputs": [
    {
     "name": "stdout",
     "output_type": "stream",
     "text": [
      "H-e-l-l-o- -w-o-r-l-d-!\n"
     ]
    }
   ],
   "source": [
    "# Pack characters into a string:\n",
    "secret=[72,101,108,108,111,32,119,111,114,108,100,33] # ascii values of secret characters\n",
    "print('-'.join([chr(s) for s in secret])) # '-' specifies how to separate characters"
   ]
  },
  {
   "cell_type": "markdown",
   "metadata": {},
   "source": [
    "#### *Timing*\n",
    "*Two popular choices are* ***time*** *and* ***timeit***:"
   ]
  },
  {
   "cell_type": "code",
   "execution_count": 246,
   "metadata": {},
   "outputs": [
    {
     "name": "stdout",
     "output_type": "stream",
     "text": [
      "1600144546.1562712\n",
      "50.740250702576745\n"
     ]
    }
   ],
   "source": [
    "import time\n",
    "print(time.time()) # time since January 1, 1970, 00:00:00 (UTC) in secons, aka UNIX time\n",
    "print(time.time()/60/60/24/365) # approx. number of years passed"
   ]
  },
  {
   "cell_type": "code",
   "execution_count": 247,
   "metadata": {},
   "outputs": [
    {
     "name": "stdout",
     "output_type": "stream",
     "text": [
      "1.0051460266113281\n"
     ]
    }
   ],
   "source": [
    "start=time.time()\n",
    "time.sleep(1) # hang for 1 second\n",
    "end=time.time()\n",
    "print(end-start)"
   ]
  },
  {
   "cell_type": "code",
   "execution_count": 248,
   "metadata": {},
   "outputs": [
    {
     "name": "stdout",
     "output_type": "stream",
     "text": [
      "205 ms ± 1.93 ms per loop (mean ± std. dev. of 7 runs, 2 loops each)\n"
     ]
    }
   ],
   "source": [
    "%%timeit -n 2 # Jupyter notebook usage; include %% to time all the below contents of the current cell\n",
    "time.sleep(0.1)\n",
    "time.sleep(0.1)"
   ]
  },
  {
   "cell_type": "code",
   "execution_count": 249,
   "metadata": {},
   "outputs": [
    {
     "name": "stdout",
     "output_type": "stream",
     "text": [
      "101 ms ± 797 µs per loop (mean ± std. dev. of 7 runs, 2 loops each)\n"
     ]
    }
   ],
   "source": [
    "%timeit -n 2 time.sleep(0.1) # include % to time only this line\n",
    "time.sleep(0.1)\n",
    "time.sleep(0.1)"
   ]
  },
  {
   "cell_type": "markdown",
   "metadata": {},
   "source": [
    "#### *Custom functions*"
   ]
  },
  {
   "cell_type": "code",
   "execution_count": 250,
   "metadata": {},
   "outputs": [],
   "source": [
    "# classic:\n",
    "def sec2year(sec):\n",
    "    years=sec/60/60/24//365 # '//' means integer division\n",
    "    return years\n",
    "\n",
    "# In python 3+, such simple functions can be defined with 'lambda' \n",
    "sec2year_smart=lambda x: x/60/60/24/365"
   ]
  },
  {
   "cell_type": "code",
   "execution_count": 251,
   "metadata": {},
   "outputs": [
    {
     "name": "stdout",
     "output_type": "stream",
     "text": [
      "50.0\n",
      "50.74025088306082\n"
     ]
    }
   ],
   "source": [
    "print(sec2year(time.time())) # should be a whole number\n",
    "print(sec2year_smart(time.time())) # should be rational"
   ]
  },
  {
   "cell_type": "code",
   "execution_count": 252,
   "metadata": {},
   "outputs": [
    {
     "name": "stdout",
     "output_type": "stream",
     "text": [
      "476 ns ± 124 ns per loop (mean ± std. dev. of 10 runs, 1000 loops each)\n",
      "332 ns ± 51.7 ns per loop (mean ± std. dev. of 10 runs, 1000 loops each)\n"
     ]
    }
   ],
   "source": [
    "# Let's figure out which is faster:\n",
    "%timeit -n 1000 -r 10 sec2year(time.time())\n",
    "%timeit -n 1000 -r 10 sec2year_smart(time.time())"
   ]
  },
  {
   "cell_type": "code",
   "execution_count": 253,
   "metadata": {},
   "outputs": [],
   "source": [
    "# Some arguments can have default values (should come after any non-default argument)\n",
    "def divide(num,denom,whole=False):\n",
    "    return num/denom if not whole else num//denom"
   ]
  },
  {
   "cell_type": "code",
   "execution_count": 254,
   "metadata": {},
   "outputs": [
    {
     "name": "stdout",
     "output_type": "stream",
     "text": [
      "3\n",
      "3.3333333333333335\n",
      "3.3333333333333335\n"
     ]
    }
   ],
   "source": [
    "# We may choose to pass them explicitly or leave to default\n",
    "print(divide(10,3,True))\n",
    "print(divide(10,3,False))\n",
    "print(divide(10,3))"
   ]
  },
  {
   "cell_type": "code",
   "execution_count": 255,
   "metadata": {},
   "outputs": [],
   "source": [
    "# Additional agruments can be passed by adding *args or **kwargs\n",
    "\n",
    "def sum_and_shout(num,denom,message):\n",
    "    result=num+denom\n",
    "    print(message)\n",
    "    return result\n",
    "    \n",
    "def divide_and_round(num,denom,decimals):\n",
    "    result=num/denom\n",
    "    return round(result,decimals)\n",
    "\n",
    "def multiply_and_sleep(num,denom,sec):\n",
    "    result=num*denom\n",
    "    time.sleep(sec)\n",
    "    return result\n",
    "\n",
    "def router(num,denom,operation,**kwargs):\n",
    "    if operation=='sum':\n",
    "        return sum_and_shout(num,denom,kwargs['message'])\n",
    "    elif operation=='divide':\n",
    "        return divide_and_round(num,denom,kwargs['decimals'])\n",
    "    elif operation=='sleep':\n",
    "        return multiply_and_sleep(num,denom,kwargs['sec'])"
   ]
  },
  {
   "cell_type": "code",
   "execution_count": 256,
   "metadata": {},
   "outputs": [
    {
     "name": "stdout",
     "output_type": "stream",
     "text": [
      "WoooHooo!\n"
     ]
    },
    {
     "data": {
      "text/plain": [
       "7"
      ]
     },
     "execution_count": 256,
     "metadata": {},
     "output_type": "execute_result"
    }
   ],
   "source": [
    "router(5,2,'sum',message='WoooHooo!')\n",
    "\n",
    "# Compare to:\n",
    "# def router(num,denom,operation,message,decimals,secs)\n",
    "\n",
    "# To execute sum via 'router', we would have needed:\n",
    "# >>> dummy_decimals=3\n",
    "# >>> dummy_sec=0.5\n",
    "# >>> router(5,2,'sum',message='WoooHooo!',dummy_decimals,dummy_sec)\n",
    "\n",
    "# Why don't we just call sum_and_shout(5,2,message='WoooHooo!')?\n",
    "# The 'operation' flag could be given as a (command line) argumennt,\n",
    "# so you need to \"route\" based on 'operation' to execute an appropriate function. "
   ]
  },
  {
   "cell_type": "markdown",
   "metadata": {},
   "source": [
    "#### *Data structures*\n",
    "- *(1) Lists:*"
   ]
  },
  {
   "cell_type": "code",
   "execution_count": 193,
   "metadata": {},
   "outputs": [
    {
     "name": "stdout",
     "output_type": "stream",
     "text": [
      "[1, 3, 5, 7, 9]\n",
      "[1, 3, 5, 7, 9]\n",
      "[1, 3, 5, 7, 9]\n",
      "[1, 3, 5, 7, 9]\n"
     ]
    }
   ],
   "source": [
    "# Definition\n",
    "a=[1,3,5,7,9] # explicit\n",
    "b=[i for i in range(1,10,2)] # range(start,end+1,step)\n",
    "c=[i for i in range(10)][1:10:2] # slicing [start,end+1,step]\n",
    "d=[i for i in range(10)][slice(1,10,2)] # slicing (start,end+1,step)\n",
    "print('{}\\n{}\\n{}\\n{}'.format(a,b,c,d))"
   ]
  },
  {
   "cell_type": "code",
   "execution_count": 206,
   "metadata": {},
   "outputs": [
    {
     "name": "stdout",
     "output_type": "stream",
     "text": [
      "[1, True, 'WoooHooo!']\n"
     ]
    }
   ],
   "source": [
    "# Append: O(1)\n",
    "a=[]\n",
    "a.append(1)\n",
    "a.append(True)\n",
    "a.append('WoooHooo!')\n",
    "print(a) # lists can hold variables of different types"
   ]
  },
  {
   "cell_type": "code",
   "execution_count": 207,
   "metadata": {},
   "outputs": [
    {
     "name": "stdout",
     "output_type": "stream",
     "text": [
      "length: 4, time: 2e-06\n",
      "length: 10004, time: 5e-06\n",
      "length: 20004, time: 5e-06\n",
      "length: 30004, time: 8e-06\n",
      "length: 40004, time: 6e-06\n",
      "length: 50004, time: 7e-06\n",
      "length: 60004, time: 7e-06\n",
      "length: 70004, time: 4e-06\n",
      "length: 80004, time: 8e-06\n",
      "length: 90004, time: 8e-06\n"
     ]
    }
   ],
   "source": [
    "for n in range(100000):\n",
    "    if not n%10000:\n",
    "        start=time.time()\n",
    "        a.append(n)\n",
    "        print(f'length: {len(a)}'+f', time: {round(time.time()-start,6)}')\n",
    "    else:\n",
    "        a.append(1)"
   ]
  },
  {
   "cell_type": "code",
   "execution_count": 208,
   "metadata": {},
   "outputs": [
    {
     "name": "stdout",
     "output_type": "stream",
     "text": [
      "length: 100000, time: 7.1e-05\n",
      "length: 90000, time: 3.6e-05\n",
      "length: 80000, time: 4e-05\n",
      "length: 70000, time: 4.6e-05\n",
      "length: 60000, time: 2.8e-05\n",
      "length: 50000, time: 3.5e-05\n",
      "length: 40000, time: 3.6e-05\n",
      "length: 30000, time: 1.6e-05\n",
      "length: 20000, time: 2.8e-05\n",
      "length: 10000, time: 1e-05\n",
      "length: 0, time: 4e-06\n"
     ]
    }
   ],
   "source": [
    "# Remove: O(n)\n",
    "a=list(range(100001))\n",
    "for n in range(100001):\n",
    "    if not n%10000:\n",
    "        start=time.time()\n",
    "        a.remove(n)\n",
    "        print(f'length: {len(a)}'+f', time: {round(time.time()-start,6)}')\n",
    "    else:\n",
    "        a.remove(n)"
   ]
  },
  {
   "cell_type": "code",
   "execution_count": 214,
   "metadata": {},
   "outputs": [
    {
     "name": "stdout",
     "output_type": "stream",
     "text": [
      "3\n",
      "[1, 2, 3, 4, 5]\n",
      "False\n"
     ]
    }
   ],
   "source": [
    "# Other commonly used methods:\n",
    "a=[2,1,5,4,3]\n",
    "print(a.pop()) # removes and returns the last element, O(1)\n",
    "a=[2,1,5,4,3]\n",
    "print(sorted(a)) # sorts the list, O(nlogn)\n",
    "a=[2,1,5,4,3]\n",
    "print('WoooHooo' in a) # checks if an object is in the list, O(n)"
   ]
  },
  {
   "cell_type": "markdown",
   "metadata": {},
   "source": [
    "- (2) *Dictionaries:*"
   ]
  },
  {
   "cell_type": "code",
   "execution_count": 229,
   "metadata": {},
   "outputs": [
    {
     "name": "stdout",
     "output_type": "stream",
     "text": [
      "{'a': 1, 'b': True, 'c': -10}\n"
     ]
    }
   ],
   "source": [
    "# Definition\n",
    "a={'a':1,'b':True,'c':-10}\n",
    "print(a)"
   ]
  },
  {
   "cell_type": "code",
   "execution_count": 230,
   "metadata": {},
   "outputs": [
    {
     "name": "stdout",
     "output_type": "stream",
     "text": [
      "{'a': 1, 'b': True, 'c': -10, 'd': 5}\n"
     ]
    }
   ],
   "source": [
    "# Insertion, O(1) (on average)\n",
    "a['d']=5\n",
    "print(a)"
   ]
  },
  {
   "cell_type": "code",
   "execution_count": 231,
   "metadata": {},
   "outputs": [
    {
     "name": "stdout",
     "output_type": "stream",
     "text": [
      "{'a': 1, 'c': -10, 'd': 5}\n"
     ]
    }
   ],
   "source": [
    "# Deletion, O(1) (on average)\n",
    "del a['b']\n",
    "print(a)"
   ]
  },
  {
   "cell_type": "code",
   "execution_count": 232,
   "metadata": {},
   "outputs": [
    {
     "name": "stdout",
     "output_type": "stream",
     "text": [
      "False\n",
      "False\n"
     ]
    }
   ],
   "source": [
    "# Check, O(1) (on average)\n",
    "print('z' in a) # or\n",
    "print('z' in a.keys())"
   ]
  },
  {
   "cell_type": "code",
   "execution_count": 235,
   "metadata": {},
   "outputs": [
    {
     "name": "stdout",
     "output_type": "stream",
     "text": [
      "5\n"
     ]
    }
   ],
   "source": [
    "# Access, O(1) (on average)\n",
    "print(a['d'])"
   ]
  },
  {
   "cell_type": "code",
   "execution_count": 233,
   "metadata": {},
   "outputs": [
    {
     "name": "stdout",
     "output_type": "stream",
     "text": [
      "[('c', -10), ('a', 1), ('d', 5)]\n"
     ]
    }
   ],
   "source": [
    "# Sort by values, O(nlogn)\n",
    "print(sorted(a.items(),key=lambda x:x[1]))"
   ]
  },
  {
   "cell_type": "code",
   "execution_count": 238,
   "metadata": {},
   "outputs": [],
   "source": [
    "# Why are dictionaries useful?\n",
    "# (1) Reduced complexity of most operations compared to having two lists;\n",
    "# (2) Convenience/Interpretability of the code\n",
    "\n",
    "# Exercise 1 (Leetcode 22):\n",
    "# Write a function 'single(a)' that takes an integer list/array 'a', in which\n",
    "# all elements appear exactly twice except for one element that appears once.\n",
    "# Output this one integer in O(n) complexity (n is the list length).\n",
    "# Example: single([0,4,3,3,0]) outputs 4.\n",
    "\n",
    "# Exercise 2 (Leetcode 451):\n",
    "# Write a function 'frequency(s)' that sorts charcters of a string 's' in decreasing order\n",
    "# based on the frequency of characters.\n",
    "# Example: frequency(\"data\") outputs \"aadt\" (or \"aatd\")\n",
    "\n",
    "# Another good example is Leetcode 997."
   ]
  },
  {
   "cell_type": "markdown",
   "metadata": {},
   "source": [
    "#### *Other useful built-in functions*"
   ]
  },
  {
   "cell_type": "code",
   "execution_count": 269,
   "metadata": {},
   "outputs": [
    {
     "name": "stdout",
     "output_type": "stream",
     "text": [
      "['Hello', 'world', 'from', 'room', '650!']\n"
     ]
    }
   ],
   "source": [
    "# s.split(char): breaks a string s into a list of strings separated by char\n",
    "s='Hello world from room 650!'\n",
    "print(s.split(' '))"
   ]
  },
  {
   "cell_type": "code",
   "execution_count": 270,
   "metadata": {},
   "outputs": [
    {
     "name": "stdout",
     "output_type": "stream",
     "text": [
      "Hello world from room 650!\n"
     ]
    }
   ],
   "source": [
    "# s.join(list of strings): the opposite of split; joins all strings in the list and places s in between each pair\n",
    "strs=['Hello', 'world', 'from', 'room', '650!']\n",
    "print(' '.join(strs))"
   ]
  },
  {
   "cell_type": "code",
   "execution_count": 264,
   "metadata": {},
   "outputs": [
    {
     "name": "stdout",
     "output_type": "stream",
     "text": [
      "15\n"
     ]
    }
   ],
   "source": [
    "# sum(iterable): sums elements of a valid iterable (e.g. list, tuple, numpy array, etc.)\n",
    "print(sum([1,2,3,4,5]))"
   ]
  },
  {
   "cell_type": "code",
   "execution_count": 265,
   "metadata": {},
   "outputs": [
    {
     "name": "stdout",
     "output_type": "stream",
     "text": [
      "[(0, 'zero'), (1, 'one'), (2, 'two'), (3, 'three'), (4, 'four')]\n"
     ]
    }
   ],
   "source": [
    "# enumerate(iterable):  outputs an <enumerate> object with [index,element] pairs of an iterable\n",
    "print([(i,v) for i,v in enumerate(['zero','one','two','three','four'])])"
   ]
  },
  {
   "cell_type": "code",
   "execution_count": 268,
   "metadata": {},
   "outputs": [
    {
     "name": "stdout",
     "output_type": "stream",
     "text": [
      "2\n"
     ]
    }
   ],
   "source": [
    "# zip(iterable,iterable): outputs a <zip> with pairs of elements from iterables (must be of the same length)\n",
    "vec_1=[1,2,3]\n",
    "vec_2=[-1,0,1]\n",
    "print(sum([a*b for a,b in zip(vec_1,vec_2)])) # dot product of vec_1 and vec_2"
   ]
  },
  {
   "cell_type": "code",
   "execution_count": 271,
   "metadata": {},
   "outputs": [],
   "source": [
    "# Others like type(), len(), min(), max(), etc."
   ]
  },
  {
   "cell_type": "markdown",
   "metadata": {},
   "source": [
    "#### NumPy Module\n",
    "NumPy is a python library for efficient and convenient work with arrays (ndarrays).\n",
    "Unlike python lists, which in principle serve the same `purpose, numpy arrays are stored in contiguous memory space, making referencing/accessing faster."
   ]
  },
  {
   "cell_type": "code",
   "execution_count": 294,
   "metadata": {},
   "outputs": [
    {
     "name": "stdout",
     "output_type": "stream",
     "text": [
      "array:\n",
      " [[1 1 1]\n",
      " [2 2 2]]\n",
      "\n",
      "shape: (2, 3)\n"
     ]
    }
   ],
   "source": [
    "# Initialization from list:\n",
    "a=np.array([[1,1,1],[2,2,2]])\n",
    "print(f'array:\\n {a}\\n')\n",
    "print(f'shape: {a.shape}')"
   ]
  },
  {
   "cell_type": "code",
   "execution_count": 347,
   "metadata": {},
   "outputs": [
    {
     "name": "stdout",
     "output_type": "stream",
     "text": [
      "[0 1 2 3 4 5 6 7 8 9]\n",
      "\n",
      "[[1. 1. 1.]\n",
      " [1. 1. 1.]]\n",
      "\n",
      "[[0. 0. 0.]\n",
      " [0. 0. 0.]]\n",
      "\n",
      "[[7 7 7]\n",
      " [7 7 7]]\n"
     ]
    }
   ],
   "source": [
    "# Initialization from NumPy methods:\n",
    "b=np.arange(10) # the same as range() but returns a ndarray\n",
    "c=np.ones((2,3)) # make an array of all ones with a given shape\n",
    "d=np.zeros((2,3)) # make an array of all zeros with a given shape\n",
    "e=np.full((2,3),7) # make an array of all sevens with a given shape\n",
    "print(f'{b}\\n\\n{c}\\n\\n{d}\\n\\n{e}')"
   ]
  },
  {
   "cell_type": "code",
   "execution_count": 312,
   "metadata": {},
   "outputs": [
    {
     "name": "stdout",
     "output_type": "stream",
     "text": [
      "[[1 1]\n",
      " [1 2]\n",
      " [2 2]]\n",
      "\n",
      "[1 1 1 2 2 2]\n"
     ]
    }
   ],
   "source": [
    "# Reshaping arrays\n",
    "print(f'{a.reshape((3,2))}\\n') # traverses entries in order; not a transpose operation\n",
    "print(a.reshape(-1)) # flattening out"
   ]
  },
  {
   "cell_type": "code",
   "execution_count": 278,
   "metadata": {},
   "outputs": [
    {
     "name": "stdout",
     "output_type": "stream",
     "text": [
      "[1, 2, 3, 1, 2, 3, 1, 2, 3]\n",
      "[3 6 9]\n"
     ]
    }
   ],
   "source": [
    "import numpy as np\n",
    "\n",
    "# Arithmetic works better:\n",
    "print([1,2,3]*3) # concatenates [1,2,3] with itself 3 times\n",
    "print(np.array([1,2,3])*3) # elementwise product"
   ]
  },
  {
   "cell_type": "code",
   "execution_count": 285,
   "metadata": {},
   "outputs": [
    {
     "name": "stdout",
     "output_type": "stream",
     "text": [
      "[4 5 6]\n",
      "[4 5 6]\n"
     ]
    }
   ],
   "source": [
    "# Elementwise addition:\n",
    "print(np.array([1,2,3])+3) # or\n",
    "print(np.array([1,2,3])+np.array([3,3,3]))"
   ]
  },
  {
   "cell_type": "code",
   "execution_count": 281,
   "metadata": {},
   "outputs": [
    {
     "name": "stdout",
     "output_type": "stream",
     "text": [
      "[1, 2, 3]\n"
     ]
    }
   ],
   "source": [
    "# Not supported for lists:\n",
    "print([1,2,3]+3)"
   ]
  },
  {
   "cell_type": "code",
   "execution_count": 316,
   "metadata": {},
   "outputs": [
    {
     "name": "stdout",
     "output_type": "stream",
     "text": [
      "[1 2 3 4 5]\n"
     ]
    }
   ],
   "source": [
    "# Saving/Loading arrays:\n",
    "a=np.array([1,2,3,4,5])\n",
    "np.save('IDS2020/best_array_ever.npy',a)\n",
    "a=np.load('IDS2020/best_array_ever.npy')\n",
    "print(a)"
   ]
  },
  {
   "cell_type": "code",
   "execution_count": 317,
   "metadata": {},
   "outputs": [],
   "source": [
    "# Other useful functions:\n",
    "# np.mean(array,axis=?): average value across along a given axis,\n",
    "# np.std(array,axis=?): standard deviation along a given axis,\n",
    "# np.dot(array,array): dot product of two 1-dimensional arrays of the same length,\n",
    "# np.matmul(array, array): matrix multiplication of two 2-dimensional arrays,\n",
    "# np.nonzero(array): returns indices of nonzero elements of the array,\n",
    "# np.where(condition(array)): returns indices of the array where elements satisfy the condition,\n",
    "# np.argsort(array): returns indices in order that sorts the array."
   ]
  },
  {
   "cell_type": "markdown",
   "metadata": {},
   "source": [
    "#### NumPy Random"
   ]
  },
  {
   "cell_type": "code",
   "execution_count": 388,
   "metadata": {},
   "outputs": [
    {
     "name": "stdout",
     "output_type": "stream",
     "text": [
      "[19 14  1  8 15 16  4 17 13  9 10  7  6  0 11  2  3 12  5 18]\n",
      "[19 14  1  8 15 16  4 17 13  9 10  7  6  0 11  2  3 12  5 18]\n",
      "[ 0  1  2  3  4  5  6  7  8  9 10 11 12 13 14 15 16 17 18 19]\n"
     ]
    }
   ],
   "source": [
    "# Random permutation:\n",
    "identity=np.arange(20)\n",
    "sigma=np.random.permutation(identity)\n",
    "print(sigma)\n",
    "print(identity[sigma]) # the same\n",
    "\n",
    "# Exercise: bring sigma back to identity; i.e find its inverse:\n",
    "# >>> sigma_inverse=TODO\n",
    "# >>> sigma[sigma_inverse]==identity\n",
    "# >>> True\n",
    "\n",
    "print(sigma[sigma.argsort()])"
   ]
  },
  {
   "cell_type": "code",
   "execution_count": 356,
   "metadata": {},
   "outputs": [
    {
     "data": {
      "text/plain": [
       "array([1, 1, 5, 2, 8, 5, 7, 4, 4, 5, 8, 5, 9, 4, 2, 7, 2, 9, 4, 5])"
      ]
     },
     "execution_count": 356,
     "metadata": {},
     "output_type": "execute_result"
    }
   ],
   "source": [
    "# Random choice:\n",
    "i_hate_threes=[0 if i==3 else 1/9 for i in range(10)]\n",
    "np.random.choice(a=range(10),replace=True,size=20,p=i_hate_threes) # 'p' gives probabilities of choices in 'a'"
   ]
  },
  {
   "cell_type": "code",
   "execution_count": 387,
   "metadata": {},
   "outputs": [],
   "source": [
    "# Random distributions:\n",
    "# np.random.normal(loc=0,scale=1,size=(5,5))\n",
    "# np.random.poisson(lam=6,size=1)\n",
    "# np.random.binomial(n=5,p=0.5)"
   ]
  },
  {
   "cell_type": "code",
   "execution_count": 423,
   "metadata": {},
   "outputs": [
    {
     "name": "stdout",
     "output_type": "stream",
     "text": [
      "[2.      2.5     2.      3.      2.8125  2.9375  2.70312 2.71094 2.59375\n",
      " 2.67188 2.69043 2.72217 2.71875 2.71387 2.71863 2.71759 2.71661 2.7129 ]\n"
     ]
    },
    {
     "data": {
      "image/png": "[encoded data removed]",
      "text/plain": [
       "<Figure size 432x288 with 1 Axes>"
      ]
     },
     "metadata": {
      "needs_background": "light"
     },
     "output_type": "display_data"
    }
   ],
   "source": [
    "# Exercise: You add Unif(0,1) variables until your sum exceeds 1.\n",
    "# How many random variables, on average, will there be in your sum?\n",
    "\n",
    "# Repeat this procedure many times, average the results and guess the answer.\n",
    "\n",
    "averages=[]\n",
    "repeats=[2**i for i in range(18)]\n",
    "for repeat in repeats:\n",
    "    results=[]\n",
    "    for n in range(repeat):\n",
    "        num=0\n",
    "        my_sum=0\n",
    "        while my_sum<1:\n",
    "            num+=1\n",
    "            my_sum+=np.random.uniform(0,1)\n",
    "        results.append(num)\n",
    "    averages.append(np.mean(results))\n",
    "print(np.round(averages,5))\n",
    "res=plt.plot(range(len(repeats)),averages)"
   ]
  },
  {
   "cell_type": "code",
   "execution_count": 367,
   "metadata": {},
   "outputs": [
    {
     "name": "stdout",
     "output_type": "stream",
     "text": [
      "original: 0.20846053735884262\n",
      "original: 0.20846053735884262\n",
      "original: 0.20846053735884262\n",
      "different: 0.4816810617633659\n",
      "original: 0.20846053735884262\n",
      "different: 0.5172978838465893\n"
     ]
    }
   ],
   "source": [
    "# Reproducibility:\n",
    "np.random.seed(22) # run this before each random generation to replicate the same \"random\" output\n",
    "print('original: {}'.format(np.random.uniform(0,1)))\n",
    "np.random.seed(22)\n",
    "print('original: {}'.format(np.random.uniform(0,1)))\n",
    "np.random.seed(22)\n",
    "print('original: {}'.format(np.random.uniform(0,1)))\n",
    "print('different: {}'.format(np.random.uniform(0,1))) # seed not set\n",
    "np.random.seed(22)\n",
    "print(\"original: {}\".format(np.random.uniform(0,1)))\n",
    "np.random.seed(23)\n",
    "print('different: {}'.format(np.random.uniform(0,1))) # seed set to a different value"
   ]
  },
  {
   "cell_type": "markdown",
   "metadata": {},
   "source": [
    "#### Pandas\n",
    "A Python library for efficient storing, handlng, managing panel data."
   ]
  },
  {
   "cell_type": "code",
   "execution_count": null,
   "metadata": {},
   "outputs": [],
   "source": []
  }
 ],
 "metadata": {
  "kernelspec": {
   "display_name": "Python 3",
   "language": "python",
   "name": "python3"
  },
  "language_info": {
   "codemirror_mode": {
    "name": "ipython",
    "version": 3
   },
   "file_extension": ".py",
   "mimetype": "text/x-python",
   "name": "python",
   "nbconvert_exporter": "python",
   "pygments_lexer": "ipython3",
   "version": "3.8.5"
  }
 },
 "nbformat": 4,
 "nbformat_minor": 2
}
