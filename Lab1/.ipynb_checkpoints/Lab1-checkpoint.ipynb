{
 "cells": [
  {
   "cell_type": "markdown",
   "metadata": {},
   "source": [
    "# Introduction to Data Science, Lab 1 (9/16)\n",
    "- Python fundamentals recap (with NumPy, Pandas)\n",
    "- Modelling with Google Trends data"
   ]
  },
  {
   "cell_type": "markdown",
   "metadata": {},
   "source": [
    "## Python Essentials\n",
    "#### *Formatting strings*"
   ]
  },
  {
   "cell_type": "code",
   "execution_count": 1,
   "metadata": {
    "scrolled": true
   },
   "outputs": [
    {
     "name": "stdout",
     "output_type": "stream",
     "text": [
      "Hello world from room 650!\n",
      "Bye.\n"
     ]
    }
   ],
   "source": [
    "# Standard:\n",
    "print('Hello world from room 650!\\nBye.')"
   ]
  },
  {
   "cell_type": "code",
   "execution_count": 2,
   "metadata": {
    "scrolled": true
   },
   "outputs": [
    {
     "name": "stdout",
     "output_type": "stream",
     "text": [
      "Hello world from room 650!\n",
      "Hello world from room 650!\n"
     ]
    }
   ],
   "source": [
    "# String with argument(s):\n",
    "room=650\n",
    "print('Hello world from room {}!'.format(room))\n",
    "print(f'Hello world from room {room}!')"
   ]
  },
  {
   "cell_type": "code",
   "execution_count": 3,
   "metadata": {
    "scrolled": false
   },
   "outputs": [
    {
     "name": "stdout",
     "output_type": "stream",
     "text": [
      "1/3 equals 0.3333333333333333, pi equals 3.141592653589793\n"
     ]
    }
   ],
   "source": [
    "# Multiple arguments:\n",
    "import math\n",
    "\n",
    "one_third=1/3\n",
    "print('1/3 equals {}, pi equals {}'.format(one_third,math.pi))"
   ]
  },
  {
   "cell_type": "code",
   "execution_count": 4,
   "metadata": {
    "scrolled": true
   },
   "outputs": [
    {
     "name": "stdout",
     "output_type": "stream",
     "text": [
      "1/3 equals 0.3333333333333333\n",
      "1/3 equals 0.333\n",
      "1/3 equals 0.333\n",
      "1/3 equals 0.333\n"
     ]
    }
   ],
   "source": [
    "# Format the argument:\n",
    "one_third=1/3\n",
    "print('1/3 equals {}'.format(one_third)) # insert 'one_third' in place of '{}'\n",
    "print('1/3 equals {:.3f}'.format(one_third)) # specify the number of decimals \n",
    "print('1/3 equals {}'.format(round(one_third,3))) # apply the 'round' function directly\n",
    "print(f'1/3 equals {one_third:.3f}')"
   ]
  },
  {
   "cell_type": "code",
   "execution_count": 5,
   "metadata": {
    "scrolled": true
   },
   "outputs": [
    {
     "name": "stdout",
     "output_type": "stream",
     "text": [
      "1/3 equals 3.141592653589793, pi equals 0.3333333333333333\n"
     ]
    }
   ],
   "source": [
    "# Choose the order of arguments:\n",
    "print('1/3 equals {1}, pi equals {0}'.format(one_third,math.pi))"
   ]
  },
  {
   "cell_type": "code",
   "execution_count": 6,
   "metadata": {
    "scrolled": true
   },
   "outputs": [
    {
     "name": "stdout",
     "output_type": "stream",
     "text": [
      "1/3 equals 0.3333333333333333, pi equals 3.141592653589793\n"
     ]
    }
   ],
   "source": [
    "# Keyword arguments\n",
    "print('1/3 equals {first}, pi equals {second}'.format(first=one_third,second=math.pi))"
   ]
  },
  {
   "cell_type": "code",
   "execution_count": 7,
   "metadata": {
    "scrolled": true
   },
   "outputs": [
    {
     "name": "stdout",
     "output_type": "stream",
     "text": [
      "H-e-l-l-o- -w-o-r-l-d-!\n"
     ]
    }
   ],
   "source": [
    "# Pack characters into a string:\n",
    "secret=[72,101,108,108,111,32,119,111,114,108,100,33] # ascii values of secret characters\n",
    "print('-'.join([chr(s) for s in secret])) # '-' specifies how to separate characters"
   ]
  },
  {
   "cell_type": "code",
   "execution_count": 8,
   "metadata": {
    "scrolled": true
   },
   "outputs": [
    {
     "data": {
      "text/plain": [
       "'Hell0 w0rld fr0m r00m 650!'"
      ]
     },
     "execution_count": 8,
     "metadata": {},
     "output_type": "execute_result"
    }
   ],
   "source": [
    "# Replace certain characters:\n",
    "'Hello world from room 650!'.replace('o','0')"
   ]
  },
  {
   "cell_type": "markdown",
   "metadata": {},
   "source": [
    "#### *Timing*\n",
    "*Two popular choices are* ***time*** *and* ***timeit***:"
   ]
  },
  {
   "cell_type": "code",
   "execution_count": 9,
   "metadata": {
    "scrolled": true
   },
   "outputs": [
    {
     "name": "stdout",
     "output_type": "stream",
     "text": [
      "1600255523.843349\n",
      "50.74376978195015\n"
     ]
    }
   ],
   "source": [
    "import time\n",
    "print(time.time()) # time since January 1, 1970, 00:00:00 (UTC) in secons, aka UNIX time\n",
    "print(time.time()/60/60/24/365) # approx. number of years passed"
   ]
  },
  {
   "cell_type": "code",
   "execution_count": 10,
   "metadata": {
    "scrolled": true
   },
   "outputs": [
    {
     "name": "stdout",
     "output_type": "stream",
     "text": [
      "1.0059258937835693\n"
     ]
    }
   ],
   "source": [
    "start=time.time()\n",
    "time.sleep(1) # hang for 1 second\n",
    "end=time.time()\n",
    "print(end-start)"
   ]
  },
  {
   "cell_type": "code",
   "execution_count": 11,
   "metadata": {
    "scrolled": true
   },
   "outputs": [
    {
     "name": "stdout",
     "output_type": "stream",
     "text": [
      "207 ms ± 1.76 ms per loop (mean ± std. dev. of 7 runs, 2 loops each)\n"
     ]
    }
   ],
   "source": [
    "%%timeit -n 2 # Jupyter notebook usage; include %% to time all the below contents of the current cell\n",
    "time.sleep(0.1)\n",
    "time.sleep(0.1)"
   ]
  },
  {
   "cell_type": "code",
   "execution_count": 12,
   "metadata": {
    "scrolled": true
   },
   "outputs": [
    {
     "name": "stdout",
     "output_type": "stream",
     "text": [
      "103 ms ± 823 µs per loop (mean ± std. dev. of 7 runs, 2 loops each)\n"
     ]
    }
   ],
   "source": [
    "%timeit -n 2 time.sleep(0.1) # include % to time only this line\n",
    "time.sleep(0.1)\n",
    "time.sleep(0.1)"
   ]
  },
  {
   "cell_type": "markdown",
   "metadata": {},
   "source": [
    "#### *Custom functions*"
   ]
  },
  {
   "cell_type": "code",
   "execution_count": 13,
   "metadata": {
    "scrolled": true
   },
   "outputs": [],
   "source": [
    "# classic:\n",
    "def sec2year(sec):\n",
    "    years=sec/60/60/24//365 # '//' means integer division\n",
    "    return years\n",
    "\n",
    "# In python 3+, such simple functions can be defined with 'lambda' \n",
    "sec2year_smart=lambda x: x/60/60/24/365"
   ]
  },
  {
   "cell_type": "code",
   "execution_count": 14,
   "metadata": {
    "scrolled": true
   },
   "outputs": [
    {
     "name": "stdout",
     "output_type": "stream",
     "text": [
      "50.0\n",
      "50.74376995947593\n"
     ]
    }
   ],
   "source": [
    "print(sec2year(time.time())) # should be a whole number\n",
    "print(sec2year_smart(time.time())) # should be rational"
   ]
  },
  {
   "cell_type": "code",
   "execution_count": 15,
   "metadata": {
    "scrolled": true
   },
   "outputs": [
    {
     "name": "stdout",
     "output_type": "stream",
     "text": [
      "479 ns ± 149 ns per loop (mean ± std. dev. of 10 runs, 1000 loops each)\n",
      "454 ns ± 137 ns per loop (mean ± std. dev. of 10 runs, 1000 loops each)\n"
     ]
    }
   ],
   "source": [
    "# Let's figure out which is faster:\n",
    "%timeit -n 1000 -r 10 sec2year(time.time())\n",
    "%timeit -n 1000 -r 10 sec2year_smart(time.time())"
   ]
  },
  {
   "cell_type": "code",
   "execution_count": 16,
   "metadata": {
    "scrolled": true
   },
   "outputs": [],
   "source": [
    "# Some arguments can have default values (should come after any non-default argument)\n",
    "def divide(num,denom,whole=False):\n",
    "    return num/denom if not whole else num//denom"
   ]
  },
  {
   "cell_type": "code",
   "execution_count": 17,
   "metadata": {
    "scrolled": true
   },
   "outputs": [
    {
     "name": "stdout",
     "output_type": "stream",
     "text": [
      "3\n",
      "3.3333333333333335\n",
      "3.3333333333333335\n"
     ]
    }
   ],
   "source": [
    "# We may choose to pass them explicitly or leave to default\n",
    "print(divide(10,3,True))\n",
    "print(divide(10,3,False))\n",
    "print(divide(10,3))"
   ]
  },
  {
   "cell_type": "code",
   "execution_count": 18,
   "metadata": {
    "scrolled": true
   },
   "outputs": [],
   "source": [
    "# Additional agruments can be passed by adding *args or **kwargs\n",
    "\n",
    "def sum_and_shout(num,denom,message):\n",
    "    result=num+denom\n",
    "    print(message)\n",
    "    return result\n",
    "    \n",
    "def divide_and_round(num,denom,decimals):\n",
    "    result=num/denom\n",
    "    return round(result,decimals)\n",
    "\n",
    "def multiply_and_sleep(num,denom,sec):\n",
    "    result=num*denom\n",
    "    time.sleep(sec)\n",
    "    return result\n",
    "\n",
    "def router(num,denom,operation,**kwargs):\n",
    "    if operation=='sum':\n",
    "        return sum_and_shout(num,denom,kwargs['message'])\n",
    "    elif operation=='divide':\n",
    "        return divide_and_round(num,denom,kwargs['decimals'])\n",
    "    elif operation=='sleep':\n",
    "        return multiply_and_sleep(num,denom,kwargs['sec'])"
   ]
  },
  {
   "cell_type": "code",
   "execution_count": 19,
   "metadata": {
    "scrolled": true
   },
   "outputs": [
    {
     "name": "stdout",
     "output_type": "stream",
     "text": [
      "WoooHooo!\n"
     ]
    },
    {
     "data": {
      "text/plain": [
       "7"
      ]
     },
     "execution_count": 19,
     "metadata": {},
     "output_type": "execute_result"
    }
   ],
   "source": [
    "router(5,2,'sum',message='WoooHooo!')\n",
    "\n",
    "# Compare to:\n",
    "# def router(num,denom,operation,message,decimals,secs)\n",
    "\n",
    "# To execute sum via 'router', we would have needed:\n",
    "# >>> dummy_decimals=3\n",
    "# >>> dummy_sec=0.5\n",
    "# >>> router(5,2,'sum',message='WoooHooo!',dummy_decimals,dummy_sec)\n",
    "\n",
    "# Why don't we just call sum_and_shout(5,2,message='WoooHooo!')?\n",
    "# The 'operation' flag could be given as a (command line) argumennt,\n",
    "# so you need to \"route\" based on 'operation' to execute an appropriate function. "
   ]
  },
  {
   "cell_type": "markdown",
   "metadata": {},
   "source": [
    "#### *Data structures*\n",
    "- *(1) Lists:*"
   ]
  },
  {
   "cell_type": "code",
   "execution_count": 20,
   "metadata": {
    "scrolled": true
   },
   "outputs": [
    {
     "name": "stdout",
     "output_type": "stream",
     "text": [
      "[1, 3, 5, 7, 9]\n",
      "[1, 3, 5, 7, 9]\n",
      "[1, 3, 5, 7, 9]\n",
      "[1, 3, 5, 7, 9]\n"
     ]
    }
   ],
   "source": [
    "# Definition\n",
    "a=[1,3,5,7,9] # explicit\n",
    "b=[i for i in range(1,10,2)] # range(start,end+1,step)\n",
    "c=[i for i in range(10)][1:10:2] # slicing [start,end+1,step]\n",
    "d=[i for i in range(10)][slice(1,10,2)] # slicing (start,end+1,step)\n",
    "print('{}\\n{}\\n{}\\n{}'.format(a,b,c,d))"
   ]
  },
  {
   "cell_type": "code",
   "execution_count": 21,
   "metadata": {
    "scrolled": true
   },
   "outputs": [
    {
     "name": "stdout",
     "output_type": "stream",
     "text": [
      "[1, True, 'WoooHooo!']\n"
     ]
    }
   ],
   "source": [
    "# Append: O(1)\n",
    "a=[]\n",
    "a.append(1)\n",
    "a.append(True)\n",
    "a.append('WoooHooo!')\n",
    "print(a) # lists can hold variables of different types"
   ]
  },
  {
   "cell_type": "code",
   "execution_count": 22,
   "metadata": {
    "scrolled": true
   },
   "outputs": [
    {
     "name": "stdout",
     "output_type": "stream",
     "text": [
      "length: 4, time: 3e-06\n",
      "length: 10004, time: 6e-06\n",
      "length: 20004, time: 6e-06\n",
      "length: 30004, time: 7e-06\n",
      "length: 40004, time: 6e-06\n",
      "length: 50004, time: 9e-06\n",
      "length: 60004, time: 5e-06\n",
      "length: 70004, time: 7e-06\n",
      "length: 80004, time: 5e-06\n",
      "length: 90004, time: 4e-06\n"
     ]
    }
   ],
   "source": [
    "# Append: O(1)\n",
    "for n in range(100000):\n",
    "    if not n%10000:\n",
    "        start=time.time()\n",
    "        a.append(n)\n",
    "        print(f'length: {len(a)}'+f', time: {round(time.time()-start,6)}')\n",
    "    else:\n",
    "        a.append(1)"
   ]
  },
  {
   "cell_type": "code",
   "execution_count": 23,
   "metadata": {
    "scrolled": true
   },
   "outputs": [
    {
     "name": "stdout",
     "output_type": "stream",
     "text": [
      "length: 100000, time: 9.3e-05\n",
      "length: 90000, time: 5.4e-05\n",
      "length: 80000, time: 3.9e-05\n",
      "length: 70000, time: 0.000145\n",
      "length: 60000, time: 0.000124\n",
      "length: 50000, time: 2.6e-05\n",
      "length: 40000, time: 2e-05\n",
      "length: 30000, time: 1.6e-05\n",
      "length: 20000, time: 1.2e-05\n",
      "length: 10000, time: 1e-05\n",
      "length: 0, time: 3e-06\n"
     ]
    }
   ],
   "source": [
    "# Remove: O(n)\n",
    "a=list(range(100001))\n",
    "for n in range(100001):\n",
    "    if not n%10000:\n",
    "        start=time.time()\n",
    "        a.remove(n)\n",
    "        print(f'length: {len(a)}'+f', time: {round(time.time()-start,6)}')\n",
    "    else:\n",
    "        a.remove(n)"
   ]
  },
  {
   "cell_type": "code",
   "execution_count": 24,
   "metadata": {
    "scrolled": true
   },
   "outputs": [
    {
     "name": "stdout",
     "output_type": "stream",
     "text": [
      "('three', 3)\n"
     ]
    }
   ],
   "source": [
    "# Other commonly used methods:\n",
    "\n",
    "a=[('one',1),('two',2),('five',5),('four',4),('three',3)]\n",
    "print(a.pop()) # removes and returns the last element, O(1)"
   ]
  },
  {
   "cell_type": "code",
   "execution_count": 25,
   "metadata": {
    "scrolled": true
   },
   "outputs": [
    {
     "name": "stdout",
     "output_type": "stream",
     "text": [
      "[('five', 5), ('four', 4), ('one', 1), ('three', 3), ('two', 2)]\n"
     ]
    }
   ],
   "source": [
    "a=[('one',1),('two',2),('five',5),('four',4),('three',3)]\n",
    "print(sorted(a)) # sorts the list, O(nlogn)"
   ]
  },
  {
   "cell_type": "code",
   "execution_count": 26,
   "metadata": {
    "scrolled": true
   },
   "outputs": [
    {
     "name": "stdout",
     "output_type": "stream",
     "text": [
      "[('one', 1), ('two', 2), ('three', 3), ('four', 4), ('five', 5)]\n"
     ]
    }
   ],
   "source": [
    "a=[('one',1),('two',2),('five',5),('four',4),('three',3)]\n",
    "print(sorted(a,key=lambda x: x[1])) # sorts the list according to the second element, O(nlogn)"
   ]
  },
  {
   "cell_type": "code",
   "execution_count": 27,
   "metadata": {
    "scrolled": true
   },
   "outputs": [
    {
     "name": "stdout",
     "output_type": "stream",
     "text": [
      "False\n"
     ]
    }
   ],
   "source": [
    "a=[('one',1),('two',2),('five',5),('four',4),('three',3)]\n",
    "print('WoooHooo' in a) # checks if an object is in the list, O(n)"
   ]
  },
  {
   "cell_type": "code",
   "execution_count": 28,
   "metadata": {
    "scrolled": true
   },
   "outputs": [],
   "source": [
    "# Exercise: Given a list 's' of points on a plane and a positive integer k, write\n",
    "# a function KClosest(s,k) that returns k of those points closest to the origin.\n",
    "# Can you do it in one line (not counting the function header)?\n",
    "\n",
    "# For testing:\n",
    "s=[[1,1],[0,2],[0,1],[5,1],[4,0]]\n",
    "k=2"
   ]
  },
  {
   "cell_type": "markdown",
   "metadata": {},
   "source": [
    "- (2) *Dictionaries:*"
   ]
  },
  {
   "cell_type": "code",
   "execution_count": 29,
   "metadata": {
    "scrolled": true
   },
   "outputs": [
    {
     "name": "stdout",
     "output_type": "stream",
     "text": [
      "{'a': 1, 'b': True, 'c': -10}\n"
     ]
    }
   ],
   "source": [
    "# Definition\n",
    "a={'a':1,'b':True,'c':-10}\n",
    "print(a)"
   ]
  },
  {
   "cell_type": "code",
   "execution_count": 30,
   "metadata": {
    "scrolled": true
   },
   "outputs": [
    {
     "name": "stdout",
     "output_type": "stream",
     "text": [
      "{'a': 1, 'b': True, 'c': -10, 'd': 5}\n"
     ]
    }
   ],
   "source": [
    "# Insertion, O(1) (on average)\n",
    "a['d']=5\n",
    "print(a)"
   ]
  },
  {
   "cell_type": "code",
   "execution_count": 31,
   "metadata": {
    "scrolled": true
   },
   "outputs": [
    {
     "name": "stdout",
     "output_type": "stream",
     "text": [
      "{'a': 1, 'c': -10, 'd': 5}\n"
     ]
    }
   ],
   "source": [
    "# Deletion, O(1) (on average)\n",
    "del a['b']\n",
    "print(a)"
   ]
  },
  {
   "cell_type": "code",
   "execution_count": 32,
   "metadata": {
    "scrolled": true
   },
   "outputs": [
    {
     "name": "stdout",
     "output_type": "stream",
     "text": [
      "False\n",
      "False\n"
     ]
    }
   ],
   "source": [
    "# Check, O(1) (on average)\n",
    "print('z' in a) # or\n",
    "print('z' in a.keys())"
   ]
  },
  {
   "cell_type": "code",
   "execution_count": 33,
   "metadata": {
    "scrolled": true
   },
   "outputs": [
    {
     "name": "stdout",
     "output_type": "stream",
     "text": [
      "5\n"
     ]
    }
   ],
   "source": [
    "# Access, O(1) (on average)\n",
    "print(a['d'])"
   ]
  },
  {
   "cell_type": "code",
   "execution_count": 34,
   "metadata": {
    "scrolled": true
   },
   "outputs": [
    {
     "name": "stdout",
     "output_type": "stream",
     "text": [
      "[('c', -10), ('a', 1), ('d', 5)]\n"
     ]
    }
   ],
   "source": [
    "# Sort by values, O(nlogn)\n",
    "print(sorted(a.items(),key=lambda x:x[1]))"
   ]
  },
  {
   "cell_type": "code",
   "execution_count": 35,
   "metadata": {
    "scrolled": true
   },
   "outputs": [],
   "source": [
    "# Why are dictionaries useful?\n",
    "# (1) Reduced complexity of most operations compared to having two lists;\n",
    "# (2) Convenience/Interpretability of the code\n",
    "\n",
    "# Exercise 1 (Leetcode 136):\n",
    "# Write a function 'single(a)' that takes an integer list/array 'a', in which\n",
    "# all elements appear exactly twice except for one element that appears once.\n",
    "# Output this one integer in O(n) complexity (n is the list length).\n",
    "# Example: single([0,4,3,3,0]) outputs 4.\n",
    "# For testing:\n",
    "a=[7,2,9,1,2,9,1,10,10]\n",
    "\n",
    "# Exercise 2 (Leetcode 451):\n",
    "# Write a function 'frequency(s)' that sorts charcters of a string 's' in decreasing order\n",
    "# based on the frequency of characters.\n",
    "# Example: frequency(\"data\") outputs \"aadt\" (or \"aatd\")\n",
    "s=\"atlantic\"\n",
    "\n",
    "# Another good example is Leetcode 997."
   ]
  },
  {
   "cell_type": "markdown",
   "metadata": {},
   "source": [
    "#### *Other useful built-in functions*"
   ]
  },
  {
   "cell_type": "code",
   "execution_count": 36,
   "metadata": {
    "scrolled": true
   },
   "outputs": [
    {
     "name": "stdout",
     "output_type": "stream",
     "text": [
      "['Hello', 'world', 'from', 'room', '650!']\n"
     ]
    }
   ],
   "source": [
    "# s.split(char): breaks a string s into a list of strings separated by char\n",
    "s='Hello world from room 650!'\n",
    "print(s.split(' '))"
   ]
  },
  {
   "cell_type": "code",
   "execution_count": 37,
   "metadata": {
    "scrolled": true
   },
   "outputs": [
    {
     "name": "stdout",
     "output_type": "stream",
     "text": [
      "Hello world from room 650!\n"
     ]
    }
   ],
   "source": [
    "# s.join(list of strings): the opposite of split; joins all strings in the list and places s in between each pair\n",
    "strs=['Hello', 'world', 'from', 'room', '650!']\n",
    "print(' '.join(strs))"
   ]
  },
  {
   "cell_type": "code",
   "execution_count": 38,
   "metadata": {
    "scrolled": true
   },
   "outputs": [
    {
     "name": "stdout",
     "output_type": "stream",
     "text": [
      "15\n"
     ]
    }
   ],
   "source": [
    "# sum(iterable): sums elements of a valid iterable (e.g. list, tuple, numpy array, etc.)\n",
    "print(sum([1,2,3,4,5]))"
   ]
  },
  {
   "cell_type": "code",
   "execution_count": 39,
   "metadata": {
    "scrolled": true
   },
   "outputs": [
    {
     "name": "stdout",
     "output_type": "stream",
     "text": [
      "[(0, 'zero'), (1, 'one'), (2, 'two'), (3, 'three'), (4, 'four')]\n"
     ]
    }
   ],
   "source": [
    "# enumerate(iterable):  outputs an <enumerate> object with [index,element] pairs of an iterable\n",
    "print([(i,v) for i,v in enumerate(['zero','one','two','three','four'])])"
   ]
  },
  {
   "cell_type": "code",
   "execution_count": 40,
   "metadata": {
    "scrolled": true
   },
   "outputs": [
    {
     "name": "stdout",
     "output_type": "stream",
     "text": [
      "2\n"
     ]
    }
   ],
   "source": [
    "# zip(iterable,iterable): outputs a <zip> with pairs of elements from iterables (must be of the same length)\n",
    "vec_1=[1,2,3]\n",
    "vec_2=[-1,0,1]\n",
    "print(sum([a*b for a,b in zip(vec_1,vec_2)])) # dot product of vec_1 and vec_2"
   ]
  },
  {
   "cell_type": "code",
   "execution_count": 41,
   "metadata": {
    "scrolled": true
   },
   "outputs": [],
   "source": [
    "# Others like type(), len(), min(), max(), etc."
   ]
  },
  {
   "cell_type": "markdown",
   "metadata": {},
   "source": [
    "#### NumPy Module\n",
    "NumPy is a python library for efficient and convenient work with arrays (ndarrays).\n",
    "Unlike python lists, which in principle serve the same `purpose, numpy arrays are stored in contiguous memory space, making referencing/accessing faster."
   ]
  },
  {
   "cell_type": "code",
   "execution_count": 44,
   "metadata": {
    "scrolled": true
   },
   "outputs": [
    {
     "name": "stdout",
     "output_type": "stream",
     "text": [
      "array:\n",
      " [[1 1 1]\n",
      " [2 2 2]]\n",
      "\n",
      "shape: (2, 3)\n"
     ]
    }
   ],
   "source": [
    "# Numpy arrays from list:\n",
    "import numpy as np\n",
    "\n",
    "a=np.array([[1,1,1],[2,2,2]])\n",
    "print(f'array:\\n {a}\\n')\n",
    "print(f'shape: {a.shape}')"
   ]
  },
  {
   "cell_type": "code",
   "execution_count": 45,
   "metadata": {
    "scrolled": true
   },
   "outputs": [
    {
     "name": "stdout",
     "output_type": "stream",
     "text": [
      "[0 1 2 3 4 5 6 7 8 9]\n",
      "\n",
      "[[1. 1. 1.]\n",
      " [1. 1. 1.]]\n",
      "\n",
      "[[0. 0. 0.]\n",
      " [0. 0. 0.]]\n",
      "\n",
      "[[7 7 7]\n",
      " [7 7 7]]\n"
     ]
    }
   ],
   "source": [
    "# NumPy arrays from methods:\n",
    "b=np.arange(10) # the same as range() but returns a ndarray\n",
    "c=np.ones((2,3)) # make an array of all ones with a given shape\n",
    "d=np.zeros((2,3)) # make an array of all zeros with a given shape\n",
    "e=np.full((2,3),7) # make an array of all sevens with a given shape\n",
    "print(f'{b}\\n\\n{c}\\n\\n{d}\\n\\n{e}')"
   ]
  },
  {
   "cell_type": "code",
   "execution_count": 46,
   "metadata": {
    "scrolled": true
   },
   "outputs": [
    {
     "name": "stdout",
     "output_type": "stream",
     "text": [
      "[[1. 1. 1. 0. 0. 0.]\n",
      " [1. 1. 1. 0. 0. 0.]]\n",
      "\n",
      "\n",
      "[[1. 1. 1.]\n",
      " [1. 1. 1.]\n",
      " [0. 0. 0.]\n",
      " [0. 0. 0.]]\n"
     ]
    }
   ],
   "source": [
    "# NumPy arrays from other arrays:\n",
    "print(np.hstack([c,d]))\n",
    "print('\\n')\n",
    "print(np.vstack([c,d]))"
   ]
  },
  {
   "cell_type": "code",
   "execution_count": 47,
   "metadata": {
    "scrolled": true
   },
   "outputs": [
    {
     "name": "stdout",
     "output_type": "stream",
     "text": [
      "[[1 1]\n",
      " [1 2]\n",
      " [2 2]]\n",
      "\n",
      "\n",
      "[[1 2]\n",
      " [1 2]\n",
      " [1 2]]\n",
      "\n",
      "\n",
      "[1 1 1 2 2 2]\n"
     ]
    }
   ],
   "source": [
    "# Reshaping arrays\n",
    "print(a.reshape((3,2))) # traverses entries in order; not a transpose operation\n",
    "print('\\n')\n",
    "print(np.transpose(a)) # this is a transpose operation\n",
    "print('\\n')\n",
    "print(a.reshape(-1)) # flattening out"
   ]
  },
  {
   "cell_type": "code",
   "execution_count": 48,
   "metadata": {
    "scrolled": true
   },
   "outputs": [
    {
     "name": "stdout",
     "output_type": "stream",
     "text": [
      "[1, 2, 3, 1, 2, 3, 1, 2, 3]\n",
      "[3 6 9]\n"
     ]
    }
   ],
   "source": [
    "import numpy as np\n",
    "\n",
    "# Arithmetic works better:\n",
    "print([1,2,3]*3) # concatenates [1,2,3] with itself 3 times\n",
    "print(np.array([1,2,3])*3) # elementwise product"
   ]
  },
  {
   "cell_type": "code",
   "execution_count": 49,
   "metadata": {
    "scrolled": true
   },
   "outputs": [
    {
     "name": "stdout",
     "output_type": "stream",
     "text": [
      "[4 5 6]\n",
      "[4 5 6]\n"
     ]
    }
   ],
   "source": [
    "# Elementwise addition:\n",
    "print(np.array([1,2,3])+3) # or\n",
    "print(np.array([1,2,3])+np.array([3,3,3]))"
   ]
  },
  {
   "cell_type": "code",
   "execution_count": 50,
   "metadata": {
    "scrolled": true
   },
   "outputs": [
    {
     "ename": "TypeError",
     "evalue": "can only concatenate list (not \"int\") to list",
     "output_type": "error",
     "traceback": [
      "\u001b[0;31m---------------------------------------------------------------------------\u001b[0m",
      "\u001b[0;31mTypeError\u001b[0m                                 Traceback (most recent call last)",
      "\u001b[0;32m<ipython-input-50-2045aa3ea4c0>\u001b[0m in \u001b[0;36m<module>\u001b[0;34m\u001b[0m\n\u001b[1;32m      1\u001b[0m \u001b[0;31m# Not supported for lists:\u001b[0m\u001b[0;34m\u001b[0m\u001b[0;34m\u001b[0m\u001b[0;34m\u001b[0m\u001b[0m\n\u001b[0;32m----> 2\u001b[0;31m \u001b[0mprint\u001b[0m\u001b[0;34m(\u001b[0m\u001b[0;34m[\u001b[0m\u001b[0;36m1\u001b[0m\u001b[0;34m,\u001b[0m\u001b[0;36m2\u001b[0m\u001b[0;34m,\u001b[0m\u001b[0;36m3\u001b[0m\u001b[0;34m]\u001b[0m\u001b[0;34m+\u001b[0m\u001b[0;36m3\u001b[0m\u001b[0;34m)\u001b[0m\u001b[0;34m\u001b[0m\u001b[0;34m\u001b[0m\u001b[0m\n\u001b[0m",
      "\u001b[0;31mTypeError\u001b[0m: can only concatenate list (not \"int\") to list"
     ]
    }
   ],
   "source": [
    "# Not supported for lists:\n",
    "print([1,2,3]+3)"
   ]
  },
  {
   "cell_type": "code",
   "execution_count": 51,
   "metadata": {
    "scrolled": true
   },
   "outputs": [
    {
     "name": "stdout",
     "output_type": "stream",
     "text": [
      "[1 2 3 4 5]\n"
     ]
    }
   ],
   "source": [
    "# Saving/Loading arrays:\n",
    "a=np.array([1,2,3,4,5])\n",
    "np.save('best_array_ever.npy',a)\n",
    "a=np.load('best_array_ever.npy')\n",
    "print(a)"
   ]
  },
  {
   "cell_type": "code",
   "execution_count": 52,
   "metadata": {
    "scrolled": true
   },
   "outputs": [],
   "source": [
    "# Other useful functions:\n",
    "# np.mean(array,axis=?): average value across along a given axis,\n",
    "# np.std(array,axis=?): standard deviation along a given axis,\n",
    "# np.dot(array,array): dot product of two 1-dimensional arrays of the same length,\n",
    "# np.matmul(array, array): matrix multiplication of two 2-dimensional arrays,\n",
    "# np.nonzero(array): returns indices of nonzero elements of the array,\n",
    "# np.where(condition(array)): returns indices of the array where elements satisfy the condition,\n",
    "# np.argsort(array): returns indices in order that sorts the array."
   ]
  },
  {
   "cell_type": "markdown",
   "metadata": {},
   "source": [
    "#### NumPy Random"
   ]
  },
  {
   "cell_type": "code",
   "execution_count": 53,
   "metadata": {
    "scrolled": true
   },
   "outputs": [
    {
     "name": "stdout",
     "output_type": "stream",
     "text": [
      "[14 16  4 15 17  6  7  2  9 13 10  5 11 19 18  1 12  8  0  3]\n",
      "[14 16  4 15 17  6  7  2  9 13 10  5 11 19 18  1 12  8  0  3]\n"
     ]
    }
   ],
   "source": [
    "# Random permutation:\n",
    "identity=np.arange(20)\n",
    "sigma=np.random.permutation(identity)\n",
    "print(sigma)\n",
    "print(identity[sigma]) # the same\n",
    "\n",
    "# Exercise: bring sigma back to identity; i.e find its inverse:\n",
    "# >>> sigma_inverse=?\n",
    "# >>> sigma[sigma_inverse]==identity\n",
    "# >>> True"
   ]
  },
  {
   "cell_type": "code",
   "execution_count": 54,
   "metadata": {
    "scrolled": true
   },
   "outputs": [
    {
     "data": {
      "text/plain": [
       "array([9, 6, 7, 5, 9, 8, 8, 1, 2, 1, 0, 8, 2, 6, 0, 8, 0, 5, 2, 2])"
      ]
     },
     "execution_count": 54,
     "metadata": {},
     "output_type": "execute_result"
    }
   ],
   "source": [
    "# Random choice:\n",
    "no_fours=[0 if i==4 else 1/9 for i in range(10)]\n",
    "np.random.choice(a=range(10),replace=True,size=20,p=no_fours) # 'p' gives probabilities of choices in 'a'"
   ]
  },
  {
   "cell_type": "code",
   "execution_count": 55,
   "metadata": {
    "scrolled": true
   },
   "outputs": [],
   "source": [
    "# Random distributions:\n",
    "# np.random.normal(loc=0,scale=1,size=(5,5))\n",
    "# np.random.poisson(lam=6,size=1)\n",
    "# np.random.binomial(n=5,p=0.5)"
   ]
  },
  {
   "cell_type": "code",
   "execution_count": 57,
   "metadata": {
    "scrolled": true
   },
   "outputs": [],
   "source": [
    "# Exercise: You add Unif(0,1) variables until your sum exceeds 1.\n",
    "# How many random variables, on average, will there be in your sum?\n",
    "\n",
    "# Repeat this procedure many times, average the results and guess the answer.\n",
    "%matplotlib inline\n",
    "import matplotlib.pyplot as plt"
   ]
  },
  {
   "cell_type": "code",
   "execution_count": 58,
   "metadata": {
    "scrolled": true
   },
   "outputs": [
    {
     "name": "stdout",
     "output_type": "stream",
     "text": [
      "original: 0.20846053735884262\n",
      "original: 0.20846053735884262\n",
      "original: 0.20846053735884262\n",
      "different: 0.4816810617633659\n",
      "original: 0.20846053735884262\n",
      "different: 0.5172978838465893\n"
     ]
    }
   ],
   "source": [
    "# Reproducibility:\n",
    "np.random.seed(22) # run this before each random generation to replicate the same \"random\" output\n",
    "print('original: {}'.format(np.random.uniform(0,1)))\n",
    "np.random.seed(22)\n",
    "print('original: {}'.format(np.random.uniform(0,1)))\n",
    "np.random.seed(22)\n",
    "print('original: {}'.format(np.random.uniform(0,1)))\n",
    "print('different: {}'.format(np.random.uniform(0,1))) # seed not set\n",
    "np.random.seed(22)\n",
    "print(\"original: {}\".format(np.random.uniform(0,1)))\n",
    "np.random.seed(23)\n",
    "print('different: {}'.format(np.random.uniform(0,1))) # seed set to a different value"
   ]
  },
  {
   "cell_type": "markdown",
   "metadata": {},
   "source": [
    "#### Pandas\n",
    "A Python library for efficient storing, handlng, managing panel data."
   ]
  },
  {
   "cell_type": "code",
   "execution_count": 60,
   "metadata": {
    "scrolled": true
   },
   "outputs": [
    {
     "data": {
      "text/html": [
       "<div>\n",
       "<style scoped>\n",
       "    .dataframe tbody tr th:only-of-type {\n",
       "        vertical-align: middle;\n",
       "    }\n",
       "\n",
       "    .dataframe tbody tr th {\n",
       "        vertical-align: top;\n",
       "    }\n",
       "\n",
       "    .dataframe thead th {\n",
       "        text-align: right;\n",
       "    }\n",
       "</style>\n",
       "<table border=\"1\" class=\"dataframe\">\n",
       "  <thead>\n",
       "    <tr style=\"text-align: right;\">\n",
       "      <th></th>\n",
       "      <th>one</th>\n",
       "      <th>two</th>\n",
       "      <th>three</th>\n",
       "      <th>four</th>\n",
       "      <th>five</th>\n",
       "      <th>six</th>\n",
       "      <th>seven</th>\n",
       "      <th>eight</th>\n",
       "    </tr>\n",
       "  </thead>\n",
       "  <tbody>\n",
       "    <tr>\n",
       "      <th>pi</th>\n",
       "      <td>3</td>\n",
       "      <td>1</td>\n",
       "      <td>4</td>\n",
       "      <td>1</td>\n",
       "      <td>5</td>\n",
       "      <td>9</td>\n",
       "      <td>2</td>\n",
       "      <td>6</td>\n",
       "    </tr>\n",
       "    <tr>\n",
       "      <th>e</th>\n",
       "      <td>2</td>\n",
       "      <td>7</td>\n",
       "      <td>1</td>\n",
       "      <td>8</td>\n",
       "      <td>2</td>\n",
       "      <td>8</td>\n",
       "      <td>1</td>\n",
       "      <td>8</td>\n",
       "    </tr>\n",
       "    <tr>\n",
       "      <th>phi</th>\n",
       "      <td>1</td>\n",
       "      <td>6</td>\n",
       "      <td>1</td>\n",
       "      <td>8</td>\n",
       "      <td>0</td>\n",
       "      <td>3</td>\n",
       "      <td>3</td>\n",
       "      <td>9</td>\n",
       "    </tr>\n",
       "  </tbody>\n",
       "</table>\n",
       "</div>"
      ],
      "text/plain": [
       "     one  two  three  four  five  six  seven  eight\n",
       "pi     3    1      4     1     5    9      2      6\n",
       "e      2    7      1     8     2    8      1      8\n",
       "phi    1    6      1     8     0    3      3      9"
      ]
     },
     "execution_count": 60,
     "metadata": {},
     "output_type": "execute_result"
    }
   ],
   "source": [
    "import pandas as pd\n",
    "\n",
    "from_list=[[3,1,4,1,5,9,2,6],[2,7,1,8,2,8,1,8],[1,6,1,8,0,3,3,9]]\n",
    "#from_array=np.array([[3,1,4,1,5,9,2,6],[2,7,1,8,2,8,1,8],[1,6,1,8,0,3,3,9]])\n",
    "\n",
    "digits=['one','two','three','four','five','six','seven','eight']\n",
    "constants=pd.DataFrame(from_list,index=['pi','e','phi'],columns=digits)\n",
    "constants\n",
    "\n",
    "# pd.DataFrame(from_array,columns=['pi','e','phi'],index=digits) # won't work"
   ]
  },
  {
   "cell_type": "code",
   "execution_count": 61,
   "metadata": {
    "scrolled": true
   },
   "outputs": [
    {
     "data": {
      "text/html": [
       "<div>\n",
       "<style scoped>\n",
       "    .dataframe tbody tr th:only-of-type {\n",
       "        vertical-align: middle;\n",
       "    }\n",
       "\n",
       "    .dataframe tbody tr th {\n",
       "        vertical-align: top;\n",
       "    }\n",
       "\n",
       "    .dataframe thead th {\n",
       "        text-align: right;\n",
       "    }\n",
       "</style>\n",
       "<table border=\"1\" class=\"dataframe\">\n",
       "  <thead>\n",
       "    <tr style=\"text-align: right;\">\n",
       "      <th></th>\n",
       "      <th>pi</th>\n",
       "      <th>e</th>\n",
       "      <th>phi</th>\n",
       "    </tr>\n",
       "  </thead>\n",
       "  <tbody>\n",
       "    <tr>\n",
       "      <th>one</th>\n",
       "      <td>3</td>\n",
       "      <td>2</td>\n",
       "      <td>1</td>\n",
       "    </tr>\n",
       "    <tr>\n",
       "      <th>two</th>\n",
       "      <td>1</td>\n",
       "      <td>7</td>\n",
       "      <td>6</td>\n",
       "    </tr>\n",
       "    <tr>\n",
       "      <th>three</th>\n",
       "      <td>4</td>\n",
       "      <td>1</td>\n",
       "      <td>1</td>\n",
       "    </tr>\n",
       "    <tr>\n",
       "      <th>four</th>\n",
       "      <td>1</td>\n",
       "      <td>8</td>\n",
       "      <td>8</td>\n",
       "    </tr>\n",
       "    <tr>\n",
       "      <th>five</th>\n",
       "      <td>5</td>\n",
       "      <td>2</td>\n",
       "      <td>0</td>\n",
       "    </tr>\n",
       "    <tr>\n",
       "      <th>six</th>\n",
       "      <td>9</td>\n",
       "      <td>8</td>\n",
       "      <td>3</td>\n",
       "    </tr>\n",
       "    <tr>\n",
       "      <th>seven</th>\n",
       "      <td>2</td>\n",
       "      <td>1</td>\n",
       "      <td>3</td>\n",
       "    </tr>\n",
       "    <tr>\n",
       "      <th>eight</th>\n",
       "      <td>6</td>\n",
       "      <td>8</td>\n",
       "      <td>9</td>\n",
       "    </tr>\n",
       "  </tbody>\n",
       "</table>\n",
       "</div>"
      ],
      "text/plain": [
       "       pi  e  phi\n",
       "one     3  2    1\n",
       "two     1  7    6\n",
       "three   4  1    1\n",
       "four    1  8    8\n",
       "five    5  2    0\n",
       "six     9  8    3\n",
       "seven   2  1    3\n",
       "eight   6  8    9"
      ]
     },
     "execution_count": 61,
     "metadata": {},
     "output_type": "execute_result"
    }
   ],
   "source": [
    "# DataFrame from Series or DataFrames:\n",
    "\n",
    "pi=pd.Series([3,1,4,1,5,9,2,6],index=digits,name='pi') # note 'name', not 'columns' (because Series is 1D)\n",
    "e=pd.Series([2,7,1,8,2,8,1,8],index=digits,name='e')\n",
    "phi=pd.DataFrame([1,6,1,8,0,3,3,9],index=digits,columns=['phi'])\n",
    "phi=pd.DataFrame([1,6,1,8,0,3,3,9],columns=['phi'],index=digits)\n",
    "\n",
    "constants=pd.concat([pi,e,phi],axis=1)\n",
    "constants"
   ]
  },
  {
   "cell_type": "code",
   "execution_count": 62,
   "metadata": {
    "scrolled": true
   },
   "outputs": [
    {
     "data": {
      "text/html": [
       "<div>\n",
       "<style scoped>\n",
       "    .dataframe tbody tr th:only-of-type {\n",
       "        vertical-align: middle;\n",
       "    }\n",
       "\n",
       "    .dataframe tbody tr th {\n",
       "        vertical-align: top;\n",
       "    }\n",
       "\n",
       "    .dataframe thead th {\n",
       "        text-align: right;\n",
       "    }\n",
       "</style>\n",
       "<table border=\"1\" class=\"dataframe\">\n",
       "  <thead>\n",
       "    <tr style=\"text-align: right;\">\n",
       "      <th></th>\n",
       "      <th>one</th>\n",
       "      <th>two</th>\n",
       "      <th>three</th>\n",
       "      <th>four</th>\n",
       "      <th>five</th>\n",
       "      <th>six</th>\n",
       "      <th>seven</th>\n",
       "      <th>eight</th>\n",
       "    </tr>\n",
       "  </thead>\n",
       "  <tbody>\n",
       "    <tr>\n",
       "      <th>pi</th>\n",
       "      <td>3</td>\n",
       "      <td>1</td>\n",
       "      <td>4</td>\n",
       "      <td>1</td>\n",
       "      <td>5</td>\n",
       "      <td>9</td>\n",
       "      <td>2</td>\n",
       "      <td>6</td>\n",
       "    </tr>\n",
       "    <tr>\n",
       "      <th>e</th>\n",
       "      <td>2</td>\n",
       "      <td>7</td>\n",
       "      <td>1</td>\n",
       "      <td>8</td>\n",
       "      <td>2</td>\n",
       "      <td>8</td>\n",
       "      <td>1</td>\n",
       "      <td>8</td>\n",
       "    </tr>\n",
       "    <tr>\n",
       "      <th>phi</th>\n",
       "      <td>1</td>\n",
       "      <td>6</td>\n",
       "      <td>1</td>\n",
       "      <td>8</td>\n",
       "      <td>0</td>\n",
       "      <td>3</td>\n",
       "      <td>3</td>\n",
       "      <td>9</td>\n",
       "    </tr>\n",
       "  </tbody>\n",
       "</table>\n",
       "</div>"
      ],
      "text/plain": [
       "     one  two  three  four  five  six  seven  eight\n",
       "pi     3    1      4     1     5    9      2      6\n",
       "e      2    7      1     8     2    8      1      8\n",
       "phi    1    6      1     8     0    3      3      9"
      ]
     },
     "execution_count": 62,
     "metadata": {},
     "output_type": "execute_result"
    }
   ],
   "source": [
    "# We can take a transpose:\n",
    "constants=constants.T\n",
    "constants"
   ]
  },
  {
   "cell_type": "code",
   "execution_count": 63,
   "metadata": {
    "scrolled": true
   },
   "outputs": [],
   "source": [
    "# And rename columns/index:\n",
    "constants=constants.rename(index={'pi':'pie'},columns={'one':'uno'}) # rename "
   ]
  },
  {
   "cell_type": "code",
   "execution_count": 64,
   "metadata": {},
   "outputs": [
    {
     "data": {
      "text/html": [
       "<div>\n",
       "<style scoped>\n",
       "    .dataframe tbody tr th:only-of-type {\n",
       "        vertical-align: middle;\n",
       "    }\n",
       "\n",
       "    .dataframe tbody tr th {\n",
       "        vertical-align: top;\n",
       "    }\n",
       "\n",
       "    .dataframe thead th {\n",
       "        text-align: right;\n",
       "    }\n",
       "</style>\n",
       "<table border=\"1\" class=\"dataframe\">\n",
       "  <thead>\n",
       "    <tr style=\"text-align: right;\">\n",
       "      <th></th>\n",
       "      <th>uno</th>\n",
       "      <th>two</th>\n",
       "      <th>three</th>\n",
       "      <th>four</th>\n",
       "      <th>five</th>\n",
       "      <th>six</th>\n",
       "      <th>seven</th>\n",
       "      <th>eight</th>\n",
       "    </tr>\n",
       "  </thead>\n",
       "  <tbody>\n",
       "    <tr>\n",
       "      <th>pie</th>\n",
       "      <td>3</td>\n",
       "      <td>1</td>\n",
       "      <td>4</td>\n",
       "      <td>1</td>\n",
       "      <td>5</td>\n",
       "      <td>9</td>\n",
       "      <td>2</td>\n",
       "      <td>6</td>\n",
       "    </tr>\n",
       "    <tr>\n",
       "      <th>e</th>\n",
       "      <td>2</td>\n",
       "      <td>7</td>\n",
       "      <td>1</td>\n",
       "      <td>8</td>\n",
       "      <td>2</td>\n",
       "      <td>8</td>\n",
       "      <td>1</td>\n",
       "      <td>8</td>\n",
       "    </tr>\n",
       "    <tr>\n",
       "      <th>phi</th>\n",
       "      <td>1</td>\n",
       "      <td>6</td>\n",
       "      <td>1</td>\n",
       "      <td>8</td>\n",
       "      <td>0</td>\n",
       "      <td>3</td>\n",
       "      <td>3</td>\n",
       "      <td>9</td>\n",
       "    </tr>\n",
       "    <tr>\n",
       "      <th>root2</th>\n",
       "      <td>1</td>\n",
       "      <td>4</td>\n",
       "      <td>1</td>\n",
       "      <td>4</td>\n",
       "      <td>2</td>\n",
       "      <td>1</td>\n",
       "      <td>3</td>\n",
       "      <td>5</td>\n",
       "    </tr>\n",
       "  </tbody>\n",
       "</table>\n",
       "</div>"
      ],
      "text/plain": [
       "       uno  two  three  four  five  six  seven  eight\n",
       "pie      3    1      4     1     5    9      2      6\n",
       "e        2    7      1     8     2    8      1      8\n",
       "phi      1    6      1     8     0    3      3      9\n",
       "root2    1    4      1     4     2    1      3      5"
      ]
     },
     "execution_count": 64,
     "metadata": {},
     "output_type": "execute_result"
    }
   ],
   "source": [
    "# Add another row:\n",
    "constants=constants.append(pd.DataFrame([[1,4,1,4,2,1,3,5]],columns=constants.columns,index=['root2']))\n",
    "constants"
   ]
  },
  {
   "cell_type": "code",
   "execution_count": 65,
   "metadata": {},
   "outputs": [],
   "source": [
    "# Add another column:\n",
    "constants['cool?']=['No','Yes','Yes','Yes']"
   ]
  },
  {
   "cell_type": "code",
   "execution_count": 66,
   "metadata": {},
   "outputs": [
    {
     "data": {
      "text/html": [
       "<div>\n",
       "<style scoped>\n",
       "    .dataframe tbody tr th:only-of-type {\n",
       "        vertical-align: middle;\n",
       "    }\n",
       "\n",
       "    .dataframe tbody tr th {\n",
       "        vertical-align: top;\n",
       "    }\n",
       "\n",
       "    .dataframe thead th {\n",
       "        text-align: right;\n",
       "    }\n",
       "</style>\n",
       "<table border=\"1\" class=\"dataframe\">\n",
       "  <thead>\n",
       "    <tr style=\"text-align: right;\">\n",
       "      <th></th>\n",
       "      <th>uno</th>\n",
       "      <th>two</th>\n",
       "      <th>three</th>\n",
       "      <th>four</th>\n",
       "      <th>five</th>\n",
       "      <th>six</th>\n",
       "      <th>seven</th>\n",
       "      <th>eight</th>\n",
       "      <th>cool?</th>\n",
       "    </tr>\n",
       "  </thead>\n",
       "  <tbody>\n",
       "    <tr>\n",
       "      <th>pie</th>\n",
       "      <td>3</td>\n",
       "      <td>1</td>\n",
       "      <td>4</td>\n",
       "      <td>1</td>\n",
       "      <td>5</td>\n",
       "      <td>9</td>\n",
       "      <td>2</td>\n",
       "      <td>6</td>\n",
       "      <td>No</td>\n",
       "    </tr>\n",
       "    <tr>\n",
       "      <th>e</th>\n",
       "      <td>2</td>\n",
       "      <td>7</td>\n",
       "      <td>1</td>\n",
       "      <td>8</td>\n",
       "      <td>2</td>\n",
       "      <td>8</td>\n",
       "      <td>1</td>\n",
       "      <td>8</td>\n",
       "      <td>Yes</td>\n",
       "    </tr>\n",
       "    <tr>\n",
       "      <th>phi</th>\n",
       "      <td>1</td>\n",
       "      <td>6</td>\n",
       "      <td>1</td>\n",
       "      <td>8</td>\n",
       "      <td>0</td>\n",
       "      <td>3</td>\n",
       "      <td>3</td>\n",
       "      <td>9</td>\n",
       "      <td>Yes</td>\n",
       "    </tr>\n",
       "    <tr>\n",
       "      <th>root2</th>\n",
       "      <td>1</td>\n",
       "      <td>4</td>\n",
       "      <td>1</td>\n",
       "      <td>4</td>\n",
       "      <td>2</td>\n",
       "      <td>1</td>\n",
       "      <td>3</td>\n",
       "      <td>5</td>\n",
       "      <td>Yes</td>\n",
       "    </tr>\n",
       "  </tbody>\n",
       "</table>\n",
       "</div>"
      ],
      "text/plain": [
       "       uno  two  three  four  five  six  seven  eight cool?\n",
       "pie      3    1      4     1     5    9      2      6    No\n",
       "e        2    7      1     8     2    8      1      8   Yes\n",
       "phi      1    6      1     8     0    3      3      9   Yes\n",
       "root2    1    4      1     4     2    1      3      5   Yes"
      ]
     },
     "execution_count": 66,
     "metadata": {},
     "output_type": "execute_result"
    }
   ],
   "source": [
    "constants"
   ]
  },
  {
   "cell_type": "code",
   "execution_count": 67,
   "metadata": {
    "scrolled": true
   },
   "outputs": [
    {
     "name": "stdout",
     "output_type": "stream",
     "text": [
      "<class 'pandas.core.frame.DataFrame'>\n",
      "Index: 4 entries, pie to root2\n",
      "Data columns (total 9 columns):\n",
      " #   Column  Non-Null Count  Dtype \n",
      "---  ------  --------------  ----- \n",
      " 0   uno     4 non-null      int64 \n",
      " 1   two     4 non-null      int64 \n",
      " 2   three   4 non-null      int64 \n",
      " 3   four    4 non-null      int64 \n",
      " 4   five    4 non-null      int64 \n",
      " 5   six     4 non-null      int64 \n",
      " 6   seven   4 non-null      int64 \n",
      " 7   eight   4 non-null      int64 \n",
      " 8   cool?   4 non-null      object\n",
      "dtypes: int64(8), object(1)\n",
      "memory usage: 320.0+ bytes\n"
     ]
    }
   ],
   "source": [
    "# Visualization:\n",
    "constants.head(5) # top 5 rows\n",
    "constants.tail(5) # bottom 5 rows\n",
    "constants.info() # summary of the DataFrame; useful for large real-life data (potential nulls, nans, etc.)"
   ]
  },
  {
   "cell_type": "code",
   "execution_count": 68,
   "metadata": {
    "scrolled": true
   },
   "outputs": [
    {
     "data": {
      "text/html": [
       "<div>\n",
       "<style scoped>\n",
       "    .dataframe tbody tr th:only-of-type {\n",
       "        vertical-align: middle;\n",
       "    }\n",
       "\n",
       "    .dataframe tbody tr th {\n",
       "        vertical-align: top;\n",
       "    }\n",
       "\n",
       "    .dataframe thead th {\n",
       "        text-align: right;\n",
       "    }\n",
       "</style>\n",
       "<table border=\"1\" class=\"dataframe\">\n",
       "  <thead>\n",
       "    <tr style=\"text-align: right;\">\n",
       "      <th></th>\n",
       "      <th>uno</th>\n",
       "      <th>two</th>\n",
       "      <th>three</th>\n",
       "      <th>four</th>\n",
       "      <th>five</th>\n",
       "      <th>six</th>\n",
       "      <th>seven</th>\n",
       "      <th>eight</th>\n",
       "      <th>cool?</th>\n",
       "    </tr>\n",
       "  </thead>\n",
       "  <tbody>\n",
       "    <tr>\n",
       "      <th>pie</th>\n",
       "      <td>3</td>\n",
       "      <td>1</td>\n",
       "      <td>4</td>\n",
       "      <td>1</td>\n",
       "      <td>5</td>\n",
       "      <td>9</td>\n",
       "      <td>2</td>\n",
       "      <td>6</td>\n",
       "      <td>No</td>\n",
       "    </tr>\n",
       "    <tr>\n",
       "      <th>e</th>\n",
       "      <td>2</td>\n",
       "      <td>7</td>\n",
       "      <td>1</td>\n",
       "      <td>8</td>\n",
       "      <td>2</td>\n",
       "      <td>8</td>\n",
       "      <td>1</td>\n",
       "      <td>8</td>\n",
       "      <td>Yes</td>\n",
       "    </tr>\n",
       "    <tr>\n",
       "      <th>phi</th>\n",
       "      <td>1</td>\n",
       "      <td>6</td>\n",
       "      <td>1</td>\n",
       "      <td>8</td>\n",
       "      <td>0</td>\n",
       "      <td>3</td>\n",
       "      <td>3</td>\n",
       "      <td>9</td>\n",
       "      <td>Yes</td>\n",
       "    </tr>\n",
       "    <tr>\n",
       "      <th>root2</th>\n",
       "      <td>1</td>\n",
       "      <td>4</td>\n",
       "      <td>1</td>\n",
       "      <td>4</td>\n",
       "      <td>2</td>\n",
       "      <td>1</td>\n",
       "      <td>3</td>\n",
       "      <td>5</td>\n",
       "      <td>Yes</td>\n",
       "    </tr>\n",
       "  </tbody>\n",
       "</table>\n",
       "</div>"
      ],
      "text/plain": [
       "       uno  two  three  four  five  six  seven  eight cool?\n",
       "pie      3    1      4     1     5    9      2      6    No\n",
       "e        2    7      1     8     2    8      1      8   Yes\n",
       "phi      1    6      1     8     0    3      3      9   Yes\n",
       "root2    1    4      1     4     2    1      3      5   Yes"
      ]
     },
     "execution_count": 68,
     "metadata": {},
     "output_type": "execute_result"
    }
   ],
   "source": [
    "# Saving with Pandas:\n",
    "constants.to_csv('best_table_ever.csv',sep='#') # note the delimiter\n",
    "\n",
    "# Loading with Pandas:\n",
    "new_table=pd.read_csv('best_table_ever.csv',header=0,index_col=0,sep='#') # note the delimiter\n",
    "# specify indices of columns and row to use as names (here, 0 and 0)\n",
    "\n",
    "new_table"
   ]
  },
  {
   "cell_type": "code",
   "execution_count": 69,
   "metadata": {
    "scrolled": true
   },
   "outputs": [
    {
     "name": "stdout",
     "output_type": "stream",
     "text": [
      "pie    3\n",
      "e      2\n",
      "Name: uno, dtype: int64\n",
      "\n",
      "\n",
      "uno      3\n",
      "two      1\n",
      "three    4\n",
      "Name: pie, dtype: object\n"
     ]
    }
   ],
   "source": [
    "# Accessing elements in a DataFrame by names (use .loc[]):\n",
    "print(new_table.loc['pie':'e']['uno']) # note: the last index is included!\n",
    "print('\\n')\n",
    "print(new_table.loc['pie','uno':'three'])"
   ]
  },
  {
   "cell_type": "code",
   "execution_count": 70,
   "metadata": {
    "scrolled": true
   },
   "outputs": [
    {
     "name": "stdout",
     "output_type": "stream",
     "text": [
      "uno       3\n",
      "two       1\n",
      "three     4\n",
      "four      1\n",
      "five      5\n",
      "six       9\n",
      "seven     2\n",
      "eight     6\n",
      "cool?    No\n",
      "Name: pie, dtype: object\n",
      "\n",
      "\n",
      "3\n"
     ]
    }
   ],
   "source": [
    "# Accessing elements in a DataFrame by indices (use .iloc[]):\n",
    "print(new_table.iloc[0:2].iloc[0]) # here we first select DataFrame('pie' and 'e'), then DataFrame('pie')\n",
    "print('\\n')\n",
    "print(new_table.iloc[0,0])"
   ]
  },
  {
   "cell_type": "code",
   "execution_count": 71,
   "metadata": {
    "scrolled": true
   },
   "outputs": [
    {
     "name": "stdout",
     "output_type": "stream",
     "text": [
      "3\n",
      "3\n"
     ]
    }
   ],
   "source": [
    "# What if we have name for one dimension, but index for the other?\n",
    "print(new_table.loc['pie'][0])\n",
    "print(new_table.iloc[0]['uno'])"
   ]
  },
  {
   "cell_type": "code",
   "execution_count": 72,
   "metadata": {
    "scrolled": true
   },
   "outputs": [
    {
     "data": {
      "text/html": [
       "<div>\n",
       "<style scoped>\n",
       "    .dataframe tbody tr th:only-of-type {\n",
       "        vertical-align: middle;\n",
       "    }\n",
       "\n",
       "    .dataframe tbody tr th {\n",
       "        vertical-align: top;\n",
       "    }\n",
       "\n",
       "    .dataframe thead th {\n",
       "        text-align: right;\n",
       "    }\n",
       "</style>\n",
       "<table border=\"1\" class=\"dataframe\">\n",
       "  <thead>\n",
       "    <tr style=\"text-align: right;\">\n",
       "      <th></th>\n",
       "      <th>uno</th>\n",
       "      <th>two</th>\n",
       "      <th>three</th>\n",
       "      <th>four</th>\n",
       "      <th>five</th>\n",
       "      <th>six</th>\n",
       "      <th>seven</th>\n",
       "      <th>eight</th>\n",
       "      <th>cool?</th>\n",
       "    </tr>\n",
       "  </thead>\n",
       "  <tbody>\n",
       "    <tr>\n",
       "      <th>pie</th>\n",
       "      <td>3</td>\n",
       "      <td>1</td>\n",
       "      <td>4</td>\n",
       "      <td>1</td>\n",
       "      <td>5</td>\n",
       "      <td>9</td>\n",
       "      <td>2</td>\n",
       "      <td>6</td>\n",
       "      <td>No</td>\n",
       "    </tr>\n",
       "    <tr>\n",
       "      <th>e</th>\n",
       "      <td>2</td>\n",
       "      <td>7</td>\n",
       "      <td>1</td>\n",
       "      <td>8</td>\n",
       "      <td>2</td>\n",
       "      <td>8</td>\n",
       "      <td>1</td>\n",
       "      <td>8</td>\n",
       "      <td>Yes</td>\n",
       "    </tr>\n",
       "    <tr>\n",
       "      <th>root2</th>\n",
       "      <td>1</td>\n",
       "      <td>4</td>\n",
       "      <td>1</td>\n",
       "      <td>4</td>\n",
       "      <td>2</td>\n",
       "      <td>1</td>\n",
       "      <td>3</td>\n",
       "      <td>5</td>\n",
       "      <td>Yes</td>\n",
       "    </tr>\n",
       "  </tbody>\n",
       "</table>\n",
       "</div>"
      ],
      "text/plain": [
       "       uno  two  three  four  five  six  seven  eight cool?\n",
       "pie      3    1      4     1     5    9      2      6    No\n",
       "e        2    7      1     8     2    8      1      8   Yes\n",
       "root2    1    4      1     4     2    1      3      5   Yes"
      ]
     },
     "metadata": {},
     "output_type": "display_data"
    },
    {
     "data": {
      "text/html": [
       "<div>\n",
       "<style scoped>\n",
       "    .dataframe tbody tr th:only-of-type {\n",
       "        vertical-align: middle;\n",
       "    }\n",
       "\n",
       "    .dataframe tbody tr th {\n",
       "        vertical-align: top;\n",
       "    }\n",
       "\n",
       "    .dataframe thead th {\n",
       "        text-align: right;\n",
       "    }\n",
       "</style>\n",
       "<table border=\"1\" class=\"dataframe\">\n",
       "  <thead>\n",
       "    <tr style=\"text-align: right;\">\n",
       "      <th></th>\n",
       "      <th>uno</th>\n",
       "      <th>two</th>\n",
       "      <th>three</th>\n",
       "      <th>four</th>\n",
       "      <th>five</th>\n",
       "      <th>six</th>\n",
       "      <th>seven</th>\n",
       "      <th>eight</th>\n",
       "      <th>cool?</th>\n",
       "    </tr>\n",
       "  </thead>\n",
       "  <tbody>\n",
       "    <tr>\n",
       "      <th>pie</th>\n",
       "      <td>3</td>\n",
       "      <td>1</td>\n",
       "      <td>4</td>\n",
       "      <td>1</td>\n",
       "      <td>5</td>\n",
       "      <td>9</td>\n",
       "      <td>2</td>\n",
       "      <td>6</td>\n",
       "      <td>No</td>\n",
       "    </tr>\n",
       "    <tr>\n",
       "      <th>e</th>\n",
       "      <td>2</td>\n",
       "      <td>7</td>\n",
       "      <td>1</td>\n",
       "      <td>8</td>\n",
       "      <td>2</td>\n",
       "      <td>8</td>\n",
       "      <td>1</td>\n",
       "      <td>8</td>\n",
       "      <td>Yes</td>\n",
       "    </tr>\n",
       "    <tr>\n",
       "      <th>root2</th>\n",
       "      <td>1</td>\n",
       "      <td>4</td>\n",
       "      <td>1</td>\n",
       "      <td>4</td>\n",
       "      <td>2</td>\n",
       "      <td>1</td>\n",
       "      <td>3</td>\n",
       "      <td>5</td>\n",
       "      <td>Yes</td>\n",
       "    </tr>\n",
       "  </tbody>\n",
       "</table>\n",
       "</div>"
      ],
      "text/plain": [
       "       uno  two  three  four  five  six  seven  eight cool?\n",
       "pie      3    1      4     1     5    9      2      6    No\n",
       "e        2    7      1     8     2    8      1      8   Yes\n",
       "root2    1    4      1     4     2    1      3      5   Yes"
      ]
     },
     "metadata": {},
     "output_type": "display_data"
    }
   ],
   "source": [
    "# Deleting rows:\n",
    "display(new_table.drop('phi')) # pandas.drop only accepts names.\n",
    "display(new_table.drop(new_table.index[2]))"
   ]
  },
  {
   "cell_type": "code",
   "execution_count": 73,
   "metadata": {
    "scrolled": true
   },
   "outputs": [
    {
     "data": {
      "text/html": [
       "<div>\n",
       "<style scoped>\n",
       "    .dataframe tbody tr th:only-of-type {\n",
       "        vertical-align: middle;\n",
       "    }\n",
       "\n",
       "    .dataframe tbody tr th {\n",
       "        vertical-align: top;\n",
       "    }\n",
       "\n",
       "    .dataframe thead th {\n",
       "        text-align: right;\n",
       "    }\n",
       "</style>\n",
       "<table border=\"1\" class=\"dataframe\">\n",
       "  <thead>\n",
       "    <tr style=\"text-align: right;\">\n",
       "      <th></th>\n",
       "      <th>uno</th>\n",
       "      <th>two</th>\n",
       "      <th>three</th>\n",
       "      <th>four</th>\n",
       "      <th>six</th>\n",
       "      <th>seven</th>\n",
       "      <th>eight</th>\n",
       "      <th>cool?</th>\n",
       "    </tr>\n",
       "  </thead>\n",
       "  <tbody>\n",
       "    <tr>\n",
       "      <th>pie</th>\n",
       "      <td>3</td>\n",
       "      <td>1</td>\n",
       "      <td>4</td>\n",
       "      <td>1</td>\n",
       "      <td>9</td>\n",
       "      <td>2</td>\n",
       "      <td>6</td>\n",
       "      <td>No</td>\n",
       "    </tr>\n",
       "    <tr>\n",
       "      <th>e</th>\n",
       "      <td>2</td>\n",
       "      <td>7</td>\n",
       "      <td>1</td>\n",
       "      <td>8</td>\n",
       "      <td>8</td>\n",
       "      <td>1</td>\n",
       "      <td>8</td>\n",
       "      <td>Yes</td>\n",
       "    </tr>\n",
       "    <tr>\n",
       "      <th>phi</th>\n",
       "      <td>1</td>\n",
       "      <td>6</td>\n",
       "      <td>1</td>\n",
       "      <td>8</td>\n",
       "      <td>3</td>\n",
       "      <td>3</td>\n",
       "      <td>9</td>\n",
       "      <td>Yes</td>\n",
       "    </tr>\n",
       "    <tr>\n",
       "      <th>root2</th>\n",
       "      <td>1</td>\n",
       "      <td>4</td>\n",
       "      <td>1</td>\n",
       "      <td>4</td>\n",
       "      <td>1</td>\n",
       "      <td>3</td>\n",
       "      <td>5</td>\n",
       "      <td>Yes</td>\n",
       "    </tr>\n",
       "  </tbody>\n",
       "</table>\n",
       "</div>"
      ],
      "text/plain": [
       "       uno  two  three  four  six  seven  eight cool?\n",
       "pie      3    1      4     1    9      2      6    No\n",
       "e        2    7      1     8    8      1      8   Yes\n",
       "phi      1    6      1     8    3      3      9   Yes\n",
       "root2    1    4      1     4    1      3      5   Yes"
      ]
     },
     "metadata": {},
     "output_type": "display_data"
    },
    {
     "data": {
      "text/html": [
       "<div>\n",
       "<style scoped>\n",
       "    .dataframe tbody tr th:only-of-type {\n",
       "        vertical-align: middle;\n",
       "    }\n",
       "\n",
       "    .dataframe tbody tr th {\n",
       "        vertical-align: top;\n",
       "    }\n",
       "\n",
       "    .dataframe thead th {\n",
       "        text-align: right;\n",
       "    }\n",
       "</style>\n",
       "<table border=\"1\" class=\"dataframe\">\n",
       "  <thead>\n",
       "    <tr style=\"text-align: right;\">\n",
       "      <th></th>\n",
       "      <th>uno</th>\n",
       "      <th>two</th>\n",
       "      <th>four</th>\n",
       "      <th>five</th>\n",
       "      <th>six</th>\n",
       "      <th>seven</th>\n",
       "      <th>eight</th>\n",
       "      <th>cool?</th>\n",
       "    </tr>\n",
       "  </thead>\n",
       "  <tbody>\n",
       "    <tr>\n",
       "      <th>pie</th>\n",
       "      <td>3</td>\n",
       "      <td>1</td>\n",
       "      <td>1</td>\n",
       "      <td>5</td>\n",
       "      <td>9</td>\n",
       "      <td>2</td>\n",
       "      <td>6</td>\n",
       "      <td>No</td>\n",
       "    </tr>\n",
       "    <tr>\n",
       "      <th>e</th>\n",
       "      <td>2</td>\n",
       "      <td>7</td>\n",
       "      <td>8</td>\n",
       "      <td>2</td>\n",
       "      <td>8</td>\n",
       "      <td>1</td>\n",
       "      <td>8</td>\n",
       "      <td>Yes</td>\n",
       "    </tr>\n",
       "    <tr>\n",
       "      <th>phi</th>\n",
       "      <td>1</td>\n",
       "      <td>6</td>\n",
       "      <td>8</td>\n",
       "      <td>0</td>\n",
       "      <td>3</td>\n",
       "      <td>3</td>\n",
       "      <td>9</td>\n",
       "      <td>Yes</td>\n",
       "    </tr>\n",
       "    <tr>\n",
       "      <th>root2</th>\n",
       "      <td>1</td>\n",
       "      <td>4</td>\n",
       "      <td>4</td>\n",
       "      <td>2</td>\n",
       "      <td>1</td>\n",
       "      <td>3</td>\n",
       "      <td>5</td>\n",
       "      <td>Yes</td>\n",
       "    </tr>\n",
       "  </tbody>\n",
       "</table>\n",
       "</div>"
      ],
      "text/plain": [
       "       uno  two  four  five  six  seven  eight cool?\n",
       "pie      3    1     1     5    9      2      6    No\n",
       "e        2    7     8     2    8      1      8   Yes\n",
       "phi      1    6     8     0    3      3      9   Yes\n",
       "root2    1    4     4     2    1      3      5   Yes"
      ]
     },
     "metadata": {},
     "output_type": "display_data"
    }
   ],
   "source": [
    "# Deleting columns:\n",
    "display(new_table.drop('five',axis=1)) # by default, axis=0\n",
    "display(new_table.drop(new_table.columns[2],axis=1))"
   ]
  },
  {
   "cell_type": "markdown",
   "metadata": {},
   "source": [
    "#### PyTrends\n",
    "A python tool to extract Google Trends data as Pandas dataframes."
   ]
  },
  {
   "cell_type": "code",
   "execution_count": 74,
   "metadata": {
    "scrolled": true
   },
   "outputs": [
    {
     "data": {
      "text/html": [
       "<div>\n",
       "<style scoped>\n",
       "    .dataframe tbody tr th:only-of-type {\n",
       "        vertical-align: middle;\n",
       "    }\n",
       "\n",
       "    .dataframe tbody tr th {\n",
       "        vertical-align: top;\n",
       "    }\n",
       "\n",
       "    .dataframe thead th {\n",
       "        text-align: right;\n",
       "    }\n",
       "</style>\n",
       "<table border=\"1\" class=\"dataframe\">\n",
       "  <thead>\n",
       "    <tr style=\"text-align: right;\">\n",
       "      <th></th>\n",
       "      <th>clinton</th>\n",
       "      <th>trump</th>\n",
       "      <th>pandemic</th>\n",
       "    </tr>\n",
       "    <tr>\n",
       "      <th>geoName</th>\n",
       "      <th></th>\n",
       "      <th></th>\n",
       "      <th></th>\n",
       "    </tr>\n",
       "  </thead>\n",
       "  <tbody>\n",
       "    <tr>\n",
       "      <th>Alabama</th>\n",
       "      <td>42</td>\n",
       "      <td>58</td>\n",
       "      <td>0</td>\n",
       "    </tr>\n",
       "    <tr>\n",
       "      <th>Alaska</th>\n",
       "      <td>38</td>\n",
       "      <td>62</td>\n",
       "      <td>0</td>\n",
       "    </tr>\n",
       "    <tr>\n",
       "      <th>Arizona</th>\n",
       "      <td>39</td>\n",
       "      <td>61</td>\n",
       "      <td>0</td>\n",
       "    </tr>\n",
       "    <tr>\n",
       "      <th>Arkansas</th>\n",
       "      <td>44</td>\n",
       "      <td>56</td>\n",
       "      <td>0</td>\n",
       "    </tr>\n",
       "    <tr>\n",
       "      <th>California</th>\n",
       "      <td>37</td>\n",
       "      <td>63</td>\n",
       "      <td>0</td>\n",
       "    </tr>\n",
       "  </tbody>\n",
       "</table>\n",
       "</div>"
      ],
      "text/plain": [
       "            clinton  trump  pandemic\n",
       "geoName                             \n",
       "Alabama          42     58         0\n",
       "Alaska           38     62         0\n",
       "Arizona          39     61         0\n",
       "Arkansas         44     56         0\n",
       "California       37     63         0"
      ]
     },
     "execution_count": 74,
     "metadata": {},
     "output_type": "execute_result"
    }
   ],
   "source": [
    "import pandas as pd\n",
    "from pytrends.request import TrendReq\n",
    "\n",
    "pt=TrendReq(hl='en-US',retries=10) # host language, retries.\n",
    "\n",
    "# Google trends normalizes all trends data between 0 and 100 and accounts for\n",
    "# the number of total searches at a given time and location. Google trends releases\n",
    "# only relative interest magnitudes.\n",
    "\n",
    "# Example:\n",
    "search_words=[\"clinton\",\"trump\",\"pandemic\"] # terms of interest\n",
    "pt.build_payload(search_words,timeframe='2016-10-31 2016-11-07',geo='US') # temporal and spatial scope\n",
    "data=pt.interest_by_region(resolution='REGION')\n",
    "data.head(5) # for each region, the sum is 100, distributed among search expressions."
   ]
  },
  {
   "cell_type": "markdown",
   "metadata": {},
   "source": [
    "#### Mini-project:\n",
    "*Use PyTrends to model proportion of votes cast for Trump in each state.*\n",
    "- What search expressions should we fetch as predictors?\n",
    "- Temporal scope?\n",
    "- Possible bias?"
   ]
  },
  {
   "cell_type": "code",
   "execution_count": 75,
   "metadata": {},
   "outputs": [],
   "source": [
    "search_words=[[\"Trump\"],[\"Clinton\"]]\n",
    "scope='2016-10-31 2016-11-07'"
   ]
  },
  {
   "cell_type": "code",
   "execution_count": 76,
   "metadata": {
    "scrolled": true
   },
   "outputs": [
    {
     "data": {
      "text/html": [
       "<div>\n",
       "<style scoped>\n",
       "    .dataframe tbody tr th:only-of-type {\n",
       "        vertical-align: middle;\n",
       "    }\n",
       "\n",
       "    .dataframe tbody tr th {\n",
       "        vertical-align: top;\n",
       "    }\n",
       "\n",
       "    .dataframe thead th {\n",
       "        text-align: right;\n",
       "    }\n",
       "</style>\n",
       "<table border=\"1\" class=\"dataframe\">\n",
       "  <thead>\n",
       "    <tr style=\"text-align: right;\">\n",
       "      <th></th>\n",
       "      <th>Unnamed: 0</th>\n",
       "      <th>Trump (R)</th>\n",
       "      <th>Clinton (D)</th>\n",
       "      <th>Trump (R).1</th>\n",
       "      <th>Clinton (D).1</th>\n",
       "      <th>All Others</th>\n",
       "      <th>Total Vote</th>\n",
       "      <th>Unnamed: 7</th>\n",
       "    </tr>\n",
       "  </thead>\n",
       "  <tbody>\n",
       "    <tr>\n",
       "      <th>0</th>\n",
       "      <td>AL</td>\n",
       "      <td>9</td>\n",
       "      <td>NaN</td>\n",
       "      <td>1 318 255</td>\n",
       "      <td>729 547</td>\n",
       "      <td>75 570</td>\n",
       "      <td>2 123 372</td>\n",
       "      <td>AL</td>\n",
       "    </tr>\n",
       "    <tr>\n",
       "      <th>1</th>\n",
       "      <td>AK</td>\n",
       "      <td>3</td>\n",
       "      <td>NaN</td>\n",
       "      <td>163 387</td>\n",
       "      <td>116 454</td>\n",
       "      <td>38 767</td>\n",
       "      <td>318 608</td>\n",
       "      <td>AK</td>\n",
       "    </tr>\n",
       "    <tr>\n",
       "      <th>2</th>\n",
       "      <td>AZ</td>\n",
       "      <td>11</td>\n",
       "      <td>NaN</td>\n",
       "      <td>1 252 401</td>\n",
       "      <td>1 161 167</td>\n",
       "      <td>159 597</td>\n",
       "      <td>2 573 165</td>\n",
       "      <td>AZ</td>\n",
       "    </tr>\n",
       "    <tr>\n",
       "      <th>3</th>\n",
       "      <td>AR</td>\n",
       "      <td>6</td>\n",
       "      <td>NaN</td>\n",
       "      <td>684 872</td>\n",
       "      <td>380 494</td>\n",
       "      <td>65 310</td>\n",
       "      <td>1 130 676</td>\n",
       "      <td>AR</td>\n",
       "    </tr>\n",
       "    <tr>\n",
       "      <th>4</th>\n",
       "      <td>CA</td>\n",
       "      <td>NaN</td>\n",
       "      <td>55</td>\n",
       "      <td>4 483 814</td>\n",
       "      <td>8 753 792</td>\n",
       "      <td>943 998</td>\n",
       "      <td>14 181 604</td>\n",
       "      <td>CA</td>\n",
       "    </tr>\n",
       "    <tr>\n",
       "      <th>5</th>\n",
       "      <td>CO</td>\n",
       "      <td>NaN</td>\n",
       "      <td>9</td>\n",
       "      <td>1 202 484</td>\n",
       "      <td>1 338 870</td>\n",
       "      <td>238 893</td>\n",
       "      <td>2 780 247</td>\n",
       "      <td>CO</td>\n",
       "    </tr>\n",
       "    <tr>\n",
       "      <th>6</th>\n",
       "      <td>CT</td>\n",
       "      <td>NaN</td>\n",
       "      <td>7</td>\n",
       "      <td>673 215</td>\n",
       "      <td>897 572</td>\n",
       "      <td>74 133</td>\n",
       "      <td>1 644 920</td>\n",
       "      <td>CT</td>\n",
       "    </tr>\n",
       "    <tr>\n",
       "      <th>7</th>\n",
       "      <td>DE</td>\n",
       "      <td>NaN</td>\n",
       "      <td>3</td>\n",
       "      <td>185 127</td>\n",
       "      <td>235 603</td>\n",
       "      <td>23 084</td>\n",
       "      <td>443 814</td>\n",
       "      <td>DE</td>\n",
       "    </tr>\n",
       "    <tr>\n",
       "      <th>8</th>\n",
       "      <td>DC</td>\n",
       "      <td>NaN</td>\n",
       "      <td>3</td>\n",
       "      <td>12 723</td>\n",
       "      <td>282 830</td>\n",
       "      <td>15 715</td>\n",
       "      <td>311 268</td>\n",
       "      <td>DC</td>\n",
       "    </tr>\n",
       "    <tr>\n",
       "      <th>9</th>\n",
       "      <td>FL</td>\n",
       "      <td>29</td>\n",
       "      <td>NaN</td>\n",
       "      <td>4 617 886</td>\n",
       "      <td>4 504 975</td>\n",
       "      <td>297 178</td>\n",
       "      <td>9 420 039</td>\n",
       "      <td>FL</td>\n",
       "    </tr>\n",
       "    <tr>\n",
       "      <th>10</th>\n",
       "      <td>GA</td>\n",
       "      <td>16</td>\n",
       "      <td>NaN</td>\n",
       "      <td>2 089 104</td>\n",
       "      <td>1 877 963</td>\n",
       "      <td>147 665</td>\n",
       "      <td>4 114 732</td>\n",
       "      <td>GA</td>\n",
       "    </tr>\n",
       "    <tr>\n",
       "      <th>11</th>\n",
       "      <td>HI</td>\n",
       "      <td>NaN</td>\n",
       "      <td>3**</td>\n",
       "      <td>128 847</td>\n",
       "      <td>266 891</td>\n",
       "      <td>33 199</td>\n",
       "      <td>428 937</td>\n",
       "      <td>HI</td>\n",
       "    </tr>\n",
       "    <tr>\n",
       "      <th>12</th>\n",
       "      <td>ID</td>\n",
       "      <td>4</td>\n",
       "      <td>NaN</td>\n",
       "      <td>409 055</td>\n",
       "      <td>189 765</td>\n",
       "      <td>91 435</td>\n",
       "      <td>690 255</td>\n",
       "      <td>ID</td>\n",
       "    </tr>\n",
       "    <tr>\n",
       "      <th>13</th>\n",
       "      <td>IL</td>\n",
       "      <td>NaN</td>\n",
       "      <td>20</td>\n",
       "      <td>2 146 015</td>\n",
       "      <td>3 090 729</td>\n",
       "      <td>299 680</td>\n",
       "      <td>5 536 424</td>\n",
       "      <td>IL</td>\n",
       "    </tr>\n",
       "    <tr>\n",
       "      <th>14</th>\n",
       "      <td>IN</td>\n",
       "      <td>11</td>\n",
       "      <td>NaN</td>\n",
       "      <td>1 557 286</td>\n",
       "      <td>1 033 126</td>\n",
       "      <td>144 546</td>\n",
       "      <td>2 734 958</td>\n",
       "      <td>IN</td>\n",
       "    </tr>\n",
       "    <tr>\n",
       "      <th>15</th>\n",
       "      <td>IA</td>\n",
       "      <td>6</td>\n",
       "      <td>NaN</td>\n",
       "      <td>800 983</td>\n",
       "      <td>653 669</td>\n",
       "      <td>111 379</td>\n",
       "      <td>1 566 031</td>\n",
       "      <td>IA</td>\n",
       "    </tr>\n",
       "    <tr>\n",
       "      <th>16</th>\n",
       "      <td>KS</td>\n",
       "      <td>6</td>\n",
       "      <td>NaN</td>\n",
       "      <td>671 018</td>\n",
       "      <td>427 005</td>\n",
       "      <td>86 379</td>\n",
       "      <td>1 184 402</td>\n",
       "      <td>KS</td>\n",
       "    </tr>\n",
       "    <tr>\n",
       "      <th>17</th>\n",
       "      <td>KY</td>\n",
       "      <td>8</td>\n",
       "      <td>NaN</td>\n",
       "      <td>1 202 971</td>\n",
       "      <td>628 854</td>\n",
       "      <td>92 324</td>\n",
       "      <td>1 924 149</td>\n",
       "      <td>KY</td>\n",
       "    </tr>\n",
       "    <tr>\n",
       "      <th>18</th>\n",
       "      <td>LA</td>\n",
       "      <td>8</td>\n",
       "      <td>NaN</td>\n",
       "      <td>1 178 638</td>\n",
       "      <td>780 154</td>\n",
       "      <td>70 240</td>\n",
       "      <td>2 029 032</td>\n",
       "      <td>LA</td>\n",
       "    </tr>\n",
       "    <tr>\n",
       "      <th>19</th>\n",
       "      <td>ME</td>\n",
       "      <td>1</td>\n",
       "      <td>3</td>\n",
       "      <td>335 593</td>\n",
       "      <td>357 735</td>\n",
       "      <td>54 599</td>\n",
       "      <td>747 927</td>\n",
       "      <td>ME</td>\n",
       "    </tr>\n",
       "    <tr>\n",
       "      <th>20</th>\n",
       "      <td>MD</td>\n",
       "      <td>NaN</td>\n",
       "      <td>10</td>\n",
       "      <td>943 169</td>\n",
       "      <td>1 677 928</td>\n",
       "      <td>160 349</td>\n",
       "      <td>2 781 446</td>\n",
       "      <td>MD</td>\n",
       "    </tr>\n",
       "    <tr>\n",
       "      <th>21</th>\n",
       "      <td>MA</td>\n",
       "      <td>NaN</td>\n",
       "      <td>11</td>\n",
       "      <td>1 090 893</td>\n",
       "      <td>1 995 196</td>\n",
       "      <td>238 957</td>\n",
       "      <td>3 325 046</td>\n",
       "      <td>MA</td>\n",
       "    </tr>\n",
       "    <tr>\n",
       "      <th>22</th>\n",
       "      <td>MI</td>\n",
       "      <td>16</td>\n",
       "      <td>NaN</td>\n",
       "      <td>2 279 543</td>\n",
       "      <td>2 268 839</td>\n",
       "      <td>250 902</td>\n",
       "      <td>4 799 284</td>\n",
       "      <td>MI</td>\n",
       "    </tr>\n",
       "    <tr>\n",
       "      <th>23</th>\n",
       "      <td>MN</td>\n",
       "      <td>NaN</td>\n",
       "      <td>10</td>\n",
       "      <td>1 322 951</td>\n",
       "      <td>1 367 716</td>\n",
       "      <td>254 146</td>\n",
       "      <td>2 944 813</td>\n",
       "      <td>MN</td>\n",
       "    </tr>\n",
       "    <tr>\n",
       "      <th>24</th>\n",
       "      <td>MS</td>\n",
       "      <td>6</td>\n",
       "      <td>NaN</td>\n",
       "      <td>700 714</td>\n",
       "      <td>485 131</td>\n",
       "      <td>23 512</td>\n",
       "      <td>1 209 357</td>\n",
       "      <td>MS</td>\n",
       "    </tr>\n",
       "    <tr>\n",
       "      <th>25</th>\n",
       "      <td>MO</td>\n",
       "      <td>10</td>\n",
       "      <td>NaN</td>\n",
       "      <td>1 594 511</td>\n",
       "      <td>1 071 068</td>\n",
       "      <td>143 026</td>\n",
       "      <td>2 808 605</td>\n",
       "      <td>MO</td>\n",
       "    </tr>\n",
       "    <tr>\n",
       "      <th>26</th>\n",
       "      <td>MT</td>\n",
       "      <td>3</td>\n",
       "      <td>NaN</td>\n",
       "      <td>279 240</td>\n",
       "      <td>177 709</td>\n",
       "      <td>40 198</td>\n",
       "      <td>497 147</td>\n",
       "      <td>MT</td>\n",
       "    </tr>\n",
       "    <tr>\n",
       "      <th>27</th>\n",
       "      <td>NE</td>\n",
       "      <td>5</td>\n",
       "      <td>NaN</td>\n",
       "      <td>495 961</td>\n",
       "      <td>284 494</td>\n",
       "      <td>63 772</td>\n",
       "      <td>844 227</td>\n",
       "      <td>NE</td>\n",
       "    </tr>\n",
       "    <tr>\n",
       "      <th>28</th>\n",
       "      <td>NV</td>\n",
       "      <td>NaN</td>\n",
       "      <td>6</td>\n",
       "      <td>512 058</td>\n",
       "      <td>539 260</td>\n",
       "      <td>74 067</td>\n",
       "      <td>1 125 385</td>\n",
       "      <td>NV</td>\n",
       "    </tr>\n",
       "    <tr>\n",
       "      <th>29</th>\n",
       "      <td>NH</td>\n",
       "      <td>NaN</td>\n",
       "      <td>4</td>\n",
       "      <td>345 790</td>\n",
       "      <td>348 526</td>\n",
       "      <td>49 980</td>\n",
       "      <td>744 296</td>\n",
       "      <td>NH</td>\n",
       "    </tr>\n",
       "    <tr>\n",
       "      <th>30</th>\n",
       "      <td>NJ</td>\n",
       "      <td>NaN</td>\n",
       "      <td>14</td>\n",
       "      <td>1 601 933</td>\n",
       "      <td>2 148 278</td>\n",
       "      <td>123 835</td>\n",
       "      <td>3 874 046</td>\n",
       "      <td>NJ</td>\n",
       "    </tr>\n",
       "    <tr>\n",
       "      <th>31</th>\n",
       "      <td>NM</td>\n",
       "      <td>NaN</td>\n",
       "      <td>5</td>\n",
       "      <td>319 667</td>\n",
       "      <td>385 234</td>\n",
       "      <td>93 418</td>\n",
       "      <td>798 319</td>\n",
       "      <td>NM</td>\n",
       "    </tr>\n",
       "    <tr>\n",
       "      <th>32</th>\n",
       "      <td>NY</td>\n",
       "      <td>NaN</td>\n",
       "      <td>29</td>\n",
       "      <td>2 819 533</td>\n",
       "      <td>4 556 118</td>\n",
       "      <td>345 791</td>\n",
       "      <td>7 721 442</td>\n",
       "      <td>NY</td>\n",
       "    </tr>\n",
       "    <tr>\n",
       "      <th>33</th>\n",
       "      <td>NC</td>\n",
       "      <td>15</td>\n",
       "      <td>NaN</td>\n",
       "      <td>2 362 631</td>\n",
       "      <td>2 189 316</td>\n",
       "      <td>189 617</td>\n",
       "      <td>4 741 564</td>\n",
       "      <td>NC</td>\n",
       "    </tr>\n",
       "    <tr>\n",
       "      <th>34</th>\n",
       "      <td>ND</td>\n",
       "      <td>3</td>\n",
       "      <td>NaN</td>\n",
       "      <td>216 794</td>\n",
       "      <td>93 758</td>\n",
       "      <td>33 808</td>\n",
       "      <td>344 360</td>\n",
       "      <td>ND</td>\n",
       "    </tr>\n",
       "    <tr>\n",
       "      <th>35</th>\n",
       "      <td>OH</td>\n",
       "      <td>18</td>\n",
       "      <td>NaN</td>\n",
       "      <td>2 841 005</td>\n",
       "      <td>2 394 164</td>\n",
       "      <td>261 318</td>\n",
       "      <td>5 496 487</td>\n",
       "      <td>OH</td>\n",
       "    </tr>\n",
       "    <tr>\n",
       "      <th>36</th>\n",
       "      <td>OK</td>\n",
       "      <td>7</td>\n",
       "      <td>NaN</td>\n",
       "      <td>949 136</td>\n",
       "      <td>420 375</td>\n",
       "      <td>83 481</td>\n",
       "      <td>1 452 992</td>\n",
       "      <td>OK</td>\n",
       "    </tr>\n",
       "    <tr>\n",
       "      <th>37</th>\n",
       "      <td>OR</td>\n",
       "      <td>NaN</td>\n",
       "      <td>7</td>\n",
       "      <td>782 403</td>\n",
       "      <td>1 002 106</td>\n",
       "      <td>216 827</td>\n",
       "      <td>2 001 336</td>\n",
       "      <td>OR</td>\n",
       "    </tr>\n",
       "    <tr>\n",
       "      <th>38</th>\n",
       "      <td>PA</td>\n",
       "      <td>20</td>\n",
       "      <td>NaN</td>\n",
       "      <td>2 970 733</td>\n",
       "      <td>2 926 441</td>\n",
       "      <td>268 304</td>\n",
       "      <td>6 165 478</td>\n",
       "      <td>PA</td>\n",
       "    </tr>\n",
       "    <tr>\n",
       "      <th>39</th>\n",
       "      <td>RI</td>\n",
       "      <td>NaN</td>\n",
       "      <td>4</td>\n",
       "      <td>180 543</td>\n",
       "      <td>252 525</td>\n",
       "      <td>31 076</td>\n",
       "      <td>464 144</td>\n",
       "      <td>RI</td>\n",
       "    </tr>\n",
       "    <tr>\n",
       "      <th>40</th>\n",
       "      <td>SC</td>\n",
       "      <td>9</td>\n",
       "      <td>NaN</td>\n",
       "      <td>1 155 389</td>\n",
       "      <td>855 373</td>\n",
       "      <td>92 265</td>\n",
       "      <td>2 103 027</td>\n",
       "      <td>SC</td>\n",
       "    </tr>\n",
       "    <tr>\n",
       "      <th>41</th>\n",
       "      <td>SD</td>\n",
       "      <td>3</td>\n",
       "      <td>NaN</td>\n",
       "      <td>227 721</td>\n",
       "      <td>117 458</td>\n",
       "      <td>24 914</td>\n",
       "      <td>370 093</td>\n",
       "      <td>SD</td>\n",
       "    </tr>\n",
       "    <tr>\n",
       "      <th>42</th>\n",
       "      <td>TN</td>\n",
       "      <td>11</td>\n",
       "      <td>NaN</td>\n",
       "      <td>1 522 925</td>\n",
       "      <td>870 695</td>\n",
       "      <td>114 407</td>\n",
       "      <td>2 508 027</td>\n",
       "      <td>TN</td>\n",
       "    </tr>\n",
       "    <tr>\n",
       "      <th>43</th>\n",
       "      <td>TX</td>\n",
       "      <td>36*</td>\n",
       "      <td>NaN</td>\n",
       "      <td>4 685 047</td>\n",
       "      <td>3 877 868</td>\n",
       "      <td>406 311</td>\n",
       "      <td>8 969 226</td>\n",
       "      <td>TX</td>\n",
       "    </tr>\n",
       "    <tr>\n",
       "      <th>44</th>\n",
       "      <td>UT</td>\n",
       "      <td>6</td>\n",
       "      <td>NaN</td>\n",
       "      <td>515 231</td>\n",
       "      <td>310 676</td>\n",
       "      <td>305 523</td>\n",
       "      <td>1 131 430</td>\n",
       "      <td>UT</td>\n",
       "    </tr>\n",
       "    <tr>\n",
       "      <th>45</th>\n",
       "      <td>VT</td>\n",
       "      <td>NaN</td>\n",
       "      <td>3</td>\n",
       "      <td>95 369</td>\n",
       "      <td>178 573</td>\n",
       "      <td>41 125</td>\n",
       "      <td>315 067</td>\n",
       "      <td>VT</td>\n",
       "    </tr>\n",
       "    <tr>\n",
       "      <th>46</th>\n",
       "      <td>VA</td>\n",
       "      <td>NaN</td>\n",
       "      <td>13</td>\n",
       "      <td>1 769 443</td>\n",
       "      <td>1 981 473</td>\n",
       "      <td>233 715</td>\n",
       "      <td>3 984 631</td>\n",
       "      <td>VA</td>\n",
       "    </tr>\n",
       "    <tr>\n",
       "      <th>47</th>\n",
       "      <td>WA</td>\n",
       "      <td>NaN</td>\n",
       "      <td>8**</td>\n",
       "      <td>1 221 747</td>\n",
       "      <td>1 742 718</td>\n",
       "      <td>352 554</td>\n",
       "      <td>3 317 019</td>\n",
       "      <td>WA</td>\n",
       "    </tr>\n",
       "    <tr>\n",
       "      <th>48</th>\n",
       "      <td>WV</td>\n",
       "      <td>5</td>\n",
       "      <td>NaN</td>\n",
       "      <td>489 371</td>\n",
       "      <td>188 794</td>\n",
       "      <td>36 258</td>\n",
       "      <td>714 423</td>\n",
       "      <td>WV</td>\n",
       "    </tr>\n",
       "    <tr>\n",
       "      <th>49</th>\n",
       "      <td>WI</td>\n",
       "      <td>10</td>\n",
       "      <td>NaN</td>\n",
       "      <td>1 405 284</td>\n",
       "      <td>1 382 536</td>\n",
       "      <td>188 330</td>\n",
       "      <td>2 976 150</td>\n",
       "      <td>WI</td>\n",
       "    </tr>\n",
       "    <tr>\n",
       "      <th>50</th>\n",
       "      <td>WY</td>\n",
       "      <td>3</td>\n",
       "      <td>NaN</td>\n",
       "      <td>174 419</td>\n",
       "      <td>55 973</td>\n",
       "      <td>25 457</td>\n",
       "      <td>255 849</td>\n",
       "      <td>WY</td>\n",
       "    </tr>\n",
       "    <tr>\n",
       "      <th>51</th>\n",
       "      <td>Total:</td>\n",
       "      <td>304*</td>\n",
       "      <td>227**</td>\n",
       "      <td>62 984 828</td>\n",
       "      <td>65 853 514</td>\n",
       "      <td>7 830 934</td>\n",
       "      <td>136 669 276</td>\n",
       "      <td>Total:</td>\n",
       "    </tr>\n",
       "    <tr>\n",
       "      <th>52</th>\n",
       "      <td>NaN</td>\n",
       "      <td>NaN</td>\n",
       "      <td>NaN</td>\n",
       "      <td>46,09 %</td>\n",
       "      <td>48,18 %</td>\n",
       "      <td>5,73 %</td>\n",
       "      <td>NaN</td>\n",
       "      <td>NaN</td>\n",
       "    </tr>\n",
       "    <tr>\n",
       "      <th>53</th>\n",
       "      <td>NaN</td>\n",
       "      <td>NaN</td>\n",
       "      <td>NaN</td>\n",
       "      <td>NaN</td>\n",
       "      <td>NaN</td>\n",
       "      <td>NaN</td>\n",
       "      <td>NaN</td>\n",
       "      <td>NaN</td>\n",
       "    </tr>\n",
       "    <tr>\n",
       "      <th>54</th>\n",
       "      <td>NaN</td>\n",
       "      <td>NaN</td>\n",
       "      <td>NaN</td>\n",
       "      <td>NaN</td>\n",
       "      <td>NaN</td>\n",
       "      <td>NaN</td>\n",
       "      <td>NaN</td>\n",
       "      <td>NaN</td>\n",
       "    </tr>\n",
       "    <tr>\n",
       "      <th>55</th>\n",
       "      <td>NaN</td>\n",
       "      <td>NaN</td>\n",
       "      <td>NaN</td>\n",
       "      <td>NaN</td>\n",
       "      <td>NaN</td>\n",
       "      <td>NaN</td>\n",
       "      <td>NaN</td>\n",
       "      <td>NaN</td>\n",
       "    </tr>\n",
       "    <tr>\n",
       "      <th>56</th>\n",
       "      <td>NaN</td>\n",
       "      <td>NaN</td>\n",
       "      <td>NaN</td>\n",
       "      <td>NaN</td>\n",
       "      <td>NaN</td>\n",
       "      <td>NaN</td>\n",
       "      <td>NaN</td>\n",
       "      <td>NaN</td>\n",
       "    </tr>\n",
       "    <tr>\n",
       "      <th>57</th>\n",
       "      <td>NaN</td>\n",
       "      <td>NaN</td>\n",
       "      <td>NaN</td>\n",
       "      <td>NaN</td>\n",
       "      <td>NaN</td>\n",
       "      <td>NaN</td>\n",
       "      <td>NaN</td>\n",
       "      <td>NaN</td>\n",
       "    </tr>\n",
       "    <tr>\n",
       "      <th>58</th>\n",
       "      <td>NaN</td>\n",
       "      <td>NaN</td>\n",
       "      <td>NaN</td>\n",
       "      <td>NaN</td>\n",
       "      <td>NaN</td>\n",
       "      <td>NaN</td>\n",
       "      <td>NaN</td>\n",
       "      <td>NaN</td>\n",
       "    </tr>\n",
       "  </tbody>\n",
       "</table>\n",
       "</div>"
      ],
      "text/plain": [
       "   Unnamed: 0 Trump (R) Clinton (D) Trump (R).1 Clinton (D).1 All Others  \\\n",
       "0          AL         9         NaN   1 318 255       729 547     75 570   \n",
       "1          AK         3         NaN     163 387       116 454     38 767   \n",
       "2          AZ        11         NaN   1 252 401     1 161 167    159 597   \n",
       "3          AR         6         NaN     684 872       380 494     65 310   \n",
       "4          CA       NaN          55   4 483 814     8 753 792    943 998   \n",
       "5          CO       NaN           9   1 202 484     1 338 870    238 893   \n",
       "6          CT       NaN           7     673 215       897 572     74 133   \n",
       "7          DE       NaN           3     185 127       235 603     23 084   \n",
       "8          DC       NaN           3      12 723       282 830     15 715   \n",
       "9          FL        29         NaN   4 617 886     4 504 975    297 178   \n",
       "10         GA        16         NaN   2 089 104     1 877 963    147 665   \n",
       "11         HI       NaN         3**     128 847       266 891     33 199   \n",
       "12         ID         4         NaN     409 055       189 765     91 435   \n",
       "13         IL       NaN          20   2 146 015     3 090 729    299 680   \n",
       "14         IN        11         NaN   1 557 286     1 033 126    144 546   \n",
       "15         IA         6         NaN     800 983       653 669    111 379   \n",
       "16         KS         6         NaN     671 018       427 005     86 379   \n",
       "17         KY         8         NaN   1 202 971       628 854     92 324   \n",
       "18         LA         8         NaN   1 178 638       780 154     70 240   \n",
       "19         ME         1           3     335 593       357 735     54 599   \n",
       "20         MD       NaN          10     943 169     1 677 928    160 349   \n",
       "21         MA       NaN          11   1 090 893     1 995 196    238 957   \n",
       "22         MI        16         NaN   2 279 543     2 268 839    250 902   \n",
       "23         MN       NaN          10   1 322 951     1 367 716    254 146   \n",
       "24         MS         6         NaN     700 714       485 131     23 512   \n",
       "25         MO        10         NaN   1 594 511     1 071 068    143 026   \n",
       "26         MT         3         NaN     279 240       177 709     40 198   \n",
       "27         NE         5         NaN     495 961       284 494     63 772   \n",
       "28         NV       NaN           6     512 058       539 260     74 067   \n",
       "29         NH       NaN           4     345 790       348 526     49 980   \n",
       "30         NJ       NaN          14   1 601 933     2 148 278    123 835   \n",
       "31         NM       NaN           5     319 667       385 234     93 418   \n",
       "32         NY       NaN          29   2 819 533     4 556 118    345 791   \n",
       "33         NC        15         NaN   2 362 631     2 189 316    189 617   \n",
       "34         ND         3         NaN     216 794        93 758     33 808   \n",
       "35         OH        18         NaN   2 841 005     2 394 164    261 318   \n",
       "36         OK         7         NaN     949 136       420 375     83 481   \n",
       "37         OR       NaN           7     782 403     1 002 106    216 827   \n",
       "38         PA        20         NaN   2 970 733     2 926 441    268 304   \n",
       "39         RI       NaN           4     180 543       252 525     31 076   \n",
       "40         SC         9         NaN   1 155 389       855 373     92 265   \n",
       "41         SD         3         NaN     227 721       117 458     24 914   \n",
       "42         TN        11         NaN   1 522 925       870 695    114 407   \n",
       "43         TX       36*         NaN   4 685 047     3 877 868    406 311   \n",
       "44         UT         6         NaN     515 231       310 676    305 523   \n",
       "45         VT       NaN           3      95 369       178 573     41 125   \n",
       "46         VA       NaN          13   1 769 443     1 981 473    233 715   \n",
       "47         WA       NaN         8**   1 221 747     1 742 718    352 554   \n",
       "48         WV         5         NaN     489 371       188 794     36 258   \n",
       "49         WI        10         NaN   1 405 284     1 382 536    188 330   \n",
       "50         WY         3         NaN     174 419        55 973     25 457   \n",
       "51     Total:      304*       227**  62 984 828    65 853 514  7 830 934   \n",
       "52        NaN       NaN         NaN     46,09 %       48,18 %     5,73 %   \n",
       "53        NaN       NaN         NaN         NaN           NaN        NaN   \n",
       "54        NaN       NaN         NaN         NaN           NaN        NaN   \n",
       "55        NaN       NaN         NaN         NaN           NaN        NaN   \n",
       "56        NaN       NaN         NaN         NaN           NaN        NaN   \n",
       "57        NaN       NaN         NaN         NaN           NaN        NaN   \n",
       "58        NaN       NaN         NaN         NaN           NaN        NaN   \n",
       "\n",
       "     Total Vote Unnamed: 7  \n",
       "0     2 123 372         AL  \n",
       "1       318 608         AK  \n",
       "2     2 573 165         AZ  \n",
       "3     1 130 676         AR  \n",
       "4    14 181 604         CA  \n",
       "5     2 780 247         CO  \n",
       "6     1 644 920         CT  \n",
       "7       443 814         DE  \n",
       "8       311 268         DC  \n",
       "9     9 420 039         FL  \n",
       "10    4 114 732         GA  \n",
       "11      428 937         HI  \n",
       "12      690 255         ID  \n",
       "13    5 536 424         IL  \n",
       "14    2 734 958         IN  \n",
       "15    1 566 031         IA  \n",
       "16    1 184 402         KS  \n",
       "17    1 924 149         KY  \n",
       "18    2 029 032         LA  \n",
       "19      747 927         ME  \n",
       "20    2 781 446         MD  \n",
       "21    3 325 046         MA  \n",
       "22    4 799 284         MI  \n",
       "23    2 944 813         MN  \n",
       "24    1 209 357         MS  \n",
       "25    2 808 605         MO  \n",
       "26      497 147         MT  \n",
       "27      844 227         NE  \n",
       "28    1 125 385         NV  \n",
       "29      744 296         NH  \n",
       "30    3 874 046         NJ  \n",
       "31      798 319         NM  \n",
       "32    7 721 442         NY  \n",
       "33    4 741 564         NC  \n",
       "34      344 360         ND  \n",
       "35    5 496 487         OH  \n",
       "36    1 452 992         OK  \n",
       "37    2 001 336         OR  \n",
       "38    6 165 478         PA  \n",
       "39      464 144         RI  \n",
       "40    2 103 027         SC  \n",
       "41      370 093         SD  \n",
       "42    2 508 027         TN  \n",
       "43    8 969 226         TX  \n",
       "44    1 131 430         UT  \n",
       "45      315 067         VT  \n",
       "46    3 984 631         VA  \n",
       "47    3 317 019         WA  \n",
       "48      714 423         WV  \n",
       "49    2 976 150         WI  \n",
       "50      255 849         WY  \n",
       "51  136 669 276     Total:  \n",
       "52          NaN        NaN  \n",
       "53          NaN        NaN  \n",
       "54          NaN        NaN  \n",
       "55          NaN        NaN  \n",
       "56          NaN        NaN  \n",
       "57          NaN        NaN  \n",
       "58          NaN        NaN  "
      ]
     },
     "execution_count": 76,
     "metadata": {},
     "output_type": "execute_result"
    }
   ],
   "source": [
    "# Let's preprocess the electoral data:\n",
    "data=pd.read_csv('electoral_data.csv',header=1,sep=';',error_bad_lines=False)\n",
    "data"
   ]
  },
  {
   "cell_type": "code",
   "execution_count": 77,
   "metadata": {
    "scrolled": true
   },
   "outputs": [
    {
     "data": {
      "text/html": [
       "<div>\n",
       "<style scoped>\n",
       "    .dataframe tbody tr th:only-of-type {\n",
       "        vertical-align: middle;\n",
       "    }\n",
       "\n",
       "    .dataframe tbody tr th {\n",
       "        vertical-align: top;\n",
       "    }\n",
       "\n",
       "    .dataframe thead th {\n",
       "        text-align: right;\n",
       "    }\n",
       "</style>\n",
       "<table border=\"1\" class=\"dataframe\">\n",
       "  <thead>\n",
       "    <tr style=\"text-align: right;\">\n",
       "      <th></th>\n",
       "      <th>state</th>\n",
       "      <th>trumpRes</th>\n",
       "      <th>clintonRes</th>\n",
       "      <th>total</th>\n",
       "    </tr>\n",
       "  </thead>\n",
       "  <tbody>\n",
       "    <tr>\n",
       "      <th>0</th>\n",
       "      <td>AL</td>\n",
       "      <td>1 318 255</td>\n",
       "      <td>729 547</td>\n",
       "      <td>2 123 372</td>\n",
       "    </tr>\n",
       "    <tr>\n",
       "      <th>1</th>\n",
       "      <td>AK</td>\n",
       "      <td>163 387</td>\n",
       "      <td>116 454</td>\n",
       "      <td>318 608</td>\n",
       "    </tr>\n",
       "    <tr>\n",
       "      <th>2</th>\n",
       "      <td>AZ</td>\n",
       "      <td>1 252 401</td>\n",
       "      <td>1 161 167</td>\n",
       "      <td>2 573 165</td>\n",
       "    </tr>\n",
       "    <tr>\n",
       "      <th>3</th>\n",
       "      <td>AR</td>\n",
       "      <td>684 872</td>\n",
       "      <td>380 494</td>\n",
       "      <td>1 130 676</td>\n",
       "    </tr>\n",
       "    <tr>\n",
       "      <th>4</th>\n",
       "      <td>CA</td>\n",
       "      <td>4 483 814</td>\n",
       "      <td>8 753 792</td>\n",
       "      <td>14 181 604</td>\n",
       "    </tr>\n",
       "  </tbody>\n",
       "</table>\n",
       "</div>"
      ],
      "text/plain": [
       "  state   trumpRes clintonRes       total\n",
       "0    AL  1 318 255    729 547   2 123 372\n",
       "1    AK    163 387    116 454     318 608\n",
       "2    AZ  1 252 401  1 161 167   2 573 165\n",
       "3    AR    684 872    380 494   1 130 676\n",
       "4    CA  4 483 814  8 753 792  14 181 604"
      ]
     },
     "execution_count": 77,
     "metadata": {},
     "output_type": "execute_result"
    }
   ],
   "source": [
    "# Dropping extra columns and rows:\n",
    "data.drop(data.columns[[1,2,-1,-3]],axis=1,inplace=True)\n",
    "data.drop(data.index[51:59],inplace=True)\n",
    "\n",
    "# Rename columns:\n",
    "new_columns=['state','trumpRes','clintonRes','total']\n",
    "data.rename(columns={name:new_columns[i] for i,name in enumerate(data.columns)},inplace=True)\n",
    "data.head(5)"
   ]
  },
  {
   "cell_type": "code",
   "execution_count": 78,
   "metadata": {
    "scrolled": true
   },
   "outputs": [
    {
     "data": {
      "text/plain": [
       "state         False\n",
       "trumpRes      False\n",
       "clintonRes    False\n",
       "total         False\n",
       "dtype: bool"
      ]
     },
     "execution_count": 78,
     "metadata": {},
     "output_type": "execute_result"
    }
   ],
   "source": [
    "# Let's check there are no Nans:\n",
    "data.isna().any()"
   ]
  },
  {
   "cell_type": "code",
   "execution_count": 79,
   "metadata": {
    "scrolled": true
   },
   "outputs": [
    {
     "data": {
      "text/plain": [
       "0    1 318 255\n",
       "1      163 387\n",
       "2    1 252 401\n",
       "3      684 872\n",
       "4    4 483 814\n",
       "Name: trumpRes, dtype: object"
      ]
     },
     "metadata": {},
     "output_type": "display_data"
    },
    {
     "name": "stdout",
     "output_type": "stream",
     "text": [
      "<class 'str'>\n"
     ]
    },
    {
     "data": {
      "text/plain": [
       "'1\\xa0318\\xa0255'"
      ]
     },
     "metadata": {},
     "output_type": "display_data"
    }
   ],
   "source": [
    "# There's is one hidden problem:\n",
    "display(data.loc[:,'trumpRes'].iloc[0:5]) # seems ok;\n",
    "print(type(data.loc[:,'trumpRes'].iloc[0])) # entries are actually strings...\n",
    "display(data.loc[:,'trumpRes'].iloc[0]) # '\\xa0' is some kind of code for the space character"
   ]
  },
  {
   "cell_type": "code",
   "execution_count": 80,
   "metadata": {
    "scrolled": false
   },
   "outputs": [],
   "source": [
    "# Let's fix this:\n",
    "data.loc[:,'trumpRes']=data.loc[:,'trumpRes'].apply(lambda x:  x.replace(u'\\xa0','')).astype(int) # 'u' stands for unicode\n",
    "data.loc[:,'total']=data.loc[:,'total'].apply(lambda x:  x.replace(u'\\xa0','')).astype(int)"
   ]
  },
  {
   "cell_type": "code",
   "execution_count": 81,
   "metadata": {},
   "outputs": [
    {
     "name": "stdout",
     "output_type": "stream",
     "text": [
      "<class 'numpy.int64'>\n"
     ]
    }
   ],
   "source": [
    "# Check:\n",
    "print(type(data.loc[:,'total'].iloc[0]))"
   ]
  },
  {
   "cell_type": "code",
   "execution_count": 82,
   "metadata": {},
   "outputs": [
    {
     "data": {
      "text/html": [
       "<div>\n",
       "<style scoped>\n",
       "    .dataframe tbody tr th:only-of-type {\n",
       "        vertical-align: middle;\n",
       "    }\n",
       "\n",
       "    .dataframe tbody tr th {\n",
       "        vertical-align: top;\n",
       "    }\n",
       "\n",
       "    .dataframe thead th {\n",
       "        text-align: right;\n",
       "    }\n",
       "</style>\n",
       "<table border=\"1\" class=\"dataframe\">\n",
       "  <thead>\n",
       "    <tr style=\"text-align: right;\">\n",
       "      <th></th>\n",
       "      <th>state</th>\n",
       "      <th>trumpRes</th>\n",
       "      <th>clintonRes</th>\n",
       "      <th>total</th>\n",
       "      <th>Trump</th>\n",
       "      <th>Clinton</th>\n",
       "    </tr>\n",
       "  </thead>\n",
       "  <tbody>\n",
       "    <tr>\n",
       "      <th>0</th>\n",
       "      <td>AL</td>\n",
       "      <td>1318255</td>\n",
       "      <td>729 547</td>\n",
       "      <td>2123372</td>\n",
       "      <td>67</td>\n",
       "      <td>76</td>\n",
       "    </tr>\n",
       "    <tr>\n",
       "      <th>1</th>\n",
       "      <td>AK</td>\n",
       "      <td>163387</td>\n",
       "      <td>116 454</td>\n",
       "      <td>318608</td>\n",
       "      <td>73</td>\n",
       "      <td>72</td>\n",
       "    </tr>\n",
       "    <tr>\n",
       "      <th>2</th>\n",
       "      <td>AZ</td>\n",
       "      <td>1252401</td>\n",
       "      <td>1 161 167</td>\n",
       "      <td>2573165</td>\n",
       "      <td>78</td>\n",
       "      <td>81</td>\n",
       "    </tr>\n",
       "    <tr>\n",
       "      <th>3</th>\n",
       "      <td>AR</td>\n",
       "      <td>684872</td>\n",
       "      <td>380 494</td>\n",
       "      <td>1130676</td>\n",
       "      <td>70</td>\n",
       "      <td>86</td>\n",
       "    </tr>\n",
       "    <tr>\n",
       "      <th>4</th>\n",
       "      <td>CA</td>\n",
       "      <td>4483814</td>\n",
       "      <td>8 753 792</td>\n",
       "      <td>14181604</td>\n",
       "      <td>73</td>\n",
       "      <td>67</td>\n",
       "    </tr>\n",
       "  </tbody>\n",
       "</table>\n",
       "</div>"
      ],
      "text/plain": [
       "  state  trumpRes clintonRes     total  Trump  Clinton\n",
       "0    AL   1318255    729 547   2123372     67       76\n",
       "1    AK    163387    116 454    318608     73       72\n",
       "2    AZ   1252401  1 161 167   2573165     78       81\n",
       "3    AR    684872    380 494   1130676     70       86\n",
       "4    CA   4483814  8 753 792  14181604     73       67"
      ]
     },
     "execution_count": 82,
     "metadata": {},
     "output_type": "execute_result"
    }
   ],
   "source": [
    "# Add data from PyTrends:\n",
    "\n",
    "for sw in search_words:\n",
    "    pt.build_payload(sw,timeframe=scope,geo='US')\n",
    "    data[sw]=pt.interest_by_region(resolution='REGION').values # values needed not to worry about index mismatch\n",
    "data.head(5)"
   ]
  },
  {
   "cell_type": "code",
   "execution_count": 83,
   "metadata": {},
   "outputs": [],
   "source": [
    "# Use this if PyTrends fail:\n",
    "\n",
    "# data.to_csv('clean_data.csv')\n",
    "# data=pd.read_csv('clean_data.csv',header=0,index_col=0)"
   ]
  },
  {
   "cell_type": "code",
   "execution_count": 84,
   "metadata": {},
   "outputs": [
    {
     "data": {
      "text/html": [
       "<div>\n",
       "<style scoped>\n",
       "    .dataframe tbody tr th:only-of-type {\n",
       "        vertical-align: middle;\n",
       "    }\n",
       "\n",
       "    .dataframe tbody tr th {\n",
       "        vertical-align: top;\n",
       "    }\n",
       "\n",
       "    .dataframe thead th {\n",
       "        text-align: right;\n",
       "    }\n",
       "</style>\n",
       "<table border=\"1\" class=\"dataframe\">\n",
       "  <thead>\n",
       "    <tr style=\"text-align: right;\">\n",
       "      <th></th>\n",
       "      <th>state</th>\n",
       "      <th>trumpRes</th>\n",
       "      <th>clintonRes</th>\n",
       "      <th>total</th>\n",
       "      <th>Trump</th>\n",
       "      <th>Clinton</th>\n",
       "      <th>trumpProp</th>\n",
       "    </tr>\n",
       "  </thead>\n",
       "  <tbody>\n",
       "    <tr>\n",
       "      <th>0</th>\n",
       "      <td>AL</td>\n",
       "      <td>1318255</td>\n",
       "      <td>729 547</td>\n",
       "      <td>2123372</td>\n",
       "      <td>67</td>\n",
       "      <td>76</td>\n",
       "      <td>0.620831</td>\n",
       "    </tr>\n",
       "    <tr>\n",
       "      <th>1</th>\n",
       "      <td>AK</td>\n",
       "      <td>163387</td>\n",
       "      <td>116 454</td>\n",
       "      <td>318608</td>\n",
       "      <td>73</td>\n",
       "      <td>72</td>\n",
       "      <td>0.512815</td>\n",
       "    </tr>\n",
       "    <tr>\n",
       "      <th>2</th>\n",
       "      <td>AZ</td>\n",
       "      <td>1252401</td>\n",
       "      <td>1 161 167</td>\n",
       "      <td>2573165</td>\n",
       "      <td>78</td>\n",
       "      <td>81</td>\n",
       "      <td>0.486716</td>\n",
       "    </tr>\n",
       "    <tr>\n",
       "      <th>3</th>\n",
       "      <td>AR</td>\n",
       "      <td>684872</td>\n",
       "      <td>380 494</td>\n",
       "      <td>1130676</td>\n",
       "      <td>70</td>\n",
       "      <td>86</td>\n",
       "      <td>0.605719</td>\n",
       "    </tr>\n",
       "    <tr>\n",
       "      <th>4</th>\n",
       "      <td>CA</td>\n",
       "      <td>4483814</td>\n",
       "      <td>8 753 792</td>\n",
       "      <td>14181604</td>\n",
       "      <td>73</td>\n",
       "      <td>67</td>\n",
       "      <td>0.316171</td>\n",
       "    </tr>\n",
       "  </tbody>\n",
       "</table>\n",
       "</div>"
      ],
      "text/plain": [
       "  state  trumpRes clintonRes     total  Trump  Clinton  trumpProp\n",
       "0    AL   1318255    729 547   2123372     67       76   0.620831\n",
       "1    AK    163387    116 454    318608     73       72   0.512815\n",
       "2    AZ   1252401  1 161 167   2573165     78       81   0.486716\n",
       "3    AR    684872    380 494   1130676     70       86   0.605719\n",
       "4    CA   4483814  8 753 792  14181604     73       67   0.316171"
      ]
     },
     "execution_count": 84,
     "metadata": {},
     "output_type": "execute_result"
    }
   ],
   "source": [
    "# Compute votes proportion:\n",
    "data['trumpProp']=data.loc[:,'trumpRes']/data.loc[:,'total']\n",
    "data.head(5)"
   ]
  },
  {
   "cell_type": "code",
   "execution_count": 85,
   "metadata": {},
   "outputs": [
    {
     "data": {
      "text/html": [
       "<div>\n",
       "<style scoped>\n",
       "    .dataframe tbody tr th:only-of-type {\n",
       "        vertical-align: middle;\n",
       "    }\n",
       "\n",
       "    .dataframe tbody tr th {\n",
       "        vertical-align: top;\n",
       "    }\n",
       "\n",
       "    .dataframe thead th {\n",
       "        text-align: right;\n",
       "    }\n",
       "</style>\n",
       "<table border=\"1\" class=\"dataframe\">\n",
       "  <thead>\n",
       "    <tr style=\"text-align: right;\">\n",
       "      <th></th>\n",
       "      <th>Trump</th>\n",
       "      <th>Clinton</th>\n",
       "      <th>trumpProp</th>\n",
       "    </tr>\n",
       "  </thead>\n",
       "  <tbody>\n",
       "    <tr>\n",
       "      <th>0</th>\n",
       "      <td>67</td>\n",
       "      <td>76</td>\n",
       "      <td>0.620831</td>\n",
       "    </tr>\n",
       "    <tr>\n",
       "      <th>1</th>\n",
       "      <td>73</td>\n",
       "      <td>72</td>\n",
       "      <td>0.512815</td>\n",
       "    </tr>\n",
       "    <tr>\n",
       "      <th>2</th>\n",
       "      <td>78</td>\n",
       "      <td>81</td>\n",
       "      <td>0.486716</td>\n",
       "    </tr>\n",
       "    <tr>\n",
       "      <th>3</th>\n",
       "      <td>70</td>\n",
       "      <td>86</td>\n",
       "      <td>0.605719</td>\n",
       "    </tr>\n",
       "    <tr>\n",
       "      <th>4</th>\n",
       "      <td>73</td>\n",
       "      <td>67</td>\n",
       "      <td>0.316171</td>\n",
       "    </tr>\n",
       "  </tbody>\n",
       "</table>\n",
       "</div>"
      ],
      "text/plain": [
       "   Trump  Clinton  trumpProp\n",
       "0     67       76   0.620831\n",
       "1     73       72   0.512815\n",
       "2     78       81   0.486716\n",
       "3     70       86   0.605719\n",
       "4     73       67   0.316171"
      ]
     },
     "execution_count": 85,
     "metadata": {},
     "output_type": "execute_result"
    }
   ],
   "source": [
    "# Drop unnecesary columns:\n",
    "data.drop(data.columns[:4],axis=1,inplace=True)\n",
    "data.head(5)"
   ]
  },
  {
   "cell_type": "code",
   "execution_count": 86,
   "metadata": {},
   "outputs": [],
   "source": [
    "# Train/test split:\n",
    "num=int(len(data)*0.75)\n",
    "train=data.iloc[:num]\n",
    "test=data.iloc[num:]"
   ]
  },
  {
   "cell_type": "code",
   "execution_count": 87,
   "metadata": {},
   "outputs": [
    {
     "ename": "ModuleNotFoundError",
     "evalue": "No module named 'sklearn'",
     "output_type": "error",
     "traceback": [
      "\u001b[0;31m---------------------------------------------------------------------------\u001b[0m",
      "\u001b[0;31mModuleNotFoundError\u001b[0m                       Traceback (most recent call last)",
      "\u001b[0;32m<ipython-input-87-834db84ede83>\u001b[0m in \u001b[0;36m<module>\u001b[0;34m\u001b[0m\n\u001b[1;32m      1\u001b[0m \u001b[0;31m# MinMax standardize all features:\u001b[0m\u001b[0;34m\u001b[0m\u001b[0;34m\u001b[0m\u001b[0;34m\u001b[0m\u001b[0m\n\u001b[0;32m----> 2\u001b[0;31m \u001b[0;32mfrom\u001b[0m \u001b[0msklearn\u001b[0m\u001b[0;34m.\u001b[0m\u001b[0mpreprocessing\u001b[0m \u001b[0;32mimport\u001b[0m \u001b[0mMinMaxScaler\u001b[0m\u001b[0;34m\u001b[0m\u001b[0;34m\u001b[0m\u001b[0m\n\u001b[0m\u001b[1;32m      3\u001b[0m \u001b[0;34m\u001b[0m\u001b[0m\n\u001b[1;32m      4\u001b[0m \u001b[0mX_scaler\u001b[0m\u001b[0;34m=\u001b[0m\u001b[0mMinMaxScaler\u001b[0m\u001b[0;34m(\u001b[0m\u001b[0;34m)\u001b[0m\u001b[0;34m\u001b[0m\u001b[0;34m\u001b[0m\u001b[0m\n\u001b[1;32m      5\u001b[0m \u001b[0my_scaler\u001b[0m\u001b[0;34m=\u001b[0m\u001b[0mMinMaxScaler\u001b[0m\u001b[0;34m(\u001b[0m\u001b[0;34m)\u001b[0m\u001b[0;34m\u001b[0m\u001b[0;34m\u001b[0m\u001b[0m\n",
      "\u001b[0;31mModuleNotFoundError\u001b[0m: No module named 'sklearn'"
     ]
    }
   ],
   "source": [
    "# MinMax standardize all features:\n",
    "from sklearn.preprocessing import MinMaxScaler\n",
    "\n",
    "X_scaler=MinMaxScaler()\n",
    "y_scaler=MinMaxScaler()\n",
    "\n",
    "X_train=X_scaler.fit_transform(train.iloc[:,:-1])\n",
    "y_train=y_scaler.fit_transform(pd.DataFrame(train.iloc[:,-1])) # need to pass a 2D ndarray, so wrap in a DF;\n",
    "X_test=X_scaler.transform(test.iloc[:,:-1])\n",
    "y_test=y_scaler.transform(pd.DataFrame(test.iloc[:,-1]))\n",
    "\n",
    "display(X_train[:5]) # now these are numpy ndarrays\n",
    "display(y_train[:5])"
   ]
  },
  {
   "cell_type": "code",
   "execution_count": null,
   "metadata": {},
   "outputs": [],
   "source": [
    "# Now, model!\n",
    "from sklearn.linear_model import LinearRegression as LR\n",
    "model=LR().fit(X_train,y_train)\n",
    "\n",
    "prediction=model.predict(X_test)\n",
    "actual=y_test"
   ]
  },
  {
   "cell_type": "code",
   "execution_count": null,
   "metadata": {},
   "outputs": [],
   "source": [
    "# Scale back to original units:\n",
    "\n",
    "prediction=y_scaler.inverse_transform(prediction)\n",
    "actual=y_scaler.inverse_transform(actual)"
   ]
  },
  {
   "cell_type": "code",
   "execution_count": null,
   "metadata": {},
   "outputs": [],
   "source": [
    "# Plot the results:\n",
    "%matplotlib inline\n",
    "import matplotlib.pyplot as plt\n",
    "\n",
    "plt.plot(range(len(test)),prediction,color='fuchsia',label='predicted')\n",
    "plt.plot(range(len(test)),actual,color='turquoise',label='actual')\n",
    "plt.legend()\n",
    "plt.xlabel('index')\n",
    "plt.ylabel('proportion of votes for Trump')\n",
    "plt.grid()\n",
    "plt.show()"
   ]
  }
 ],
 "metadata": {
  "kernelspec": {
   "display_name": "Python 3",
   "language": "python",
   "name": "python3"
  },
  "language_info": {
   "codemirror_mode": {
    "name": "ipython",
    "version": 3
   },
   "file_extension": ".py",
   "mimetype": "text/x-python",
   "name": "python",
   "nbconvert_exporter": "python",
   "pygments_lexer": "ipython3",
   "version": "3.8.5"
  }
 },
 "nbformat": 4,
 "nbformat_minor": 2
}
