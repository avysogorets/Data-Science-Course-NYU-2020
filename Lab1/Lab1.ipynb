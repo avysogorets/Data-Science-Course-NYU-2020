{
 "cells": [
  {
   "cell_type": "markdown",
   "metadata": {},
   "source": [
    "# Introduction to Data Science, Lab 1 (9/16)\n",
    "- Python fundamentals recap (with NumPy, Pandas)\n",
    "- Modelling with Google Trends data"
   ]
  },
  {
   "cell_type": "markdown",
   "metadata": {},
   "source": [
    "## Python Essentials\n",
    "#### *Formatting strings*"
   ]
  },
  {
   "cell_type": "code",
   "execution_count": null,
   "metadata": {
    "scrolled": true
   },
   "outputs": [],
   "source": [
    "# Standard:\n",
    "print('Hello world from room 650!\\nBye.')"
   ]
  },
  {
   "cell_type": "code",
   "execution_count": null,
   "metadata": {
    "scrolled": true
   },
   "outputs": [],
   "source": [
    "# String with argument(s):\n",
    "room=650\n",
    "print('Hello world from room {}!'.format(room))\n",
    "print(f'Hello world from room {room}!')"
   ]
  },
  {
   "cell_type": "code",
   "execution_count": null,
   "metadata": {
    "scrolled": false
   },
   "outputs": [],
   "source": [
    "# Multiple arguments:\n",
    "import math\n",
    "\n",
    "one_third=1/3\n",
    "print('1/3 equals {}, pi equals {}'.format(one_third,math.pi))"
   ]
  },
  {
   "cell_type": "code",
   "execution_count": null,
   "metadata": {
    "scrolled": true
   },
   "outputs": [],
   "source": [
    "# Format the argument:\n",
    "one_third=1/3\n",
    "print('1/3 equals {}'.format(one_third)) # insert 'one_third' in place of '{}'\n",
    "print('1/3 equals {:.3f}'.format(one_third)) # specify the number of decimals \n",
    "print('1/3 equals {}'.format(round(one_third,3))) # apply the 'round' function directly\n",
    "print(f'1/3 equals {one_third:.3f}')"
   ]
  },
  {
   "cell_type": "code",
   "execution_count": null,
   "metadata": {
    "scrolled": true
   },
   "outputs": [],
   "source": [
    "# Choose the order of arguments:\n",
    "print('1/3 equals {1}, pi equals {0}'.format(one_third,math.pi))"
   ]
  },
  {
   "cell_type": "code",
   "execution_count": null,
   "metadata": {
    "scrolled": true
   },
   "outputs": [],
   "source": [
    "# Keyword arguments\n",
    "print('1/3 equals {first}, pi equals {second}'.format(first=one_third,second=math.pi))"
   ]
  },
  {
   "cell_type": "code",
   "execution_count": null,
   "metadata": {
    "scrolled": true
   },
   "outputs": [],
   "source": [
    "# Pack characters into a string:\n",
    "secret=[72,101,108,108,111,32,119,111,114,108,100,33] # ascii values of secret characters\n",
    "print('-'.join([chr(s) for s in secret])) # '-' specifies how to separate characters"
   ]
  },
  {
   "cell_type": "code",
   "execution_count": null,
   "metadata": {
    "scrolled": true
   },
   "outputs": [],
   "source": [
    "# Replace certain characters:\n",
    "'Hello world from room 650!'.replace('o','0')"
   ]
  },
  {
   "cell_type": "markdown",
   "metadata": {},
   "source": [
    "#### *Timing*\n",
    "*Two popular choices are* ***time*** *and* ***timeit***:"
   ]
  },
  {
   "cell_type": "code",
   "execution_count": null,
   "metadata": {
    "scrolled": true
   },
   "outputs": [],
   "source": [
    "import time\n",
    "print(time.time()) # time since January 1, 1970, 00:00:00 (UTC) in secons, aka UNIX time\n",
    "print(time.time()/60/60/24/365) # approx. number of years passed"
   ]
  },
  {
   "cell_type": "code",
   "execution_count": null,
   "metadata": {
    "scrolled": true
   },
   "outputs": [],
   "source": [
    "start=time.time()\n",
    "time.sleep(1) # hang for 1 second\n",
    "end=time.time()\n",
    "print(end-start)"
   ]
  },
  {
   "cell_type": "code",
   "execution_count": null,
   "metadata": {
    "scrolled": true
   },
   "outputs": [],
   "source": [
    "%%timeit -n 2 # Jupyter notebook usage; include %% to time all the below contents of the current cell\n",
    "time.sleep(0.1)\n",
    "time.sleep(0.1)"
   ]
  },
  {
   "cell_type": "code",
   "execution_count": null,
   "metadata": {
    "scrolled": true
   },
   "outputs": [],
   "source": [
    "%timeit -n 2 time.sleep(0.1) # include % to time only this line\n",
    "time.sleep(0.1)\n",
    "time.sleep(0.1)"
   ]
  },
  {
   "cell_type": "markdown",
   "metadata": {},
   "source": [
    "#### *Custom functions*"
   ]
  },
  {
   "cell_type": "code",
   "execution_count": null,
   "metadata": {
    "scrolled": true
   },
   "outputs": [],
   "source": [
    "# classic:\n",
    "def sec2year(sec):\n",
    "    years=sec/60/60/24//365 # '//' means integer division\n",
    "    return years\n",
    "\n",
    "# In python 3+, such simple functions can be defined with 'lambda' \n",
    "sec2year_smart=lambda x: x/60/60/24/365"
   ]
  },
  {
   "cell_type": "code",
   "execution_count": null,
   "metadata": {
    "scrolled": true
   },
   "outputs": [],
   "source": [
    "print(sec2year(time.time())) # should be a whole number\n",
    "print(sec2year_smart(time.time())) # should be rational"
   ]
  },
  {
   "cell_type": "code",
   "execution_count": null,
   "metadata": {
    "scrolled": true
   },
   "outputs": [],
   "source": [
    "# Let's figure out which is faster:\n",
    "%timeit -n 1000 -r 10 sec2year(time.time())\n",
    "%timeit -n 1000 -r 10 sec2year_smart(time.time())"
   ]
  },
  {
   "cell_type": "code",
   "execution_count": null,
   "metadata": {
    "scrolled": true
   },
   "outputs": [],
   "source": [
    "# Some arguments can have default values (should come after any non-default argument)\n",
    "def divide(num,denom,whole=False):\n",
    "    return num/denom if not whole else num//denom"
   ]
  },
  {
   "cell_type": "code",
   "execution_count": null,
   "metadata": {
    "scrolled": true
   },
   "outputs": [],
   "source": [
    "# We may choose to pass them explicitly or leave to default\n",
    "print(divide(10,3,True))\n",
    "print(divide(10,3,False))\n",
    "print(divide(10,3))"
   ]
  },
  {
   "cell_type": "code",
   "execution_count": null,
   "metadata": {
    "scrolled": true
   },
   "outputs": [],
   "source": [
    "# Additional agruments can be passed by adding *args or **kwargs\n",
    "\n",
    "def sum_and_shout(num,denom,message):\n",
    "    result=num+denom\n",
    "    print(message)\n",
    "    return result\n",
    "    \n",
    "def divide_and_round(num,denom,decimals):\n",
    "    result=num/denom\n",
    "    return round(result,decimals)\n",
    "\n",
    "def multiply_and_sleep(num,denom,sec):\n",
    "    result=num*denom\n",
    "    time.sleep(sec)\n",
    "    return result\n",
    "\n",
    "def router(num,denom,operation,**kwargs):\n",
    "    if operation=='sum':\n",
    "        return sum_and_shout(num,denom,kwargs['message'])\n",
    "    elif operation=='divide':\n",
    "        return divide_and_round(num,denom,kwargs['decimals'])\n",
    "    elif operation=='sleep':\n",
    "        return multiply_and_sleep(num,denom,kwargs['sec'])"
   ]
  },
  {
   "cell_type": "code",
   "execution_count": null,
   "metadata": {
    "scrolled": true
   },
   "outputs": [],
   "source": [
    "router(5,2,'sum',message='WoooHooo!')\n",
    "\n",
    "# Compare to:\n",
    "# def router(num,denom,operation,message,decimals,secs)\n",
    "\n",
    "# To execute sum via 'router', we would have needed:\n",
    "# >>> dummy_decimals=3\n",
    "# >>> dummy_sec=0.5\n",
    "# >>> router(5,2,'sum',message='WoooHooo!',dummy_decimals,dummy_sec)\n",
    "\n",
    "# Why don't we just call sum_and_shout(5,2,message='WoooHooo!')?\n",
    "# The 'operation' flag could be given as a (command line) argumennt,\n",
    "# so you need to \"route\" based on 'operation' to execute an appropriate function. "
   ]
  },
  {
   "cell_type": "markdown",
   "metadata": {},
   "source": [
    "#### *Data structures*\n",
    "- *(1) Lists:*"
   ]
  },
  {
   "cell_type": "code",
   "execution_count": null,
   "metadata": {
    "scrolled": true
   },
   "outputs": [],
   "source": [
    "# Definition\n",
    "a=[1,3,5,7,9] # explicit\n",
    "b=[i for i in range(1,10,2)] # range(start,end+1,step)\n",
    "c=[i for i in range(10)][1:10:2] # slicing [start,end+1,step]\n",
    "d=[i for i in range(10)][slice(1,10,2)] # slicing (start,end+1,step)\n",
    "print('{}\\n{}\\n{}\\n{}'.format(a,b,c,d))"
   ]
  },
  {
   "cell_type": "code",
   "execution_count": null,
   "metadata": {
    "scrolled": true
   },
   "outputs": [],
   "source": [
    "# Append: O(1)\n",
    "a=[]\n",
    "a.append(1)\n",
    "a.append(True)\n",
    "a.append('WoooHooo!')\n",
    "print(a) # lists can hold variables of different types"
   ]
  },
  {
   "cell_type": "code",
   "execution_count": null,
   "metadata": {
    "scrolled": true
   },
   "outputs": [],
   "source": [
    "# Append: O(1)\n",
    "for n in range(100000):\n",
    "    if not n%10000:\n",
    "        start=time.time()\n",
    "        a.append(n)\n",
    "        print(f'length: {len(a)}'+f', time: {round(time.time()-start,6)}')\n",
    "    else:\n",
    "        a.append(1)"
   ]
  },
  {
   "cell_type": "code",
   "execution_count": null,
   "metadata": {
    "scrolled": true
   },
   "outputs": [],
   "source": [
    "# Remove: O(n)\n",
    "a=list(range(100001))\n",
    "for n in range(100001):\n",
    "    if not n%10000:\n",
    "        start=time.time()\n",
    "        a.remove(n)\n",
    "        print(f'length: {len(a)}'+f', time: {round(time.time()-start,6)}')\n",
    "    else:\n",
    "        a.remove(n)"
   ]
  },
  {
   "cell_type": "code",
   "execution_count": null,
   "metadata": {
    "scrolled": true
   },
   "outputs": [],
   "source": [
    "# Other commonly used methods:\n",
    "\n",
    "a=[('one',1),('two',2),('five',5),('four',4),('three',3)]\n",
    "print(a.pop()) # removes and returns the last element, O(1)"
   ]
  },
  {
   "cell_type": "code",
   "execution_count": null,
   "metadata": {
    "scrolled": true
   },
   "outputs": [],
   "source": [
    "a=[('one',1),('two',2),('five',5),('four',4),('three',3)]\n",
    "print(sorted(a)) # sorts the list, O(nlogn)"
   ]
  },
  {
   "cell_type": "code",
   "execution_count": null,
   "metadata": {
    "scrolled": true
   },
   "outputs": [],
   "source": [
    "a=[('one',1),('two',2),('five',5),('four',4),('three',3)]\n",
    "print(sorted(a,key=lambda x: x[1])) # sorts the list according to the second element, O(nlogn)"
   ]
  },
  {
   "cell_type": "code",
   "execution_count": null,
   "metadata": {
    "scrolled": true
   },
   "outputs": [],
   "source": [
    "a=[('one',1),('two',2),('five',5),('four',4),('three',3)]\n",
    "print('WoooHooo' in a) # checks if an object is in the list, O(n)"
   ]
  },
  {
   "cell_type": "code",
   "execution_count": null,
   "metadata": {
    "scrolled": true
   },
   "outputs": [],
   "source": [
    "# Exercise: Given a list 's' of points on a plane and a positive integer k, write\n",
    "# a function KClosest(s,k) that returns k of those points closest to the origin.\n",
    "# Can you do it in one line (not counting the function header)?\n",
    "\n",
    "# For testing:\n",
    "s=[[1,1],[0,2],[0,1],[5,1],[4,0]]\n",
    "k=2"
   ]
  },
  {
   "cell_type": "markdown",
   "metadata": {},
   "source": [
    "- (2) *Dictionaries:*"
   ]
  },
  {
   "cell_type": "code",
   "execution_count": null,
   "metadata": {
    "scrolled": true
   },
   "outputs": [],
   "source": [
    "# Definition\n",
    "a={'a':1,'b':True,'c':-10}\n",
    "print(a)"
   ]
  },
  {
   "cell_type": "code",
   "execution_count": null,
   "metadata": {
    "scrolled": true
   },
   "outputs": [],
   "source": [
    "# Insertion, O(1) (on average)\n",
    "a['d']=5\n",
    "print(a)"
   ]
  },
  {
   "cell_type": "code",
   "execution_count": null,
   "metadata": {
    "scrolled": true
   },
   "outputs": [],
   "source": [
    "# Deletion, O(1) (on average)\n",
    "del a['b']\n",
    "print(a)"
   ]
  },
  {
   "cell_type": "code",
   "execution_count": null,
   "metadata": {
    "scrolled": true
   },
   "outputs": [],
   "source": [
    "# Check, O(1) (on average)\n",
    "print('z' in a) # or\n",
    "print('z' in a.keys())"
   ]
  },
  {
   "cell_type": "code",
   "execution_count": null,
   "metadata": {
    "scrolled": true
   },
   "outputs": [],
   "source": [
    "# Access, O(1) (on average)\n",
    "print(a['d'])"
   ]
  },
  {
   "cell_type": "code",
   "execution_count": null,
   "metadata": {
    "scrolled": true
   },
   "outputs": [],
   "source": [
    "# Sort by values, O(nlogn)\n",
    "print(sorted(a.items(),key=lambda x:x[1]))"
   ]
  },
  {
   "cell_type": "code",
   "execution_count": null,
   "metadata": {
    "scrolled": true
   },
   "outputs": [],
   "source": [
    "# Why are dictionaries useful?\n",
    "# (1) Reduced complexity of most operations compared to having two lists;\n",
    "# (2) Convenience/Interpretability of the code\n",
    "\n",
    "# Exercise 1 (Leetcode 136):\n",
    "# Write a function 'single(a)' that takes an integer list/array 'a', in which\n",
    "# all elements appear exactly twice except for one element that appears once.\n",
    "# Output this one integer in O(n) complexity (n is the list length).\n",
    "# Example: single([0,4,3,3,0]) outputs 4.\n",
    "# For testing:\n",
    "a=[7,2,9,1,2,9,1,10,10]\n",
    "\n",
    "# Exercise 2 (Leetcode 451):\n",
    "# Write a function 'frequency(s)' that sorts charcters of a string 's' in decreasing order\n",
    "# based on the frequency of characters.\n",
    "# Example: frequency(\"data\") outputs \"aadt\" (or \"aatd\")\n",
    "s=\"atlantic\"\n",
    "\n",
    "# Another good example is Leetcode 997."
   ]
  },
  {
   "cell_type": "markdown",
   "metadata": {},
   "source": [
    "#### *Other useful built-in functions*"
   ]
  },
  {
   "cell_type": "code",
   "execution_count": null,
   "metadata": {
    "scrolled": true
   },
   "outputs": [],
   "source": [
    "# s.split(char): breaks a string s into a list of strings separated by char\n",
    "s='Hello world from room 650!'\n",
    "print(s.split(' '))"
   ]
  },
  {
   "cell_type": "code",
   "execution_count": null,
   "metadata": {
    "scrolled": true
   },
   "outputs": [],
   "source": [
    "# s.join(list of strings): the opposite of split; joins all strings in the list and places s in between each pair\n",
    "strs=['Hello', 'world', 'from', 'room', '650!']\n",
    "print(' '.join(strs))"
   ]
  },
  {
   "cell_type": "code",
   "execution_count": null,
   "metadata": {
    "scrolled": true
   },
   "outputs": [],
   "source": [
    "# sum(iterable): sums elements of a valid iterable (e.g. list, tuple, numpy array, etc.)\n",
    "print(sum([1,2,3,4,5]))"
   ]
  },
  {
   "cell_type": "code",
   "execution_count": null,
   "metadata": {
    "scrolled": true
   },
   "outputs": [],
   "source": [
    "# enumerate(iterable):  outputs an <enumerate> object with [index,element] pairs of an iterable\n",
    "print([(i,v) for i,v in enumerate(['zero','one','two','three','four'])])"
   ]
  },
  {
   "cell_type": "code",
   "execution_count": null,
   "metadata": {
    "scrolled": true
   },
   "outputs": [],
   "source": [
    "# zip(iterable,iterable): outputs a <zip> with pairs of elements from iterables (must be of the same length)\n",
    "vec_1=[1,2,3]\n",
    "vec_2=[-1,0,1]\n",
    "print(sum([a*b for a,b in zip(vec_1,vec_2)])) # dot product of vec_1 and vec_2"
   ]
  },
  {
   "cell_type": "code",
   "execution_count": null,
   "metadata": {
    "scrolled": true
   },
   "outputs": [],
   "source": [
    "# Others like type(), len(), min(), max(), etc."
   ]
  },
  {
   "cell_type": "markdown",
   "metadata": {},
   "source": [
    "#### NumPy Module\n",
    "NumPy is a python library for efficient and convenient work with arrays (ndarrays).\n",
    "Unlike python lists, which in principle serve the same `purpose, numpy arrays are stored in contiguous memory space, making referencing/accessing faster."
   ]
  },
  {
   "cell_type": "code",
   "execution_count": null,
   "metadata": {
    "scrolled": true
   },
   "outputs": [],
   "source": [
    "# Numpy arrays from list:\n",
    "a=np.array([[1,1,1],[2,2,2]])\n",
    "print(f'array:\\n {a}\\n')\n",
    "print(f'shape: {a.shape}')"
   ]
  },
  {
   "cell_type": "code",
   "execution_count": null,
   "metadata": {
    "scrolled": true
   },
   "outputs": [],
   "source": [
    "# NumPy arrays from methods:\n",
    "b=np.arange(10) # the same as range() but returns a ndarray\n",
    "c=np.ones((2,3)) # make an array of all ones with a given shape\n",
    "d=np.zeros((2,3)) # make an array of all zeros with a given shape\n",
    "e=np.full((2,3),7) # make an array of all sevens with a given shape\n",
    "print(f'{b}\\n\\n{c}\\n\\n{d}\\n\\n{e}')"
   ]
  },
  {
   "cell_type": "code",
   "execution_count": null,
   "metadata": {
    "scrolled": true
   },
   "outputs": [],
   "source": [
    "# NumPy arrays from other arrays:\n",
    "print(np.hstack([c,d]))\n",
    "print('\\n')\n",
    "print(np.vstack([c,d]))"
   ]
  },
  {
   "cell_type": "code",
   "execution_count": null,
   "metadata": {
    "scrolled": true
   },
   "outputs": [],
   "source": [
    "# Reshaping arrays\n",
    "print(a.reshape((3,2))) # traverses entries in order; not a transpose operation\n",
    "print('\\n')\n",
    "print(np.transpose(a)) # this is a transpose operation\n",
    "print('\\n')\n",
    "print(a.reshape(-1)) # flattening out"
   ]
  },
  {
   "cell_type": "code",
   "execution_count": null,
   "metadata": {
    "scrolled": true
   },
   "outputs": [],
   "source": [
    "import numpy as np\n",
    "\n",
    "# Arithmetic works better:\n",
    "print([1,2,3]*3) # concatenates [1,2,3] with itself 3 times\n",
    "print(np.array([1,2,3])*3) # elementwise product"
   ]
  },
  {
   "cell_type": "code",
   "execution_count": null,
   "metadata": {
    "scrolled": true
   },
   "outputs": [],
   "source": [
    "# Elementwise addition:\n",
    "print(np.array([1,2,3])+3) # or\n",
    "print(np.array([1,2,3])+np.array([3,3,3]))"
   ]
  },
  {
   "cell_type": "code",
   "execution_count": null,
   "metadata": {
    "scrolled": true
   },
   "outputs": [],
   "source": [
    "# Not supported for lists:\n",
    "print([1,2,3]+3)"
   ]
  },
  {
   "cell_type": "code",
   "execution_count": null,
   "metadata": {
    "scrolled": true
   },
   "outputs": [],
   "source": [
    "# Saving/Loading arrays:\n",
    "a=np.array([1,2,3,4,5])\n",
    "np.save('best_array_ever.npy',a)\n",
    "a=np.load('best_array_ever.npy')\n",
    "print(a)"
   ]
  },
  {
   "cell_type": "code",
   "execution_count": null,
   "metadata": {
    "scrolled": true
   },
   "outputs": [],
   "source": [
    "# Other useful functions:\n",
    "# np.mean(array,axis=?): average value across along a given axis,\n",
    "# np.std(array,axis=?): standard deviation along a given axis,\n",
    "# np.dot(array,array): dot product of two 1-dimensional arrays of the same length,\n",
    "# np.matmul(array, array): matrix multiplication of two 2-dimensional arrays,\n",
    "# np.nonzero(array): returns indices of nonzero elements of the array,\n",
    "# np.where(condition(array)): returns indices of the array where elements satisfy the condition,\n",
    "# np.argsort(array): returns indices in order that sorts the array."
   ]
  },
  {
   "cell_type": "markdown",
   "metadata": {},
   "source": [
    "#### NumPy Random"
   ]
  },
  {
   "cell_type": "code",
   "execution_count": null,
   "metadata": {
    "scrolled": true
   },
   "outputs": [],
   "source": [
    "# Random permutation:\n",
    "identity=np.arange(20)\n",
    "sigma=np.random.permutation(identity)\n",
    "print(sigma)\n",
    "print(identity[sigma]) # the same\n",
    "\n",
    "# Exercise: bring sigma back to identity; i.e find its inverse:\n",
    "# >>> sigma_inverse=?\n",
    "# >>> sigma[sigma_inverse]==identity\n",
    "# >>> True"
   ]
  },
  {
   "cell_type": "code",
   "execution_count": null,
   "metadata": {
    "scrolled": true
   },
   "outputs": [],
   "source": [
    "# Random choice:\n",
    "no_fours=[0 if i==4 else 1/9 for i in range(10)]\n",
    "np.random.choice(a=range(10),replace=True,size=20,p=no_fours) # 'p' gives probabilities of choices in 'a'"
   ]
  },
  {
   "cell_type": "code",
   "execution_count": null,
   "metadata": {
    "scrolled": true
   },
   "outputs": [],
   "source": [
    "# Random distributions:\n",
    "# np.random.normal(loc=0,scale=1,size=(5,5))\n",
    "# np.random.poisson(lam=6,size=1)\n",
    "# np.random.binomial(n=5,p=0.5)"
   ]
  },
  {
   "cell_type": "code",
   "execution_count": null,
   "metadata": {
    "scrolled": true
   },
   "outputs": [],
   "source": [
    "# Exercise: You add Unif(0,1) variables until your sum exceeds 1.\n",
    "# How many random variables, on average, will there be in your sum?\n",
    "\n",
    "# Repeat this procedure many times, average the results and guess the answer.\n",
    "\n",
    "averages=[]\n",
    "repeats=[2**i for i in range(18)]\n",
    "for repeat in repeats:\n",
    "    results=[]\n",
    "    for n in range(repeat):\n",
    "        num=0\n",
    "        my_sum=0\n",
    "        while my_sum<1:\n",
    "            num+=1\n",
    "            my_sum+=np.random.uniform(0,1)\n",
    "        results.append(num)\n",
    "    averages.append(np.mean(results))\n",
    "print(np.round(averages,5))\n",
    "res=plt.plot(range(len(repeats)),averages)"
   ]
  },
  {
   "cell_type": "code",
   "execution_count": null,
   "metadata": {
    "scrolled": true
   },
   "outputs": [],
   "source": [
    "# Reproducibility:\n",
    "np.random.seed(22) # run this before each random generation to replicate the same \"random\" output\n",
    "print('original: {}'.format(np.random.uniform(0,1)))\n",
    "np.random.seed(22)\n",
    "print('original: {}'.format(np.random.uniform(0,1)))\n",
    "np.random.seed(22)\n",
    "print('original: {}'.format(np.random.uniform(0,1)))\n",
    "print('different: {}'.format(np.random.uniform(0,1))) # seed not set\n",
    "np.random.seed(22)\n",
    "print(\"original: {}\".format(np.random.uniform(0,1)))\n",
    "np.random.seed(23)\n",
    "print('different: {}'.format(np.random.uniform(0,1))) # seed set to a different value"
   ]
  },
  {
   "cell_type": "markdown",
   "metadata": {},
   "source": [
    "#### Pandas\n",
    "A Python library for efficient storing, handlng, managing panel data."
   ]
  },
  {
   "cell_type": "code",
   "execution_count": null,
   "metadata": {
    "scrolled": true
   },
   "outputs": [],
   "source": [
    "from_list=[[3,1,4,1,5,9,2,6],[2,7,1,8,2,8,1,8],[1,6,1,8,0,3,3,9]]\n",
    "#from_array=np.array([[3,1,4,1,5,9,2,6],[2,7,1,8,2,8,1,8],[1,6,1,8,0,3,3,9]])\n",
    "\n",
    "digits=['one','two','three','four','five','six','seven','eight']\n",
    "constants=pd.DataFrame(from_list,index=['pi','e','phi'],columns=digits)\n",
    "constants\n",
    "\n",
    "# pd.DataFrame(from_array,columns=['pi','e','phi'],index=digits) # won't work"
   ]
  },
  {
   "cell_type": "code",
   "execution_count": null,
   "metadata": {
    "scrolled": true
   },
   "outputs": [],
   "source": [
    "# DataFrame from Series or DataFrames:\n",
    "\n",
    "pi=pd.Series([3,1,4,1,5,9,2,6],index=digits,name='pi') # note 'name', not 'columns' (because Series is 1D)\n",
    "e=pd.Series([2,7,1,8,2,8,1,8],index=digits,name='e')\n",
    "phi=pd.DataFrame([1,6,1,8,0,3,3,9],index=digits,columns=['phi'])\n",
    "phi=pd.DataFrame([1,6,1,8,0,3,3,9],columns=['phi'],index=digits)\n",
    "\n",
    "constants=pd.concat([pi,e,phi],axis=1)\n",
    "constants"
   ]
  },
  {
   "cell_type": "code",
   "execution_count": null,
   "metadata": {
    "scrolled": true
   },
   "outputs": [],
   "source": [
    "# We can take a transpose:\n",
    "constants=constants.T\n",
    "constants"
   ]
  },
  {
   "cell_type": "code",
   "execution_count": null,
   "metadata": {
    "scrolled": true
   },
   "outputs": [],
   "source": [
    "# And rename columns/index:\n",
    "constants=constants.rename(index={'pi':'pie'},columns={'one':'uno'}) # rename "
   ]
  },
  {
   "cell_type": "code",
   "execution_count": null,
   "metadata": {},
   "outputs": [],
   "source": [
    "# Add another row:\n",
    "constants=constants.append(pd.DataFrame([[1,4,1,4,2,1,3,5]],columns=constants.columns,index=['root2']))\n",
    "constants"
   ]
  },
  {
   "cell_type": "code",
   "execution_count": null,
   "metadata": {},
   "outputs": [],
   "source": [
    "# Add another column:\n",
    "constants['cool?']=['No','Yes','Yes','Yes']"
   ]
  },
  {
   "cell_type": "code",
   "execution_count": null,
   "metadata": {},
   "outputs": [],
   "source": [
    "constants"
   ]
  },
  {
   "cell_type": "code",
   "execution_count": null,
   "metadata": {
    "scrolled": true
   },
   "outputs": [],
   "source": [
    "# Visualization:\n",
    "constants.head(5) # top 5 rows\n",
    "constants.tail(5) # bottom 5 rows\n",
    "constants.info() # summary of the DataFrame; useful for large real-life data (potential nulls, nans, etc.)"
   ]
  },
  {
   "cell_type": "code",
   "execution_count": null,
   "metadata": {
    "scrolled": true
   },
   "outputs": [],
   "source": [
    "# Saving with Pandas:\n",
    "constants.to_csv('best_table_ever.csv',sep='#') # note the delimiter\n",
    "\n",
    "# Loading with Pandas:\n",
    "new_table=pd.read_csv('best_table_ever.csv',header=0,index_col=0,sep='#') # note the delimiter\n",
    "# specify indices of columns and row to use as names (here, 0 and 0)\n",
    "\n",
    "new_table"
   ]
  },
  {
   "cell_type": "code",
   "execution_count": null,
   "metadata": {
    "scrolled": true
   },
   "outputs": [],
   "source": [
    "# Accessing elements in a DataFrame by names (use .loc[]):\n",
    "print(new_table.loc['pie':'e']['uno']) # note: the last index is included!\n",
    "print('\\n')\n",
    "print(new_table.loc['pie','uno':'three'])"
   ]
  },
  {
   "cell_type": "code",
   "execution_count": null,
   "metadata": {
    "scrolled": true
   },
   "outputs": [],
   "source": [
    "# Accessing elements in a DataFrame by indices (use .iloc[]):\n",
    "print(new_table.iloc[0:2].iloc[0]) # here we first select DataFrame('pie' and 'e'), then DataFrame('pie')\n",
    "print('\\n')\n",
    "print(new_table.iloc[0,0])"
   ]
  },
  {
   "cell_type": "code",
   "execution_count": null,
   "metadata": {
    "scrolled": true
   },
   "outputs": [],
   "source": [
    "# What if we have name for one dimension, but index for the other?\n",
    "print(new_table.loc['pie'][0])\n",
    "print(new_table.iloc[0]['uno'])"
   ]
  },
  {
   "cell_type": "code",
   "execution_count": null,
   "metadata": {
    "scrolled": true
   },
   "outputs": [],
   "source": [
    "# Deleting rows:\n",
    "display(new_table.drop('phi')) # pandas.drop only accepts names.\n",
    "display(new_table.drop(new_table.index[2]))"
   ]
  },
  {
   "cell_type": "code",
   "execution_count": null,
   "metadata": {
    "scrolled": true
   },
   "outputs": [],
   "source": [
    "# Deleting columns:\n",
    "display(new_table.drop('five',axis=1)) # by default, axis=0\n",
    "display(new_table.drop(new_table.columns[2],axis=1))"
   ]
  },
  {
   "cell_type": "markdown",
   "metadata": {},
   "source": [
    "#### PyTrends\n",
    "A python tool to extract Google Trends data as Pandas dataframes."
   ]
  },
  {
   "cell_type": "code",
   "execution_count": null,
   "metadata": {
    "scrolled": true
   },
   "outputs": [],
   "source": [
    "import pandas as pd\n",
    "from pytrends.request import TrendReq\n",
    "\n",
    "pt=TrendReq(hl='en-US',retries=10) # host language, retries.\n",
    "\n",
    "# Google trends normalizes all trends data between 0 and 100 and accounts for\n",
    "# the number of total searches at a given time and location. Google trends releases\n",
    "# only relative interest magnitudes.\n",
    "\n",
    "# Example:\n",
    "search_words=[\"clinton\",\"trump\",\"pandemic\"] # terms of interest\n",
    "pt.build_payload(search_words,timeframe='2016-10-31 2016-11-07',geo='US') # temporal and spatial scope\n",
    "data=pt.interest_by_region(resolution='REGION')\n",
    "data.head(5) # for each region, the sum is 100, distributed among search expressions."
   ]
  },
  {
   "cell_type": "markdown",
   "metadata": {},
   "source": [
    "#### Mini-project:\n",
    "*Use PyTrends to model proportion of votes cast for Trump in each state.*\n",
    "- What search expressions should we fetch as predictors?\n",
    "- Temporal scope?\n",
    "- Possible bias?"
   ]
  },
  {
   "cell_type": "code",
   "execution_count": null,
   "metadata": {},
   "outputs": [],
   "source": [
    "search_words=[[\"Trump\"],[\"Clinton\"]]\n",
    "scope='2016-10-31 2016-11-07'"
   ]
  },
  {
   "cell_type": "code",
   "execution_count": null,
   "metadata": {
    "scrolled": true
   },
   "outputs": [],
   "source": [
    "# Let's preprocess the electoral data:\n",
    "data=pd.read_csv('electoral_data.csv',header=1,sep=';',error_bad_lines=False)\n",
    "data"
   ]
  },
  {
   "cell_type": "code",
   "execution_count": null,
   "metadata": {
    "scrolled": true
   },
   "outputs": [],
   "source": [
    "# Dropping extra columns and rows:\n",
    "data.drop(data.columns[[1,2,-1,-3]],axis=1,inplace=True)\n",
    "data.drop(data.index[51:59],inplace=True)\n",
    "\n",
    "# Rename columns:\n",
    "new_columns=['state','trumpRes','clintonRes','total']\n",
    "data.rename(columns={name:new_columns[i] for i,name in enumerate(data.columns)},inplace=True)\n",
    "data.head(5)"
   ]
  },
  {
   "cell_type": "code",
   "execution_count": null,
   "metadata": {
    "scrolled": true
   },
   "outputs": [],
   "source": [
    "# Let's check there are no Nans:\n",
    "data.isna().any()"
   ]
  },
  {
   "cell_type": "code",
   "execution_count": null,
   "metadata": {
    "scrolled": true
   },
   "outputs": [],
   "source": [
    "# There's is one hidden problem:\n",
    "display(data.loc[:,'trumpRes'].iloc[0:5]) # seems ok;\n",
    "print(type(data.loc[:,'trumpRes'].iloc[0])) # entries are actually strings...\n",
    "display(data.loc[:,'trumpRes'].iloc[0]) # '\\xa0' is some kind of code for the space character"
   ]
  },
  {
   "cell_type": "code",
   "execution_count": null,
   "metadata": {
    "scrolled": false
   },
   "outputs": [],
   "source": [
    "# Let's fix this:\n",
    "data.loc[:,'trumpRes']=data.loc[:,'trumpRes'].apply(lambda x:  x.replace(u'\\xa0','')).astype(int) # 'u' stands for unicode\n",
    "data.loc[:,'total']=data.loc[:,'total'].apply(lambda x:  x.replace(u'\\xa0','')).astype(int)"
   ]
  },
  {
   "cell_type": "code",
   "execution_count": null,
   "metadata": {},
   "outputs": [],
   "source": [
    "# Check:\n",
    "print(type(data.loc[:,'total'].iloc[0]))"
   ]
  },
  {
   "cell_type": "code",
   "execution_count": null,
   "metadata": {},
   "outputs": [],
   "source": [
    "# Add data from PyTrends:\n",
    "\n",
    "for sw in search_words:\n",
    "    pt.build_payload(sw,timeframe=scope,geo='US')\n",
    "    data[sw]=pt.interest_by_region(resolution='REGION').values # values needed not to worry about index mismatch\n",
    "data.head(5)"
   ]
  },
  {
   "cell_type": "code",
   "execution_count": null,
   "metadata": {},
   "outputs": [],
   "source": [
    "# Use this if PyTrends fail:\n",
    "\n",
    "# data.to_csv('clean_data.csv')\n",
    "# data=pd.read_csv('clean_data.csv',header=0,index_col=0)"
   ]
  },
  {
   "cell_type": "code",
   "execution_count": null,
   "metadata": {},
   "outputs": [],
   "source": [
    "# Compute votes proportion:\n",
    "data['trumpProp']=data.loc[:,'trumpRes']/data.loc[:,'total']\n",
    "data.head(5)"
   ]
  },
  {
   "cell_type": "code",
   "execution_count": null,
   "metadata": {},
   "outputs": [],
   "source": [
    "# Drop unnecesary columns:\n",
    "data.drop(data.columns[:4],axis=1,inplace=True)\n",
    "data.head(5)"
   ]
  },
  {
   "cell_type": "code",
   "execution_count": null,
   "metadata": {},
   "outputs": [],
   "source": [
    "# Train/test split:\n",
    "num=int(len(data)*0.75)\n",
    "train=data.iloc[:num]\n",
    "test=data.iloc[num:]"
   ]
  },
  {
   "cell_type": "code",
   "execution_count": null,
   "metadata": {},
   "outputs": [],
   "source": [
    "# MinMax standardize all features:\n",
    "from sklearn.preprocessing import MinMaxScaler\n",
    "\n",
    "X_scaler=MinMaxScaler()\n",
    "y_scaler=MinMaxScaler()\n",
    "\n",
    "X_train=X_scaler.fit_transform(train.iloc[:,:-1])\n",
    "y_train=y_scaler.fit_transform(pd.DataFrame(train.iloc[:,-1])) # need to pass a 2D ndarray, so wrap in a DF;\n",
    "X_test=X_scaler.transform(test.iloc[:,:-1])\n",
    "y_test=y_scaler.transform(pd.DataFrame(test.iloc[:,-1]))\n",
    "\n",
    "display(X_train[:5]) # now these are numpy ndarrays\n",
    "display(y_train[:5])"
   ]
  },
  {
   "cell_type": "code",
   "execution_count": null,
   "metadata": {},
   "outputs": [],
   "source": [
    "# Now, model!\n",
    "from sklearn.linear_model import LinearRegression as LR\n",
    "model=LR().fit(X_train,y_train)\n",
    "\n",
    "prediction=model.predict(X_test)\n",
    "actual=y_test"
   ]
  },
  {
   "cell_type": "code",
   "execution_count": null,
   "metadata": {},
   "outputs": [],
   "source": [
    "# Scale back to original units:\n",
    "\n",
    "prediction=y_scaler.inverse_transform(prediction)\n",
    "actual=y_scaler.inverse_transform(actual)"
   ]
  },
  {
   "cell_type": "code",
   "execution_count": null,
   "metadata": {},
   "outputs": [],
   "source": [
    "# Plot the results:\n",
    "%matplotlib inline\n",
    "import matplotlib.pyplot as plt\n",
    "\n",
    "plt.plot(range(len(test)),prediction,color='fuchsia',label='predicted')\n",
    "plt.plot(range(len(test)),actual,color='turquoise',label='actual')\n",
    "plt.legend()\n",
    "plt.xlabel('index')\n",
    "plt.ylabel('proportion of votes for Trump')\n",
    "plt.grid()\n",
    "plt.show()"
   ]
  }
 ],
 "metadata": {
  "kernelspec": {
   "display_name": "Python 3",
   "language": "python",
   "name": "python3"
  },
  "language_info": {
   "codemirror_mode": {
    "name": "ipython",
    "version": 3
   },
   "file_extension": ".py",
   "mimetype": "text/x-python",
   "name": "python",
   "nbconvert_exporter": "python",
   "pygments_lexer": "ipython3",
   "version": "3.7.3"
  }
 },
 "nbformat": 4,
 "nbformat_minor": 2
}
